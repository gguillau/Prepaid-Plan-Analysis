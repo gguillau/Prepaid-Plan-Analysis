{
 "cells": [
  {
   "cell_type": "markdown",
   "metadata": {},
   "source": [
    "# Objective\n",
    "\n",
    "The objective of this project is to analyze Megaline clients' behavior and determine which prepaid plan is more profitable based on 2018 data provided from a sample of 500 Megaline clients.\n",
    "\n",
    "### Description of the data:\n",
    "\n",
    "Note: Megaline rounds seconds up to minutes, and megabytes to gigabytes. For calls, each individual call is rounded up: even if the call lasted just one second, it will be counted as one minute. For web traffic, individual web sessions are not rounded up. Instead, the total for the month is rounded up. If someone uses 1025 megabytes this month, they will be charged for 2 gigabytes.\n",
    "\n",
    "### Outline:\n",
    "- Step 1: Upload and preview data\n",
    "- Step 2: Prepare and clean data for analysis\n",
    "- Step 3: Analyze the date. Extract insights on customer behavior for each plan.\n",
    "- Step 4: Test two hypotheses:\n",
    "    - The average prodit from users of Ultimate and Surf plans differs\n",
    "    - The average profit from users in NY-NJ area is different than users from other regions.\n",
    "- Step 5: Determine which prepaid plan is more profitable and provide insights\n"
   ]
  },
  {
   "cell_type": "markdown",
   "metadata": {},
   "source": [
    "## Initialization"
   ]
  },
  {
   "cell_type": "code",
   "execution_count": 2,
   "metadata": {},
   "outputs": [],
   "source": [
    "# import pandas and numpy for data preprocessing and manipulation\n",
    "import pandas as pd\n",
    "import numpy as np\n",
    "\n",
    "# import the scipy package for statistical analysis\n",
    "from scipy import stats as st\n",
    "\n",
    "# import datetime package\n",
    "from datetime import datetime\n",
    "\n",
    "# statistical data visualization\n",
    "import seaborn as sns\n",
    "import matplotlib.pyplot as plt\n",
    "\n",
    "\n"
   ]
  },
  {
   "cell_type": "markdown",
   "metadata": {},
   "source": [
    "## Load data"
   ]
  },
  {
   "cell_type": "code",
   "execution_count": 3,
   "metadata": {},
   "outputs": [],
   "source": [
    "# Load the data files into different DataFrames\n",
    "calls = pd.read_csv('/datasets/megaline_calls.csv') \n",
    "internet = pd.read_csv('/datasets/megaline_internet.csv')\n",
    "messages = pd.read_csv('/datasets/megaline_messages.csv')\n",
    "plans = pd.read_csv('/datasets/megaline_plans.csv')\n",
    "users = pd.read_csv('/datasets/megaline_users.csv')\n"
   ]
  },
  {
   "cell_type": "markdown",
   "metadata": {},
   "source": [
    "# Prepare the data"
   ]
  },
  {
   "cell_type": "markdown",
   "metadata": {},
   "source": [
    "## Plans"
   ]
  },
  {
   "cell_type": "code",
   "execution_count": 4,
   "metadata": {},
   "outputs": [
    {
     "name": "stdout",
     "output_type": "stream",
     "text": [
      "<class 'pandas.core.frame.DataFrame'>\n",
      "RangeIndex: 2 entries, 0 to 1\n",
      "Data columns (total 8 columns):\n",
      "messages_included        2 non-null int64\n",
      "mb_per_month_included    2 non-null int64\n",
      "minutes_included         2 non-null int64\n",
      "usd_monthly_pay          2 non-null int64\n",
      "usd_per_gb               2 non-null int64\n",
      "usd_per_message          2 non-null float64\n",
      "usd_per_minute           2 non-null float64\n",
      "plan_name                2 non-null object\n",
      "dtypes: float64(2), int64(5), object(1)\n",
      "memory usage: 256.0+ bytes\n"
     ]
    }
   ],
   "source": [
    "# General/summary information about the plans' DataFrame\n",
    "plans.info()\n",
    "\n",
    "\n"
   ]
  },
  {
   "cell_type": "code",
   "execution_count": 5,
   "metadata": {},
   "outputs": [
    {
     "data": {
      "text/html": [
       "<div>\n",
       "<style scoped>\n",
       "    .dataframe tbody tr th:only-of-type {\n",
       "        vertical-align: middle;\n",
       "    }\n",
       "\n",
       "    .dataframe tbody tr th {\n",
       "        vertical-align: top;\n",
       "    }\n",
       "\n",
       "    .dataframe thead th {\n",
       "        text-align: right;\n",
       "    }\n",
       "</style>\n",
       "<table border=\"1\" class=\"dataframe\">\n",
       "  <thead>\n",
       "    <tr style=\"text-align: right;\">\n",
       "      <th></th>\n",
       "      <th>messages_included</th>\n",
       "      <th>mb_per_month_included</th>\n",
       "      <th>minutes_included</th>\n",
       "      <th>usd_monthly_pay</th>\n",
       "      <th>usd_per_gb</th>\n",
       "      <th>usd_per_message</th>\n",
       "      <th>usd_per_minute</th>\n",
       "      <th>plan_name</th>\n",
       "    </tr>\n",
       "  </thead>\n",
       "  <tbody>\n",
       "    <tr>\n",
       "      <td>0</td>\n",
       "      <td>50</td>\n",
       "      <td>15360</td>\n",
       "      <td>500</td>\n",
       "      <td>20</td>\n",
       "      <td>10</td>\n",
       "      <td>0.03</td>\n",
       "      <td>0.03</td>\n",
       "      <td>surf</td>\n",
       "    </tr>\n",
       "    <tr>\n",
       "      <td>1</td>\n",
       "      <td>1000</td>\n",
       "      <td>30720</td>\n",
       "      <td>3000</td>\n",
       "      <td>70</td>\n",
       "      <td>7</td>\n",
       "      <td>0.01</td>\n",
       "      <td>0.01</td>\n",
       "      <td>ultimate</td>\n",
       "    </tr>\n",
       "  </tbody>\n",
       "</table>\n",
       "</div>"
      ],
      "text/plain": [
       "   messages_included  mb_per_month_included  minutes_included  \\\n",
       "0                 50                  15360               500   \n",
       "1               1000                  30720              3000   \n",
       "\n",
       "   usd_monthly_pay  usd_per_gb  usd_per_message  usd_per_minute plan_name  \n",
       "0               20          10             0.03            0.03      surf  \n",
       "1               70           7             0.01            0.01  ultimate  "
      ]
     },
     "execution_count": 5,
     "metadata": {},
     "output_type": "execute_result"
    }
   ],
   "source": [
    "# Sample of data for plans\n",
    "plans.head()\n"
   ]
  },
  {
   "cell_type": "markdown",
   "metadata": {},
   "source": [
    "The plans dataframe accurately shows Megaline's plan information."
   ]
  },
  {
   "cell_type": "markdown",
   "metadata": {},
   "source": [
    " "
   ]
  },
  {
   "cell_type": "markdown",
   "metadata": {},
   "source": [
    "## Users"
   ]
  },
  {
   "cell_type": "code",
   "execution_count": 6,
   "metadata": {},
   "outputs": [
    {
     "name": "stdout",
     "output_type": "stream",
     "text": [
      "<class 'pandas.core.frame.DataFrame'>\n",
      "RangeIndex: 500 entries, 0 to 499\n",
      "Data columns (total 8 columns):\n",
      "user_id       500 non-null int64\n",
      "first_name    500 non-null object\n",
      "last_name     500 non-null object\n",
      "age           500 non-null int64\n",
      "city          500 non-null object\n",
      "reg_date      500 non-null object\n",
      "plan          500 non-null object\n",
      "churn_date    34 non-null object\n",
      "dtypes: int64(2), object(6)\n",
      "memory usage: 31.4+ KB\n"
     ]
    }
   ],
   "source": [
    "# General/summary information about the users' DataFrame\n",
    "users.info()\n"
   ]
  },
  {
   "cell_type": "code",
   "execution_count": 7,
   "metadata": {},
   "outputs": [
    {
     "data": {
      "text/html": [
       "<div>\n",
       "<style scoped>\n",
       "    .dataframe tbody tr th:only-of-type {\n",
       "        vertical-align: middle;\n",
       "    }\n",
       "\n",
       "    .dataframe tbody tr th {\n",
       "        vertical-align: top;\n",
       "    }\n",
       "\n",
       "    .dataframe thead th {\n",
       "        text-align: right;\n",
       "    }\n",
       "</style>\n",
       "<table border=\"1\" class=\"dataframe\">\n",
       "  <thead>\n",
       "    <tr style=\"text-align: right;\">\n",
       "      <th></th>\n",
       "      <th>user_id</th>\n",
       "      <th>first_name</th>\n",
       "      <th>last_name</th>\n",
       "      <th>age</th>\n",
       "      <th>city</th>\n",
       "      <th>reg_date</th>\n",
       "      <th>plan</th>\n",
       "      <th>churn_date</th>\n",
       "    </tr>\n",
       "  </thead>\n",
       "  <tbody>\n",
       "    <tr>\n",
       "      <td>0</td>\n",
       "      <td>1000</td>\n",
       "      <td>Anamaria</td>\n",
       "      <td>Bauer</td>\n",
       "      <td>45</td>\n",
       "      <td>Atlanta-Sandy Springs-Roswell, GA MSA</td>\n",
       "      <td>2018-12-24</td>\n",
       "      <td>ultimate</td>\n",
       "      <td>NaN</td>\n",
       "    </tr>\n",
       "    <tr>\n",
       "      <td>1</td>\n",
       "      <td>1001</td>\n",
       "      <td>Mickey</td>\n",
       "      <td>Wilkerson</td>\n",
       "      <td>28</td>\n",
       "      <td>Seattle-Tacoma-Bellevue, WA MSA</td>\n",
       "      <td>2018-08-13</td>\n",
       "      <td>surf</td>\n",
       "      <td>NaN</td>\n",
       "    </tr>\n",
       "    <tr>\n",
       "      <td>2</td>\n",
       "      <td>1002</td>\n",
       "      <td>Carlee</td>\n",
       "      <td>Hoffman</td>\n",
       "      <td>36</td>\n",
       "      <td>Las Vegas-Henderson-Paradise, NV MSA</td>\n",
       "      <td>2018-10-21</td>\n",
       "      <td>surf</td>\n",
       "      <td>NaN</td>\n",
       "    </tr>\n",
       "    <tr>\n",
       "      <td>3</td>\n",
       "      <td>1003</td>\n",
       "      <td>Reynaldo</td>\n",
       "      <td>Jenkins</td>\n",
       "      <td>52</td>\n",
       "      <td>Tulsa, OK MSA</td>\n",
       "      <td>2018-01-28</td>\n",
       "      <td>surf</td>\n",
       "      <td>NaN</td>\n",
       "    </tr>\n",
       "    <tr>\n",
       "      <td>4</td>\n",
       "      <td>1004</td>\n",
       "      <td>Leonila</td>\n",
       "      <td>Thompson</td>\n",
       "      <td>40</td>\n",
       "      <td>Seattle-Tacoma-Bellevue, WA MSA</td>\n",
       "      <td>2018-05-23</td>\n",
       "      <td>surf</td>\n",
       "      <td>NaN</td>\n",
       "    </tr>\n",
       "  </tbody>\n",
       "</table>\n",
       "</div>"
      ],
      "text/plain": [
       "   user_id first_name  last_name  age                                   city  \\\n",
       "0     1000   Anamaria      Bauer   45  Atlanta-Sandy Springs-Roswell, GA MSA   \n",
       "1     1001     Mickey  Wilkerson   28        Seattle-Tacoma-Bellevue, WA MSA   \n",
       "2     1002     Carlee    Hoffman   36   Las Vegas-Henderson-Paradise, NV MSA   \n",
       "3     1003   Reynaldo    Jenkins   52                          Tulsa, OK MSA   \n",
       "4     1004    Leonila   Thompson   40        Seattle-Tacoma-Bellevue, WA MSA   \n",
       "\n",
       "     reg_date      plan churn_date  \n",
       "0  2018-12-24  ultimate        NaN  \n",
       "1  2018-08-13      surf        NaN  \n",
       "2  2018-10-21      surf        NaN  \n",
       "3  2018-01-28      surf        NaN  \n",
       "4  2018-05-23      surf        NaN  "
      ]
     },
     "execution_count": 7,
     "metadata": {},
     "output_type": "execute_result"
    }
   ],
   "source": [
    "# Print a sample of data for users\n",
    "users.head()\n"
   ]
  },
  {
   "cell_type": "code",
   "execution_count": 8,
   "metadata": {},
   "outputs": [
    {
     "name": "stdout",
     "output_type": "stream",
     "text": [
      "count    500.000000\n",
      "mean      45.486000\n",
      "std       16.972269\n",
      "min       18.000000\n",
      "25%       30.000000\n",
      "50%       46.000000\n",
      "75%       61.000000\n",
      "max       75.000000\n",
      "Name: age, dtype: float64\n"
     ]
    },
    {
     "data": {
      "image/png": "[encoded data removed]",
      "text/plain": [
       "<Figure size 432x288 with 1 Axes>"
      ]
     },
     "metadata": {
      "needs_background": "light"
     },
     "output_type": "display_data"
    }
   ],
   "source": [
    "# Description of data\n",
    "print(users.age.describe())\n",
    "sns.boxplot(users['age'])\n",
    "plt.show()\n"
   ]
  },
  {
   "cell_type": "markdown",
   "metadata": {},
   "source": [
    "According to the description of the data, the users table contains data on Megaline's clients. There are missing values in churn_date column, which contains the date the client stopped using the service. If the value is missing, the client was still using the calling plan when this data was generated. This column may be dropped since only there are only 34 entries which may be insignificant to our analysis. The first_name, last_name and city columns will all be lowercased. Furthermore, the reg_date column contains string values that need to be converted to datetime objects. The average age of a Megaline client is 46 years old."
   ]
  },
  {
   "cell_type": "markdown",
   "metadata": {},
   "source": [
    "### Fix Data"
   ]
  },
  {
   "cell_type": "markdown",
   "metadata": {},
   "source": [
    "[Fix obvious issues with the data given the initial observations.]"
   ]
  },
  {
   "cell_type": "code",
   "execution_count": 9,
   "metadata": {},
   "outputs": [
    {
     "name": "stdout",
     "output_type": "stream",
     "text": [
      "<class 'pandas.core.frame.DataFrame'>\n",
      "RangeIndex: 500 entries, 0 to 499\n",
      "Data columns (total 8 columns):\n",
      "user_id       500 non-null int64\n",
      "first_name    500 non-null object\n",
      "last_name     500 non-null object\n",
      "age           500 non-null int64\n",
      "city          500 non-null object\n",
      "reg_date      500 non-null datetime64[ns]\n",
      "plan          500 non-null object\n",
      "churn_date    34 non-null object\n",
      "dtypes: datetime64[ns](1), int64(2), object(5)\n",
      "memory usage: 31.4+ KB\n"
     ]
    },
    {
     "data": {
      "text/html": [
       "<div>\n",
       "<style scoped>\n",
       "    .dataframe tbody tr th:only-of-type {\n",
       "        vertical-align: middle;\n",
       "    }\n",
       "\n",
       "    .dataframe tbody tr th {\n",
       "        vertical-align: top;\n",
       "    }\n",
       "\n",
       "    .dataframe thead th {\n",
       "        text-align: right;\n",
       "    }\n",
       "</style>\n",
       "<table border=\"1\" class=\"dataframe\">\n",
       "  <thead>\n",
       "    <tr style=\"text-align: right;\">\n",
       "      <th></th>\n",
       "      <th>user_id</th>\n",
       "      <th>first_name</th>\n",
       "      <th>last_name</th>\n",
       "      <th>age</th>\n",
       "      <th>city</th>\n",
       "      <th>reg_date</th>\n",
       "      <th>plan</th>\n",
       "      <th>churn_date</th>\n",
       "    </tr>\n",
       "  </thead>\n",
       "  <tbody>\n",
       "    <tr>\n",
       "      <td>0</td>\n",
       "      <td>1000</td>\n",
       "      <td>anamaria</td>\n",
       "      <td>bauer</td>\n",
       "      <td>45</td>\n",
       "      <td>atlanta-sandy springs-roswell, ga msa</td>\n",
       "      <td>2018-12-24</td>\n",
       "      <td>ultimate</td>\n",
       "      <td>NaN</td>\n",
       "    </tr>\n",
       "    <tr>\n",
       "      <td>1</td>\n",
       "      <td>1001</td>\n",
       "      <td>mickey</td>\n",
       "      <td>wilkerson</td>\n",
       "      <td>28</td>\n",
       "      <td>seattle-tacoma-bellevue, wa msa</td>\n",
       "      <td>2018-08-13</td>\n",
       "      <td>surf</td>\n",
       "      <td>NaN</td>\n",
       "    </tr>\n",
       "    <tr>\n",
       "      <td>2</td>\n",
       "      <td>1002</td>\n",
       "      <td>carlee</td>\n",
       "      <td>hoffman</td>\n",
       "      <td>36</td>\n",
       "      <td>las vegas-henderson-paradise, nv msa</td>\n",
       "      <td>2018-10-21</td>\n",
       "      <td>surf</td>\n",
       "      <td>NaN</td>\n",
       "    </tr>\n",
       "    <tr>\n",
       "      <td>3</td>\n",
       "      <td>1003</td>\n",
       "      <td>reynaldo</td>\n",
       "      <td>jenkins</td>\n",
       "      <td>52</td>\n",
       "      <td>tulsa, ok msa</td>\n",
       "      <td>2018-01-28</td>\n",
       "      <td>surf</td>\n",
       "      <td>NaN</td>\n",
       "    </tr>\n",
       "    <tr>\n",
       "      <td>4</td>\n",
       "      <td>1004</td>\n",
       "      <td>leonila</td>\n",
       "      <td>thompson</td>\n",
       "      <td>40</td>\n",
       "      <td>seattle-tacoma-bellevue, wa msa</td>\n",
       "      <td>2018-05-23</td>\n",
       "      <td>surf</td>\n",
       "      <td>NaN</td>\n",
       "    </tr>\n",
       "    <tr>\n",
       "      <td>...</td>\n",
       "      <td>...</td>\n",
       "      <td>...</td>\n",
       "      <td>...</td>\n",
       "      <td>...</td>\n",
       "      <td>...</td>\n",
       "      <td>...</td>\n",
       "      <td>...</td>\n",
       "      <td>...</td>\n",
       "    </tr>\n",
       "    <tr>\n",
       "      <td>495</td>\n",
       "      <td>1495</td>\n",
       "      <td>fidel</td>\n",
       "      <td>sharpe</td>\n",
       "      <td>67</td>\n",
       "      <td>new york-newark-jersey city, ny-nj-pa msa</td>\n",
       "      <td>2018-09-04</td>\n",
       "      <td>surf</td>\n",
       "      <td>NaN</td>\n",
       "    </tr>\n",
       "    <tr>\n",
       "      <td>496</td>\n",
       "      <td>1496</td>\n",
       "      <td>ariel</td>\n",
       "      <td>shepherd</td>\n",
       "      <td>49</td>\n",
       "      <td>new orleans-metairie, la msa</td>\n",
       "      <td>2018-02-20</td>\n",
       "      <td>surf</td>\n",
       "      <td>NaN</td>\n",
       "    </tr>\n",
       "    <tr>\n",
       "      <td>497</td>\n",
       "      <td>1497</td>\n",
       "      <td>donte</td>\n",
       "      <td>barrera</td>\n",
       "      <td>49</td>\n",
       "      <td>los angeles-long beach-anaheim, ca msa</td>\n",
       "      <td>2018-12-10</td>\n",
       "      <td>ultimate</td>\n",
       "      <td>NaN</td>\n",
       "    </tr>\n",
       "    <tr>\n",
       "      <td>498</td>\n",
       "      <td>1498</td>\n",
       "      <td>scot</td>\n",
       "      <td>williamson</td>\n",
       "      <td>51</td>\n",
       "      <td>new york-newark-jersey city, ny-nj-pa msa</td>\n",
       "      <td>2018-02-04</td>\n",
       "      <td>surf</td>\n",
       "      <td>NaN</td>\n",
       "    </tr>\n",
       "    <tr>\n",
       "      <td>499</td>\n",
       "      <td>1499</td>\n",
       "      <td>shena</td>\n",
       "      <td>dickson</td>\n",
       "      <td>37</td>\n",
       "      <td>orlando-kissimmee-sanford, fl msa</td>\n",
       "      <td>2018-05-06</td>\n",
       "      <td>surf</td>\n",
       "      <td>NaN</td>\n",
       "    </tr>\n",
       "  </tbody>\n",
       "</table>\n",
       "<p>500 rows × 8 columns</p>\n",
       "</div>"
      ],
      "text/plain": [
       "     user_id first_name   last_name  age  \\\n",
       "0       1000   anamaria       bauer   45   \n",
       "1       1001     mickey   wilkerson   28   \n",
       "2       1002     carlee     hoffman   36   \n",
       "3       1003   reynaldo     jenkins   52   \n",
       "4       1004    leonila    thompson   40   \n",
       "..       ...        ...         ...  ...   \n",
       "495     1495      fidel      sharpe   67   \n",
       "496     1496      ariel    shepherd   49   \n",
       "497     1497      donte     barrera   49   \n",
       "498     1498       scot  williamson   51   \n",
       "499     1499      shena     dickson   37   \n",
       "\n",
       "                                          city   reg_date      plan churn_date  \n",
       "0        atlanta-sandy springs-roswell, ga msa 2018-12-24  ultimate        NaN  \n",
       "1              seattle-tacoma-bellevue, wa msa 2018-08-13      surf        NaN  \n",
       "2         las vegas-henderson-paradise, nv msa 2018-10-21      surf        NaN  \n",
       "3                                tulsa, ok msa 2018-01-28      surf        NaN  \n",
       "4              seattle-tacoma-bellevue, wa msa 2018-05-23      surf        NaN  \n",
       "..                                         ...        ...       ...        ...  \n",
       "495  new york-newark-jersey city, ny-nj-pa msa 2018-09-04      surf        NaN  \n",
       "496               new orleans-metairie, la msa 2018-02-20      surf        NaN  \n",
       "497     los angeles-long beach-anaheim, ca msa 2018-12-10  ultimate        NaN  \n",
       "498  new york-newark-jersey city, ny-nj-pa msa 2018-02-04      surf        NaN  \n",
       "499          orlando-kissimmee-sanford, fl msa 2018-05-06      surf        NaN  \n",
       "\n",
       "[500 rows x 8 columns]"
      ]
     },
     "execution_count": 9,
     "metadata": {},
     "output_type": "execute_result"
    }
   ],
   "source": [
    "\n",
    "# Convert reg_date values to datetime\n",
    "users['reg_date'] = pd.to_datetime(users['reg_date'])\n",
    "users.info()\n",
    "\n",
    "# Lowercase all string values\n",
    "for columns in users.columns:\n",
    "    if users[columns].dtype == object:\n",
    "        users[columns] = users[columns].str.lower() \n",
    "\n",
    "users\n",
    "\n"
   ]
  },
  {
   "cell_type": "markdown",
   "metadata": {},
   "source": [
    "### Enrich Data"
   ]
  },
  {
   "cell_type": "code",
   "execution_count": 10,
   "metadata": {},
   "outputs": [
    {
     "name": "stdout",
     "output_type": "stream",
     "text": [
      "Percentage of missing churn_date values: 0.932\n",
      "\n",
      "<class 'pandas.core.frame.DataFrame'>\n",
      "RangeIndex: 500 entries, 0 to 499\n",
      "Data columns (total 7 columns):\n",
      "user_id       500 non-null int64\n",
      "first_name    500 non-null object\n",
      "last_name     500 non-null object\n",
      "age           500 non-null int64\n",
      "city          500 non-null object\n",
      "reg_date      500 non-null datetime64[ns]\n",
      "plan          500 non-null object\n",
      "dtypes: datetime64[ns](1), int64(2), object(4)\n",
      "memory usage: 27.5+ KB\n"
     ]
    }
   ],
   "source": [
    "# Find percent of missing churn_date values\n",
    "print(\"Percentage of missing churn_date values:\",users['churn_date'].isna().sum()/len(users))\n",
    "print()\n",
    "\n",
    "# Dropping churn_date column\n",
    "users.churn_date.isna().sum()\n",
    "users = users.drop('churn_date',1)\n",
    "users.info()"
   ]
  },
  {
   "cell_type": "markdown",
   "metadata": {},
   "source": [
    "93% of the clients in our analysis had missing churn_date values so they were dropped. "
   ]
  },
  {
   "cell_type": "markdown",
   "metadata": {},
   "source": [
    "## Calls"
   ]
  },
  {
   "cell_type": "code",
   "execution_count": 11,
   "metadata": {},
   "outputs": [
    {
     "name": "stdout",
     "output_type": "stream",
     "text": [
      "<class 'pandas.core.frame.DataFrame'>\n",
      "RangeIndex: 137735 entries, 0 to 137734\n",
      "Data columns (total 4 columns):\n",
      "id           137735 non-null object\n",
      "user_id      137735 non-null int64\n",
      "call_date    137735 non-null object\n",
      "duration     137735 non-null float64\n",
      "dtypes: float64(1), int64(1), object(2)\n",
      "memory usage: 4.2+ MB\n"
     ]
    }
   ],
   "source": [
    "# Print the general/summary information about the calls' DataFrame\n",
    "calls.info()\n"
   ]
  },
  {
   "cell_type": "code",
   "execution_count": 12,
   "metadata": {},
   "outputs": [
    {
     "name": "stdout",
     "output_type": "stream",
     "text": [
      "         id  user_id   call_date  duration\n",
      "0   1000_93     1000  2018-12-27      8.52\n",
      "1  1000_145     1000  2018-12-27     13.66\n",
      "2  1000_247     1000  2018-12-27     14.48\n",
      "3  1000_309     1000  2018-12-28      5.76\n",
      "4  1000_380     1000  2018-12-30      4.22\n",
      "\n",
      "Number of clients making calls: 481\n",
      "\n",
      "Percentage of clients that make calls: 96.2\n"
     ]
    }
   ],
   "source": [
    "# Sample of data for calls\n",
    "print(calls.head())\n",
    "print()\n",
    "\n",
    "# Number of unique user_id values\n",
    "print(\"Number of clients making calls:\",calls.user_id.nunique())\n",
    "print()\n",
    "\n",
    "# Percentage of clients that make calls\n",
    "print(\"Percentage of clients that make calls:\",(calls.user_id.nunique() / len(users))*100)"
   ]
  },
  {
   "cell_type": "code",
   "execution_count": 13,
   "metadata": {
    "scrolled": true
   },
   "outputs": [
    {
     "name": "stdout",
     "output_type": "stream",
     "text": [
      "count    137735.000000\n",
      "mean          6.745927\n",
      "std           5.839241\n",
      "min           0.000000\n",
      "25%           1.290000\n",
      "50%           5.980000\n",
      "75%          10.690000\n",
      "max          37.600000\n",
      "Name: duration, dtype: float64\n"
     ]
    }
   ],
   "source": [
    "# Descriptive statistics\n",
    "print(calls.duration.describe())\n",
    "\n",
    "\n"
   ]
  },
  {
   "cell_type": "code",
   "execution_count": 14,
   "metadata": {},
   "outputs": [
    {
     "data": {
      "image/png": "[encoded data removed]",
      "text/plain": [
       "<Figure size 432x288 with 1 Axes>"
      ]
     },
     "metadata": {
      "needs_background": "light"
     },
     "output_type": "display_data"
    }
   ],
   "source": [
    "sns.boxplot(x=calls['duration'])\n",
    "plt.show()"
   ]
  },
  {
   "cell_type": "markdown",
   "metadata": {},
   "source": [
    "The call_date contains string values that need to be converted to datetime objects. There are 0 values (19%) and the boxplot confirms that there are outliers in duration column. The calls with 0 duration will be removed as these values don't reflect usage and do not generate Megaline any revenue. There are 481 clients making calls out of a possible 500 (96%). According to the description of the data, Megaline rounds seconds up to minutes, and megabytes to gigabytes. For calls, each individual call is rounded up: even if the call lasted just one second, it will be counted as one minute. The call duration column will be rounded to reflect this.\n",
    "\n"
   ]
  },
  {
   "cell_type": "markdown",
   "metadata": {},
   "source": [
    " "
   ]
  },
  {
   "cell_type": "markdown",
   "metadata": {},
   "source": [
    "### Fix data"
   ]
  },
  {
   "cell_type": "code",
   "execution_count": 15,
   "metadata": {},
   "outputs": [
    {
     "name": "stdout",
     "output_type": "stream",
     "text": [
      "<class 'pandas.core.frame.DataFrame'>\n",
      "RangeIndex: 137735 entries, 0 to 137734\n",
      "Data columns (total 4 columns):\n",
      "id           137735 non-null object\n",
      "user_id      137735 non-null int64\n",
      "call_date    137735 non-null datetime64[ns]\n",
      "duration     137735 non-null float64\n",
      "dtypes: datetime64[ns](1), float64(1), int64(1), object(1)\n",
      "memory usage: 4.2+ MB\n"
     ]
    }
   ],
   "source": [
    "# Convert call_date column to datetime \n",
    "calls.call_date = pd.to_datetime(calls.call_date)\n",
    "calls.info()"
   ]
  },
  {
   "cell_type": "markdown",
   "metadata": {},
   "source": [
    "### Enrich data"
   ]
  },
  {
   "cell_type": "code",
   "execution_count": 16,
   "metadata": {},
   "outputs": [
    {
     "name": "stdout",
     "output_type": "stream",
     "text": [
      "Percentage of 0 call duration: 0.1948233927469416\n",
      "True\n"
     ]
    }
   ],
   "source": [
    "# Rounding duration column up and converting to int\n",
    "calls.duration = calls.duration.apply(np.ceil).astype(int)\n",
    "calls.head()\n",
    "\n",
    "\n",
    "# Remove 0 values in call_duration column\n",
    "print(\"Percentage of 0 call duration:\",len(calls.loc[calls['duration']==0]) / len(calls))\n",
    "calls = calls.loc[calls['duration']>0]\n",
    "\n",
    "# Confirm minimum is not 0\n",
    "print(calls['duration'].min() > 0)\n",
    "\n",
    "\n"
   ]
  },
  {
   "cell_type": "code",
   "execution_count": 17,
   "metadata": {},
   "outputs": [
    {
     "name": "stdout",
     "output_type": "stream",
     "text": [
      "Q1:  5.0\n",
      "Q3:  12.0\n",
      "IQR:  7.0\n",
      "min:  0\n",
      "max:  22.5\n",
      "Percentage of outliers: 0.013399338148438697\n"
     ]
    },
    {
     "data": {
      "image/png": "[encoded data removed]",
      "text/plain": [
       "<Figure size 432x288 with 1 Axes>"
      ]
     },
     "metadata": {
      "needs_background": "light"
     },
     "output_type": "display_data"
    }
   ],
   "source": [
    "# Boxplot\n",
    "sns.boxplot(x=calls['duration'])\n",
    "\n",
    "# Checking for outliers in call duration\n",
    "\n",
    "Q1 = calls['duration'].quantile(0.25)\n",
    "Q3 = calls['duration'].quantile(0.75)\n",
    "IQR = Q3 - Q1\n",
    "print('Q1: ', Q1)\n",
    "print('Q3: ', Q3)\n",
    "print('IQR: ', IQR)\n",
    "\n",
    "bottom_cutoff = Q1 - (1.5*IQR)\n",
    "top_cutoff = Q3 + (1.5 * IQR)\n",
    "if bottom_cutoff < 0:\n",
    "    bottom_cutoff = 0\n",
    "print('min: ',bottom_cutoff)\n",
    "print('max: ',top_cutoff)\n",
    "\n",
    "# How % call users reach extreme usage?\n",
    "outliers_calls = calls.query('duration > @top_cutoff')\n",
    "sns.boxplot(x=calls['duration'])\n",
    "print(\"Percentage of outliers:\",len(outliers_calls) / len(calls))"
   ]
  },
  {
   "cell_type": "markdown",
   "metadata": {},
   "source": [
    "The upper limit of the boxplot for call duration is about 23 minutes. Less than 1% clients exceded this time. These upper outliers are actually favorable for Megaline as these clients could be bringing in a lot of extra revenue. Therefore, we want to make sure to include these upper outliers in our analysis."
   ]
  },
  {
   "cell_type": "markdown",
   "metadata": {},
   "source": [
    "## Messages"
   ]
  },
  {
   "cell_type": "code",
   "execution_count": 18,
   "metadata": {},
   "outputs": [
    {
     "name": "stdout",
     "output_type": "stream",
     "text": [
      "<class 'pandas.core.frame.DataFrame'>\n",
      "RangeIndex: 76051 entries, 0 to 76050\n",
      "Data columns (total 3 columns):\n",
      "id              76051 non-null object\n",
      "user_id         76051 non-null int64\n",
      "message_date    76051 non-null object\n",
      "dtypes: int64(1), object(2)\n",
      "memory usage: 1.7+ MB\n"
     ]
    }
   ],
   "source": [
    "# Print the general/summary information about the messages' DataFrame\n",
    "messages.info()\n"
   ]
  },
  {
   "cell_type": "code",
   "execution_count": 19,
   "metadata": {},
   "outputs": [
    {
     "name": "stdout",
     "output_type": "stream",
     "text": [
      "         id  user_id message_date\n",
      "0  1000_125     1000   2018-12-27\n",
      "1  1000_160     1000   2018-12-31\n",
      "2  1000_223     1000   2018-12-31\n",
      "3  1000_251     1000   2018-12-27\n",
      "4  1000_255     1000   2018-12-26\n",
      "\n",
      "Number of clients sending text messages: 402\n",
      "\n",
      "Percentage of clients sending text messages: 80.4\n"
     ]
    }
   ],
   "source": [
    "# Print a sample of data for messages\n",
    "print(messages.head())\n",
    "print()\n",
    "\n",
    "# Unique user_id's \n",
    "print(\"Number of clients sending text messages:\",messages.user_id.nunique())\n",
    "\n",
    "# Percentage of clients that send text messages\n",
    "print()\n",
    "print(\"Percentage of clients sending text messages:\",(messages.user_id.nunique()/len(users)*100))"
   ]
  },
  {
   "cell_type": "markdown",
   "metadata": {},
   "source": [
    "The message_date contains string values that need to be converted to datetime objects. There are 402 clients out of 500 that send text messages (80%)."
   ]
  },
  {
   "cell_type": "markdown",
   "metadata": {},
   "source": [
    " "
   ]
  },
  {
   "cell_type": "markdown",
   "metadata": {},
   "source": [
    "### Fix data"
   ]
  },
  {
   "cell_type": "code",
   "execution_count": 20,
   "metadata": {},
   "outputs": [
    {
     "name": "stdout",
     "output_type": "stream",
     "text": [
      "<class 'pandas.core.frame.DataFrame'>\n",
      "RangeIndex: 76051 entries, 0 to 76050\n",
      "Data columns (total 3 columns):\n",
      "id              76051 non-null object\n",
      "user_id         76051 non-null int64\n",
      "message_date    76051 non-null datetime64[ns]\n",
      "dtypes: datetime64[ns](1), int64(1), object(1)\n",
      "memory usage: 1.7+ MB\n"
     ]
    }
   ],
   "source": [
    "# Convert message_date column to datetime\n",
    "messages.message_date = pd.to_datetime(messages.message_date)\n",
    "messages.info()"
   ]
  },
  {
   "cell_type": "markdown",
   "metadata": {},
   "source": [
    "### Enrich data"
   ]
  },
  {
   "cell_type": "code",
   "execution_count": 21,
   "metadata": {},
   "outputs": [
    {
     "data": {
      "text/html": [
       "<div>\n",
       "<style scoped>\n",
       "    .dataframe tbody tr th:only-of-type {\n",
       "        vertical-align: middle;\n",
       "    }\n",
       "\n",
       "    .dataframe tbody tr th {\n",
       "        vertical-align: top;\n",
       "    }\n",
       "\n",
       "    .dataframe thead th {\n",
       "        text-align: right;\n",
       "    }\n",
       "</style>\n",
       "<table border=\"1\" class=\"dataframe\">\n",
       "  <thead>\n",
       "    <tr style=\"text-align: right;\">\n",
       "      <th></th>\n",
       "      <th>user_id</th>\n",
       "    </tr>\n",
       "  </thead>\n",
       "  <tbody>\n",
       "    <tr>\n",
       "      <td>count</td>\n",
       "      <td>76051.000000</td>\n",
       "    </tr>\n",
       "    <tr>\n",
       "      <td>mean</td>\n",
       "      <td>1245.972768</td>\n",
       "    </tr>\n",
       "    <tr>\n",
       "      <td>std</td>\n",
       "      <td>139.843635</td>\n",
       "    </tr>\n",
       "    <tr>\n",
       "      <td>min</td>\n",
       "      <td>1000.000000</td>\n",
       "    </tr>\n",
       "    <tr>\n",
       "      <td>25%</td>\n",
       "      <td>1123.000000</td>\n",
       "    </tr>\n",
       "    <tr>\n",
       "      <td>50%</td>\n",
       "      <td>1251.000000</td>\n",
       "    </tr>\n",
       "    <tr>\n",
       "      <td>75%</td>\n",
       "      <td>1362.000000</td>\n",
       "    </tr>\n",
       "    <tr>\n",
       "      <td>max</td>\n",
       "      <td>1497.000000</td>\n",
       "    </tr>\n",
       "  </tbody>\n",
       "</table>\n",
       "</div>"
      ],
      "text/plain": [
       "            user_id\n",
       "count  76051.000000\n",
       "mean    1245.972768\n",
       "std      139.843635\n",
       "min     1000.000000\n",
       "25%     1123.000000\n",
       "50%     1251.000000\n",
       "75%     1362.000000\n",
       "max     1497.000000"
      ]
     },
     "execution_count": 21,
     "metadata": {},
     "output_type": "execute_result"
    }
   ],
   "source": [
    "# Descriptive statistics\n",
    "messages.describe()\n"
   ]
  },
  {
   "cell_type": "markdown",
   "metadata": {},
   "source": [
    "## Internet"
   ]
  },
  {
   "cell_type": "code",
   "execution_count": 22,
   "metadata": {},
   "outputs": [
    {
     "name": "stdout",
     "output_type": "stream",
     "text": [
      "<class 'pandas.core.frame.DataFrame'>\n",
      "RangeIndex: 104825 entries, 0 to 104824\n",
      "Data columns (total 4 columns):\n",
      "id              104825 non-null object\n",
      "user_id         104825 non-null int64\n",
      "session_date    104825 non-null object\n",
      "mb_used         104825 non-null float64\n",
      "dtypes: float64(1), int64(1), object(2)\n",
      "memory usage: 3.2+ MB\n"
     ]
    }
   ],
   "source": [
    "# Print the general/summary information about the internet DataFrame\n",
    "internet.info()\n"
   ]
  },
  {
   "cell_type": "code",
   "execution_count": 23,
   "metadata": {},
   "outputs": [
    {
     "name": "stdout",
     "output_type": "stream",
     "text": [
      "         id  user_id session_date  mb_used\n",
      "0   1000_13     1000   2018-12-29    89.86\n",
      "1  1000_204     1000   2018-12-31     0.00\n",
      "2  1000_379     1000   2018-12-28   660.40\n",
      "3  1000_413     1000   2018-12-26   270.99\n",
      "4  1000_442     1000   2018-12-27   880.22\n",
      "\n",
      "Number of clients that use internet: 489\n",
      "\n",
      "Percentage of clients that use internet: 97.8\n"
     ]
    }
   ],
   "source": [
    "# Sample of data for the internet traffic\n",
    "print(internet.head())\n",
    "print()\n",
    "\n",
    "# Unique user_id's\n",
    "print(\"Number of clients that use internet:\",internet.user_id.nunique())\n",
    "print()\n",
    "\n",
    "# Percentage of clients that use internet\n",
    "print(\"Percentage of clients that use internet:\",(internet.user_id.nunique() / len(users))*100)"
   ]
  },
  {
   "cell_type": "code",
   "execution_count": 24,
   "metadata": {},
   "outputs": [
    {
     "name": "stdout",
     "output_type": "stream",
     "text": [
      "count    104825.000000\n",
      "mean        366.713701\n",
      "std         277.170542\n",
      "min           0.000000\n",
      "25%         136.080000\n",
      "50%         343.980000\n",
      "75%         554.610000\n",
      "max        1693.470000\n",
      "Name: mb_used, dtype: float64\n"
     ]
    },
    {
     "data": {
      "image/png": "[encoded data removed]",
      "text/plain": [
       "<Figure size 432x288 with 1 Axes>"
      ]
     },
     "metadata": {
      "needs_background": "light"
     },
     "output_type": "display_data"
    }
   ],
   "source": [
    "print(internet.mb_used.describe())\n",
    "sns.boxplot(x=internet['mb_used'])\n",
    "plt.show()\n"
   ]
  },
  {
   "cell_type": "markdown",
   "metadata": {},
   "source": [
    "According to the description of the data, for web traffic, individual web sessions are not rounded up. Instead, the total for the month is rounded up. If someone uses 1025 megabytes this month, they will be charged for 2 gigabytes. There seems to be some clients with 0 mb_used. The boxplot confirms that there are outliers in the mb_used column. Session_date column will be converted to datetime. 98% of Megaline clients use internet."
   ]
  },
  {
   "cell_type": "markdown",
   "metadata": {},
   "source": [
    " "
   ]
  },
  {
   "cell_type": "markdown",
   "metadata": {},
   "source": [
    "### Fix data"
   ]
  },
  {
   "cell_type": "code",
   "execution_count": 25,
   "metadata": {},
   "outputs": [
    {
     "name": "stdout",
     "output_type": "stream",
     "text": [
      "<class 'pandas.core.frame.DataFrame'>\n",
      "RangeIndex: 104825 entries, 0 to 104824\n",
      "Data columns (total 4 columns):\n",
      "id              104825 non-null object\n",
      "user_id         104825 non-null int64\n",
      "session_date    104825 non-null datetime64[ns]\n",
      "mb_used         104825 non-null float64\n",
      "dtypes: datetime64[ns](1), float64(1), int64(1), object(1)\n",
      "memory usage: 3.2+ MB\n"
     ]
    }
   ],
   "source": [
    "# Convert session_date column to datetime\n",
    "internet.session_date = pd.to_datetime(internet.session_date)\n",
    "internet.info()"
   ]
  },
  {
   "cell_type": "markdown",
   "metadata": {},
   "source": [
    "### Enrich data"
   ]
  },
  {
   "cell_type": "markdown",
   "metadata": {},
   "source": [
    "[Add additional factors to the data if you believe they might be useful.]"
   ]
  },
  {
   "cell_type": "code",
   "execution_count": 26,
   "metadata": {},
   "outputs": [
    {
     "name": "stdout",
     "output_type": "stream",
     "text": [
      "min:  0\n",
      "max:  1182.405\n",
      "Q1:  136.08\n",
      "Q3:  554.61\n",
      "IQR:  418.53\n"
     ]
    },
    {
     "data": {
      "image/png": "[encoded data removed]",
      "text/plain": [
       "<Figure size 432x288 with 1 Axes>"
      ]
     },
     "metadata": {
      "needs_background": "light"
     },
     "output_type": "display_data"
    }
   ],
   "source": [
    "# Boxplot\n",
    "sns.boxplot(internet['mb_used'])\n",
    "\n",
    "# Determine upper and lower limits\n",
    "\n",
    "Q1 = internet['mb_used'].quantile(0.25)\n",
    "Q3 = internet['mb_used'].quantile(0.75)\n",
    "IQR = Q3 - Q1\n",
    "\n",
    "bottom_cutoff = Q1 - (1.5*IQR)\n",
    "if bottom_cutoff < 0:\n",
    "    bottom_cutoff = 0 \n",
    "top_cutoff = Q3 + (1.5 * IQR)\n",
    "\n",
    "print('min: ',bottom_cutoff)\n",
    "print('max: ',top_cutoff)\n",
    "print('Q1: ', Q1)\n",
    "print('Q3: ', Q3)\n",
    "print('IQR: ', IQR)\n",
    "\n",
    "\n"
   ]
  },
  {
   "cell_type": "markdown",
   "metadata": {},
   "source": [
    "The upper whisker of the boxplot was about 1182 megabytes. "
   ]
  },
  {
   "cell_type": "code",
   "execution_count": 27,
   "metadata": {},
   "outputs": [
    {
     "name": "stdout",
     "output_type": "stream",
     "text": [
      "0.004044836632482709\n",
      "0.1311423801574052\n",
      "True\n"
     ]
    }
   ],
   "source": [
    " #How % internet users reach extreme usage?\n",
    "\n",
    "outliers_internet = internet.query('mb_used > @top_cutoff')\n",
    "print(len(outliers_internet) / len(internet))\n",
    "\n",
    "\n",
    "#% internet sessions that will be drooped?\n",
    "print(len(internet.loc[internet['mb_used']==0]) / len(internet))\n",
    "\n",
    "\n",
    "# Filter 0 values\n",
    "\n",
    "internet = internet.loc[internet['mb_used']>0]\n",
    "\n",
    "\n",
    "# confirm minimum of these fields is no longer 0\n",
    "print(internet['mb_used'].min() > 0)\n"
   ]
  },
  {
   "cell_type": "markdown",
   "metadata": {},
   "source": [
    "13% of the clients in our analysis had 0 mb_used and were subsequently dropped from the dataset. Less than 1 of % client mb_used were outliers. These upper outliers are favorable for Megaline as these clients could be bringing in a lot of extra revenue. Therefore, we want to make sure to include these upper outliers in our analysis."
   ]
  },
  {
   "cell_type": "markdown",
   "metadata": {},
   "source": [
    "## Study plan conditions"
   ]
  },
  {
   "cell_type": "markdown",
   "metadata": {},
   "source": [
    "[It is critical to understand how the plans work, how users are charged based on their plan subscription. So, we suggest printing out the plan information to view their conditions once again.]"
   ]
  },
  {
   "cell_type": "code",
   "execution_count": 28,
   "metadata": {},
   "outputs": [
    {
     "data": {
      "text/html": [
       "<div>\n",
       "<style scoped>\n",
       "    .dataframe tbody tr th:only-of-type {\n",
       "        vertical-align: middle;\n",
       "    }\n",
       "\n",
       "    .dataframe tbody tr th {\n",
       "        vertical-align: top;\n",
       "    }\n",
       "\n",
       "    .dataframe thead th {\n",
       "        text-align: right;\n",
       "    }\n",
       "</style>\n",
       "<table border=\"1\" class=\"dataframe\">\n",
       "  <thead>\n",
       "    <tr style=\"text-align: right;\">\n",
       "      <th></th>\n",
       "      <th>messages_included</th>\n",
       "      <th>mb_per_month_included</th>\n",
       "      <th>minutes_included</th>\n",
       "      <th>usd_monthly_pay</th>\n",
       "      <th>usd_per_gb</th>\n",
       "      <th>usd_per_message</th>\n",
       "      <th>usd_per_minute</th>\n",
       "      <th>plan_name</th>\n",
       "    </tr>\n",
       "  </thead>\n",
       "  <tbody>\n",
       "    <tr>\n",
       "      <td>0</td>\n",
       "      <td>50</td>\n",
       "      <td>15360</td>\n",
       "      <td>500</td>\n",
       "      <td>20</td>\n",
       "      <td>10</td>\n",
       "      <td>0.03</td>\n",
       "      <td>0.03</td>\n",
       "      <td>surf</td>\n",
       "    </tr>\n",
       "    <tr>\n",
       "      <td>1</td>\n",
       "      <td>1000</td>\n",
       "      <td>30720</td>\n",
       "      <td>3000</td>\n",
       "      <td>70</td>\n",
       "      <td>7</td>\n",
       "      <td>0.01</td>\n",
       "      <td>0.01</td>\n",
       "      <td>ultimate</td>\n",
       "    </tr>\n",
       "  </tbody>\n",
       "</table>\n",
       "</div>"
      ],
      "text/plain": [
       "   messages_included  mb_per_month_included  minutes_included  \\\n",
       "0                 50                  15360               500   \n",
       "1               1000                  30720              3000   \n",
       "\n",
       "   usd_monthly_pay  usd_per_gb  usd_per_message  usd_per_minute plan_name  \n",
       "0               20          10             0.03            0.03      surf  \n",
       "1               70           7             0.01            0.01  ultimate  "
      ]
     },
     "execution_count": 28,
     "metadata": {},
     "output_type": "execute_result"
    }
   ],
   "source": [
    "# Print out the plan conditions and make sure they are clear for you\n",
    "\n",
    "plans.head()\n"
   ]
  },
  {
   "cell_type": "markdown",
   "metadata": {},
   "source": [
    "# Aggregate data per user\n"
   ]
  },
  {
   "cell_type": "code",
   "execution_count": 29,
   "metadata": {},
   "outputs": [
    {
     "data": {
      "text/html": [
       "<div>\n",
       "<style scoped>\n",
       "    .dataframe tbody tr th:only-of-type {\n",
       "        vertical-align: middle;\n",
       "    }\n",
       "\n",
       "    .dataframe tbody tr th {\n",
       "        vertical-align: top;\n",
       "    }\n",
       "\n",
       "    .dataframe thead th {\n",
       "        text-align: right;\n",
       "    }\n",
       "</style>\n",
       "<table border=\"1\" class=\"dataframe\">\n",
       "  <thead>\n",
       "    <tr style=\"text-align: right;\">\n",
       "      <th></th>\n",
       "      <th>user_id</th>\n",
       "      <th>month</th>\n",
       "      <th>number_of_calls</th>\n",
       "    </tr>\n",
       "  </thead>\n",
       "  <tbody>\n",
       "    <tr>\n",
       "      <td>0</td>\n",
       "      <td>1000</td>\n",
       "      <td>December</td>\n",
       "      <td>16</td>\n",
       "    </tr>\n",
       "    <tr>\n",
       "      <td>1</td>\n",
       "      <td>1001</td>\n",
       "      <td>August</td>\n",
       "      <td>22</td>\n",
       "    </tr>\n",
       "    <tr>\n",
       "      <td>2</td>\n",
       "      <td>1001</td>\n",
       "      <td>December</td>\n",
       "      <td>46</td>\n",
       "    </tr>\n",
       "    <tr>\n",
       "      <td>3</td>\n",
       "      <td>1001</td>\n",
       "      <td>November</td>\n",
       "      <td>49</td>\n",
       "    </tr>\n",
       "    <tr>\n",
       "      <td>4</td>\n",
       "      <td>1001</td>\n",
       "      <td>October</td>\n",
       "      <td>47</td>\n",
       "    </tr>\n",
       "    <tr>\n",
       "      <td>...</td>\n",
       "      <td>...</td>\n",
       "      <td>...</td>\n",
       "      <td>...</td>\n",
       "    </tr>\n",
       "    <tr>\n",
       "      <td>2251</td>\n",
       "      <td>1498</td>\n",
       "      <td>September</td>\n",
       "      <td>39</td>\n",
       "    </tr>\n",
       "    <tr>\n",
       "      <td>2252</td>\n",
       "      <td>1499</td>\n",
       "      <td>December</td>\n",
       "      <td>56</td>\n",
       "    </tr>\n",
       "    <tr>\n",
       "      <td>2253</td>\n",
       "      <td>1499</td>\n",
       "      <td>November</td>\n",
       "      <td>39</td>\n",
       "    </tr>\n",
       "    <tr>\n",
       "      <td>2254</td>\n",
       "      <td>1499</td>\n",
       "      <td>October</td>\n",
       "      <td>41</td>\n",
       "    </tr>\n",
       "    <tr>\n",
       "      <td>2255</td>\n",
       "      <td>1499</td>\n",
       "      <td>September</td>\n",
       "      <td>35</td>\n",
       "    </tr>\n",
       "  </tbody>\n",
       "</table>\n",
       "<p>2256 rows × 3 columns</p>\n",
       "</div>"
      ],
      "text/plain": [
       "      user_id      month  number_of_calls\n",
       "0        1000   December               16\n",
       "1        1001     August               22\n",
       "2        1001   December               46\n",
       "3        1001   November               49\n",
       "4        1001    October               47\n",
       "...       ...        ...              ...\n",
       "2251     1498  September               39\n",
       "2252     1499   December               56\n",
       "2253     1499   November               39\n",
       "2254     1499    October               41\n",
       "2255     1499  September               35\n",
       "\n",
       "[2256 rows x 3 columns]"
      ]
     },
     "execution_count": 29,
     "metadata": {},
     "output_type": "execute_result"
    }
   ],
   "source": [
    "# Create column to store the respective months for each call_date\n",
    "calls['month'] = calls.call_date.dt.month_name()\n",
    "\n",
    "# Calculate the number of calls made by each user per month. Save the result.\n",
    "calls_per_month = calls.groupby(['user_id','month'])['duration'].count().reset_index()\n",
    "calls_per_month.rename(columns={'duration':'number_of_calls'},inplace=True)\n",
    "calls_per_month\n"
   ]
  },
  {
   "cell_type": "code",
   "execution_count": 30,
   "metadata": {},
   "outputs": [
    {
     "data": {
      "text/html": [
       "<div>\n",
       "<style scoped>\n",
       "    .dataframe tbody tr th:only-of-type {\n",
       "        vertical-align: middle;\n",
       "    }\n",
       "\n",
       "    .dataframe tbody tr th {\n",
       "        vertical-align: top;\n",
       "    }\n",
       "\n",
       "    .dataframe thead th {\n",
       "        text-align: right;\n",
       "    }\n",
       "</style>\n",
       "<table border=\"1\" class=\"dataframe\">\n",
       "  <thead>\n",
       "    <tr style=\"text-align: right;\">\n",
       "      <th></th>\n",
       "      <th>user_id</th>\n",
       "      <th>month</th>\n",
       "      <th>number_of_minutes</th>\n",
       "    </tr>\n",
       "  </thead>\n",
       "  <tbody>\n",
       "    <tr>\n",
       "      <td>0</td>\n",
       "      <td>1000</td>\n",
       "      <td>December</td>\n",
       "      <td>124</td>\n",
       "    </tr>\n",
       "    <tr>\n",
       "      <td>1</td>\n",
       "      <td>1001</td>\n",
       "      <td>August</td>\n",
       "      <td>182</td>\n",
       "    </tr>\n",
       "    <tr>\n",
       "      <td>2</td>\n",
       "      <td>1001</td>\n",
       "      <td>December</td>\n",
       "      <td>412</td>\n",
       "    </tr>\n",
       "    <tr>\n",
       "      <td>3</td>\n",
       "      <td>1001</td>\n",
       "      <td>November</td>\n",
       "      <td>426</td>\n",
       "    </tr>\n",
       "    <tr>\n",
       "      <td>4</td>\n",
       "      <td>1001</td>\n",
       "      <td>October</td>\n",
       "      <td>393</td>\n",
       "    </tr>\n",
       "    <tr>\n",
       "      <td>...</td>\n",
       "      <td>...</td>\n",
       "      <td>...</td>\n",
       "      <td>...</td>\n",
       "    </tr>\n",
       "    <tr>\n",
       "      <td>2251</td>\n",
       "      <td>1498</td>\n",
       "      <td>September</td>\n",
       "      <td>363</td>\n",
       "    </tr>\n",
       "    <tr>\n",
       "      <td>2252</td>\n",
       "      <td>1499</td>\n",
       "      <td>December</td>\n",
       "      <td>496</td>\n",
       "    </tr>\n",
       "    <tr>\n",
       "      <td>2253</td>\n",
       "      <td>1499</td>\n",
       "      <td>November</td>\n",
       "      <td>308</td>\n",
       "    </tr>\n",
       "    <tr>\n",
       "      <td>2254</td>\n",
       "      <td>1499</td>\n",
       "      <td>October</td>\n",
       "      <td>385</td>\n",
       "    </tr>\n",
       "    <tr>\n",
       "      <td>2255</td>\n",
       "      <td>1499</td>\n",
       "      <td>September</td>\n",
       "      <td>346</td>\n",
       "    </tr>\n",
       "  </tbody>\n",
       "</table>\n",
       "<p>2256 rows × 3 columns</p>\n",
       "</div>"
      ],
      "text/plain": [
       "      user_id      month  number_of_minutes\n",
       "0        1000   December                124\n",
       "1        1001     August                182\n",
       "2        1001   December                412\n",
       "3        1001   November                426\n",
       "4        1001    October                393\n",
       "...       ...        ...                ...\n",
       "2251     1498  September                363\n",
       "2252     1499   December                496\n",
       "2253     1499   November                308\n",
       "2254     1499    October                385\n",
       "2255     1499  September                346\n",
       "\n",
       "[2256 rows x 3 columns]"
      ]
     },
     "execution_count": 30,
     "metadata": {},
     "output_type": "execute_result"
    }
   ],
   "source": [
    "# Calculate the amount of minutes spent by each user per month. Save the result.\n",
    "\n",
    "mins_per_month = calls.groupby(['user_id','month'])['duration'].sum().reset_index()\n",
    "mins_per_month.rename(columns={'duration':'number_of_minutes'},inplace=True)\n",
    "mins_per_month\n"
   ]
  },
  {
   "cell_type": "markdown",
   "metadata": {},
   "source": [
    "Since there are outliers in call duration, the data was aggregated by median instead.\n"
   ]
  },
  {
   "cell_type": "code",
   "execution_count": 31,
   "metadata": {},
   "outputs": [
    {
     "data": {
      "text/html": [
       "<div>\n",
       "<style scoped>\n",
       "    .dataframe tbody tr th:only-of-type {\n",
       "        vertical-align: middle;\n",
       "    }\n",
       "\n",
       "    .dataframe tbody tr th {\n",
       "        vertical-align: top;\n",
       "    }\n",
       "\n",
       "    .dataframe thead th {\n",
       "        text-align: right;\n",
       "    }\n",
       "</style>\n",
       "<table border=\"1\" class=\"dataframe\">\n",
       "  <thead>\n",
       "    <tr style=\"text-align: right;\">\n",
       "      <th></th>\n",
       "      <th>user_id</th>\n",
       "      <th>month</th>\n",
       "      <th>number of messages</th>\n",
       "    </tr>\n",
       "  </thead>\n",
       "  <tbody>\n",
       "    <tr>\n",
       "      <td>0</td>\n",
       "      <td>1000</td>\n",
       "      <td>December</td>\n",
       "      <td>11</td>\n",
       "    </tr>\n",
       "    <tr>\n",
       "      <td>1</td>\n",
       "      <td>1001</td>\n",
       "      <td>August</td>\n",
       "      <td>30</td>\n",
       "    </tr>\n",
       "    <tr>\n",
       "      <td>2</td>\n",
       "      <td>1001</td>\n",
       "      <td>December</td>\n",
       "      <td>44</td>\n",
       "    </tr>\n",
       "    <tr>\n",
       "      <td>3</td>\n",
       "      <td>1001</td>\n",
       "      <td>November</td>\n",
       "      <td>36</td>\n",
       "    </tr>\n",
       "    <tr>\n",
       "      <td>4</td>\n",
       "      <td>1001</td>\n",
       "      <td>October</td>\n",
       "      <td>53</td>\n",
       "    </tr>\n",
       "    <tr>\n",
       "      <td>...</td>\n",
       "      <td>...</td>\n",
       "      <td>...</td>\n",
       "      <td>...</td>\n",
       "    </tr>\n",
       "    <tr>\n",
       "      <td>1801</td>\n",
       "      <td>1496</td>\n",
       "      <td>December</td>\n",
       "      <td>11</td>\n",
       "    </tr>\n",
       "    <tr>\n",
       "      <td>1802</td>\n",
       "      <td>1496</td>\n",
       "      <td>November</td>\n",
       "      <td>13</td>\n",
       "    </tr>\n",
       "    <tr>\n",
       "      <td>1803</td>\n",
       "      <td>1496</td>\n",
       "      <td>October</td>\n",
       "      <td>18</td>\n",
       "    </tr>\n",
       "    <tr>\n",
       "      <td>1804</td>\n",
       "      <td>1496</td>\n",
       "      <td>September</td>\n",
       "      <td>21</td>\n",
       "    </tr>\n",
       "    <tr>\n",
       "      <td>1805</td>\n",
       "      <td>1497</td>\n",
       "      <td>December</td>\n",
       "      <td>50</td>\n",
       "    </tr>\n",
       "  </tbody>\n",
       "</table>\n",
       "<p>1806 rows × 3 columns</p>\n",
       "</div>"
      ],
      "text/plain": [
       "      user_id      month  number of messages\n",
       "0        1000   December                  11\n",
       "1        1001     August                  30\n",
       "2        1001   December                  44\n",
       "3        1001   November                  36\n",
       "4        1001    October                  53\n",
       "...       ...        ...                 ...\n",
       "1801     1496   December                  11\n",
       "1802     1496   November                  13\n",
       "1803     1496    October                  18\n",
       "1804     1496  September                  21\n",
       "1805     1497   December                  50\n",
       "\n",
       "[1806 rows x 3 columns]"
      ]
     },
     "execution_count": 31,
     "metadata": {},
     "output_type": "execute_result"
    }
   ],
   "source": [
    "# Calculate the number of messages sent by each user per month. Save the result.\n",
    "\n",
    "messages['month'] = messages.message_date.dt.month_name()\n",
    "messages_per_month = messages.groupby(['user_id','month'])['id'].count().reset_index()\n",
    "messages_per_month.rename(columns={'id':'number of messages'},inplace=True)\n",
    "messages_per_month\n",
    "\n",
    "\n"
   ]
  },
  {
   "cell_type": "code",
   "execution_count": 32,
   "metadata": {},
   "outputs": [
    {
     "data": {
      "text/html": [
       "<div>\n",
       "<style scoped>\n",
       "    .dataframe tbody tr th:only-of-type {\n",
       "        vertical-align: middle;\n",
       "    }\n",
       "\n",
       "    .dataframe tbody tr th {\n",
       "        vertical-align: top;\n",
       "    }\n",
       "\n",
       "    .dataframe thead th {\n",
       "        text-align: right;\n",
       "    }\n",
       "</style>\n",
       "<table border=\"1\" class=\"dataframe\">\n",
       "  <thead>\n",
       "    <tr style=\"text-align: right;\">\n",
       "      <th></th>\n",
       "      <th>user_id</th>\n",
       "      <th>month</th>\n",
       "      <th>gb_used</th>\n",
       "    </tr>\n",
       "  </thead>\n",
       "  <tbody>\n",
       "    <tr>\n",
       "      <td>0</td>\n",
       "      <td>1000</td>\n",
       "      <td>December</td>\n",
       "      <td>2.0</td>\n",
       "    </tr>\n",
       "    <tr>\n",
       "      <td>1</td>\n",
       "      <td>1001</td>\n",
       "      <td>August</td>\n",
       "      <td>7.0</td>\n",
       "    </tr>\n",
       "    <tr>\n",
       "      <td>2</td>\n",
       "      <td>1001</td>\n",
       "      <td>December</td>\n",
       "      <td>19.0</td>\n",
       "    </tr>\n",
       "    <tr>\n",
       "      <td>3</td>\n",
       "      <td>1001</td>\n",
       "      <td>November</td>\n",
       "      <td>19.0</td>\n",
       "    </tr>\n",
       "    <tr>\n",
       "      <td>4</td>\n",
       "      <td>1001</td>\n",
       "      <td>October</td>\n",
       "      <td>22.0</td>\n",
       "    </tr>\n",
       "    <tr>\n",
       "      <td>...</td>\n",
       "      <td>...</td>\n",
       "      <td>...</td>\n",
       "      <td>...</td>\n",
       "    </tr>\n",
       "    <tr>\n",
       "      <td>2272</td>\n",
       "      <td>1498</td>\n",
       "      <td>September</td>\n",
       "      <td>23.0</td>\n",
       "    </tr>\n",
       "    <tr>\n",
       "      <td>2273</td>\n",
       "      <td>1499</td>\n",
       "      <td>December</td>\n",
       "      <td>22.0</td>\n",
       "    </tr>\n",
       "    <tr>\n",
       "      <td>2274</td>\n",
       "      <td>1499</td>\n",
       "      <td>November</td>\n",
       "      <td>17.0</td>\n",
       "    </tr>\n",
       "    <tr>\n",
       "      <td>2275</td>\n",
       "      <td>1499</td>\n",
       "      <td>October</td>\n",
       "      <td>20.0</td>\n",
       "    </tr>\n",
       "    <tr>\n",
       "      <td>2276</td>\n",
       "      <td>1499</td>\n",
       "      <td>September</td>\n",
       "      <td>13.0</td>\n",
       "    </tr>\n",
       "  </tbody>\n",
       "</table>\n",
       "<p>2277 rows × 3 columns</p>\n",
       "</div>"
      ],
      "text/plain": [
       "      user_id      month  gb_used\n",
       "0        1000   December      2.0\n",
       "1        1001     August      7.0\n",
       "2        1001   December     19.0\n",
       "3        1001   November     19.0\n",
       "4        1001    October     22.0\n",
       "...       ...        ...      ...\n",
       "2272     1498  September     23.0\n",
       "2273     1499   December     22.0\n",
       "2274     1499   November     17.0\n",
       "2275     1499    October     20.0\n",
       "2276     1499  September     13.0\n",
       "\n",
       "[2277 rows x 3 columns]"
      ]
     },
     "execution_count": 32,
     "metadata": {},
     "output_type": "execute_result"
    }
   ],
   "source": [
    "# Calculate the volume of internet traffic used by each user per month. Save the result.\n",
    "\n",
    "internet['month'] = internet.session_date.dt.month_name()\n",
    "internet['gb_used'] = internet['mb_used'].apply(np.ceil) # round up to mb before calculating monthly totals\n",
    "\n",
    "webtraff_per_month = internet.groupby(['user_id','month'])['gb_used'].sum() # calculating monthly totals\n",
    "webtraff_per_month = webtraff_per_month / 1025 #divide by 1025 to get GB\n",
    "webtraff_per_month = webtraff_per_month.apply(np.ceil) #round up to next GB\n",
    "\n",
    "webtraff_per_month.reset_index()\n"
   ]
  },
  {
   "cell_type": "markdown",
   "metadata": {},
   "source": [
    "Since there are outliers in call duration, the data was aggregated by median instead.\n"
   ]
  },
  {
   "cell_type": "code",
   "execution_count": 33,
   "metadata": {},
   "outputs": [
    {
     "data": {
      "text/html": [
       "<div>\n",
       "<style scoped>\n",
       "    .dataframe tbody tr th:only-of-type {\n",
       "        vertical-align: middle;\n",
       "    }\n",
       "\n",
       "    .dataframe tbody tr th {\n",
       "        vertical-align: top;\n",
       "    }\n",
       "\n",
       "    .dataframe thead th {\n",
       "        text-align: right;\n",
       "    }\n",
       "</style>\n",
       "<table border=\"1\" class=\"dataframe\">\n",
       "  <thead>\n",
       "    <tr style=\"text-align: right;\">\n",
       "      <th></th>\n",
       "      <th>user_id</th>\n",
       "      <th>first_name</th>\n",
       "      <th>last_name</th>\n",
       "      <th>age</th>\n",
       "      <th>city</th>\n",
       "      <th>reg_date</th>\n",
       "      <th>plan</th>\n",
       "      <th>month</th>\n",
       "      <th>number_of_calls</th>\n",
       "      <th>number of messages</th>\n",
       "      <th>number_of_minutes</th>\n",
       "      <th>gb_used</th>\n",
       "    </tr>\n",
       "  </thead>\n",
       "  <tbody>\n",
       "    <tr>\n",
       "      <td>0</td>\n",
       "      <td>1000</td>\n",
       "      <td>anamaria</td>\n",
       "      <td>bauer</td>\n",
       "      <td>45.0</td>\n",
       "      <td>atlanta-sandy springs-roswell, ga msa</td>\n",
       "      <td>2018-12-24</td>\n",
       "      <td>ultimate</td>\n",
       "      <td>December</td>\n",
       "      <td>16.0</td>\n",
       "      <td>11.0</td>\n",
       "      <td>124.0</td>\n",
       "      <td>2.0</td>\n",
       "    </tr>\n",
       "    <tr>\n",
       "      <td>1</td>\n",
       "      <td>1001</td>\n",
       "      <td>mickey</td>\n",
       "      <td>wilkerson</td>\n",
       "      <td>28.0</td>\n",
       "      <td>seattle-tacoma-bellevue, wa msa</td>\n",
       "      <td>2018-08-13</td>\n",
       "      <td>surf</td>\n",
       "      <td>August</td>\n",
       "      <td>22.0</td>\n",
       "      <td>30.0</td>\n",
       "      <td>182.0</td>\n",
       "      <td>7.0</td>\n",
       "    </tr>\n",
       "    <tr>\n",
       "      <td>2</td>\n",
       "      <td>1001</td>\n",
       "      <td>mickey</td>\n",
       "      <td>wilkerson</td>\n",
       "      <td>28.0</td>\n",
       "      <td>seattle-tacoma-bellevue, wa msa</td>\n",
       "      <td>2018-08-13</td>\n",
       "      <td>surf</td>\n",
       "      <td>December</td>\n",
       "      <td>46.0</td>\n",
       "      <td>44.0</td>\n",
       "      <td>412.0</td>\n",
       "      <td>19.0</td>\n",
       "    </tr>\n",
       "    <tr>\n",
       "      <td>3</td>\n",
       "      <td>1001</td>\n",
       "      <td>mickey</td>\n",
       "      <td>wilkerson</td>\n",
       "      <td>28.0</td>\n",
       "      <td>seattle-tacoma-bellevue, wa msa</td>\n",
       "      <td>2018-08-13</td>\n",
       "      <td>surf</td>\n",
       "      <td>November</td>\n",
       "      <td>49.0</td>\n",
       "      <td>36.0</td>\n",
       "      <td>426.0</td>\n",
       "      <td>19.0</td>\n",
       "    </tr>\n",
       "    <tr>\n",
       "      <td>4</td>\n",
       "      <td>1001</td>\n",
       "      <td>mickey</td>\n",
       "      <td>wilkerson</td>\n",
       "      <td>28.0</td>\n",
       "      <td>seattle-tacoma-bellevue, wa msa</td>\n",
       "      <td>2018-08-13</td>\n",
       "      <td>surf</td>\n",
       "      <td>October</td>\n",
       "      <td>47.0</td>\n",
       "      <td>53.0</td>\n",
       "      <td>393.0</td>\n",
       "      <td>22.0</td>\n",
       "    </tr>\n",
       "    <tr>\n",
       "      <td>...</td>\n",
       "      <td>...</td>\n",
       "      <td>...</td>\n",
       "      <td>...</td>\n",
       "      <td>...</td>\n",
       "      <td>...</td>\n",
       "      <td>...</td>\n",
       "      <td>...</td>\n",
       "      <td>...</td>\n",
       "      <td>...</td>\n",
       "      <td>...</td>\n",
       "      <td>...</td>\n",
       "      <td>...</td>\n",
       "    </tr>\n",
       "    <tr>\n",
       "      <td>2307</td>\n",
       "      <td>1407</td>\n",
       "      <td>NaN</td>\n",
       "      <td>NaN</td>\n",
       "      <td>NaN</td>\n",
       "      <td>NaN</td>\n",
       "      <td>NaT</td>\n",
       "      <td>NaN</td>\n",
       "      <td>November</td>\n",
       "      <td>NaN</td>\n",
       "      <td>1.0</td>\n",
       "      <td>NaN</td>\n",
       "      <td>1.0</td>\n",
       "    </tr>\n",
       "    <tr>\n",
       "      <td>2308</td>\n",
       "      <td>1482</td>\n",
       "      <td>NaN</td>\n",
       "      <td>NaN</td>\n",
       "      <td>NaN</td>\n",
       "      <td>NaN</td>\n",
       "      <td>NaT</td>\n",
       "      <td>NaN</td>\n",
       "      <td>October</td>\n",
       "      <td>NaN</td>\n",
       "      <td>2.0</td>\n",
       "      <td>NaN</td>\n",
       "      <td>NaN</td>\n",
       "    </tr>\n",
       "    <tr>\n",
       "      <td>2309</td>\n",
       "      <td>1094</td>\n",
       "      <td>NaN</td>\n",
       "      <td>NaN</td>\n",
       "      <td>NaN</td>\n",
       "      <td>NaN</td>\n",
       "      <td>NaT</td>\n",
       "      <td>NaN</td>\n",
       "      <td>October</td>\n",
       "      <td>NaN</td>\n",
       "      <td>NaN</td>\n",
       "      <td>NaN</td>\n",
       "      <td>2.0</td>\n",
       "    </tr>\n",
       "    <tr>\n",
       "      <td>2310</td>\n",
       "      <td>1108</td>\n",
       "      <td>NaN</td>\n",
       "      <td>NaN</td>\n",
       "      <td>NaN</td>\n",
       "      <td>NaN</td>\n",
       "      <td>NaT</td>\n",
       "      <td>NaN</td>\n",
       "      <td>December</td>\n",
       "      <td>NaN</td>\n",
       "      <td>NaN</td>\n",
       "      <td>NaN</td>\n",
       "      <td>1.0</td>\n",
       "    </tr>\n",
       "    <tr>\n",
       "      <td>2311</td>\n",
       "      <td>1311</td>\n",
       "      <td>NaN</td>\n",
       "      <td>NaN</td>\n",
       "      <td>NaN</td>\n",
       "      <td>NaN</td>\n",
       "      <td>NaT</td>\n",
       "      <td>NaN</td>\n",
       "      <td>June</td>\n",
       "      <td>NaN</td>\n",
       "      <td>NaN</td>\n",
       "      <td>NaN</td>\n",
       "      <td>2.0</td>\n",
       "    </tr>\n",
       "  </tbody>\n",
       "</table>\n",
       "<p>2312 rows × 12 columns</p>\n",
       "</div>"
      ],
      "text/plain": [
       "      user_id first_name  last_name   age  \\\n",
       "0        1000   anamaria      bauer  45.0   \n",
       "1        1001     mickey  wilkerson  28.0   \n",
       "2        1001     mickey  wilkerson  28.0   \n",
       "3        1001     mickey  wilkerson  28.0   \n",
       "4        1001     mickey  wilkerson  28.0   \n",
       "...       ...        ...        ...   ...   \n",
       "2307     1407        NaN        NaN   NaN   \n",
       "2308     1482        NaN        NaN   NaN   \n",
       "2309     1094        NaN        NaN   NaN   \n",
       "2310     1108        NaN        NaN   NaN   \n",
       "2311     1311        NaN        NaN   NaN   \n",
       "\n",
       "                                       city   reg_date      plan     month  \\\n",
       "0     atlanta-sandy springs-roswell, ga msa 2018-12-24  ultimate  December   \n",
       "1           seattle-tacoma-bellevue, wa msa 2018-08-13      surf    August   \n",
       "2           seattle-tacoma-bellevue, wa msa 2018-08-13      surf  December   \n",
       "3           seattle-tacoma-bellevue, wa msa 2018-08-13      surf  November   \n",
       "4           seattle-tacoma-bellevue, wa msa 2018-08-13      surf   October   \n",
       "...                                     ...        ...       ...       ...   \n",
       "2307                                    NaN        NaT       NaN  November   \n",
       "2308                                    NaN        NaT       NaN   October   \n",
       "2309                                    NaN        NaT       NaN   October   \n",
       "2310                                    NaN        NaT       NaN  December   \n",
       "2311                                    NaN        NaT       NaN      June   \n",
       "\n",
       "      number_of_calls  number of messages  number_of_minutes  gb_used  \n",
       "0                16.0                11.0              124.0      2.0  \n",
       "1                22.0                30.0              182.0      7.0  \n",
       "2                46.0                44.0              412.0     19.0  \n",
       "3                49.0                36.0              426.0     19.0  \n",
       "4                47.0                53.0              393.0     22.0  \n",
       "...               ...                 ...                ...      ...  \n",
       "2307              NaN                 1.0                NaN      1.0  \n",
       "2308              NaN                 2.0                NaN      NaN  \n",
       "2309              NaN                 NaN                NaN      2.0  \n",
       "2310              NaN                 NaN                NaN      1.0  \n",
       "2311              NaN                 NaN                NaN      2.0  \n",
       "\n",
       "[2312 rows x 12 columns]"
      ]
     },
     "execution_count": 33,
     "metadata": {},
     "output_type": "execute_result"
    }
   ],
   "source": [
    "# Merge the data for calls, minutes, messages, internet based on user_id and month\n",
    "\n",
    "\n",
    "data = users.merge(calls_per_month,how='outer',on=['user_id'])\n",
    "data = data.merge(messages_per_month,how='outer',on=['user_id','month'])\n",
    "data = data.merge(mins_per_month,how='outer',on=['user_id','month'])\n",
    "data = data.merge(webtraff_per_month,how='outer',on=['user_id','month'])\n",
    "\n",
    "data\n"
   ]
  },
  {
   "cell_type": "code",
   "execution_count": 33,
   "metadata": {
    "scrolled": true
   },
   "outputs": [
    {
     "name": "stdout",
     "output_type": "stream",
     "text": [
      "<class 'pandas.core.frame.DataFrame'>\n",
      "RangeIndex: 2 entries, 0 to 1\n",
      "Data columns (total 8 columns):\n",
      "messages_included        2 non-null int64\n",
      "mb_per_month_included    2 non-null int64\n",
      "minutes_included         2 non-null int64\n",
      "usd_monthly_pay          2 non-null int64\n",
      "usd_per_gb               2 non-null int64\n",
      "usd_per_message          2 non-null float64\n",
      "usd_per_minute           2 non-null float64\n",
      "plan                     2 non-null object\n",
      "dtypes: float64(2), int64(5), object(1)\n",
      "memory usage: 256.0+ bytes\n"
     ]
    },
    {
     "data": {
      "text/html": [
       "<div>\n",
       "<style scoped>\n",
       "    .dataframe tbody tr th:only-of-type {\n",
       "        vertical-align: middle;\n",
       "    }\n",
       "\n",
       "    .dataframe tbody tr th {\n",
       "        vertical-align: top;\n",
       "    }\n",
       "\n",
       "    .dataframe thead th {\n",
       "        text-align: right;\n",
       "    }\n",
       "</style>\n",
       "<table border=\"1\" class=\"dataframe\">\n",
       "  <thead>\n",
       "    <tr style=\"text-align: right;\">\n",
       "      <th></th>\n",
       "      <th>index</th>\n",
       "      <th>user_id</th>\n",
       "      <th>first_name</th>\n",
       "      <th>last_name</th>\n",
       "      <th>age</th>\n",
       "      <th>city</th>\n",
       "      <th>reg_date</th>\n",
       "      <th>plan</th>\n",
       "      <th>month</th>\n",
       "      <th>number_of_calls</th>\n",
       "      <th>number of messages</th>\n",
       "      <th>number_of_minutes</th>\n",
       "      <th>gb_used</th>\n",
       "      <th>messages_included</th>\n",
       "      <th>mb_per_month_included</th>\n",
       "      <th>minutes_included</th>\n",
       "      <th>usd_monthly_pay</th>\n",
       "      <th>usd_per_gb</th>\n",
       "      <th>usd_per_message</th>\n",
       "      <th>usd_per_minute</th>\n",
       "    </tr>\n",
       "  </thead>\n",
       "  <tbody>\n",
       "    <tr>\n",
       "      <td>0</td>\n",
       "      <td>0</td>\n",
       "      <td>1000</td>\n",
       "      <td>anamaria</td>\n",
       "      <td>bauer</td>\n",
       "      <td>45</td>\n",
       "      <td>atlanta-sandy springs-roswell, ga msa</td>\n",
       "      <td>2018-12-24</td>\n",
       "      <td>ultimate</td>\n",
       "      <td>December</td>\n",
       "      <td>16.0</td>\n",
       "      <td>11.0</td>\n",
       "      <td>124.0</td>\n",
       "      <td>2.0</td>\n",
       "      <td>1000</td>\n",
       "      <td>30720</td>\n",
       "      <td>3000</td>\n",
       "      <td>70</td>\n",
       "      <td>7</td>\n",
       "      <td>0.01</td>\n",
       "      <td>0.01</td>\n",
       "    </tr>\n",
       "    <tr>\n",
       "      <td>1</td>\n",
       "      <td>1</td>\n",
       "      <td>1001</td>\n",
       "      <td>mickey</td>\n",
       "      <td>wilkerson</td>\n",
       "      <td>28</td>\n",
       "      <td>seattle-tacoma-bellevue, wa msa</td>\n",
       "      <td>2018-08-13</td>\n",
       "      <td>surf</td>\n",
       "      <td>August</td>\n",
       "      <td>22.0</td>\n",
       "      <td>30.0</td>\n",
       "      <td>182.0</td>\n",
       "      <td>7.0</td>\n",
       "      <td>50</td>\n",
       "      <td>15360</td>\n",
       "      <td>500</td>\n",
       "      <td>20</td>\n",
       "      <td>10</td>\n",
       "      <td>0.03</td>\n",
       "      <td>0.03</td>\n",
       "    </tr>\n",
       "    <tr>\n",
       "      <td>2</td>\n",
       "      <td>2</td>\n",
       "      <td>1001</td>\n",
       "      <td>mickey</td>\n",
       "      <td>wilkerson</td>\n",
       "      <td>28</td>\n",
       "      <td>seattle-tacoma-bellevue, wa msa</td>\n",
       "      <td>2018-08-13</td>\n",
       "      <td>surf</td>\n",
       "      <td>December</td>\n",
       "      <td>46.0</td>\n",
       "      <td>44.0</td>\n",
       "      <td>412.0</td>\n",
       "      <td>19.0</td>\n",
       "      <td>50</td>\n",
       "      <td>15360</td>\n",
       "      <td>500</td>\n",
       "      <td>20</td>\n",
       "      <td>10</td>\n",
       "      <td>0.03</td>\n",
       "      <td>0.03</td>\n",
       "    </tr>\n",
       "    <tr>\n",
       "      <td>3</td>\n",
       "      <td>3</td>\n",
       "      <td>1001</td>\n",
       "      <td>mickey</td>\n",
       "      <td>wilkerson</td>\n",
       "      <td>28</td>\n",
       "      <td>seattle-tacoma-bellevue, wa msa</td>\n",
       "      <td>2018-08-13</td>\n",
       "      <td>surf</td>\n",
       "      <td>November</td>\n",
       "      <td>49.0</td>\n",
       "      <td>36.0</td>\n",
       "      <td>426.0</td>\n",
       "      <td>19.0</td>\n",
       "      <td>50</td>\n",
       "      <td>15360</td>\n",
       "      <td>500</td>\n",
       "      <td>20</td>\n",
       "      <td>10</td>\n",
       "      <td>0.03</td>\n",
       "      <td>0.03</td>\n",
       "    </tr>\n",
       "    <tr>\n",
       "      <td>4</td>\n",
       "      <td>4</td>\n",
       "      <td>1001</td>\n",
       "      <td>mickey</td>\n",
       "      <td>wilkerson</td>\n",
       "      <td>28</td>\n",
       "      <td>seattle-tacoma-bellevue, wa msa</td>\n",
       "      <td>2018-08-13</td>\n",
       "      <td>surf</td>\n",
       "      <td>October</td>\n",
       "      <td>47.0</td>\n",
       "      <td>53.0</td>\n",
       "      <td>393.0</td>\n",
       "      <td>22.0</td>\n",
       "      <td>50</td>\n",
       "      <td>15360</td>\n",
       "      <td>500</td>\n",
       "      <td>20</td>\n",
       "      <td>10</td>\n",
       "      <td>0.03</td>\n",
       "      <td>0.03</td>\n",
       "    </tr>\n",
       "    <tr>\n",
       "      <td>...</td>\n",
       "      <td>...</td>\n",
       "      <td>...</td>\n",
       "      <td>...</td>\n",
       "      <td>...</td>\n",
       "      <td>...</td>\n",
       "      <td>...</td>\n",
       "      <td>...</td>\n",
       "      <td>...</td>\n",
       "      <td>...</td>\n",
       "      <td>...</td>\n",
       "      <td>...</td>\n",
       "      <td>...</td>\n",
       "      <td>...</td>\n",
       "      <td>...</td>\n",
       "      <td>...</td>\n",
       "      <td>...</td>\n",
       "      <td>...</td>\n",
       "      <td>...</td>\n",
       "      <td>...</td>\n",
       "      <td>...</td>\n",
       "    </tr>\n",
       "    <tr>\n",
       "      <td>2270</td>\n",
       "      <td>2270</td>\n",
       "      <td>1498</td>\n",
       "      <td>scot</td>\n",
       "      <td>williamson</td>\n",
       "      <td>51</td>\n",
       "      <td>new york-newark-jersey city, ny-nj-pa msa</td>\n",
       "      <td>2018-02-04</td>\n",
       "      <td>surf</td>\n",
       "      <td>September</td>\n",
       "      <td>39.0</td>\n",
       "      <td>NaN</td>\n",
       "      <td>363.0</td>\n",
       "      <td>23.0</td>\n",
       "      <td>50</td>\n",
       "      <td>15360</td>\n",
       "      <td>500</td>\n",
       "      <td>20</td>\n",
       "      <td>10</td>\n",
       "      <td>0.03</td>\n",
       "      <td>0.03</td>\n",
       "    </tr>\n",
       "    <tr>\n",
       "      <td>2271</td>\n",
       "      <td>2271</td>\n",
       "      <td>1499</td>\n",
       "      <td>shena</td>\n",
       "      <td>dickson</td>\n",
       "      <td>37</td>\n",
       "      <td>orlando-kissimmee-sanford, fl msa</td>\n",
       "      <td>2018-05-06</td>\n",
       "      <td>surf</td>\n",
       "      <td>December</td>\n",
       "      <td>56.0</td>\n",
       "      <td>NaN</td>\n",
       "      <td>496.0</td>\n",
       "      <td>22.0</td>\n",
       "      <td>50</td>\n",
       "      <td>15360</td>\n",
       "      <td>500</td>\n",
       "      <td>20</td>\n",
       "      <td>10</td>\n",
       "      <td>0.03</td>\n",
       "      <td>0.03</td>\n",
       "    </tr>\n",
       "    <tr>\n",
       "      <td>2272</td>\n",
       "      <td>2272</td>\n",
       "      <td>1499</td>\n",
       "      <td>shena</td>\n",
       "      <td>dickson</td>\n",
       "      <td>37</td>\n",
       "      <td>orlando-kissimmee-sanford, fl msa</td>\n",
       "      <td>2018-05-06</td>\n",
       "      <td>surf</td>\n",
       "      <td>November</td>\n",
       "      <td>39.0</td>\n",
       "      <td>NaN</td>\n",
       "      <td>308.0</td>\n",
       "      <td>17.0</td>\n",
       "      <td>50</td>\n",
       "      <td>15360</td>\n",
       "      <td>500</td>\n",
       "      <td>20</td>\n",
       "      <td>10</td>\n",
       "      <td>0.03</td>\n",
       "      <td>0.03</td>\n",
       "    </tr>\n",
       "    <tr>\n",
       "      <td>2273</td>\n",
       "      <td>2273</td>\n",
       "      <td>1499</td>\n",
       "      <td>shena</td>\n",
       "      <td>dickson</td>\n",
       "      <td>37</td>\n",
       "      <td>orlando-kissimmee-sanford, fl msa</td>\n",
       "      <td>2018-05-06</td>\n",
       "      <td>surf</td>\n",
       "      <td>October</td>\n",
       "      <td>41.0</td>\n",
       "      <td>NaN</td>\n",
       "      <td>385.0</td>\n",
       "      <td>20.0</td>\n",
       "      <td>50</td>\n",
       "      <td>15360</td>\n",
       "      <td>500</td>\n",
       "      <td>20</td>\n",
       "      <td>10</td>\n",
       "      <td>0.03</td>\n",
       "      <td>0.03</td>\n",
       "    </tr>\n",
       "    <tr>\n",
       "      <td>2274</td>\n",
       "      <td>2274</td>\n",
       "      <td>1499</td>\n",
       "      <td>shena</td>\n",
       "      <td>dickson</td>\n",
       "      <td>37</td>\n",
       "      <td>orlando-kissimmee-sanford, fl msa</td>\n",
       "      <td>2018-05-06</td>\n",
       "      <td>surf</td>\n",
       "      <td>September</td>\n",
       "      <td>35.0</td>\n",
       "      <td>NaN</td>\n",
       "      <td>346.0</td>\n",
       "      <td>13.0</td>\n",
       "      <td>50</td>\n",
       "      <td>15360</td>\n",
       "      <td>500</td>\n",
       "      <td>20</td>\n",
       "      <td>10</td>\n",
       "      <td>0.03</td>\n",
       "      <td>0.03</td>\n",
       "    </tr>\n",
       "  </tbody>\n",
       "</table>\n",
       "<p>2275 rows × 20 columns</p>\n",
       "</div>"
      ],
      "text/plain": [
       "      index  user_id first_name   last_name  age  \\\n",
       "0         0     1000   anamaria       bauer   45   \n",
       "1         1     1001     mickey   wilkerson   28   \n",
       "2         2     1001     mickey   wilkerson   28   \n",
       "3         3     1001     mickey   wilkerson   28   \n",
       "4         4     1001     mickey   wilkerson   28   \n",
       "...     ...      ...        ...         ...  ...   \n",
       "2270   2270     1498       scot  williamson   51   \n",
       "2271   2271     1499      shena     dickson   37   \n",
       "2272   2272     1499      shena     dickson   37   \n",
       "2273   2273     1499      shena     dickson   37   \n",
       "2274   2274     1499      shena     dickson   37   \n",
       "\n",
       "                                           city   reg_date      plan  \\\n",
       "0         atlanta-sandy springs-roswell, ga msa 2018-12-24  ultimate   \n",
       "1               seattle-tacoma-bellevue, wa msa 2018-08-13      surf   \n",
       "2               seattle-tacoma-bellevue, wa msa 2018-08-13      surf   \n",
       "3               seattle-tacoma-bellevue, wa msa 2018-08-13      surf   \n",
       "4               seattle-tacoma-bellevue, wa msa 2018-08-13      surf   \n",
       "...                                         ...        ...       ...   \n",
       "2270  new york-newark-jersey city, ny-nj-pa msa 2018-02-04      surf   \n",
       "2271          orlando-kissimmee-sanford, fl msa 2018-05-06      surf   \n",
       "2272          orlando-kissimmee-sanford, fl msa 2018-05-06      surf   \n",
       "2273          orlando-kissimmee-sanford, fl msa 2018-05-06      surf   \n",
       "2274          orlando-kissimmee-sanford, fl msa 2018-05-06      surf   \n",
       "\n",
       "          month  number_of_calls  number of messages  number_of_minutes  \\\n",
       "0      December             16.0                11.0              124.0   \n",
       "1        August             22.0                30.0              182.0   \n",
       "2      December             46.0                44.0              412.0   \n",
       "3      November             49.0                36.0              426.0   \n",
       "4       October             47.0                53.0              393.0   \n",
       "...         ...              ...                 ...                ...   \n",
       "2270  September             39.0                 NaN              363.0   \n",
       "2271   December             56.0                 NaN              496.0   \n",
       "2272   November             39.0                 NaN              308.0   \n",
       "2273    October             41.0                 NaN              385.0   \n",
       "2274  September             35.0                 NaN              346.0   \n",
       "\n",
       "      gb_used  messages_included  mb_per_month_included  minutes_included  \\\n",
       "0         2.0               1000                  30720              3000   \n",
       "1         7.0                 50                  15360               500   \n",
       "2        19.0                 50                  15360               500   \n",
       "3        19.0                 50                  15360               500   \n",
       "4        22.0                 50                  15360               500   \n",
       "...       ...                ...                    ...               ...   \n",
       "2270     23.0                 50                  15360               500   \n",
       "2271     22.0                 50                  15360               500   \n",
       "2272     17.0                 50                  15360               500   \n",
       "2273     20.0                 50                  15360               500   \n",
       "2274     13.0                 50                  15360               500   \n",
       "\n",
       "      usd_monthly_pay  usd_per_gb  usd_per_message  usd_per_minute  \n",
       "0                  70           7             0.01            0.01  \n",
       "1                  20          10             0.03            0.03  \n",
       "2                  20          10             0.03            0.03  \n",
       "3                  20          10             0.03            0.03  \n",
       "4                  20          10             0.03            0.03  \n",
       "...               ...         ...              ...             ...  \n",
       "2270               20          10             0.03            0.03  \n",
       "2271               20          10             0.03            0.03  \n",
       "2272               20          10             0.03            0.03  \n",
       "2273               20          10             0.03            0.03  \n",
       "2274               20          10             0.03            0.03  \n",
       "\n",
       "[2275 rows x 20 columns]"
      ]
     },
     "execution_count": 33,
     "metadata": {},
     "output_type": "execute_result"
    }
   ],
   "source": [
    "# Add the plan information\n",
    "plans.rename(columns ={'plan_name':'plan'},inplace=True)\n",
    "plans.info()\n",
    "data = data.merge(plans,how='left',on='plan')\n",
    "data.reset_index()\n"
   ]
  },
  {
   "cell_type": "code",
   "execution_count": 34,
   "metadata": {
    "scrolled": true
   },
   "outputs": [
    {
     "data": {
      "text/html": [
       "<div>\n",
       "<style scoped>\n",
       "    .dataframe tbody tr th:only-of-type {\n",
       "        vertical-align: middle;\n",
       "    }\n",
       "\n",
       "    .dataframe tbody tr th {\n",
       "        vertical-align: top;\n",
       "    }\n",
       "\n",
       "    .dataframe thead th {\n",
       "        text-align: right;\n",
       "    }\n",
       "</style>\n",
       "<table border=\"1\" class=\"dataframe\">\n",
       "  <thead>\n",
       "    <tr style=\"text-align: right;\">\n",
       "      <th></th>\n",
       "      <th>user_id</th>\n",
       "      <th>first_name</th>\n",
       "      <th>last_name</th>\n",
       "      <th>age</th>\n",
       "      <th>city</th>\n",
       "      <th>reg_date</th>\n",
       "      <th>plan</th>\n",
       "      <th>month</th>\n",
       "      <th>number_of_calls</th>\n",
       "      <th>number of messages</th>\n",
       "      <th>number_of_minutes</th>\n",
       "      <th>gb_used</th>\n",
       "      <th>messages_included</th>\n",
       "      <th>mb_per_month_included</th>\n",
       "      <th>minutes_included</th>\n",
       "      <th>usd_monthly_pay</th>\n",
       "      <th>usd_per_gb</th>\n",
       "      <th>usd_per_message</th>\n",
       "      <th>usd_per_minute</th>\n",
       "      <th>gb_per_month_included</th>\n",
       "    </tr>\n",
       "  </thead>\n",
       "  <tbody>\n",
       "    <tr>\n",
       "      <td>0</td>\n",
       "      <td>1000</td>\n",
       "      <td>anamaria</td>\n",
       "      <td>bauer</td>\n",
       "      <td>45</td>\n",
       "      <td>atlanta-sandy springs-roswell, ga msa</td>\n",
       "      <td>2018-12-24</td>\n",
       "      <td>ultimate</td>\n",
       "      <td>December</td>\n",
       "      <td>16.0</td>\n",
       "      <td>11.0</td>\n",
       "      <td>124.0</td>\n",
       "      <td>2.0</td>\n",
       "      <td>1000</td>\n",
       "      <td>30720</td>\n",
       "      <td>3000</td>\n",
       "      <td>70</td>\n",
       "      <td>7</td>\n",
       "      <td>0.01</td>\n",
       "      <td>0.01</td>\n",
       "      <td>30</td>\n",
       "    </tr>\n",
       "    <tr>\n",
       "      <td>1</td>\n",
       "      <td>1001</td>\n",
       "      <td>mickey</td>\n",
       "      <td>wilkerson</td>\n",
       "      <td>28</td>\n",
       "      <td>seattle-tacoma-bellevue, wa msa</td>\n",
       "      <td>2018-08-13</td>\n",
       "      <td>surf</td>\n",
       "      <td>August</td>\n",
       "      <td>22.0</td>\n",
       "      <td>30.0</td>\n",
       "      <td>182.0</td>\n",
       "      <td>7.0</td>\n",
       "      <td>50</td>\n",
       "      <td>15360</td>\n",
       "      <td>500</td>\n",
       "      <td>20</td>\n",
       "      <td>10</td>\n",
       "      <td>0.03</td>\n",
       "      <td>0.03</td>\n",
       "      <td>15</td>\n",
       "    </tr>\n",
       "    <tr>\n",
       "      <td>2</td>\n",
       "      <td>1001</td>\n",
       "      <td>mickey</td>\n",
       "      <td>wilkerson</td>\n",
       "      <td>28</td>\n",
       "      <td>seattle-tacoma-bellevue, wa msa</td>\n",
       "      <td>2018-08-13</td>\n",
       "      <td>surf</td>\n",
       "      <td>December</td>\n",
       "      <td>46.0</td>\n",
       "      <td>44.0</td>\n",
       "      <td>412.0</td>\n",
       "      <td>19.0</td>\n",
       "      <td>50</td>\n",
       "      <td>15360</td>\n",
       "      <td>500</td>\n",
       "      <td>20</td>\n",
       "      <td>10</td>\n",
       "      <td>0.03</td>\n",
       "      <td>0.03</td>\n",
       "      <td>15</td>\n",
       "    </tr>\n",
       "    <tr>\n",
       "      <td>3</td>\n",
       "      <td>1001</td>\n",
       "      <td>mickey</td>\n",
       "      <td>wilkerson</td>\n",
       "      <td>28</td>\n",
       "      <td>seattle-tacoma-bellevue, wa msa</td>\n",
       "      <td>2018-08-13</td>\n",
       "      <td>surf</td>\n",
       "      <td>November</td>\n",
       "      <td>49.0</td>\n",
       "      <td>36.0</td>\n",
       "      <td>426.0</td>\n",
       "      <td>19.0</td>\n",
       "      <td>50</td>\n",
       "      <td>15360</td>\n",
       "      <td>500</td>\n",
       "      <td>20</td>\n",
       "      <td>10</td>\n",
       "      <td>0.03</td>\n",
       "      <td>0.03</td>\n",
       "      <td>15</td>\n",
       "    </tr>\n",
       "    <tr>\n",
       "      <td>4</td>\n",
       "      <td>1001</td>\n",
       "      <td>mickey</td>\n",
       "      <td>wilkerson</td>\n",
       "      <td>28</td>\n",
       "      <td>seattle-tacoma-bellevue, wa msa</td>\n",
       "      <td>2018-08-13</td>\n",
       "      <td>surf</td>\n",
       "      <td>October</td>\n",
       "      <td>47.0</td>\n",
       "      <td>53.0</td>\n",
       "      <td>393.0</td>\n",
       "      <td>22.0</td>\n",
       "      <td>50</td>\n",
       "      <td>15360</td>\n",
       "      <td>500</td>\n",
       "      <td>20</td>\n",
       "      <td>10</td>\n",
       "      <td>0.03</td>\n",
       "      <td>0.03</td>\n",
       "      <td>15</td>\n",
       "    </tr>\n",
       "    <tr>\n",
       "      <td>...</td>\n",
       "      <td>...</td>\n",
       "      <td>...</td>\n",
       "      <td>...</td>\n",
       "      <td>...</td>\n",
       "      <td>...</td>\n",
       "      <td>...</td>\n",
       "      <td>...</td>\n",
       "      <td>...</td>\n",
       "      <td>...</td>\n",
       "      <td>...</td>\n",
       "      <td>...</td>\n",
       "      <td>...</td>\n",
       "      <td>...</td>\n",
       "      <td>...</td>\n",
       "      <td>...</td>\n",
       "      <td>...</td>\n",
       "      <td>...</td>\n",
       "      <td>...</td>\n",
       "      <td>...</td>\n",
       "      <td>...</td>\n",
       "    </tr>\n",
       "    <tr>\n",
       "      <td>2270</td>\n",
       "      <td>1498</td>\n",
       "      <td>scot</td>\n",
       "      <td>williamson</td>\n",
       "      <td>51</td>\n",
       "      <td>new york-newark-jersey city, ny-nj-pa msa</td>\n",
       "      <td>2018-02-04</td>\n",
       "      <td>surf</td>\n",
       "      <td>September</td>\n",
       "      <td>39.0</td>\n",
       "      <td>NaN</td>\n",
       "      <td>363.0</td>\n",
       "      <td>23.0</td>\n",
       "      <td>50</td>\n",
       "      <td>15360</td>\n",
       "      <td>500</td>\n",
       "      <td>20</td>\n",
       "      <td>10</td>\n",
       "      <td>0.03</td>\n",
       "      <td>0.03</td>\n",
       "      <td>15</td>\n",
       "    </tr>\n",
       "    <tr>\n",
       "      <td>2271</td>\n",
       "      <td>1499</td>\n",
       "      <td>shena</td>\n",
       "      <td>dickson</td>\n",
       "      <td>37</td>\n",
       "      <td>orlando-kissimmee-sanford, fl msa</td>\n",
       "      <td>2018-05-06</td>\n",
       "      <td>surf</td>\n",
       "      <td>December</td>\n",
       "      <td>56.0</td>\n",
       "      <td>NaN</td>\n",
       "      <td>496.0</td>\n",
       "      <td>22.0</td>\n",
       "      <td>50</td>\n",
       "      <td>15360</td>\n",
       "      <td>500</td>\n",
       "      <td>20</td>\n",
       "      <td>10</td>\n",
       "      <td>0.03</td>\n",
       "      <td>0.03</td>\n",
       "      <td>15</td>\n",
       "    </tr>\n",
       "    <tr>\n",
       "      <td>2272</td>\n",
       "      <td>1499</td>\n",
       "      <td>shena</td>\n",
       "      <td>dickson</td>\n",
       "      <td>37</td>\n",
       "      <td>orlando-kissimmee-sanford, fl msa</td>\n",
       "      <td>2018-05-06</td>\n",
       "      <td>surf</td>\n",
       "      <td>November</td>\n",
       "      <td>39.0</td>\n",
       "      <td>NaN</td>\n",
       "      <td>308.0</td>\n",
       "      <td>17.0</td>\n",
       "      <td>50</td>\n",
       "      <td>15360</td>\n",
       "      <td>500</td>\n",
       "      <td>20</td>\n",
       "      <td>10</td>\n",
       "      <td>0.03</td>\n",
       "      <td>0.03</td>\n",
       "      <td>15</td>\n",
       "    </tr>\n",
       "    <tr>\n",
       "      <td>2273</td>\n",
       "      <td>1499</td>\n",
       "      <td>shena</td>\n",
       "      <td>dickson</td>\n",
       "      <td>37</td>\n",
       "      <td>orlando-kissimmee-sanford, fl msa</td>\n",
       "      <td>2018-05-06</td>\n",
       "      <td>surf</td>\n",
       "      <td>October</td>\n",
       "      <td>41.0</td>\n",
       "      <td>NaN</td>\n",
       "      <td>385.0</td>\n",
       "      <td>20.0</td>\n",
       "      <td>50</td>\n",
       "      <td>15360</td>\n",
       "      <td>500</td>\n",
       "      <td>20</td>\n",
       "      <td>10</td>\n",
       "      <td>0.03</td>\n",
       "      <td>0.03</td>\n",
       "      <td>15</td>\n",
       "    </tr>\n",
       "    <tr>\n",
       "      <td>2274</td>\n",
       "      <td>1499</td>\n",
       "      <td>shena</td>\n",
       "      <td>dickson</td>\n",
       "      <td>37</td>\n",
       "      <td>orlando-kissimmee-sanford, fl msa</td>\n",
       "      <td>2018-05-06</td>\n",
       "      <td>surf</td>\n",
       "      <td>September</td>\n",
       "      <td>35.0</td>\n",
       "      <td>NaN</td>\n",
       "      <td>346.0</td>\n",
       "      <td>13.0</td>\n",
       "      <td>50</td>\n",
       "      <td>15360</td>\n",
       "      <td>500</td>\n",
       "      <td>20</td>\n",
       "      <td>10</td>\n",
       "      <td>0.03</td>\n",
       "      <td>0.03</td>\n",
       "      <td>15</td>\n",
       "    </tr>\n",
       "  </tbody>\n",
       "</table>\n",
       "<p>2275 rows × 20 columns</p>\n",
       "</div>"
      ],
      "text/plain": [
       "      user_id first_name   last_name  age  \\\n",
       "0        1000   anamaria       bauer   45   \n",
       "1        1001     mickey   wilkerson   28   \n",
       "2        1001     mickey   wilkerson   28   \n",
       "3        1001     mickey   wilkerson   28   \n",
       "4        1001     mickey   wilkerson   28   \n",
       "...       ...        ...         ...  ...   \n",
       "2270     1498       scot  williamson   51   \n",
       "2271     1499      shena     dickson   37   \n",
       "2272     1499      shena     dickson   37   \n",
       "2273     1499      shena     dickson   37   \n",
       "2274     1499      shena     dickson   37   \n",
       "\n",
       "                                           city   reg_date      plan  \\\n",
       "0         atlanta-sandy springs-roswell, ga msa 2018-12-24  ultimate   \n",
       "1               seattle-tacoma-bellevue, wa msa 2018-08-13      surf   \n",
       "2               seattle-tacoma-bellevue, wa msa 2018-08-13      surf   \n",
       "3               seattle-tacoma-bellevue, wa msa 2018-08-13      surf   \n",
       "4               seattle-tacoma-bellevue, wa msa 2018-08-13      surf   \n",
       "...                                         ...        ...       ...   \n",
       "2270  new york-newark-jersey city, ny-nj-pa msa 2018-02-04      surf   \n",
       "2271          orlando-kissimmee-sanford, fl msa 2018-05-06      surf   \n",
       "2272          orlando-kissimmee-sanford, fl msa 2018-05-06      surf   \n",
       "2273          orlando-kissimmee-sanford, fl msa 2018-05-06      surf   \n",
       "2274          orlando-kissimmee-sanford, fl msa 2018-05-06      surf   \n",
       "\n",
       "          month  number_of_calls  number of messages  number_of_minutes  \\\n",
       "0      December             16.0                11.0              124.0   \n",
       "1        August             22.0                30.0              182.0   \n",
       "2      December             46.0                44.0              412.0   \n",
       "3      November             49.0                36.0              426.0   \n",
       "4       October             47.0                53.0              393.0   \n",
       "...         ...              ...                 ...                ...   \n",
       "2270  September             39.0                 NaN              363.0   \n",
       "2271   December             56.0                 NaN              496.0   \n",
       "2272   November             39.0                 NaN              308.0   \n",
       "2273    October             41.0                 NaN              385.0   \n",
       "2274  September             35.0                 NaN              346.0   \n",
       "\n",
       "      gb_used  messages_included  mb_per_month_included  minutes_included  \\\n",
       "0         2.0               1000                  30720              3000   \n",
       "1         7.0                 50                  15360               500   \n",
       "2        19.0                 50                  15360               500   \n",
       "3        19.0                 50                  15360               500   \n",
       "4        22.0                 50                  15360               500   \n",
       "...       ...                ...                    ...               ...   \n",
       "2270     23.0                 50                  15360               500   \n",
       "2271     22.0                 50                  15360               500   \n",
       "2272     17.0                 50                  15360               500   \n",
       "2273     20.0                 50                  15360               500   \n",
       "2274     13.0                 50                  15360               500   \n",
       "\n",
       "      usd_monthly_pay  usd_per_gb  usd_per_message  usd_per_minute  \\\n",
       "0                  70           7             0.01            0.01   \n",
       "1                  20          10             0.03            0.03   \n",
       "2                  20          10             0.03            0.03   \n",
       "3                  20          10             0.03            0.03   \n",
       "4                  20          10             0.03            0.03   \n",
       "...               ...         ...              ...             ...   \n",
       "2270               20          10             0.03            0.03   \n",
       "2271               20          10             0.03            0.03   \n",
       "2272               20          10             0.03            0.03   \n",
       "2273               20          10             0.03            0.03   \n",
       "2274               20          10             0.03            0.03   \n",
       "\n",
       "      gb_per_month_included  \n",
       "0                        30  \n",
       "1                        15  \n",
       "2                        15  \n",
       "3                        15  \n",
       "4                        15  \n",
       "...                     ...  \n",
       "2270                     15  \n",
       "2271                     15  \n",
       "2272                     15  \n",
       "2273                     15  \n",
       "2274                     15  \n",
       "\n",
       "[2275 rows x 20 columns]"
      ]
     },
     "execution_count": 34,
     "metadata": {},
     "output_type": "execute_result"
    }
   ],
   "source": [
    "# Calculate and add gigabytes per month included with plan column\n",
    "data['gb_per_month_included'] = (data['mb_per_month_included']/1000).apply(np.floor).astype(int)\n",
    "data"
   ]
  },
  {
   "cell_type": "code",
   "execution_count": 35,
   "metadata": {
    "scrolled": true
   },
   "outputs": [],
   "source": [
    "# Calculate the monthly revenue for each user\n",
    "def monthly_revenue(row):\n",
    "    monthly_charge = row['usd_monthly_pay']\n",
    "    \n",
    "    #call charge\n",
    "    minutes = row['number_of_minutes']\n",
    "    extra_minutes_fee = row['usd_per_minute']\n",
    "    minutes_included = row['minutes_included']\n",
    "    if minutes > minutes_included:\n",
    "        call_charge = (minutes - minutes_included) * extra_minutes_fee\n",
    "    else:\n",
    "        call_charge = 0\n",
    "    \n",
    "    #message charge\n",
    "    messages = row['number of messages']\n",
    "    extra_msg_fee = row['usd_per_message']\n",
    "    messages_included = row['messages_included']\n",
    "    if messages > messages_included:\n",
    "        message_charge = (messages - messages_included) * extra_msg_fee\n",
    "    else:\n",
    "        message_charge = 0\n",
    "    \n",
    "    #internet charge\n",
    "    gb = row['gb_used']\n",
    "    extra_gb_fee = row['usd_per_gb']\n",
    "    gb_included = row['gb_per_month_included']\n",
    "    if gb > gb_included:\n",
    "        internet_charge = (gb - gb_included) * extra_gb_fee\n",
    "    else:\n",
    "        internet_charge = 0    \n",
    "    \n",
    "    #price\n",
    "    price = monthly_charge + call_charge + message_charge + internet_charge\n",
    "    return price\n",
    "\n"
   ]
  },
  {
   "cell_type": "code",
   "execution_count": 36,
   "metadata": {},
   "outputs": [],
   "source": [
    "# Apply function to each user\n",
    "data['monthly_revenue'] = data.apply(monthly_revenue,axis=1)\n",
    "\n"
   ]
  },
  {
   "cell_type": "markdown",
   "metadata": {},
   "source": [
    "Data aggregated for each user:\n",
    "- The number of calls made and minutes used per month\n",
    "- The number of text messages sent per month\n",
    "- The volume of data per month\n",
    "- The monthly revenue from each user (subtract the free package limit from the\n",
    "total number of calls, text messages, and data; multiply the result by the calling\n",
    "plan value; add the monthly charge depending on the calling plan)"
   ]
  },
  {
   "cell_type": "markdown",
   "metadata": {},
   "source": [
    "# Study user behaviour"
   ]
  },
  {
   "cell_type": "code",
   "execution_count": 37,
   "metadata": {},
   "outputs": [
    {
     "data": {
      "text/plain": [
       "(718, 21)"
      ]
     },
     "execution_count": 37,
     "metadata": {},
     "output_type": "execute_result"
    }
   ],
   "source": [
    "# Separate each plan into seperate dataframe\n",
    "surf = data.query('plan==\"surf\"')\n",
    "ultimate = data.query('plan ==\"ultimate\"')\n",
    "\n",
    "ultimate.shape"
   ]
  },
  {
   "cell_type": "markdown",
   "metadata": {},
   "source": [
    "### Calls"
   ]
  },
  {
   "cell_type": "code",
   "execution_count": 38,
   "metadata": {
    "scrolled": true
   },
   "outputs": [
    {
     "name": "stdout",
     "output_type": "stream",
     "text": [
      "plan      month    \n",
      "surf      April        351.540000\n",
      "          August       417.849057\n",
      "          December     484.501608\n",
      "          February     297.000000\n",
      "          January      203.000000\n",
      "          July         453.733333\n",
      "          June         435.791667\n",
      "          March        330.000000\n",
      "          May          410.240000\n",
      "          November     432.494585\n",
      "          October      440.891775\n",
      "          September    420.732984\n",
      "ultimate  April        336.857143\n",
      "          August       421.436620\n",
      "          December     465.261745\n",
      "          February     470.333333\n",
      "          January      193.500000\n",
      "          July         427.067797\n",
      "          June         387.444444\n",
      "          March        304.250000\n",
      "          May          406.241379\n",
      "          November     452.320000\n",
      "          October      455.028571\n",
      "          September    437.511628\n",
      "Name: number_of_minutes, dtype: float64\n"
     ]
    }
   ],
   "source": [
    "# Compare average duration of calls per each plan per each distinct month.\n",
    "print(data.groupby(['plan','month'])['number_of_minutes'].mean())\n",
    "\n"
   ]
  },
  {
   "cell_type": "code",
   "execution_count": 39,
   "metadata": {},
   "outputs": [
    {
     "data": {
      "text/plain": [
       "<matplotlib.axes._subplots.AxesSubplot at 0x7f9518aa27d0>"
      ]
     },
     "execution_count": 39,
     "metadata": {},
     "output_type": "execute_result"
    },
    {
     "data": {
      "image/png": "[encoded data removed]",
      "text/plain": [
       "<Figure size 864x432 with 1 Axes>"
      ]
     },
     "metadata": {
      "needs_background": "light"
     },
     "output_type": "display_data"
    }
   ],
   "source": [
    "# Plot a bar plat to visualize\n",
    "plt.figure(figsize=(12,6))\n",
    "plt.title('Average Call Duration per Plan')\n",
    "sns.barplot(x=\"month\", hue=\"plan\", y=data[\"number_of_minutes\"], data=data)\n",
    "\n"
   ]
  },
  {
   "cell_type": "code",
   "execution_count": 40,
   "metadata": {
    "scrolled": true
   },
   "outputs": [
    {
     "data": {
      "image/png": "[encoded data removed]",
      "text/plain": [
       "<Figure size 432x288 with 1 Axes>"
      ]
     },
     "metadata": {
      "needs_background": "light"
     },
     "output_type": "display_data"
    }
   ],
   "source": [
    "# Compare the number of minutes users of each plan require each month. Plot a histogram.\n",
    "data.groupby(['plan','month'])['number_of_minutes']\n",
    "surf['number_of_minutes'].hist(color='orange')\n",
    "ultimate['number_of_minutes'].hist(color='blue')\n",
    "plt.legend(['surf','ultimate'])\n",
    "plt.ylabel('Frequency')\n",
    "plt.xlabel('Call Minutes per Month')\n",
    "plt.title(\"Call Minutes per Plan\")\n",
    "plt.show()\n",
    "\n"
   ]
  },
  {
   "cell_type": "code",
   "execution_count": 41,
   "metadata": {},
   "outputs": [
    {
     "name": "stdout",
     "output_type": "stream",
     "text": [
      "\n",
      "Monthly call duration variance: \n",
      "\n"
     ]
    },
    {
     "data": {
      "text/html": [
       "<div>\n",
       "<style scoped>\n",
       "    .dataframe tbody tr th:only-of-type {\n",
       "        vertical-align: middle;\n",
       "    }\n",
       "\n",
       "    .dataframe tbody tr th {\n",
       "        vertical-align: top;\n",
       "    }\n",
       "\n",
       "    .dataframe thead th {\n",
       "        text-align: right;\n",
       "    }\n",
       "</style>\n",
       "<table border=\"1\" class=\"dataframe\">\n",
       "  <thead>\n",
       "    <tr style=\"text-align: right;\">\n",
       "      <th></th>\n",
       "      <th>mean</th>\n",
       "      <th>median</th>\n",
       "      <th>var</th>\n",
       "      <th>std</th>\n",
       "    </tr>\n",
       "    <tr>\n",
       "      <th>plan</th>\n",
       "      <th></th>\n",
       "      <th></th>\n",
       "      <th></th>\n",
       "      <th></th>\n",
       "    </tr>\n",
       "  </thead>\n",
       "  <tbody>\n",
       "    <tr>\n",
       "      <td>surf</td>\n",
       "      <td>436.802461</td>\n",
       "      <td>430.0</td>\n",
       "      <td>52481.561083</td>\n",
       "      <td>229.088544</td>\n",
       "    </tr>\n",
       "    <tr>\n",
       "      <td>ultimate</td>\n",
       "      <td>435.286517</td>\n",
       "      <td>425.5</td>\n",
       "      <td>56387.085163</td>\n",
       "      <td>237.459650</td>\n",
       "    </tr>\n",
       "  </tbody>\n",
       "</table>\n",
       "</div>"
      ],
      "text/plain": [
       "                mean  median           var         std\n",
       "plan                                                  \n",
       "surf      436.802461   430.0  52481.561083  229.088544\n",
       "ultimate  435.286517   425.5  56387.085163  237.459650"
      ]
     },
     "execution_count": 41,
     "metadata": {},
     "output_type": "execute_result"
    }
   ],
   "source": [
    "# Calculate the mean and the variance of the monthly call duration\n",
    "#print('Average monthly call duration:','\\n',data.groupby(['plan'])['median_monthly_mins'].mean())\n",
    "print()\n",
    "print(\"Monthly call duration variance:\",'\\n')\n",
    "data.groupby(['plan'])['number_of_minutes'].agg([np.mean,np.median,np.var,np.std])"
   ]
  },
  {
   "cell_type": "code",
   "execution_count": 42,
   "metadata": {},
   "outputs": [
    {
     "data": {
      "text/html": [
       "<div>\n",
       "<style scoped>\n",
       "    .dataframe tbody tr th:only-of-type {\n",
       "        vertical-align: middle;\n",
       "    }\n",
       "\n",
       "    .dataframe tbody tr th {\n",
       "        vertical-align: top;\n",
       "    }\n",
       "\n",
       "    .dataframe thead th {\n",
       "        text-align: right;\n",
       "    }\n",
       "</style>\n",
       "<table border=\"1\" class=\"dataframe\">\n",
       "  <thead>\n",
       "    <tr style=\"text-align: right;\">\n",
       "      <th></th>\n",
       "      <th>count</th>\n",
       "      <th>mean</th>\n",
       "      <th>std</th>\n",
       "      <th>min</th>\n",
       "      <th>25%</th>\n",
       "      <th>50%</th>\n",
       "      <th>75%</th>\n",
       "      <th>max</th>\n",
       "    </tr>\n",
       "    <tr>\n",
       "      <th>plan</th>\n",
       "      <th></th>\n",
       "      <th></th>\n",
       "      <th></th>\n",
       "      <th></th>\n",
       "      <th></th>\n",
       "      <th></th>\n",
       "      <th></th>\n",
       "      <th></th>\n",
       "    </tr>\n",
       "  </thead>\n",
       "  <tbody>\n",
       "    <tr>\n",
       "      <td>surf</td>\n",
       "      <td>1544.0</td>\n",
       "      <td>436.802461</td>\n",
       "      <td>229.088544</td>\n",
       "      <td>2.0</td>\n",
       "      <td>279.0</td>\n",
       "      <td>430.0</td>\n",
       "      <td>579.0</td>\n",
       "      <td>1510.0</td>\n",
       "    </tr>\n",
       "    <tr>\n",
       "      <td>ultimate</td>\n",
       "      <td>712.0</td>\n",
       "      <td>435.286517</td>\n",
       "      <td>237.459650</td>\n",
       "      <td>10.0</td>\n",
       "      <td>263.0</td>\n",
       "      <td>425.5</td>\n",
       "      <td>566.0</td>\n",
       "      <td>1369.0</td>\n",
       "    </tr>\n",
       "  </tbody>\n",
       "</table>\n",
       "</div>"
      ],
      "text/plain": [
       "           count        mean         std   min    25%    50%    75%     max\n",
       "plan                                                                       \n",
       "surf      1544.0  436.802461  229.088544   2.0  279.0  430.0  579.0  1510.0\n",
       "ultimate   712.0  435.286517  237.459650  10.0  263.0  425.5  566.0  1369.0"
      ]
     },
     "execution_count": 42,
     "metadata": {},
     "output_type": "execute_result"
    }
   ],
   "source": [
    "# Descriptive statistics for each plan\n",
    "data.groupby('plan')['number_of_minutes'].describe()\n"
   ]
  },
  {
   "cell_type": "code",
   "execution_count": 43,
   "metadata": {
    "scrolled": true
   },
   "outputs": [
    {
     "data": {
      "image/png": "[encoded data removed]",
      "text/plain": [
       "<Figure size 432x288 with 1 Axes>"
      ]
     },
     "metadata": {
      "needs_background": "light"
     },
     "output_type": "display_data"
    },
    {
     "data": {
      "text/plain": [
       "plan\n",
       "surf        0.36352\n",
       "ultimate    0.00000\n",
       "Name: exceeds_minutes_limit?, dtype: float64"
      ]
     },
     "execution_count": 43,
     "metadata": {},
     "output_type": "execute_result"
    }
   ],
   "source": [
    "# Plot a boxplot to visualize the distribution of the monthly call duration\n",
    "sns.boxplot(y=data['plan'], x=data[\"number_of_minutes\"], data=data)\n",
    "plt.title('Monthly Call Duration per Plan')\n",
    "plt.show()\n",
    "\n",
    "# Study user behavior\n",
    "data['exceeds_minutes_limit?'] = data['number_of_minutes'] > data['minutes_included']\n",
    "data.groupby('plan')['exceeds_minutes_limit?'].mean()\n"
   ]
  },
  {
   "cell_type": "markdown",
   "metadata": {},
   "source": [
    "Due to the presence of outliers as shown in the boxplot above, the variance of the data is abnormally large and the median was used to aggregate the data. The average minutes used per month are around 400 regardless of the plan. The Ultimate and Surf plans include 1000 and 500 minutes per month respectively. Ultimate clients are barely reaching their minutes limit (3000 included). Ultimate clients never exceed their minutes included in contrast to 36% of Surf clients."
   ]
  },
  {
   "cell_type": "markdown",
   "metadata": {},
   "source": [
    "### Messages"
   ]
  },
  {
   "cell_type": "code",
   "execution_count": 44,
   "metadata": {},
   "outputs": [
    {
     "name": "stdout",
     "output_type": "stream",
     "text": [
      "plan\n",
      "surf        32.0\n",
      "ultimate    41.0\n",
      "Name: number of messages, dtype: float64\n",
      "\n",
      "plan\n",
      "surf        39.980737\n",
      "ultimate    46.534602\n",
      "Name: number of messages, dtype: float64\n"
     ]
    },
    {
     "data": {
      "text/plain": [
       "plan\n",
       "surf        33.189423\n",
       "ultimate    32.904194\n",
       "Name: number of messages, dtype: float64"
      ]
     },
     "execution_count": 44,
     "metadata": {},
     "output_type": "execute_result"
    }
   ],
   "source": [
    "# Compare the number of messages users of each plan tend to send each month\n",
    "\n",
    "print(data.groupby(['plan'])['number of messages'].median())\n",
    "print()\n",
    "print(data.groupby(['plan'])['number of messages'].mean())\n",
    "data.groupby(['plan'])['number of messages'].std()\n"
   ]
  },
  {
   "cell_type": "code",
   "execution_count": 45,
   "metadata": {},
   "outputs": [
    {
     "data": {
      "image/png": "[encoded data removed]",
      "text/plain": [
       "<Figure size 432x288 with 1 Axes>"
      ]
     },
     "metadata": {
      "needs_background": "light"
     },
     "output_type": "display_data"
    }
   ],
   "source": [
    "# Plot histogram comparing messages per month per plan\n",
    "surf['number of messages'].hist(color='orange')\n",
    "ultimate['number of messages'].hist(color='blue')\n",
    "plt.legend(['surf','ultimate'])\n",
    "plt.ylabel('Frequency')\n",
    "plt.xlabel('Messages per Month')\n",
    "plt.title('Messages per Month per Plan')\n",
    "plt.show()"
   ]
  },
  {
   "cell_type": "code",
   "execution_count": 46,
   "metadata": {},
   "outputs": [
    {
     "name": "stdout",
     "output_type": "stream",
     "text": [
      "Average monthly messages: \n",
      "\n"
     ]
    },
    {
     "data": {
      "text/html": [
       "<div>\n",
       "<style scoped>\n",
       "    .dataframe tbody tr th:only-of-type {\n",
       "        vertical-align: middle;\n",
       "    }\n",
       "\n",
       "    .dataframe tbody tr th {\n",
       "        vertical-align: top;\n",
       "    }\n",
       "\n",
       "    .dataframe thead th {\n",
       "        text-align: right;\n",
       "    }\n",
       "</style>\n",
       "<table border=\"1\" class=\"dataframe\">\n",
       "  <thead>\n",
       "    <tr style=\"text-align: right;\">\n",
       "      <th></th>\n",
       "      <th>mean</th>\n",
       "      <th>median</th>\n",
       "      <th>var</th>\n",
       "      <th>std</th>\n",
       "    </tr>\n",
       "    <tr>\n",
       "      <th>plan</th>\n",
       "      <th></th>\n",
       "      <th></th>\n",
       "      <th></th>\n",
       "      <th></th>\n",
       "    </tr>\n",
       "  </thead>\n",
       "  <tbody>\n",
       "    <tr>\n",
       "      <td>surf</td>\n",
       "      <td>39.980737</td>\n",
       "      <td>32.0</td>\n",
       "      <td>1101.537768</td>\n",
       "      <td>33.189423</td>\n",
       "    </tr>\n",
       "    <tr>\n",
       "      <td>ultimate</td>\n",
       "      <td>46.534602</td>\n",
       "      <td>41.0</td>\n",
       "      <td>1082.685976</td>\n",
       "      <td>32.904194</td>\n",
       "    </tr>\n",
       "  </tbody>\n",
       "</table>\n",
       "</div>"
      ],
      "text/plain": [
       "               mean  median          var        std\n",
       "plan                                               \n",
       "surf      39.980737    32.0  1101.537768  33.189423\n",
       "ultimate  46.534602    41.0  1082.685976  32.904194"
      ]
     },
     "execution_count": 46,
     "metadata": {},
     "output_type": "execute_result"
    }
   ],
   "source": [
    "\n",
    "# Calculate the mean and the variance of the average monthly messages\n",
    "print(\"Average monthly messages:\",'\\n')\n",
    "data.groupby(['plan'])['number of messages'].agg([np.mean,np.median,np.var,np.std])"
   ]
  },
  {
   "cell_type": "code",
   "execution_count": 47,
   "metadata": {},
   "outputs": [
    {
     "data": {
      "text/html": [
       "<div>\n",
       "<style scoped>\n",
       "    .dataframe tbody tr th:only-of-type {\n",
       "        vertical-align: middle;\n",
       "    }\n",
       "\n",
       "    .dataframe tbody tr th {\n",
       "        vertical-align: top;\n",
       "    }\n",
       "\n",
       "    .dataframe thead th {\n",
       "        text-align: right;\n",
       "    }\n",
       "</style>\n",
       "<table border=\"1\" class=\"dataframe\">\n",
       "  <thead>\n",
       "    <tr style=\"text-align: right;\">\n",
       "      <th></th>\n",
       "      <th>count</th>\n",
       "      <th>mean</th>\n",
       "      <th>std</th>\n",
       "      <th>min</th>\n",
       "      <th>25%</th>\n",
       "      <th>50%</th>\n",
       "      <th>75%</th>\n",
       "      <th>max</th>\n",
       "    </tr>\n",
       "    <tr>\n",
       "      <th>plan</th>\n",
       "      <th></th>\n",
       "      <th></th>\n",
       "      <th></th>\n",
       "      <th></th>\n",
       "      <th></th>\n",
       "      <th></th>\n",
       "      <th></th>\n",
       "      <th></th>\n",
       "    </tr>\n",
       "  </thead>\n",
       "  <tbody>\n",
       "    <tr>\n",
       "      <td>surf</td>\n",
       "      <td>1194.0</td>\n",
       "      <td>39.980737</td>\n",
       "      <td>33.189423</td>\n",
       "      <td>1.0</td>\n",
       "      <td>16.0</td>\n",
       "      <td>32.0</td>\n",
       "      <td>53.0</td>\n",
       "      <td>266.0</td>\n",
       "    </tr>\n",
       "    <tr>\n",
       "      <td>ultimate</td>\n",
       "      <td>578.0</td>\n",
       "      <td>46.534602</td>\n",
       "      <td>32.904194</td>\n",
       "      <td>1.0</td>\n",
       "      <td>21.0</td>\n",
       "      <td>41.0</td>\n",
       "      <td>66.0</td>\n",
       "      <td>166.0</td>\n",
       "    </tr>\n",
       "  </tbody>\n",
       "</table>\n",
       "</div>"
      ],
      "text/plain": [
       "           count       mean        std  min   25%   50%   75%    max\n",
       "plan                                                                \n",
       "surf      1194.0  39.980737  33.189423  1.0  16.0  32.0  53.0  266.0\n",
       "ultimate   578.0  46.534602  32.904194  1.0  21.0  41.0  66.0  166.0"
      ]
     },
     "execution_count": 47,
     "metadata": {},
     "output_type": "execute_result"
    }
   ],
   "source": [
    "# Descriptive statistics for each plan\n",
    "data.groupby('plan')['number of messages'].describe()"
   ]
  },
  {
   "cell_type": "code",
   "execution_count": 48,
   "metadata": {},
   "outputs": [
    {
     "data": {
      "text/plain": [
       "plan\n",
       "surf        0.210019\n",
       "ultimate    0.000000\n",
       "Name: exceeds_message_limit?, dtype: float64"
      ]
     },
     "execution_count": 48,
     "metadata": {},
     "output_type": "execute_result"
    },
    {
     "data": {
      "image/png": "[encoded data removed]",
      "text/plain": [
       "<Figure size 432x288 with 1 Axes>"
      ]
     },
     "metadata": {
      "needs_background": "light"
     },
     "output_type": "display_data"
    }
   ],
   "source": [
    "# Plot a boxplot to visualize the distribution of the monthly messages \n",
    "sns.boxplot(y=data[\"plan\"], x=data[\"number of messages\"])\n",
    "plt.title('Monthly Messages Sent per Plan')\n",
    "\n",
    "# Study clients behavior\n",
    "data['exceeds_message_limit?'] = (data['number of messages'] > data['messages_included'])\n",
    "data.groupby(['plan'])['exceeds_message_limit?'].mean()\n"
   ]
  },
  {
   "cell_type": "markdown",
   "metadata": {},
   "source": [
    "Although Ultimate clients send more messages on average, these clients send an average of 46 text messages per month out of the 1000 message limit included with the plan. Similarly, Surf clients send 39 text messages per month out of the 50 message limit included with the plan. 21% Surf clients exceed their included messages and payed extra fees compared to 0% of Ultimate clients, most likely due to each plan's respective message limit."
   ]
  },
  {
   "cell_type": "markdown",
   "metadata": {},
   "source": [
    " "
   ]
  },
  {
   "cell_type": "markdown",
   "metadata": {},
   "source": [
    "### Internet"
   ]
  },
  {
   "cell_type": "code",
   "execution_count": 49,
   "metadata": {},
   "outputs": [
    {
     "data": {
      "image/png": "[encoded data removed]",
      "text/plain": [
       "<Figure size 432x288 with 1 Axes>"
      ]
     },
     "metadata": {
      "needs_background": "light"
     },
     "output_type": "display_data"
    }
   ],
   "source": [
    "# Compare the amount of internet traffic consumed by users per plan\n",
    "surf['gb_used'].hist(color='orange')\n",
    "ultimate['gb_used'].hist(color='blue')\n",
    "\n",
    "plt.ylabel('Frequency')\n",
    "plt.xlabel('Gigabytes per Month')\n",
    "plt.show()"
   ]
  },
  {
   "cell_type": "code",
   "execution_count": 50,
   "metadata": {},
   "outputs": [
    {
     "name": "stdout",
     "output_type": "stream",
     "text": [
      "Monthly web traffic variance: \n",
      "\n"
     ]
    },
    {
     "data": {
      "text/html": [
       "<div>\n",
       "<style scoped>\n",
       "    .dataframe tbody tr th:only-of-type {\n",
       "        vertical-align: middle;\n",
       "    }\n",
       "\n",
       "    .dataframe tbody tr th {\n",
       "        vertical-align: top;\n",
       "    }\n",
       "\n",
       "    .dataframe thead th {\n",
       "        text-align: right;\n",
       "    }\n",
       "</style>\n",
       "<table border=\"1\" class=\"dataframe\">\n",
       "  <thead>\n",
       "    <tr style=\"text-align: right;\">\n",
       "      <th></th>\n",
       "      <th>mean</th>\n",
       "      <th>var</th>\n",
       "      <th>std</th>\n",
       "    </tr>\n",
       "    <tr>\n",
       "      <th>plan</th>\n",
       "      <th></th>\n",
       "      <th></th>\n",
       "      <th></th>\n",
       "    </tr>\n",
       "  </thead>\n",
       "  <tbody>\n",
       "    <tr>\n",
       "      <td>surf</td>\n",
       "      <td>16.792675</td>\n",
       "      <td>56.839842</td>\n",
       "      <td>7.539220</td>\n",
       "    </tr>\n",
       "    <tr>\n",
       "      <td>ultimate</td>\n",
       "      <td>17.400281</td>\n",
       "      <td>57.163038</td>\n",
       "      <td>7.560624</td>\n",
       "    </tr>\n",
       "  </tbody>\n",
       "</table>\n",
       "</div>"
      ],
      "text/plain": [
       "               mean        var       std\n",
       "plan                                    \n",
       "surf      16.792675  56.839842  7.539220\n",
       "ultimate  17.400281  57.163038  7.560624"
      ]
     },
     "execution_count": 50,
     "metadata": {},
     "output_type": "execute_result"
    }
   ],
   "source": [
    "# Calculate the mean and the variance of the monthly web traffic\n",
    "print(\"Monthly web traffic variance:\",'\\n')\n",
    "data.groupby('plan')['gb_used'].agg([np.mean, np.var, np.std])\n",
    "\n",
    "\n"
   ]
  },
  {
   "cell_type": "code",
   "execution_count": 51,
   "metadata": {},
   "outputs": [
    {
     "data": {
      "text/html": [
       "<div>\n",
       "<style scoped>\n",
       "    .dataframe tbody tr th:only-of-type {\n",
       "        vertical-align: middle;\n",
       "    }\n",
       "\n",
       "    .dataframe tbody tr th {\n",
       "        vertical-align: top;\n",
       "    }\n",
       "\n",
       "    .dataframe thead th {\n",
       "        text-align: right;\n",
       "    }\n",
       "</style>\n",
       "<table border=\"1\" class=\"dataframe\">\n",
       "  <thead>\n",
       "    <tr style=\"text-align: right;\">\n",
       "      <th></th>\n",
       "      <th>count</th>\n",
       "      <th>mean</th>\n",
       "      <th>std</th>\n",
       "      <th>min</th>\n",
       "      <th>25%</th>\n",
       "      <th>50%</th>\n",
       "      <th>75%</th>\n",
       "      <th>max</th>\n",
       "    </tr>\n",
       "    <tr>\n",
       "      <th>plan</th>\n",
       "      <th></th>\n",
       "      <th></th>\n",
       "      <th></th>\n",
       "      <th></th>\n",
       "      <th></th>\n",
       "      <th></th>\n",
       "      <th></th>\n",
       "      <th></th>\n",
       "    </tr>\n",
       "  </thead>\n",
       "  <tbody>\n",
       "    <tr>\n",
       "      <td>surf</td>\n",
       "      <td>1529.0</td>\n",
       "      <td>16.792675</td>\n",
       "      <td>7.539220</td>\n",
       "      <td>1.0</td>\n",
       "      <td>12.0</td>\n",
       "      <td>17.0</td>\n",
       "      <td>21.0</td>\n",
       "      <td>70.0</td>\n",
       "    </tr>\n",
       "    <tr>\n",
       "      <td>ultimate</td>\n",
       "      <td>712.0</td>\n",
       "      <td>17.400281</td>\n",
       "      <td>7.560624</td>\n",
       "      <td>1.0</td>\n",
       "      <td>13.0</td>\n",
       "      <td>17.0</td>\n",
       "      <td>21.0</td>\n",
       "      <td>46.0</td>\n",
       "    </tr>\n",
       "  </tbody>\n",
       "</table>\n",
       "</div>"
      ],
      "text/plain": [
       "           count       mean       std  min   25%   50%   75%   max\n",
       "plan                                                              \n",
       "surf      1529.0  16.792675  7.539220  1.0  12.0  17.0  21.0  70.0\n",
       "ultimate   712.0  17.400281  7.560624  1.0  13.0  17.0  21.0  46.0"
      ]
     },
     "execution_count": 51,
     "metadata": {},
     "output_type": "execute_result"
    }
   ],
   "source": [
    "# Descriptive statistics for each plan\n",
    "data.groupby('plan')['gb_used'].describe()"
   ]
  },
  {
   "cell_type": "code",
   "execution_count": 52,
   "metadata": {},
   "outputs": [
    {
     "data": {
      "text/plain": [
       "plan\n",
       "surf        0.575466\n",
       "ultimate    0.055710\n",
       "Name: exceeds_gb_limit?, dtype: float64"
      ]
     },
     "execution_count": 52,
     "metadata": {},
     "output_type": "execute_result"
    },
    {
     "data": {
      "image/png": "[encoded data removed]",
      "text/plain": [
       "<Figure size 432x288 with 1 Axes>"
      ]
     },
     "metadata": {
      "needs_background": "light"
     },
     "output_type": "display_data"
    }
   ],
   "source": [
    "# Plot a boxplot to visualize the distribution of the monthly web traffic\n",
    "sns.boxplot(y=data[\"plan\"], x=data[\"gb_used\"])\n",
    "\n",
    "# Study clients behavior\n",
    "data['exceeds_gb_limit?'] = (data['gb_used'] > data['gb_per_month_included'])\n",
    "data.groupby(['plan'])['exceeds_gb_limit?'].mean()"
   ]
  },
  {
   "cell_type": "markdown",
   "metadata": {},
   "source": [
    "Due to the presence of outliers as shown in the boxplot above, the median was used to aggregate the data. Both plans include 1 gb of internet per month. Over 57% Surf client exceed the gb included per month limit and payed extra fees compared to only 5% of Ultimate Clients. "
   ]
  },
  {
   "cell_type": "markdown",
   "metadata": {},
   "source": [
    " "
   ]
  },
  {
   "cell_type": "markdown",
   "metadata": {},
   "source": [
    "## Revenue"
   ]
  },
  {
   "cell_type": "code",
   "execution_count": 53,
   "metadata": {
    "scrolled": true
   },
   "outputs": [
    {
     "data": {
      "text/html": [
       "<div>\n",
       "<style scoped>\n",
       "    .dataframe tbody tr th:only-of-type {\n",
       "        vertical-align: middle;\n",
       "    }\n",
       "\n",
       "    .dataframe tbody tr th {\n",
       "        vertical-align: top;\n",
       "    }\n",
       "\n",
       "    .dataframe thead th {\n",
       "        text-align: right;\n",
       "    }\n",
       "</style>\n",
       "<table border=\"1\" class=\"dataframe\">\n",
       "  <thead>\n",
       "    <tr style=\"text-align: right;\">\n",
       "      <th></th>\n",
       "      <th>mean</th>\n",
       "      <th>median</th>\n",
       "      <th>var</th>\n",
       "      <th>std</th>\n",
       "    </tr>\n",
       "    <tr>\n",
       "      <th>plan</th>\n",
       "      <th></th>\n",
       "      <th></th>\n",
       "      <th></th>\n",
       "      <th></th>\n",
       "    </tr>\n",
       "  </thead>\n",
       "  <tbody>\n",
       "    <tr>\n",
       "      <td>surf</td>\n",
       "      <td>59.816262</td>\n",
       "      <td>40.15</td>\n",
       "      <td>2856.038088</td>\n",
       "      <td>53.441913</td>\n",
       "    </tr>\n",
       "    <tr>\n",
       "      <td>ultimate</td>\n",
       "      <td>72.261838</td>\n",
       "      <td>70.00</td>\n",
       "      <td>128.003869</td>\n",
       "      <td>11.313880</td>\n",
       "    </tr>\n",
       "  </tbody>\n",
       "</table>\n",
       "</div>"
      ],
      "text/plain": [
       "               mean  median          var        std\n",
       "plan                                               \n",
       "surf      59.816262   40.15  2856.038088  53.441913\n",
       "ultimate  72.261838   70.00   128.003869  11.313880"
      ]
     },
     "execution_count": 53,
     "metadata": {},
     "output_type": "execute_result"
    }
   ],
   "source": [
    "# Calculate mean and variance of monthly revenue \n",
    "data.groupby(['plan'])['monthly_revenue'].agg([np.mean,np.median,np.var,np.std])\n"
   ]
  },
  {
   "cell_type": "code",
   "execution_count": 54,
   "metadata": {},
   "outputs": [
    {
     "data": {
      "text/html": [
       "<div>\n",
       "<style scoped>\n",
       "    .dataframe tbody tr th:only-of-type {\n",
       "        vertical-align: middle;\n",
       "    }\n",
       "\n",
       "    .dataframe tbody tr th {\n",
       "        vertical-align: top;\n",
       "    }\n",
       "\n",
       "    .dataframe thead th {\n",
       "        text-align: right;\n",
       "    }\n",
       "</style>\n",
       "<table border=\"1\" class=\"dataframe\">\n",
       "  <thead>\n",
       "    <tr style=\"text-align: right;\">\n",
       "      <th></th>\n",
       "      <th>count</th>\n",
       "      <th>mean</th>\n",
       "      <th>std</th>\n",
       "      <th>min</th>\n",
       "      <th>25%</th>\n",
       "      <th>50%</th>\n",
       "      <th>75%</th>\n",
       "      <th>max</th>\n",
       "    </tr>\n",
       "    <tr>\n",
       "      <th>plan</th>\n",
       "      <th></th>\n",
       "      <th></th>\n",
       "      <th></th>\n",
       "      <th></th>\n",
       "      <th></th>\n",
       "      <th></th>\n",
       "      <th></th>\n",
       "      <th></th>\n",
       "    </tr>\n",
       "  </thead>\n",
       "  <tbody>\n",
       "    <tr>\n",
       "      <td>surf</td>\n",
       "      <td>1557.0</td>\n",
       "      <td>59.816262</td>\n",
       "      <td>53.441913</td>\n",
       "      <td>20.0</td>\n",
       "      <td>20.0</td>\n",
       "      <td>40.15</td>\n",
       "      <td>80.0</td>\n",
       "      <td>590.37</td>\n",
       "    </tr>\n",
       "    <tr>\n",
       "      <td>ultimate</td>\n",
       "      <td>718.0</td>\n",
       "      <td>72.261838</td>\n",
       "      <td>11.313880</td>\n",
       "      <td>70.0</td>\n",
       "      <td>70.0</td>\n",
       "      <td>70.00</td>\n",
       "      <td>70.0</td>\n",
       "      <td>182.00</td>\n",
       "    </tr>\n",
       "  </tbody>\n",
       "</table>\n",
       "</div>"
      ],
      "text/plain": [
       "           count       mean        std   min   25%    50%   75%     max\n",
       "plan                                                                   \n",
       "surf      1557.0  59.816262  53.441913  20.0  20.0  40.15  80.0  590.37\n",
       "ultimate   718.0  72.261838  11.313880  70.0  70.0  70.00  70.0  182.00"
      ]
     },
     "execution_count": 54,
     "metadata": {},
     "output_type": "execute_result"
    }
   ],
   "source": [
    "# Descriptive statistics of plan data\n",
    "data.groupby('plan')['monthly_revenue'].describe()"
   ]
  },
  {
   "cell_type": "code",
   "execution_count": 55,
   "metadata": {
    "scrolled": true
   },
   "outputs": [
    {
     "name": "stdout",
     "output_type": "stream",
     "text": [
      "surf        0.684396\n",
      "ultimate    0.315604\n",
      "Name: plan, dtype: float64\n"
     ]
    }
   ],
   "source": [
    "# Percentage of clients per plan\n",
    "print(data['plan'].value_counts(normalize=True))"
   ]
  },
  {
   "cell_type": "code",
   "execution_count": 56,
   "metadata": {},
   "outputs": [
    {
     "name": "stdout",
     "output_type": "stream",
     "text": [
      "Median extra fees paid per client (USD): 40.0\n"
     ]
    }
   ],
   "source": [
    "# Find percentage of clients per plan that pay extra fees\n",
    "data['extra_fees'] = data['monthly_revenue'] - data['usd_monthly_pay']\n",
    "data['pays_extra?'] = np.where(data['extra_fees']>0, True, False)\n",
    "data.groupby('plan')['pays_extra?'].mean()\n",
    "\n",
    "# Find median amount of extra fees paid per client\n",
    "print(\"Median extra fees paid per client (USD):\",data.query('extra_fees > 0')['extra_fees'].median())\n"
   ]
  },
  {
   "cell_type": "code",
   "execution_count": 57,
   "metadata": {
    "scrolled": true
   },
   "outputs": [
    {
     "data": {
      "image/png": "[encoded data removed]",
      "text/plain": [
       "<Figure size 864x432 with 1 Axes>"
      ]
     },
     "metadata": {
      "needs_background": "light"
     },
     "output_type": "display_data"
    }
   ],
   "source": [
    "# Plot bar graph of monthly revenue per plan\n",
    "plt.figure(figsize=(12,6))\n",
    "sns.barplot(x=\"month\", hue=\"plan\", y=data[\"monthly_revenue\"], data=data)\n",
    "plt.show()\n",
    "\n"
   ]
  },
  {
   "cell_type": "markdown",
   "metadata": {},
   "source": [
    "The average revenue for clients of the ultimate plan is \\\\$72 whereas the average revenue for clients of the surf plan is $59. Surf clients account for 68% of total clients. The high variance for Surf clients indicates that there are outliers in the data, which is favorable for Megaline. "
   ]
  },
  {
   "cell_type": "markdown",
   "metadata": {},
   "source": [
    "# Test statistical hypotheses"
   ]
  },
  {
   "cell_type": "markdown",
   "metadata": {},
   "source": [
    "### Test 1"
   ]
  },
  {
   "cell_type": "markdown",
   "metadata": {},
   "source": [
    "The null hypothesis will be what we are trying to disprove, that the profits are the same. \n",
    "\n",
    "- $H_o$ (Null Hypothesis): The average revenue of Surf clients will be equal to the average monthly revenue from Ultimate clients. \n",
    "\n",
    "- $H_A$ (Alternative Hypothesis): The average revenue from surf clients will not equal the averague monthly revenue from Ultimate clients.\n"
   ]
  },
  {
   "cell_type": "code",
   "execution_count": 58,
   "metadata": {},
   "outputs": [
    {
     "name": "stdout",
     "output_type": "stream",
     "text": [
      "p-value:  3.900449257166937e-18\n",
      "We reject the null hypothesis\n"
     ]
    }
   ],
   "source": [
    "# Test the hypotheses\n",
    "alpha = .05\n",
    "\n",
    "results = st.ttest_ind(surf['monthly_revenue'], ultimate['monthly_revenue'],equal_var = False)\n",
    "\n",
    "print('p-value: ', results.pvalue)\n",
    "\n",
    "if (results.pvalue < alpha):\n",
    "        print(\"We reject the null hypothesis\")\n",
    "else:\n",
    "        print(\"We can't reject the null hypothesis\")\n",
    "\n"
   ]
  },
  {
   "cell_type": "markdown",
   "metadata": {},
   "source": [
    "As the p-value is less than 0.05, there is a significant difference between the average monthly price of Ultimate clients vs Surf clients. Therefore, we can reject the hypothesis that the profit between the two plans is the same."
   ]
  },
  {
   "cell_type": "markdown",
   "metadata": {},
   "source": [
    "### Test 2"
   ]
  },
  {
   "cell_type": "markdown",
   "metadata": {},
   "source": [
    "The null hypothesis will be what we are trying to disprove, that the profits are the same for the NY-NJ area than for the other regions. \n",
    "\n",
    "\n",
    "- $H_{0}$ (Null Hypothesis): The average revenue of  clients in the NY-NJ area will be equal to the average revenue of clients in the other regions.\n",
    "\n",
    "- $H_{A}$ (Alternative Hypothesis): The average revenue from clients in the NY-NJ area will not equal the averague revenue from clients in the other regions."
   ]
  },
  {
   "cell_type": "code",
   "execution_count": 59,
   "metadata": {},
   "outputs": [
    {
     "name": "stdout",
     "output_type": "stream",
     "text": [
      "p-value:  0.015157409965101799\n",
      "We reject the null hypothesis\n"
     ]
    }
   ],
   "source": [
    "# Separate NY-NJ region data from other regions\n",
    "nynj_region = data.query('\"new york-newark-jersey city, ny-nj-pa msa\" in city')\n",
    "other_regions = data.query('\"new york-newark-jersey city, ny-nj-pa msa\" not in city')\n",
    "\n",
    "# Test the hypotheses\n",
    "alpha = .05\n",
    "results = st.ttest_ind(nynj_region['monthly_revenue'], other_regions['monthly_revenue'],equal_var = False)\n",
    "\n",
    "print('p-value: ', results.pvalue)\n",
    "\n",
    "if (results.pvalue < alpha):\n",
    "        print(\"We reject the null hypothesis\")\n",
    "else:\n",
    "        print(\"We can't reject the null hypothesis\")\n",
    "\n"
   ]
  },
  {
   "cell_type": "markdown",
   "metadata": {},
   "source": [
    "The p-value tells us that there is a 1% probability of randomly getting a value (average revenue of clients) that is not equal between the NY-NJ reasons and other regions. As the p-value is lower than the alpha value, we can reject the null hypothesis and can conclude that there is a significant difference among the two regions."
   ]
  },
  {
   "cell_type": "markdown",
   "metadata": {},
   "source": [
    "# General conclusion\n",
    "\n"
   ]
  },
  {
   "cell_type": "markdown",
   "metadata": {},
   "source": [
    "The objective of this project is to analyze Megaline clients' behavior and determine which prepaid plan is more profitable based on 2018 data provided from a sample of 500 Megaline clients.\n",
    "\n",
    "Below are insights discovered regarding client behavior:\n",
    "\n",
    "- Surf clients account for 68% of total clients in contrast to 36% Ultimate clients\n",
    "- 19% calls had a duration of 0 minutes and 13% internet sessions used 0 MB.\n",
    "- The average call minutes used per month are around 400 regardless of the plan\n",
    "- Ultimate clients are barely reaching their call minutes limit (3000 included)\n",
    "- Ultimate clients never exceed their call minutes included in contrast to 35% of Surf clients\n",
    "- Ultimate clients send an average of 46 text messages per month out of the 1000 message limit included with the plan. \n",
    "- Surf clients send 39 text messages per month out of the 50 message limit included with the plan. \n",
    "- 21% surf clients exceed their included messages and payed extra fees compared to 0% of Ultimate clients, most likely due to each plan's respective message limit. \n",
    "- 57% of Surf client exceed the gb included per month limit and payed extra fees compared to only 5% of Ultimate Clients. \n",
    "- 72% of Surf clients payed extra fees in contrast to 3% of Ultimate clients.\n",
    " \n",
    "- The average revenue for clients of the ultimate plan is \\\\$71 whereas the average revenue for clients of the surf plan is $52\n",
    "\n",
    "- Results from the hypothesis tests indicate that there is:\n",
    "    - no significant difference between the average revenue of NY-NJ region and other regions. \n",
    "    - there is a significant difference between the average monthly price of ultimate clients vs surf clients\n",
    "    \n",
    "In conclusion, The Ultimate plan is more profitable for Megaline than the surf plan. Although Surf clients are much more likely to pay extra fees (72% percent vs 3% for ultimate), the median extra fees payed per client is around 40 USD , which is still less than the \\\\$70 monthly charge that ultimate clients pay. \n",
    "\n"
   ]
  }
 ],
 "metadata": {
  "ExecuteTimeLog": [
   {
    "duration": 828,
    "start_time": "2021-11-16T09:21:11.304Z"
   },
   {
    "duration": 893,
    "start_time": "2021-11-16T09:21:17.728Z"
   },
   {
    "duration": 1150,
    "start_time": "2021-11-16T09:21:29.568Z"
   },
   {
    "duration": 3,
    "start_time": "2021-11-16T09:24:14.495Z"
   },
   {
    "duration": 120,
    "start_time": "2021-11-16T09:24:46.630Z"
   },
   {
    "duration": 3,
    "start_time": "2021-11-16T09:28:27.882Z"
   },
   {
    "duration": 4,
    "start_time": "2021-11-16T09:29:54.281Z"
   },
   {
    "duration": 3,
    "start_time": "2021-11-16T09:30:45.936Z"
   },
   {
    "duration": 4,
    "start_time": "2021-11-16T09:31:06.300Z"
   },
   {
    "duration": 113,
    "start_time": "2021-11-16T09:31:37.208Z"
   },
   {
    "duration": 143,
    "start_time": "2021-11-16T09:31:48.656Z"
   },
   {
    "duration": 98,
    "start_time": "2021-11-16T09:31:55.678Z"
   },
   {
    "duration": 3,
    "start_time": "2021-11-16T09:32:08.535Z"
   },
   {
    "duration": 111,
    "start_time": "2021-11-16T09:32:10.120Z"
   },
   {
    "duration": 3,
    "start_time": "2021-11-16T09:32:15.732Z"
   },
   {
    "duration": 4,
    "start_time": "2021-11-16T09:32:29.423Z"
   },
   {
    "duration": 3,
    "start_time": "2021-11-16T10:03:03.074Z"
   },
   {
    "duration": 3,
    "start_time": "2021-11-16T10:10:01.288Z"
   },
   {
    "duration": 3,
    "start_time": "2021-11-16T10:10:46.923Z"
   },
   {
    "duration": 121,
    "start_time": "2021-11-16T10:37:46.494Z"
   },
   {
    "duration": 125,
    "start_time": "2021-11-16T10:38:20.632Z"
   },
   {
    "duration": 112,
    "start_time": "2021-11-16T10:46:53.001Z"
   },
   {
    "duration": 110,
    "start_time": "2021-11-16T10:48:25.775Z"
   },
   {
    "duration": 3,
    "start_time": "2021-11-16T10:50:18.720Z"
   },
   {
    "duration": 4,
    "start_time": "2021-11-16T10:50:37.649Z"
   },
   {
    "duration": 2,
    "start_time": "2021-11-16T10:50:51.884Z"
   },
   {
    "duration": 3,
    "start_time": "2021-11-16T10:51:56.237Z"
   },
   {
    "duration": 101,
    "start_time": "2021-11-16T10:53:13.791Z"
   },
   {
    "duration": 3,
    "start_time": "2021-11-16T10:55:59.186Z"
   },
   {
    "duration": 3,
    "start_time": "2021-11-16T10:56:10.751Z"
   },
   {
    "duration": 3,
    "start_time": "2021-11-16T10:56:49.038Z"
   },
   {
    "duration": 3,
    "start_time": "2021-11-16T10:56:49.174Z"
   },
   {
    "duration": 4,
    "start_time": "2021-11-16T10:56:49.414Z"
   },
   {
    "duration": 3,
    "start_time": "2021-11-16T10:56:49.680Z"
   },
   {
    "duration": 3,
    "start_time": "2021-11-16T10:56:50.370Z"
   },
   {
    "duration": 114,
    "start_time": "2021-11-16T10:59:34.518Z"
   },
   {
    "duration": 3,
    "start_time": "2021-11-16T11:01:41.201Z"
   },
   {
    "duration": 116,
    "start_time": "2021-11-16T11:01:48.754Z"
   },
   {
    "duration": 3,
    "start_time": "2021-11-16T11:02:16.685Z"
   },
   {
    "duration": 3,
    "start_time": "2021-11-16T11:02:19.479Z"
   },
   {
    "duration": 3,
    "start_time": "2021-11-16T11:02:47.067Z"
   },
   {
    "duration": 3,
    "start_time": "2021-11-16T11:02:49.353Z"
   },
   {
    "duration": 3,
    "start_time": "2021-11-16T11:03:07.835Z"
   },
   {
    "duration": 3,
    "start_time": "2021-11-16T11:03:07.953Z"
   },
   {
    "duration": 112,
    "start_time": "2021-11-16T11:07:52.072Z"
   },
   {
    "duration": 187,
    "start_time": "2021-11-16T11:09:23.468Z"
   },
   {
    "duration": 4,
    "start_time": "2021-11-16T11:10:01.455Z"
   },
   {
    "duration": 3,
    "start_time": "2021-11-16T11:10:05.069Z"
   },
   {
    "duration": 4,
    "start_time": "2021-11-16T11:10:13.376Z"
   },
   {
    "duration": 3,
    "start_time": "2021-11-16T11:10:14.434Z"
   },
   {
    "duration": 3,
    "start_time": "2021-11-16T11:10:22.853Z"
   },
   {
    "duration": 4,
    "start_time": "2021-11-16T11:27:29.279Z"
   },
   {
    "duration": 4,
    "start_time": "2021-11-16T11:29:08.919Z"
   },
   {
    "duration": 118,
    "start_time": "2021-11-16T11:29:46.703Z"
   },
   {
    "duration": 437,
    "start_time": "2021-11-16T11:36:02.181Z"
   },
   {
    "duration": 157,
    "start_time": "2021-11-16T11:36:14.388Z"
   },
   {
    "duration": 207,
    "start_time": "2021-11-16T11:47:15.898Z"
   },
   {
    "duration": 3,
    "start_time": "2021-11-16T11:53:52.092Z"
   },
   {
    "duration": 3,
    "start_time": "2021-11-16T11:53:52.236Z"
   },
   {
    "duration": 3,
    "start_time": "2021-11-16T11:59:12.005Z"
   },
   {
    "duration": 112,
    "start_time": "2021-11-16T12:00:33.446Z"
   },
   {
    "duration": 3,
    "start_time": "2021-11-16T12:02:14.453Z"
   },
   {
    "duration": 3,
    "start_time": "2021-11-16T12:02:39.512Z"
   },
   {
    "duration": 106,
    "start_time": "2021-11-16T12:03:03.460Z"
   },
   {
    "duration": 3,
    "start_time": "2021-11-17T20:37:21.139Z"
   },
   {
    "duration": 3,
    "start_time": "2021-11-17T20:37:22.229Z"
   },
   {
    "duration": 3,
    "start_time": "2021-11-17T20:38:38.806Z"
   },
   {
    "duration": 3,
    "start_time": "2021-11-17T20:38:41.958Z"
   },
   {
    "duration": 3,
    "start_time": "2021-11-17T20:43:46.551Z"
   },
   {
    "duration": 4,
    "start_time": "2021-11-17T20:58:21.835Z"
   },
   {
    "duration": 3,
    "start_time": "2021-11-17T20:59:21.872Z"
   },
   {
    "duration": 4,
    "start_time": "2021-11-17T20:59:45.352Z"
   },
   {
    "duration": 4,
    "start_time": "2021-11-17T20:59:49.646Z"
   },
   {
    "duration": 159,
    "start_time": "2021-11-17T21:02:26.949Z"
   },
   {
    "duration": 3,
    "start_time": "2021-11-17T21:03:53.461Z"
   },
   {
    "duration": 3,
    "start_time": "2021-11-17T21:03:53.694Z"
   },
   {
    "duration": 3,
    "start_time": "2021-11-17T21:05:28.145Z"
   },
   {
    "duration": 116,
    "start_time": "2021-11-17T21:05:57.787Z"
   },
   {
    "duration": 3,
    "start_time": "2021-11-17T21:06:37.993Z"
   },
   {
    "duration": 3,
    "start_time": "2021-11-17T21:06:38.261Z"
   },
   {
    "duration": 3,
    "start_time": "2021-11-17T21:11:54.358Z"
   },
   {
    "duration": 3,
    "start_time": "2021-11-17T21:12:43.846Z"
   },
   {
    "duration": 4,
    "start_time": "2021-11-17T21:13:08.773Z"
   },
   {
    "duration": 3,
    "start_time": "2021-11-17T21:14:44.441Z"
   },
   {
    "duration": 3,
    "start_time": "2021-11-17T21:15:42.059Z"
   },
   {
    "duration": 4,
    "start_time": "2021-11-17T21:15:51.995Z"
   },
   {
    "duration": 3,
    "start_time": "2021-11-17T21:15:53.923Z"
   },
   {
    "duration": 3,
    "start_time": "2021-11-17T21:15:55.282Z"
   },
   {
    "duration": 3,
    "start_time": "2021-11-17T21:16:28.492Z"
   },
   {
    "duration": 3,
    "start_time": "2021-11-17T21:16:32.603Z"
   },
   {
    "duration": 3,
    "start_time": "2021-11-17T21:17:06.941Z"
   },
   {
    "duration": 98,
    "start_time": "2021-11-17T21:18:05.733Z"
   },
   {
    "duration": 4,
    "start_time": "2021-11-17T21:21:35.255Z"
   },
   {
    "duration": 3,
    "start_time": "2021-11-17T21:21:37.804Z"
   },
   {
    "duration": 4,
    "start_time": "2021-11-17T21:23:06.071Z"
   },
   {
    "duration": 3,
    "start_time": "2021-11-17T21:23:24.799Z"
   },
   {
    "duration": 3,
    "start_time": "2021-11-17T21:23:32.591Z"
   },
   {
    "duration": 98,
    "start_time": "2021-11-17T21:28:31.559Z"
   },
   {
    "duration": 3,
    "start_time": "2021-11-17T21:28:45.448Z"
   },
   {
    "duration": 3,
    "start_time": "2021-11-17T21:29:17.303Z"
   },
   {
    "duration": 3,
    "start_time": "2021-11-17T21:29:29.617Z"
   },
   {
    "duration": 3,
    "start_time": "2021-11-17T21:29:32.681Z"
   },
   {
    "duration": 3,
    "start_time": "2021-11-17T21:36:11.474Z"
   },
   {
    "duration": 3,
    "start_time": "2021-11-17T21:36:14.791Z"
   },
   {
    "duration": 3,
    "start_time": "2021-11-17T21:36:53.943Z"
   },
   {
    "duration": 3,
    "start_time": "2021-11-17T21:36:56.165Z"
   },
   {
    "duration": 4,
    "start_time": "2021-11-17T21:37:16.590Z"
   },
   {
    "duration": 3,
    "start_time": "2021-11-17T21:37:22.702Z"
   },
   {
    "duration": 4,
    "start_time": "2021-11-17T21:38:03.479Z"
   },
   {
    "duration": 3,
    "start_time": "2021-11-17T21:38:08.601Z"
   },
   {
    "duration": 3,
    "start_time": "2021-11-17T21:38:12.928Z"
   },
   {
    "duration": 3,
    "start_time": "2021-11-17T21:38:48.896Z"
   },
   {
    "duration": 2,
    "start_time": "2021-11-17T21:38:49.171Z"
   },
   {
    "duration": 4,
    "start_time": "2021-11-17T21:39:57.889Z"
   },
   {
    "duration": 3,
    "start_time": "2021-11-17T21:39:58.057Z"
   },
   {
    "duration": 3,
    "start_time": "2021-11-17T21:41:20.108Z"
   },
   {
    "duration": 3,
    "start_time": "2021-11-17T21:41:20.629Z"
   },
   {
    "duration": 3,
    "start_time": "2021-11-17T21:42:49.136Z"
   },
   {
    "duration": 3,
    "start_time": "2021-11-17T21:43:15.137Z"
   },
   {
    "duration": 4,
    "start_time": "2021-11-17T21:43:16.766Z"
   },
   {
    "duration": 4,
    "start_time": "2021-11-17T21:43:31.711Z"
   },
   {
    "duration": 3,
    "start_time": "2021-11-17T21:43:36.312Z"
   },
   {
    "duration": 4,
    "start_time": "2021-11-17T21:45:08.825Z"
   },
   {
    "duration": 4,
    "start_time": "2021-11-17T21:45:10.119Z"
   },
   {
    "duration": 4,
    "start_time": "2021-11-17T21:45:13.748Z"
   },
   {
    "duration": 3,
    "start_time": "2021-11-17T21:45:22.219Z"
   },
   {
    "duration": 3,
    "start_time": "2021-11-17T21:45:33.412Z"
   },
   {
    "duration": 2,
    "start_time": "2021-11-17T21:46:01.885Z"
   },
   {
    "duration": 3,
    "start_time": "2021-11-17T21:46:03.628Z"
   },
   {
    "duration": 107,
    "start_time": "2021-11-17T21:47:32.512Z"
   },
   {
    "duration": 103,
    "start_time": "2021-11-17T21:50:36.243Z"
   },
   {
    "duration": 3,
    "start_time": "2021-11-18T06:28:31.440Z"
   },
   {
    "duration": 3,
    "start_time": "2021-11-18T06:29:00.168Z"
   },
   {
    "duration": 3,
    "start_time": "2021-11-18T06:31:27.008Z"
   },
   {
    "duration": 2,
    "start_time": "2021-11-18T06:35:34.288Z"
   },
   {
    "duration": 2,
    "start_time": "2021-11-18T06:38:04.527Z"
   },
   {
    "duration": 1155,
    "start_time": "2022-01-23T22:59:08.787Z"
   },
   {
    "duration": 23,
    "start_time": "2022-01-23T23:20:12.733Z"
   },
   {
    "duration": 18,
    "start_time": "2022-01-23T23:20:17.684Z"
   },
   {
    "duration": 15,
    "start_time": "2022-01-23T23:20:29.390Z"
   },
   {
    "duration": 326,
    "start_time": "2022-01-23T23:20:33.753Z"
   },
   {
    "duration": 9,
    "start_time": "2022-01-23T23:20:37.564Z"
   },
   {
    "duration": 9,
    "start_time": "2022-01-23T23:20:42.380Z"
   },
   {
    "duration": 8,
    "start_time": "2022-01-23T23:29:18.926Z"
   },
   {
    "duration": 12,
    "start_time": "2022-01-23T23:29:23.098Z"
   },
   {
    "duration": 43,
    "start_time": "2022-01-23T23:37:47.093Z"
   },
   {
    "duration": 12,
    "start_time": "2022-01-23T23:38:05.937Z"
   },
   {
    "duration": 8,
    "start_time": "2022-01-24T13:58:10.213Z"
   },
   {
    "duration": 15,
    "start_time": "2022-01-24T13:58:12.142Z"
   },
   {
    "duration": 20,
    "start_time": "2022-01-24T13:58:25.925Z"
   },
   {
    "duration": 12,
    "start_time": "2022-01-24T13:58:27.740Z"
   },
   {
    "duration": 10,
    "start_time": "2022-01-24T13:58:43.582Z"
   },
   {
    "duration": 15,
    "start_time": "2022-01-24T13:58:45.117Z"
   },
   {
    "duration": 11,
    "start_time": "2022-01-24T13:58:54.732Z"
   },
   {
    "duration": 18,
    "start_time": "2022-01-24T13:58:56.222Z"
   },
   {
    "duration": 8,
    "start_time": "2022-01-24T14:03:27.117Z"
   },
   {
    "duration": 7,
    "start_time": "2022-01-24T14:03:48.734Z"
   },
   {
    "duration": 8,
    "start_time": "2022-01-24T14:03:55.028Z"
   },
   {
    "duration": 7,
    "start_time": "2022-01-24T14:04:01.095Z"
   },
   {
    "duration": 9,
    "start_time": "2022-01-24T20:05:46.948Z"
   },
   {
    "duration": 13,
    "start_time": "2022-01-24T20:05:54.372Z"
   },
   {
    "duration": 14,
    "start_time": "2022-01-24T20:29:42.809Z"
   },
   {
    "duration": 9,
    "start_time": "2022-01-24T20:32:41.585Z"
   },
   {
    "duration": 8,
    "start_time": "2022-01-24T20:33:31.281Z"
   },
   {
    "duration": 17,
    "start_time": "2022-01-24T21:14:46.772Z"
   },
   {
    "duration": 21,
    "start_time": "2022-01-24T21:14:58.485Z"
   },
   {
    "duration": 10,
    "start_time": "2022-01-24T21:16:45.602Z"
   },
   {
    "duration": 11,
    "start_time": "2022-01-24T21:19:57.865Z"
   },
   {
    "duration": 254,
    "start_time": "2022-01-24T22:02:14.289Z"
   },
   {
    "duration": 1210,
    "start_time": "2022-01-24T22:02:36.229Z"
   },
   {
    "duration": 370,
    "start_time": "2022-01-24T22:02:39.642Z"
   },
   {
    "duration": 10,
    "start_time": "2022-01-24T22:02:44.331Z"
   },
   {
    "duration": 10,
    "start_time": "2022-01-24T22:02:56.560Z"
   },
   {
    "duration": 9,
    "start_time": "2022-01-24T22:03:00.999Z"
   },
   {
    "duration": 23,
    "start_time": "2022-01-24T22:03:03.233Z"
   },
   {
    "duration": 9,
    "start_time": "2022-01-24T22:03:08.552Z"
   },
   {
    "duration": 15,
    "start_time": "2022-01-24T22:03:12.540Z"
   },
   {
    "duration": 19,
    "start_time": "2022-01-24T22:06:27.500Z"
   },
   {
    "duration": 16,
    "start_time": "2022-01-24T22:06:47.447Z"
   },
   {
    "duration": 21,
    "start_time": "2022-01-24T22:10:33.104Z"
   },
   {
    "duration": 11,
    "start_time": "2022-01-24T22:10:34.866Z"
   },
   {
    "duration": 30,
    "start_time": "2022-01-24T22:12:21.959Z"
   },
   {
    "duration": 12,
    "start_time": "2022-01-24T22:19:24.840Z"
   },
   {
    "duration": 12,
    "start_time": "2022-01-24T22:19:26.616Z"
   },
   {
    "duration": 6,
    "start_time": "2022-01-24T22:19:37.594Z"
   },
   {
    "duration": 12,
    "start_time": "2022-01-24T22:19:44.401Z"
   },
   {
    "duration": 20,
    "start_time": "2022-01-24T22:19:51.502Z"
   },
   {
    "duration": 24,
    "start_time": "2022-01-24T22:19:58.396Z"
   },
   {
    "duration": 15,
    "start_time": "2022-01-24T22:20:09.307Z"
   },
   {
    "duration": 12,
    "start_time": "2022-01-24T22:20:11.096Z"
   },
   {
    "duration": 21,
    "start_time": "2022-01-24T22:20:49.041Z"
   },
   {
    "duration": 16,
    "start_time": "2022-01-24T22:20:54.065Z"
   },
   {
    "duration": 10,
    "start_time": "2022-01-24T22:21:16.055Z"
   },
   {
    "duration": 9,
    "start_time": "2022-01-24T22:21:47.490Z"
   },
   {
    "duration": 438,
    "start_time": "2022-01-24T22:21:54.072Z"
   },
   {
    "duration": 7,
    "start_time": "2022-01-24T22:22:00.479Z"
   },
   {
    "duration": 11,
    "start_time": "2022-01-24T22:22:05.048Z"
   },
   {
    "duration": 7,
    "start_time": "2022-01-24T22:22:15.387Z"
   },
   {
    "duration": 16,
    "start_time": "2022-01-24T22:22:20.181Z"
   },
   {
    "duration": 19,
    "start_time": "2022-01-24T22:22:52.807Z"
   },
   {
    "duration": 12,
    "start_time": "2022-01-24T22:22:57.803Z"
   },
   {
    "duration": 27,
    "start_time": "2022-01-24T22:25:21.421Z"
   },
   {
    "duration": 18,
    "start_time": "2022-01-24T22:25:27.002Z"
   },
   {
    "duration": 23,
    "start_time": "2022-01-24T22:43:03.550Z"
   },
   {
    "duration": 25,
    "start_time": "2022-01-24T22:43:16.880Z"
   },
   {
    "duration": 33,
    "start_time": "2022-01-24T22:43:22.621Z"
   },
   {
    "duration": 261,
    "start_time": "2022-01-24T22:43:32.510Z"
   },
   {
    "duration": 263,
    "start_time": "2022-01-24T22:43:38.008Z"
   },
   {
    "duration": 30,
    "start_time": "2022-01-24T22:43:46.449Z"
   },
   {
    "duration": 33,
    "start_time": "2022-01-24T22:44:13.713Z"
   },
   {
    "duration": 57,
    "start_time": "2022-01-24T22:45:06.759Z"
   },
   {
    "duration": 56,
    "start_time": "2022-01-24T22:45:20.740Z"
   },
   {
    "duration": 48,
    "start_time": "2022-01-24T22:46:49.561Z"
   },
   {
    "duration": 33,
    "start_time": "2022-01-24T22:47:06.181Z"
   },
   {
    "duration": 29,
    "start_time": "2022-01-24T22:47:34.069Z"
   },
   {
    "duration": 53,
    "start_time": "2022-01-24T22:56:09.523Z"
   },
   {
    "duration": 263,
    "start_time": "2022-01-24T22:57:47.579Z"
   },
   {
    "duration": 279,
    "start_time": "2022-01-24T22:57:52.656Z"
   },
   {
    "duration": 5807,
    "start_time": "2022-01-24T22:58:30.466Z"
   },
   {
    "duration": 44,
    "start_time": "2022-01-24T22:58:45.299Z"
   },
   {
    "duration": 296,
    "start_time": "2022-01-24T22:59:01.677Z"
   },
   {
    "duration": 38,
    "start_time": "2022-01-24T22:59:12.256Z"
   },
   {
    "duration": 267,
    "start_time": "2022-01-24T22:59:26.649Z"
   },
   {
    "duration": 32,
    "start_time": "2022-01-24T22:59:50.867Z"
   },
   {
    "duration": 31,
    "start_time": "2022-01-24T22:59:56.934Z"
   },
   {
    "duration": 26,
    "start_time": "2022-01-24T23:00:12.182Z"
   },
   {
    "duration": 37,
    "start_time": "2022-01-24T23:00:19.978Z"
   },
   {
    "duration": 62,
    "start_time": "2022-01-24T23:00:40.519Z"
   },
   {
    "duration": 104,
    "start_time": "2022-01-24T23:39:39.848Z"
   },
   {
    "duration": 99,
    "start_time": "2022-01-24T23:39:55.007Z"
   },
   {
    "duration": 287,
    "start_time": "2022-01-24T23:40:19.980Z"
   },
   {
    "duration": 72,
    "start_time": "2022-01-24T23:40:25.158Z"
   },
   {
    "duration": 79,
    "start_time": "2022-01-24T23:41:06.448Z"
   },
   {
    "duration": 268,
    "start_time": "2022-01-24T23:41:10.165Z"
   },
   {
    "duration": 145,
    "start_time": "2022-01-24T23:41:27.665Z"
   },
   {
    "duration": 270,
    "start_time": "2022-01-24T23:42:55.240Z"
   },
   {
    "duration": 87,
    "start_time": "2022-01-24T23:43:12.572Z"
   },
   {
    "duration": 125,
    "start_time": "2022-01-24T23:43:20.154Z"
   },
   {
    "duration": 76,
    "start_time": "2022-01-24T23:43:31.672Z"
   },
   {
    "duration": 113,
    "start_time": "2022-01-24T23:43:43.419Z"
   },
   {
    "duration": 45,
    "start_time": "2022-01-24T23:43:51.534Z"
   },
   {
    "duration": 109,
    "start_time": "2022-01-24T23:43:57.644Z"
   },
   {
    "duration": 76,
    "start_time": "2022-01-24T23:44:04.708Z"
   },
   {
    "duration": 237,
    "start_time": "2022-01-24T23:45:45.187Z"
   },
   {
    "duration": 35,
    "start_time": "2022-01-24T23:45:48.245Z"
   },
   {
    "duration": 53,
    "start_time": "2022-01-24T23:45:58.755Z"
   },
   {
    "duration": 56,
    "start_time": "2022-01-24T23:46:14.779Z"
   },
   {
    "duration": 73,
    "start_time": "2022-01-24T23:47:03.381Z"
   },
   {
    "duration": 85,
    "start_time": "2022-01-24T23:47:11.190Z"
   },
   {
    "duration": 294,
    "start_time": "2022-01-24T23:47:15.165Z"
   },
   {
    "duration": 292,
    "start_time": "2022-01-24T23:47:24.413Z"
   },
   {
    "duration": 76,
    "start_time": "2022-01-24T23:47:32.600Z"
   },
   {
    "duration": 277,
    "start_time": "2022-01-24T23:47:50.422Z"
   },
   {
    "duration": 56,
    "start_time": "2022-01-24T23:47:59.075Z"
   },
   {
    "duration": 54,
    "start_time": "2022-01-24T23:48:13.051Z"
   },
   {
    "duration": 54,
    "start_time": "2022-01-24T23:48:22.461Z"
   },
   {
    "duration": 75,
    "start_time": "2022-01-24T23:48:32.125Z"
   },
   {
    "duration": 280,
    "start_time": "2022-01-24T23:49:10.858Z"
   },
   {
    "duration": 17,
    "start_time": "2022-01-24T23:49:18.568Z"
   },
   {
    "duration": 75,
    "start_time": "2022-01-24T23:49:47.767Z"
   },
   {
    "duration": 46,
    "start_time": "2022-01-24T23:50:54.147Z"
   },
   {
    "duration": 86,
    "start_time": "2022-01-24T23:51:02.554Z"
   },
   {
    "duration": 93,
    "start_time": "2022-01-24T23:51:36.874Z"
   },
   {
    "duration": 253,
    "start_time": "2022-01-24T23:51:40.986Z"
   },
   {
    "duration": 58,
    "start_time": "2022-01-24T23:52:13.063Z"
   },
   {
    "duration": 75,
    "start_time": "2022-01-24T23:52:14.886Z"
   },
   {
    "duration": 19,
    "start_time": "2022-01-24T23:52:47.911Z"
   },
   {
    "duration": 43,
    "start_time": "2022-01-24T23:54:33.869Z"
   },
   {
    "duration": 64,
    "start_time": "2022-01-24T23:54:44.345Z"
   },
   {
    "duration": 98,
    "start_time": "2022-01-24T23:55:39.000Z"
   },
   {
    "duration": 62,
    "start_time": "2022-01-24T23:55:42.611Z"
   },
   {
    "duration": 276,
    "start_time": "2022-01-24T23:56:03.061Z"
   },
   {
    "duration": 71,
    "start_time": "2022-01-24T23:56:07.806Z"
   },
   {
    "duration": 893,
    "start_time": "2022-01-24T23:56:12.721Z"
   },
   {
    "duration": 71,
    "start_time": "2022-01-24T23:56:17.657Z"
   },
   {
    "duration": 71,
    "start_time": "2022-01-25T00:14:50.857Z"
   },
   {
    "duration": 69,
    "start_time": "2022-01-25T00:15:00.846Z"
   },
   {
    "duration": 252,
    "start_time": "2022-01-25T00:15:55.515Z"
   },
   {
    "duration": 262,
    "start_time": "2022-01-25T00:16:23.466Z"
   },
   {
    "duration": 250,
    "start_time": "2022-01-25T00:16:51.649Z"
   },
   {
    "duration": 43,
    "start_time": "2022-01-25T00:16:56.860Z"
   },
   {
    "duration": 47,
    "start_time": "2022-01-25T00:19:27.063Z"
   },
   {
    "duration": 68,
    "start_time": "2022-01-25T00:21:33.032Z"
   },
   {
    "duration": 41,
    "start_time": "2022-01-25T00:21:37.571Z"
   },
   {
    "duration": 23,
    "start_time": "2022-01-25T00:23:03.344Z"
   },
   {
    "duration": 44,
    "start_time": "2022-01-25T00:27:13.717Z"
   },
   {
    "duration": 42,
    "start_time": "2022-01-25T00:27:17.993Z"
   },
   {
    "duration": 43,
    "start_time": "2022-01-25T00:27:21.067Z"
   },
   {
    "duration": 250,
    "start_time": "2022-01-25T00:27:30.276Z"
   },
   {
    "duration": 41,
    "start_time": "2022-01-25T00:27:38.653Z"
   },
   {
    "duration": 27,
    "start_time": "2022-01-25T00:34:28.061Z"
   },
   {
    "duration": 273,
    "start_time": "2022-01-25T00:34:33.680Z"
   },
   {
    "duration": 26,
    "start_time": "2022-01-25T00:34:41.750Z"
   },
   {
    "duration": 34,
    "start_time": "2022-01-25T00:34:45.848Z"
   },
   {
    "duration": 33,
    "start_time": "2022-01-25T00:34:51.804Z"
   },
   {
    "duration": 34,
    "start_time": "2022-01-25T00:35:47.568Z"
   },
   {
    "duration": 46,
    "start_time": "2022-01-25T00:36:33.087Z"
   },
   {
    "duration": 265,
    "start_time": "2022-01-25T00:38:17.103Z"
   },
   {
    "duration": 319,
    "start_time": "2022-01-25T00:38:27.054Z"
   },
   {
    "duration": 61,
    "start_time": "2022-01-25T00:38:36.567Z"
   },
   {
    "duration": 38,
    "start_time": "2022-01-25T00:40:50.395Z"
   },
   {
    "duration": 53,
    "start_time": "2022-01-25T00:41:14.002Z"
   },
   {
    "duration": 322,
    "start_time": "2022-01-25T00:45:32.644Z"
   },
   {
    "duration": 71,
    "start_time": "2022-01-25T00:45:53.858Z"
   },
   {
    "duration": 74,
    "start_time": "2022-01-25T00:46:27.339Z"
   },
   {
    "duration": 290,
    "start_time": "2022-01-25T00:46:56.749Z"
   },
   {
    "duration": 59,
    "start_time": "2022-01-25T00:47:02.165Z"
   },
   {
    "duration": 265,
    "start_time": "2022-01-25T00:47:53.875Z"
   },
   {
    "duration": 44,
    "start_time": "2022-01-25T00:47:58.792Z"
   },
   {
    "duration": 107,
    "start_time": "2022-01-25T00:48:34.401Z"
   },
   {
    "duration": 71,
    "start_time": "2022-01-25T00:52:08.763Z"
   },
   {
    "duration": 39,
    "start_time": "2022-01-25T00:52:08.947Z"
   },
   {
    "duration": 36,
    "start_time": "2022-01-25T00:52:23.293Z"
   },
   {
    "duration": 276,
    "start_time": "2022-01-25T00:52:29.510Z"
   },
   {
    "duration": 82,
    "start_time": "2022-01-25T00:53:17.445Z"
   },
   {
    "duration": 50,
    "start_time": "2022-01-25T00:53:33.399Z"
   },
   {
    "duration": 49,
    "start_time": "2022-01-25T00:53:42.666Z"
   },
   {
    "duration": 37,
    "start_time": "2022-01-25T00:53:56.390Z"
   },
   {
    "duration": 14,
    "start_time": "2022-01-25T00:54:10.409Z"
   },
   {
    "duration": 27,
    "start_time": "2022-01-25T00:54:13.014Z"
   },
   {
    "duration": 11,
    "start_time": "2022-01-25T00:54:46.968Z"
   },
   {
    "duration": 43,
    "start_time": "2022-01-25T00:54:49.550Z"
   },
   {
    "duration": 244,
    "start_time": "2022-01-25T01:05:51.561Z"
   },
   {
    "duration": 81,
    "start_time": "2022-01-25T01:06:08.946Z"
   },
   {
    "duration": 252,
    "start_time": "2022-01-25T01:06:13.094Z"
   },
   {
    "duration": 358,
    "start_time": "2022-01-25T01:06:45.238Z"
   },
   {
    "duration": 281,
    "start_time": "2022-01-25T01:06:58.501Z"
   },
   {
    "duration": 271,
    "start_time": "2022-01-25T01:07:21.032Z"
   },
   {
    "duration": 295,
    "start_time": "2022-01-25T01:07:33.150Z"
   },
   {
    "duration": 51,
    "start_time": "2022-01-25T01:07:37.861Z"
   },
   {
    "duration": 297,
    "start_time": "2022-01-25T01:08:10.019Z"
   },
   {
    "duration": 97,
    "start_time": "2022-01-25T01:08:14.897Z"
   },
   {
    "duration": 378,
    "start_time": "2022-01-25T19:50:39.067Z"
   },
   {
    "duration": 1554,
    "start_time": "2022-01-25T19:50:45.422Z"
   },
   {
    "duration": 1070,
    "start_time": "2022-01-25T19:50:46.979Z"
   },
   {
    "duration": 10,
    "start_time": "2022-01-25T19:50:48.052Z"
   },
   {
    "duration": 26,
    "start_time": "2022-01-25T19:50:48.065Z"
   },
   {
    "duration": 10,
    "start_time": "2022-01-25T19:50:48.095Z"
   },
   {
    "duration": 15,
    "start_time": "2022-01-25T19:50:48.108Z"
   },
   {
    "duration": 50,
    "start_time": "2022-01-25T19:50:48.126Z"
   },
   {
    "duration": 14,
    "start_time": "2022-01-25T19:50:48.180Z"
   },
   {
    "duration": 23,
    "start_time": "2022-01-25T19:50:48.196Z"
   },
   {
    "duration": 52,
    "start_time": "2022-01-25T19:50:48.223Z"
   },
   {
    "duration": 45,
    "start_time": "2022-01-25T19:50:48.278Z"
   },
   {
    "duration": 39,
    "start_time": "2022-01-25T19:50:48.325Z"
   },
   {
    "duration": 18,
    "start_time": "2022-01-25T19:50:48.367Z"
   },
   {
    "duration": 12,
    "start_time": "2022-01-25T19:50:48.388Z"
   },
   {
    "duration": 61,
    "start_time": "2022-01-25T19:50:48.404Z"
   },
   {
    "duration": 18,
    "start_time": "2022-01-25T19:50:48.467Z"
   },
   {
    "duration": 14,
    "start_time": "2022-01-25T19:50:48.488Z"
   },
   {
    "duration": 79,
    "start_time": "2022-01-25T19:50:48.505Z"
   },
   {
    "duration": 17,
    "start_time": "2022-01-25T19:50:48.587Z"
   },
   {
    "duration": 80,
    "start_time": "2022-01-25T19:50:50.217Z"
   },
   {
    "duration": 59,
    "start_time": "2022-01-25T19:51:45.983Z"
   },
   {
    "duration": 703,
    "start_time": "2022-01-25T19:51:54.422Z"
   },
   {
    "duration": 55,
    "start_time": "2022-01-25T19:51:59.242Z"
   },
   {
    "duration": 347,
    "start_time": "2022-01-25T19:52:28.450Z"
   },
   {
    "duration": 351,
    "start_time": "2022-01-25T19:52:31.884Z"
   },
   {
    "duration": 54,
    "start_time": "2022-01-25T19:52:35.639Z"
   },
   {
    "duration": 77,
    "start_time": "2022-01-25T19:52:40.057Z"
   },
   {
    "duration": 80,
    "start_time": "2022-01-25T19:53:41.715Z"
   },
   {
    "duration": 363,
    "start_time": "2022-01-25T19:54:40.634Z"
   },
   {
    "duration": 77,
    "start_time": "2022-01-25T19:55:05.471Z"
   },
   {
    "duration": 102,
    "start_time": "2022-01-25T19:55:09.041Z"
   },
   {
    "duration": 87,
    "start_time": "2022-01-25T19:55:32.293Z"
   },
   {
    "duration": 105,
    "start_time": "2022-01-25T19:55:49.436Z"
   },
   {
    "duration": 77,
    "start_time": "2022-01-25T19:56:01.438Z"
   },
   {
    "duration": 89,
    "start_time": "2022-01-25T19:56:05.057Z"
   },
   {
    "duration": 92,
    "start_time": "2022-01-25T19:58:13.910Z"
   },
   {
    "duration": 82,
    "start_time": "2022-01-25T19:59:05.102Z"
   },
   {
    "duration": 85,
    "start_time": "2022-01-25T19:59:08.361Z"
   },
   {
    "duration": 89,
    "start_time": "2022-01-25T19:59:28.552Z"
   },
   {
    "duration": 60,
    "start_time": "2022-01-25T19:59:29.676Z"
   },
   {
    "duration": 1233,
    "start_time": "2022-01-25T19:59:42.048Z"
   },
   {
    "duration": 384,
    "start_time": "2022-01-25T19:59:43.285Z"
   },
   {
    "duration": 10,
    "start_time": "2022-01-25T19:59:43.672Z"
   },
   {
    "duration": 25,
    "start_time": "2022-01-25T19:59:43.686Z"
   },
   {
    "duration": 9,
    "start_time": "2022-01-25T19:59:43.714Z"
   },
   {
    "duration": 46,
    "start_time": "2022-01-25T19:59:43.726Z"
   },
   {
    "duration": 21,
    "start_time": "2022-01-25T19:59:43.775Z"
   },
   {
    "duration": 19,
    "start_time": "2022-01-25T19:59:43.801Z"
   },
   {
    "duration": 58,
    "start_time": "2022-01-25T19:59:43.824Z"
   },
   {
    "duration": 12,
    "start_time": "2022-01-25T19:59:43.885Z"
   },
   {
    "duration": 67,
    "start_time": "2022-01-25T19:59:43.900Z"
   },
   {
    "duration": 16,
    "start_time": "2022-01-25T19:59:43.971Z"
   },
   {
    "duration": 16,
    "start_time": "2022-01-25T19:59:43.990Z"
   },
   {
    "duration": 10,
    "start_time": "2022-01-25T19:59:44.009Z"
   },
   {
    "duration": 28,
    "start_time": "2022-01-25T19:59:44.066Z"
   },
   {
    "duration": 19,
    "start_time": "2022-01-25T19:59:44.097Z"
   },
   {
    "duration": 49,
    "start_time": "2022-01-25T19:59:44.119Z"
   },
   {
    "duration": 36,
    "start_time": "2022-01-25T19:59:44.172Z"
   },
   {
    "duration": 13,
    "start_time": "2022-01-25T19:59:44.211Z"
   },
   {
    "duration": 13994,
    "start_time": "2022-01-25T19:59:44.226Z"
   },
   {
    "duration": -459,
    "start_time": "2022-01-25T19:59:58.683Z"
   },
   {
    "duration": 107,
    "start_time": "2022-01-25T20:00:11.023Z"
   },
   {
    "duration": 377,
    "start_time": "2022-01-25T20:00:16.245Z"
   },
   {
    "duration": 4,
    "start_time": "2022-01-25T20:00:27.504Z"
   },
   {
    "duration": 398,
    "start_time": "2022-01-25T20:00:27.511Z"
   },
   {
    "duration": 9,
    "start_time": "2022-01-25T20:00:27.912Z"
   },
   {
    "duration": 18,
    "start_time": "2022-01-25T20:00:27.924Z"
   },
   {
    "duration": 25,
    "start_time": "2022-01-25T20:00:27.945Z"
   },
   {
    "duration": 26,
    "start_time": "2022-01-25T20:00:27.973Z"
   },
   {
    "duration": 25,
    "start_time": "2022-01-25T20:00:28.002Z"
   },
   {
    "duration": 14,
    "start_time": "2022-01-25T20:00:28.030Z"
   },
   {
    "duration": 44,
    "start_time": "2022-01-25T20:00:28.047Z"
   },
   {
    "duration": 12,
    "start_time": "2022-01-25T20:00:28.093Z"
   },
   {
    "duration": 58,
    "start_time": "2022-01-25T20:00:28.107Z"
   },
   {
    "duration": 15,
    "start_time": "2022-01-25T20:00:28.167Z"
   },
   {
    "duration": 16,
    "start_time": "2022-01-25T20:00:28.184Z"
   },
   {
    "duration": 15,
    "start_time": "2022-01-25T20:00:28.202Z"
   },
   {
    "duration": 63,
    "start_time": "2022-01-25T20:00:28.220Z"
   },
   {
    "duration": 21,
    "start_time": "2022-01-25T20:00:28.286Z"
   },
   {
    "duration": 11,
    "start_time": "2022-01-25T20:00:28.309Z"
   },
   {
    "duration": 62,
    "start_time": "2022-01-25T20:00:28.323Z"
   },
   {
    "duration": 14,
    "start_time": "2022-01-25T20:00:28.390Z"
   },
   {
    "duration": 372,
    "start_time": "2022-01-25T20:00:30.876Z"
   },
   {
    "duration": 7876,
    "start_time": "2022-01-25T20:00:59.827Z"
   },
   {
    "duration": 94,
    "start_time": "2022-01-25T20:01:17.881Z"
   },
   {
    "duration": 107,
    "start_time": "2022-01-25T20:01:40.271Z"
   },
   {
    "duration": 92,
    "start_time": "2022-01-25T20:01:42.867Z"
   },
   {
    "duration": 1563,
    "start_time": "2022-01-25T20:01:57.255Z"
   },
   {
    "duration": 400,
    "start_time": "2022-01-25T20:01:58.822Z"
   },
   {
    "duration": 10,
    "start_time": "2022-01-25T20:01:59.225Z"
   },
   {
    "duration": 26,
    "start_time": "2022-01-25T20:01:59.238Z"
   },
   {
    "duration": 10,
    "start_time": "2022-01-25T20:01:59.266Z"
   },
   {
    "duration": 17,
    "start_time": "2022-01-25T20:01:59.279Z"
   },
   {
    "duration": 24,
    "start_time": "2022-01-25T20:01:59.299Z"
   },
   {
    "duration": 12,
    "start_time": "2022-01-25T20:01:59.368Z"
   },
   {
    "duration": 25,
    "start_time": "2022-01-25T20:01:59.384Z"
   },
   {
    "duration": 15,
    "start_time": "2022-01-25T20:01:59.412Z"
   },
   {
    "duration": 45,
    "start_time": "2022-01-25T20:01:59.466Z"
   },
   {
    "duration": 16,
    "start_time": "2022-01-25T20:01:59.514Z"
   },
   {
    "duration": 41,
    "start_time": "2022-01-25T20:01:59.532Z"
   },
   {
    "duration": 13,
    "start_time": "2022-01-25T20:01:59.576Z"
   },
   {
    "duration": 43,
    "start_time": "2022-01-25T20:01:59.592Z"
   },
   {
    "duration": 28,
    "start_time": "2022-01-25T20:01:59.666Z"
   },
   {
    "duration": 15,
    "start_time": "2022-01-25T20:01:59.698Z"
   },
   {
    "duration": 86,
    "start_time": "2022-01-25T20:01:59.717Z"
   },
   {
    "duration": 18,
    "start_time": "2022-01-25T20:01:59.806Z"
   },
   {
    "duration": 128,
    "start_time": "2022-01-25T20:01:59.828Z"
   },
   {
    "duration": 1366,
    "start_time": "2022-01-25T20:02:15.685Z"
   },
   {
    "duration": 109,
    "start_time": "2022-01-25T20:02:27.561Z"
   },
   {
    "duration": 92,
    "start_time": "2022-01-25T20:03:00.249Z"
   },
   {
    "duration": 105,
    "start_time": "2022-01-25T20:03:41.033Z"
   },
   {
    "duration": 87,
    "start_time": "2022-01-25T20:04:11.363Z"
   },
   {
    "duration": 83,
    "start_time": "2022-01-25T20:04:29.086Z"
   },
   {
    "duration": 83,
    "start_time": "2022-01-25T20:05:34.812Z"
   },
   {
    "duration": 71,
    "start_time": "2022-01-25T20:08:15.717Z"
   },
   {
    "duration": 57,
    "start_time": "2022-01-25T20:08:25.593Z"
   },
   {
    "duration": 58,
    "start_time": "2022-01-25T20:09:08.120Z"
   },
   {
    "duration": 61,
    "start_time": "2022-01-25T20:09:47.487Z"
   },
   {
    "duration": 72,
    "start_time": "2022-01-25T20:09:52.231Z"
   },
   {
    "duration": 62,
    "start_time": "2022-01-25T20:10:05.016Z"
   },
   {
    "duration": 351,
    "start_time": "2022-01-25T20:10:16.871Z"
   },
   {
    "duration": 70,
    "start_time": "2022-01-25T20:10:24.568Z"
   },
   {
    "duration": 84,
    "start_time": "2022-01-25T20:11:52.321Z"
   },
   {
    "duration": 74,
    "start_time": "2022-01-25T20:12:07.820Z"
   },
   {
    "duration": 348,
    "start_time": "2022-01-25T20:12:33.868Z"
   },
   {
    "duration": 81,
    "start_time": "2022-01-25T20:12:40.721Z"
   },
   {
    "duration": 117,
    "start_time": "2022-01-25T20:13:22.118Z"
   },
   {
    "duration": 73,
    "start_time": "2022-01-25T20:13:44.354Z"
   },
   {
    "duration": 68,
    "start_time": "2022-01-25T20:14:05.663Z"
   },
   {
    "duration": 55,
    "start_time": "2022-01-25T20:14:12.824Z"
   },
   {
    "duration": 58,
    "start_time": "2022-01-25T20:14:23.785Z"
   },
   {
    "duration": 67,
    "start_time": "2022-01-25T20:14:29.316Z"
   },
   {
    "duration": 61,
    "start_time": "2022-01-25T20:14:36.764Z"
   },
   {
    "duration": 56,
    "start_time": "2022-01-25T20:15:36.453Z"
   },
   {
    "duration": 49,
    "start_time": "2022-01-25T20:15:45.957Z"
   },
   {
    "duration": 62,
    "start_time": "2022-01-25T20:15:48.768Z"
   },
   {
    "duration": 118,
    "start_time": "2022-01-25T20:16:29.662Z"
   },
   {
    "duration": 7007,
    "start_time": "2022-01-25T20:18:14.554Z"
   },
   {
    "duration": 1316,
    "start_time": "2022-01-25T20:18:57.361Z"
   },
   {
    "duration": 443,
    "start_time": "2022-01-25T20:18:58.680Z"
   },
   {
    "duration": 10,
    "start_time": "2022-01-25T20:18:59.126Z"
   },
   {
    "duration": 24,
    "start_time": "2022-01-25T20:18:59.140Z"
   },
   {
    "duration": 10,
    "start_time": "2022-01-25T20:18:59.167Z"
   },
   {
    "duration": 16,
    "start_time": "2022-01-25T20:18:59.180Z"
   },
   {
    "duration": 50,
    "start_time": "2022-01-25T20:18:59.198Z"
   },
   {
    "duration": 12,
    "start_time": "2022-01-25T20:18:59.252Z"
   },
   {
    "duration": 32,
    "start_time": "2022-01-25T20:18:59.266Z"
   },
   {
    "duration": 11,
    "start_time": "2022-01-25T20:18:59.301Z"
   },
   {
    "duration": 72,
    "start_time": "2022-01-25T20:18:59.314Z"
   },
   {
    "duration": 14,
    "start_time": "2022-01-25T20:18:59.388Z"
   },
   {
    "duration": 15,
    "start_time": "2022-01-25T20:18:59.405Z"
   },
   {
    "duration": 11,
    "start_time": "2022-01-25T20:18:59.448Z"
   },
   {
    "duration": 30,
    "start_time": "2022-01-25T20:18:59.461Z"
   },
   {
    "duration": 17,
    "start_time": "2022-01-25T20:18:59.494Z"
   },
   {
    "duration": 42,
    "start_time": "2022-01-25T20:18:59.514Z"
   },
   {
    "duration": 36,
    "start_time": "2022-01-25T20:18:59.560Z"
   },
   {
    "duration": 14,
    "start_time": "2022-01-25T20:18:59.599Z"
   },
   {
    "duration": 78,
    "start_time": "2022-01-25T20:19:11.007Z"
   },
   {
    "duration": 82,
    "start_time": "2022-01-25T20:19:32.842Z"
   },
   {
    "duration": 83,
    "start_time": "2022-01-25T20:20:05.037Z"
   },
   {
    "duration": 67,
    "start_time": "2022-01-25T20:20:41.833Z"
   },
   {
    "duration": 61,
    "start_time": "2022-01-25T20:20:55.105Z"
   },
   {
    "duration": 70,
    "start_time": "2022-01-25T20:20:59.115Z"
   },
   {
    "duration": 76,
    "start_time": "2022-01-25T20:21:23.691Z"
   },
   {
    "duration": 84,
    "start_time": "2022-01-25T20:22:23.579Z"
   },
   {
    "duration": 61,
    "start_time": "2022-01-25T20:22:39.625Z"
   },
   {
    "duration": 76,
    "start_time": "2022-01-25T20:22:42.271Z"
   },
   {
    "duration": 68,
    "start_time": "2022-01-25T20:22:54.217Z"
   },
   {
    "duration": 58,
    "start_time": "2022-01-25T20:23:34.859Z"
   },
   {
    "duration": 72,
    "start_time": "2022-01-25T20:23:40.846Z"
   },
   {
    "duration": 76,
    "start_time": "2022-01-25T20:25:16.827Z"
   },
   {
    "duration": -214,
    "start_time": "2022-01-25T20:26:17.757Z"
   },
   {
    "duration": 282,
    "start_time": "2022-01-25T20:26:23.256Z"
   },
   {
    "duration": 97,
    "start_time": "2022-01-25T20:26:41.771Z"
   },
   {
    "duration": 187,
    "start_time": "2022-01-25T20:26:46.481Z"
   },
   {
    "duration": 94,
    "start_time": "2022-01-25T20:26:59.679Z"
   },
   {
    "duration": 56,
    "start_time": "2022-01-25T20:27:38.249Z"
   },
   {
    "duration": 359,
    "start_time": "2022-01-25T20:28:38.994Z"
   },
   {
    "duration": 35,
    "start_time": "2022-01-25T20:28:46.471Z"
   },
   {
    "duration": 33,
    "start_time": "2022-01-25T20:29:45.707Z"
   },
   {
    "duration": 40,
    "start_time": "2022-01-25T20:30:16.196Z"
   },
   {
    "duration": 59,
    "start_time": "2022-01-25T20:30:38.955Z"
   },
   {
    "duration": 33,
    "start_time": "2022-01-25T20:32:04.945Z"
   },
   {
    "duration": 41,
    "start_time": "2022-01-25T20:32:38.459Z"
   },
   {
    "duration": 73,
    "start_time": "2022-01-25T20:35:40.964Z"
   },
   {
    "duration": 334,
    "start_time": "2022-01-25T20:36:08.865Z"
   },
   {
    "duration": 348,
    "start_time": "2022-01-25T20:36:15.605Z"
   },
   {
    "duration": 68,
    "start_time": "2022-01-25T20:36:36.305Z"
   },
   {
    "duration": 334,
    "start_time": "2022-01-25T20:36:58.556Z"
   },
   {
    "duration": -276,
    "start_time": "2022-01-25T20:37:12.504Z"
   },
   {
    "duration": 59,
    "start_time": "2022-01-25T20:37:38.786Z"
   },
   {
    "duration": 53,
    "start_time": "2022-01-25T20:37:45.336Z"
   },
   {
    "duration": 56,
    "start_time": "2022-01-25T20:37:50.585Z"
   },
   {
    "duration": 88,
    "start_time": "2022-01-25T20:39:39.397Z"
   },
   {
    "duration": 71,
    "start_time": "2022-01-25T20:39:57.994Z"
   },
   {
    "duration": 37,
    "start_time": "2022-01-25T20:40:09.936Z"
   },
   {
    "duration": 38,
    "start_time": "2022-01-25T20:40:23.188Z"
   },
   {
    "duration": 72,
    "start_time": "2022-01-25T20:42:03.545Z"
   },
   {
    "duration": 77,
    "start_time": "2022-01-25T20:42:21.365Z"
   },
   {
    "duration": 393,
    "start_time": "2022-01-25T20:43:10.325Z"
   },
   {
    "duration": 68,
    "start_time": "2022-01-25T20:43:25.305Z"
   },
   {
    "duration": 91,
    "start_time": "2022-01-25T20:43:30.266Z"
   },
   {
    "duration": 92,
    "start_time": "2022-01-25T20:43:39.364Z"
   },
   {
    "duration": 60,
    "start_time": "2022-01-25T20:48:17.319Z"
   },
   {
    "duration": 51,
    "start_time": "2022-01-25T20:48:27.201Z"
   },
   {
    "duration": 52,
    "start_time": "2022-01-25T20:48:36.927Z"
   },
   {
    "duration": 49,
    "start_time": "2022-01-25T20:48:48.641Z"
   },
   {
    "duration": 47,
    "start_time": "2022-01-25T20:49:19.760Z"
   },
   {
    "duration": 54,
    "start_time": "2022-01-25T20:49:22.648Z"
   },
   {
    "duration": 44,
    "start_time": "2022-01-25T20:49:36.457Z"
   },
   {
    "duration": 48,
    "start_time": "2022-01-25T20:54:03.118Z"
   },
   {
    "duration": 50,
    "start_time": "2022-01-25T20:54:10.384Z"
   },
   {
    "duration": 64,
    "start_time": "2022-01-25T20:54:13.843Z"
   },
   {
    "duration": 338,
    "start_time": "2022-01-25T20:56:39.173Z"
   },
   {
    "duration": 388,
    "start_time": "2022-01-25T20:56:52.486Z"
   },
   {
    "duration": 51,
    "start_time": "2022-01-25T20:57:10.260Z"
   },
   {
    "duration": 1169,
    "start_time": "2022-01-25T20:57:35.498Z"
   },
   {
    "duration": 53,
    "start_time": "2022-01-25T20:57:44.660Z"
   },
   {
    "duration": 64,
    "start_time": "2022-01-25T20:57:48.440Z"
   },
   {
    "duration": 55,
    "start_time": "2022-01-25T20:58:01.178Z"
   },
   {
    "duration": 66,
    "start_time": "2022-01-25T20:58:05.777Z"
   },
   {
    "duration": 359,
    "start_time": "2022-01-25T21:00:03.172Z"
   },
   {
    "duration": 347,
    "start_time": "2022-01-25T21:00:23.468Z"
   },
   {
    "duration": 366,
    "start_time": "2022-01-25T21:00:34.203Z"
   },
   {
    "duration": 345,
    "start_time": "2022-01-25T21:01:58.859Z"
   },
   {
    "duration": 342,
    "start_time": "2022-01-25T21:02:41.812Z"
   },
   {
    "duration": 166,
    "start_time": "2022-01-25T21:04:06.032Z"
   },
   {
    "duration": 174,
    "start_time": "2022-01-25T21:04:30.930Z"
   },
   {
    "duration": 176,
    "start_time": "2022-01-25T21:04:45.300Z"
   },
   {
    "duration": 163,
    "start_time": "2022-01-25T21:05:19.110Z"
   },
   {
    "duration": 372,
    "start_time": "2022-01-25T21:05:37.114Z"
   },
   {
    "duration": 178,
    "start_time": "2022-01-25T21:05:58.215Z"
   },
   {
    "duration": 168,
    "start_time": "2022-01-25T21:08:26.928Z"
   },
   {
    "duration": 46,
    "start_time": "2022-01-25T21:09:06.081Z"
   },
   {
    "duration": 57,
    "start_time": "2022-01-25T21:09:15.377Z"
   },
   {
    "duration": 70,
    "start_time": "2022-01-25T21:09:59.227Z"
   },
   {
    "duration": 43,
    "start_time": "2022-01-25T21:10:14.459Z"
   },
   {
    "duration": 567,
    "start_time": "2022-01-25T21:10:54.592Z"
   },
   {
    "duration": 339,
    "start_time": "2022-01-25T21:11:04.749Z"
   },
   {
    "duration": 137,
    "start_time": "2022-01-25T21:11:23.381Z"
   },
   {
    "duration": 138,
    "start_time": "2022-01-25T21:11:31.412Z"
   },
   {
    "duration": 465,
    "start_time": "2022-01-25T21:11:45.404Z"
   },
   {
    "duration": 104,
    "start_time": "2022-01-25T21:11:54.061Z"
   },
   {
    "duration": 105,
    "start_time": "2022-01-25T21:13:26.668Z"
   },
   {
    "duration": 113,
    "start_time": "2022-01-25T21:13:34.374Z"
   },
   {
    "duration": 126,
    "start_time": "2022-01-25T21:16:36.340Z"
   },
   {
    "duration": 133,
    "start_time": "2022-01-25T21:16:43.573Z"
   },
   {
    "duration": 139,
    "start_time": "2022-01-25T21:16:51.970Z"
   },
   {
    "duration": 134,
    "start_time": "2022-01-25T21:18:05.862Z"
   },
   {
    "duration": 385,
    "start_time": "2022-01-25T21:18:54.017Z"
   },
   {
    "duration": 80,
    "start_time": "2022-01-25T21:19:14.082Z"
   },
   {
    "duration": 361,
    "start_time": "2022-01-25T21:19:24.884Z"
   },
   {
    "duration": 422,
    "start_time": "2022-01-25T21:19:29.828Z"
   },
   {
    "duration": -496,
    "start_time": "2022-01-25T21:19:44.362Z"
   },
   {
    "duration": 91,
    "start_time": "2022-01-25T21:20:10.084Z"
   },
   {
    "duration": 73,
    "start_time": "2022-01-25T21:20:33.152Z"
   },
   {
    "duration": 97,
    "start_time": "2022-01-25T21:21:01.254Z"
   },
   {
    "duration": 70,
    "start_time": "2022-01-25T21:21:24.579Z"
   },
   {
    "duration": 100,
    "start_time": "2022-01-25T21:23:09.827Z"
   },
   {
    "duration": 355,
    "start_time": "2022-01-25T21:23:14.116Z"
   },
   {
    "duration": 76,
    "start_time": "2022-01-25T21:23:36.283Z"
   },
   {
    "duration": 73,
    "start_time": "2022-01-25T21:23:42.888Z"
   },
   {
    "duration": 750,
    "start_time": "2022-01-25T21:24:00.550Z"
   },
   {
    "duration": 83,
    "start_time": "2022-01-25T21:24:08.478Z"
   },
   {
    "duration": 83,
    "start_time": "2022-01-25T21:24:22.498Z"
   },
   {
    "duration": 96,
    "start_time": "2022-01-25T21:24:43.597Z"
   },
   {
    "duration": 349,
    "start_time": "2022-01-25T21:24:46.601Z"
   },
   {
    "duration": 365,
    "start_time": "2022-01-25T21:24:51.976Z"
   },
   {
    "duration": 160,
    "start_time": "2022-01-25T21:25:01.365Z"
   },
   {
    "duration": 173,
    "start_time": "2022-01-25T21:25:12.066Z"
   },
   {
    "duration": 139,
    "start_time": "2022-01-25T21:25:31.103Z"
   },
   {
    "duration": 149,
    "start_time": "2022-01-25T21:25:38.399Z"
   },
   {
    "duration": 198,
    "start_time": "2022-01-25T21:26:09.098Z"
   },
   {
    "duration": 2019,
    "start_time": "2022-01-25T21:26:45.041Z"
   },
   {
    "duration": 2066,
    "start_time": "2022-01-25T21:26:58.705Z"
   },
   {
    "duration": 193,
    "start_time": "2022-01-25T21:27:25.360Z"
   },
   {
    "duration": 171,
    "start_time": "2022-01-25T21:27:34.365Z"
   },
   {
    "duration": 179,
    "start_time": "2022-01-25T21:28:23.923Z"
   },
   {
    "duration": 169,
    "start_time": "2022-01-25T21:28:37.944Z"
   },
   {
    "duration": 85,
    "start_time": "2022-01-25T21:31:10.032Z"
   },
   {
    "duration": 458,
    "start_time": "2022-01-25T21:31:27.222Z"
   },
   {
    "duration": 175,
    "start_time": "2022-01-25T21:31:43.755Z"
   },
   {
    "duration": 89,
    "start_time": "2022-01-25T21:32:13.530Z"
   },
   {
    "duration": 85,
    "start_time": "2022-01-25T21:32:26.416Z"
   },
   {
    "duration": 97,
    "start_time": "2022-01-25T21:32:51.971Z"
   },
   {
    "duration": 347,
    "start_time": "2022-01-25T21:32:59.271Z"
   },
   {
    "duration": 74,
    "start_time": "2022-01-25T21:34:08.460Z"
   },
   {
    "duration": 1178,
    "start_time": "2022-01-25T21:34:15.686Z"
   },
   {
    "duration": 452,
    "start_time": "2022-01-25T21:34:16.867Z"
   },
   {
    "duration": 10,
    "start_time": "2022-01-25T21:34:17.323Z"
   },
   {
    "duration": 28,
    "start_time": "2022-01-25T21:34:17.336Z"
   },
   {
    "duration": 10,
    "start_time": "2022-01-25T21:34:17.366Z"
   },
   {
    "duration": 19,
    "start_time": "2022-01-25T21:34:17.378Z"
   },
   {
    "duration": 50,
    "start_time": "2022-01-25T21:34:17.400Z"
   },
   {
    "duration": 15,
    "start_time": "2022-01-25T21:34:17.454Z"
   },
   {
    "duration": 21,
    "start_time": "2022-01-25T21:34:17.474Z"
   },
   {
    "duration": 11,
    "start_time": "2022-01-25T21:34:17.497Z"
   },
   {
    "duration": 73,
    "start_time": "2022-01-25T21:34:17.511Z"
   },
   {
    "duration": 13,
    "start_time": "2022-01-25T21:34:17.587Z"
   },
   {
    "duration": 50,
    "start_time": "2022-01-25T21:34:17.603Z"
   },
   {
    "duration": 12,
    "start_time": "2022-01-25T21:34:17.656Z"
   },
   {
    "duration": 30,
    "start_time": "2022-01-25T21:34:17.671Z"
   },
   {
    "duration": 54,
    "start_time": "2022-01-25T21:34:17.704Z"
   },
   {
    "duration": 13,
    "start_time": "2022-01-25T21:34:17.761Z"
   },
   {
    "duration": 35,
    "start_time": "2022-01-25T21:34:17.777Z"
   },
   {
    "duration": 14,
    "start_time": "2022-01-25T21:34:17.847Z"
   },
   {
    "duration": 504,
    "start_time": "2022-01-25T21:34:17.864Z"
   },
   {
    "duration": 45,
    "start_time": "2022-01-25T21:34:29.139Z"
   },
   {
    "duration": 68,
    "start_time": "2022-01-25T21:34:30.952Z"
   },
   {
    "duration": 69,
    "start_time": "2022-01-25T21:34:33.475Z"
   },
   {
    "duration": 59,
    "start_time": "2022-01-25T21:34:37.951Z"
   },
   {
    "duration": 19,
    "start_time": "2022-01-25T21:35:51.943Z"
   },
   {
    "duration": 59,
    "start_time": "2022-01-25T21:36:01.589Z"
   },
   {
    "duration": 63,
    "start_time": "2022-01-25T21:36:16.463Z"
   },
   {
    "duration": 332,
    "start_time": "2022-01-25T21:36:42.614Z"
   },
   {
    "duration": 1187,
    "start_time": "2022-01-25T21:36:47.366Z"
   },
   {
    "duration": 405,
    "start_time": "2022-01-25T21:36:48.555Z"
   },
   {
    "duration": 11,
    "start_time": "2022-01-25T21:36:48.964Z"
   },
   {
    "duration": 28,
    "start_time": "2022-01-25T21:36:48.977Z"
   },
   {
    "duration": 9,
    "start_time": "2022-01-25T21:36:49.008Z"
   },
   {
    "duration": 34,
    "start_time": "2022-01-25T21:36:49.019Z"
   },
   {
    "duration": 20,
    "start_time": "2022-01-25T21:36:49.056Z"
   },
   {
    "duration": 25,
    "start_time": "2022-01-25T21:36:49.079Z"
   },
   {
    "duration": 46,
    "start_time": "2022-01-25T21:36:49.108Z"
   },
   {
    "duration": 10,
    "start_time": "2022-01-25T21:36:49.157Z"
   },
   {
    "duration": 44,
    "start_time": "2022-01-25T21:36:49.170Z"
   },
   {
    "duration": 38,
    "start_time": "2022-01-25T21:36:49.216Z"
   },
   {
    "duration": 15,
    "start_time": "2022-01-25T21:36:49.257Z"
   },
   {
    "duration": 10,
    "start_time": "2022-01-25T21:36:49.275Z"
   },
   {
    "duration": 25,
    "start_time": "2022-01-25T21:36:49.287Z"
   },
   {
    "duration": 19,
    "start_time": "2022-01-25T21:36:49.349Z"
   },
   {
    "duration": 11,
    "start_time": "2022-01-25T21:36:49.370Z"
   },
   {
    "duration": 36,
    "start_time": "2022-01-25T21:36:49.384Z"
   },
   {
    "duration": 37,
    "start_time": "2022-01-25T21:36:49.422Z"
   },
   {
    "duration": 370,
    "start_time": "2022-01-25T21:36:53.239Z"
   },
   {
    "duration": 99,
    "start_time": "2022-01-25T21:37:10.903Z"
   },
   {
    "duration": 367,
    "start_time": "2022-01-25T21:37:46.155Z"
   },
   {
    "duration": 386,
    "start_time": "2022-01-25T21:38:10.761Z"
   },
   {
    "duration": 99,
    "start_time": "2022-01-25T21:38:18.338Z"
   },
   {
    "duration": 16,
    "start_time": "2022-01-25T21:40:29.436Z"
   },
   {
    "duration": 31,
    "start_time": "2022-01-25T21:40:32.344Z"
   },
   {
    "duration": 102,
    "start_time": "2022-01-25T21:41:49.325Z"
   },
   {
    "duration": 299,
    "start_time": "2022-01-25T21:41:57.460Z"
   },
   {
    "duration": 101,
    "start_time": "2022-01-25T21:42:00.513Z"
   },
   {
    "duration": 303,
    "start_time": "2022-01-25T21:42:39.649Z"
   },
   {
    "duration": 92,
    "start_time": "2022-01-25T21:42:51.379Z"
   },
   {
    "duration": 101,
    "start_time": "2022-01-25T21:43:04.102Z"
   },
   {
    "duration": 104,
    "start_time": "2022-01-25T21:43:12.576Z"
   },
   {
    "duration": 431,
    "start_time": "2022-01-25T21:43:26.862Z"
   },
   {
    "duration": 110,
    "start_time": "2022-01-25T21:43:37.238Z"
   },
   {
    "duration": 91,
    "start_time": "2022-01-25T21:46:20.793Z"
   },
   {
    "duration": 63,
    "start_time": "2022-01-25T21:46:30.802Z"
   },
   {
    "duration": 128,
    "start_time": "2022-01-25T21:48:43.685Z"
   },
   {
    "duration": 59,
    "start_time": "2022-01-25T21:48:53.398Z"
   },
   {
    "duration": 59,
    "start_time": "2022-01-25T21:55:39.392Z"
   },
   {
    "duration": 279,
    "start_time": "2022-01-25T21:56:38.033Z"
   },
   {
    "duration": 610,
    "start_time": "2022-01-25T21:57:14.336Z"
   },
   {
    "duration": 4,
    "start_time": "2022-01-25T21:57:31.779Z"
   },
   {
    "duration": 412,
    "start_time": "2022-01-25T21:57:31.786Z"
   },
   {
    "duration": 8,
    "start_time": "2022-01-25T21:57:32.201Z"
   },
   {
    "duration": 24,
    "start_time": "2022-01-25T21:57:32.212Z"
   },
   {
    "duration": 9,
    "start_time": "2022-01-25T21:57:32.239Z"
   },
   {
    "duration": 17,
    "start_time": "2022-01-25T21:57:32.251Z"
   },
   {
    "duration": 21,
    "start_time": "2022-01-25T21:57:32.272Z"
   },
   {
    "duration": 11,
    "start_time": "2022-01-25T21:57:32.296Z"
   },
   {
    "duration": 54,
    "start_time": "2022-01-25T21:57:32.310Z"
   },
   {
    "duration": 11,
    "start_time": "2022-01-25T21:57:32.367Z"
   },
   {
    "duration": 44,
    "start_time": "2022-01-25T21:57:32.381Z"
   },
   {
    "duration": 14,
    "start_time": "2022-01-25T21:57:32.449Z"
   },
   {
    "duration": 14,
    "start_time": "2022-01-25T21:57:32.466Z"
   },
   {
    "duration": 14,
    "start_time": "2022-01-25T21:57:32.484Z"
   },
   {
    "duration": 72,
    "start_time": "2022-01-25T21:57:32.501Z"
   },
   {
    "duration": 20,
    "start_time": "2022-01-25T21:57:32.576Z"
   },
   {
    "duration": 12,
    "start_time": "2022-01-25T21:57:32.599Z"
   },
   {
    "duration": 34,
    "start_time": "2022-01-25T21:57:32.648Z"
   },
   {
    "duration": 13,
    "start_time": "2022-01-25T21:57:32.686Z"
   },
   {
    "duration": 336,
    "start_time": "2022-01-25T21:57:56.567Z"
   },
   {
    "duration": 1183,
    "start_time": "2022-01-25T21:57:59.394Z"
   },
   {
    "duration": 462,
    "start_time": "2022-01-25T21:58:00.581Z"
   },
   {
    "duration": 14,
    "start_time": "2022-01-25T21:58:01.047Z"
   },
   {
    "duration": 28,
    "start_time": "2022-01-25T21:58:01.064Z"
   },
   {
    "duration": 20,
    "start_time": "2022-01-25T21:58:01.095Z"
   },
   {
    "duration": 41,
    "start_time": "2022-01-25T21:58:01.118Z"
   },
   {
    "duration": 18,
    "start_time": "2022-01-25T21:58:01.162Z"
   },
   {
    "duration": 19,
    "start_time": "2022-01-25T21:58:01.184Z"
   },
   {
    "duration": 50,
    "start_time": "2022-01-25T21:58:01.208Z"
   },
   {
    "duration": 14,
    "start_time": "2022-01-25T21:58:01.263Z"
   },
   {
    "duration": 52,
    "start_time": "2022-01-25T21:58:01.279Z"
   },
   {
    "duration": 15,
    "start_time": "2022-01-25T21:58:01.349Z"
   },
   {
    "duration": 15,
    "start_time": "2022-01-25T21:58:01.366Z"
   },
   {
    "duration": 14,
    "start_time": "2022-01-25T21:58:01.384Z"
   },
   {
    "duration": 61,
    "start_time": "2022-01-25T21:58:01.401Z"
   },
   {
    "duration": 18,
    "start_time": "2022-01-25T21:58:01.465Z"
   },
   {
    "duration": 18,
    "start_time": "2022-01-25T21:58:01.486Z"
   },
   {
    "duration": 59,
    "start_time": "2022-01-25T21:58:01.507Z"
   },
   {
    "duration": 13,
    "start_time": "2022-01-25T21:58:01.569Z"
   },
   {
    "duration": 95,
    "start_time": "2022-01-25T21:58:01.585Z"
   },
   {
    "duration": 61,
    "start_time": "2022-01-25T21:58:16.877Z"
   },
   {
    "duration": 71,
    "start_time": "2022-01-25T21:58:22.135Z"
   },
   {
    "duration": 396,
    "start_time": "2022-01-25T21:58:55.403Z"
   },
   {
    "duration": 73,
    "start_time": "2022-01-25T21:59:15.254Z"
   },
   {
    "duration": 92,
    "start_time": "2022-01-25T21:59:47.493Z"
   },
   {
    "duration": 70,
    "start_time": "2022-01-25T22:00:01.234Z"
   },
   {
    "duration": 67,
    "start_time": "2022-01-25T22:00:17.358Z"
   },
   {
    "duration": -538,
    "start_time": "2022-01-25T22:00:51.782Z"
   },
   {
    "duration": 75,
    "start_time": "2022-01-25T22:01:10.048Z"
   },
   {
    "duration": 98,
    "start_time": "2022-01-25T22:01:20.631Z"
   },
   {
    "duration": 74,
    "start_time": "2022-01-25T22:01:28.561Z"
   },
   {
    "duration": 76,
    "start_time": "2022-01-25T22:01:54.144Z"
   },
   {
    "duration": 85,
    "start_time": "2022-01-25T22:02:16.825Z"
   },
   {
    "duration": 95,
    "start_time": "2022-01-25T22:03:16.789Z"
   },
   {
    "duration": 70,
    "start_time": "2022-01-25T22:03:19.300Z"
   },
   {
    "duration": 361,
    "start_time": "2022-01-25T22:03:27.049Z"
   },
   {
    "duration": 82,
    "start_time": "2022-01-25T22:03:32.837Z"
   },
   {
    "duration": 52,
    "start_time": "2022-01-25T22:08:23.161Z"
   },
   {
    "duration": 60,
    "start_time": "2022-01-25T22:08:26.783Z"
   },
   {
    "duration": 53,
    "start_time": "2022-01-25T22:10:00.923Z"
   },
   {
    "duration": 62,
    "start_time": "2022-01-25T22:10:05.817Z"
   },
   {
    "duration": 318,
    "start_time": "2022-01-25T22:11:16.304Z"
   },
   {
    "duration": 335,
    "start_time": "2022-01-25T22:11:22.108Z"
   },
   {
    "duration": 60,
    "start_time": "2022-01-25T22:11:31.574Z"
   },
   {
    "duration": 69,
    "start_time": "2022-01-25T22:11:42.012Z"
   },
   {
    "duration": 71,
    "start_time": "2022-01-25T22:13:46.236Z"
   },
   {
    "duration": 80,
    "start_time": "2022-01-25T22:13:54.032Z"
   },
   {
    "duration": 96,
    "start_time": "2022-01-25T22:15:37.680Z"
   },
   {
    "duration": 65,
    "start_time": "2022-01-25T22:15:52.418Z"
   },
   {
    "duration": 41,
    "start_time": "2022-01-25T22:19:09.639Z"
   },
   {
    "duration": 74,
    "start_time": "2022-01-25T22:19:12.308Z"
   },
   {
    "duration": 69,
    "start_time": "2022-01-25T22:19:14.129Z"
   },
   {
    "duration": 42,
    "start_time": "2022-01-25T22:19:16.271Z"
   },
   {
    "duration": 298,
    "start_time": "2022-01-25T22:20:39.202Z"
   },
   {
    "duration": 26,
    "start_time": "2022-01-25T22:20:56.561Z"
   },
   {
    "duration": 40,
    "start_time": "2022-01-25T22:21:04.522Z"
   },
   {
    "duration": 1223,
    "start_time": "2022-01-25T22:21:26.633Z"
   },
   {
    "duration": 383,
    "start_time": "2022-01-25T22:21:27.859Z"
   },
   {
    "duration": 10,
    "start_time": "2022-01-25T22:21:28.246Z"
   },
   {
    "duration": 25,
    "start_time": "2022-01-25T22:21:28.259Z"
   },
   {
    "duration": 9,
    "start_time": "2022-01-25T22:21:28.287Z"
   },
   {
    "duration": 16,
    "start_time": "2022-01-25T22:21:28.298Z"
   },
   {
    "duration": 45,
    "start_time": "2022-01-25T22:21:28.317Z"
   },
   {
    "duration": 13,
    "start_time": "2022-01-25T22:21:28.367Z"
   },
   {
    "duration": 23,
    "start_time": "2022-01-25T22:21:28.384Z"
   },
   {
    "duration": 10,
    "start_time": "2022-01-25T22:21:28.410Z"
   },
   {
    "duration": 39,
    "start_time": "2022-01-25T22:21:28.449Z"
   },
   {
    "duration": 15,
    "start_time": "2022-01-25T22:21:28.490Z"
   },
   {
    "duration": 43,
    "start_time": "2022-01-25T22:21:28.507Z"
   },
   {
    "duration": 10,
    "start_time": "2022-01-25T22:21:28.552Z"
   },
   {
    "duration": 26,
    "start_time": "2022-01-25T22:21:28.565Z"
   },
   {
    "duration": 56,
    "start_time": "2022-01-25T22:21:28.593Z"
   },
   {
    "duration": 11,
    "start_time": "2022-01-25T22:21:28.652Z"
   },
   {
    "duration": 41,
    "start_time": "2022-01-25T22:21:28.666Z"
   },
   {
    "duration": 12,
    "start_time": "2022-01-25T22:21:28.710Z"
   },
   {
    "duration": 66,
    "start_time": "2022-01-25T22:21:28.748Z"
   },
   {
    "duration": 51,
    "start_time": "2022-01-25T22:21:28.816Z"
   },
   {
    "duration": 62,
    "start_time": "2022-01-25T22:21:28.869Z"
   },
   {
    "duration": 62,
    "start_time": "2022-01-25T22:21:28.951Z"
   },
   {
    "duration": 415,
    "start_time": "2022-01-25T22:21:29.016Z"
   },
   {
    "duration": -146,
    "start_time": "2022-01-25T22:21:29.581Z"
   },
   {
    "duration": -146,
    "start_time": "2022-01-25T22:21:29.584Z"
   },
   {
    "duration": -147,
    "start_time": "2022-01-25T22:21:29.587Z"
   },
   {
    "duration": -148,
    "start_time": "2022-01-25T22:21:29.590Z"
   },
   {
    "duration": -148,
    "start_time": "2022-01-25T22:21:29.592Z"
   },
   {
    "duration": -149,
    "start_time": "2022-01-25T22:21:29.595Z"
   },
   {
    "duration": -149,
    "start_time": "2022-01-25T22:21:29.598Z"
   },
   {
    "duration": -149,
    "start_time": "2022-01-25T22:21:29.600Z"
   },
   {
    "duration": -150,
    "start_time": "2022-01-25T22:21:29.603Z"
   },
   {
    "duration": -152,
    "start_time": "2022-01-25T22:21:29.607Z"
   },
   {
    "duration": 29,
    "start_time": "2022-01-25T22:21:58.710Z"
   },
   {
    "duration": 293,
    "start_time": "2022-01-25T22:22:02.332Z"
   },
   {
    "duration": 36,
    "start_time": "2022-01-25T22:22:08.302Z"
   },
   {
    "duration": 43,
    "start_time": "2022-01-25T22:58:49.130Z"
   },
   {
    "duration": 9,
    "start_time": "2022-01-25T22:59:09.671Z"
   },
   {
    "duration": 67,
    "start_time": "2022-01-25T22:59:47.614Z"
   },
   {
    "duration": 351,
    "start_time": "2022-01-25T23:05:10.814Z"
   },
   {
    "duration": 37,
    "start_time": "2022-01-25T23:06:17.180Z"
   },
   {
    "duration": 35,
    "start_time": "2022-01-25T23:07:17.743Z"
   },
   {
    "duration": 36,
    "start_time": "2022-01-25T23:08:01.275Z"
   },
   {
    "duration": 23,
    "start_time": "2022-01-25T23:08:20.744Z"
   },
   {
    "duration": 44,
    "start_time": "2022-01-25T23:08:25.503Z"
   },
   {
    "duration": 44,
    "start_time": "2022-01-25T23:12:14.891Z"
   },
   {
    "duration": 40,
    "start_time": "2022-01-25T23:13:58.267Z"
   },
   {
    "duration": 25,
    "start_time": "2022-01-25T23:14:14.437Z"
   },
   {
    "duration": 71,
    "start_time": "2022-01-25T23:14:18.300Z"
   },
   {
    "duration": 46,
    "start_time": "2022-01-25T23:44:04.439Z"
   },
   {
    "duration": 52,
    "start_time": "2022-01-25T23:44:12.479Z"
   },
   {
    "duration": 55,
    "start_time": "2022-01-25T23:44:19.204Z"
   },
   {
    "duration": 52,
    "start_time": "2022-01-25T23:44:26.121Z"
   },
   {
    "duration": 32,
    "start_time": "2022-01-26T00:25:50.484Z"
   },
   {
    "duration": 32,
    "start_time": "2022-01-26T00:26:22.134Z"
   },
   {
    "duration": 34,
    "start_time": "2022-01-26T00:26:38.529Z"
   },
   {
    "duration": 35,
    "start_time": "2022-01-26T00:26:56.020Z"
   },
   {
    "duration": 31,
    "start_time": "2022-01-26T00:27:45.943Z"
   },
   {
    "duration": 51,
    "start_time": "2022-01-26T00:27:54.575Z"
   },
   {
    "duration": 41,
    "start_time": "2022-01-26T00:28:01.604Z"
   },
   {
    "duration": 33,
    "start_time": "2022-01-26T00:28:03.297Z"
   },
   {
    "duration": 31,
    "start_time": "2022-01-26T00:28:05.824Z"
   },
   {
    "duration": 1191,
    "start_time": "2022-01-26T00:28:33.662Z"
   },
   {
    "duration": 378,
    "start_time": "2022-01-26T00:28:34.856Z"
   },
   {
    "duration": 9,
    "start_time": "2022-01-26T00:28:35.236Z"
   },
   {
    "duration": 26,
    "start_time": "2022-01-26T00:28:35.248Z"
   },
   {
    "duration": 8,
    "start_time": "2022-01-26T00:28:35.276Z"
   },
   {
    "duration": 29,
    "start_time": "2022-01-26T00:28:35.286Z"
   },
   {
    "duration": 33,
    "start_time": "2022-01-26T00:28:35.317Z"
   },
   {
    "duration": 11,
    "start_time": "2022-01-26T00:28:35.355Z"
   },
   {
    "duration": 56,
    "start_time": "2022-01-26T00:28:35.369Z"
   },
   {
    "duration": 13,
    "start_time": "2022-01-26T00:28:35.448Z"
   },
   {
    "duration": 42,
    "start_time": "2022-01-26T00:28:35.463Z"
   },
   {
    "duration": 43,
    "start_time": "2022-01-26T00:28:35.507Z"
   },
   {
    "duration": 15,
    "start_time": "2022-01-26T00:28:35.552Z"
   },
   {
    "duration": 10,
    "start_time": "2022-01-26T00:28:35.569Z"
   },
   {
    "duration": 25,
    "start_time": "2022-01-26T00:28:35.582Z"
   },
   {
    "duration": 18,
    "start_time": "2022-01-26T00:28:35.649Z"
   },
   {
    "duration": 10,
    "start_time": "2022-01-26T00:28:35.670Z"
   },
   {
    "duration": 34,
    "start_time": "2022-01-26T00:28:35.683Z"
   },
   {
    "duration": 38,
    "start_time": "2022-01-26T00:28:35.720Z"
   },
   {
    "duration": 89,
    "start_time": "2022-01-26T00:28:35.761Z"
   },
   {
    "duration": 34,
    "start_time": "2022-01-26T00:28:35.852Z"
   },
   {
    "duration": 90,
    "start_time": "2022-01-26T00:28:35.888Z"
   },
   {
    "duration": -106,
    "start_time": "2022-01-26T00:28:36.087Z"
   },
   {
    "duration": 400,
    "start_time": "2022-01-26T00:28:38.182Z"
   },
   {
    "duration": 34,
    "start_time": "2022-01-26T00:28:59.374Z"
   },
   {
    "duration": 59,
    "start_time": "2022-01-26T00:29:01.192Z"
   },
   {
    "duration": 55,
    "start_time": "2022-01-26T00:29:03.738Z"
   },
   {
    "duration": 290,
    "start_time": "2022-01-26T00:37:43.407Z"
   },
   {
    "duration": 266,
    "start_time": "2022-01-26T00:37:56.682Z"
   },
   {
    "duration": 217,
    "start_time": "2022-01-26T00:38:01.411Z"
   },
   {
    "duration": 7057,
    "start_time": "2022-01-26T00:40:29.616Z"
   },
   {
    "duration": 1519,
    "start_time": "2022-01-26T00:40:58.323Z"
   },
   {
    "duration": 378,
    "start_time": "2022-01-26T00:40:59.845Z"
   },
   {
    "duration": 9,
    "start_time": "2022-01-26T00:41:00.226Z"
   },
   {
    "duration": 35,
    "start_time": "2022-01-26T00:41:00.238Z"
   },
   {
    "duration": 34,
    "start_time": "2022-01-26T00:41:00.276Z"
   },
   {
    "duration": 27,
    "start_time": "2022-01-26T00:41:00.313Z"
   },
   {
    "duration": 21,
    "start_time": "2022-01-26T00:41:09.541Z"
   },
   {
    "duration": 235,
    "start_time": "2022-01-26T06:05:34.377Z"
   },
   {
    "duration": 1130,
    "start_time": "2022-01-26T06:05:38.511Z"
   },
   {
    "duration": 256,
    "start_time": "2022-01-26T06:05:43.228Z"
   },
   {
    "duration": 313,
    "start_time": "2022-01-26T06:05:49.220Z"
   },
   {
    "duration": 129,
    "start_time": "2022-01-26T06:05:54.369Z"
   },
   {
    "duration": 43,
    "start_time": "2022-01-26T06:06:51.628Z"
   },
   {
    "duration": 9,
    "start_time": "2022-01-26T06:07:13.828Z"
   },
   {
    "duration": 28,
    "start_time": "2022-01-26T06:07:29.304Z"
   },
   {
    "duration": 139,
    "start_time": "2022-01-26T06:07:40.458Z"
   },
   {
    "duration": 10,
    "start_time": "2022-01-26T06:08:42.838Z"
   },
   {
    "duration": 12,
    "start_time": "2022-01-26T06:09:40.941Z"
   },
   {
    "duration": 5,
    "start_time": "2022-01-26T06:09:42.591Z"
   },
   {
    "duration": 7,
    "start_time": "2022-01-26T06:09:48.306Z"
   },
   {
    "duration": 5,
    "start_time": "2022-01-26T06:09:55.596Z"
   },
   {
    "duration": 4,
    "start_time": "2022-01-26T06:09:59.939Z"
   },
   {
    "duration": 7,
    "start_time": "2022-01-26T06:10:06.689Z"
   },
   {
    "duration": 14,
    "start_time": "2022-01-26T06:10:30.800Z"
   },
   {
    "duration": 9,
    "start_time": "2022-01-26T06:10:32.133Z"
   },
   {
    "duration": 12,
    "start_time": "2022-01-26T06:10:43.231Z"
   },
   {
    "duration": 159,
    "start_time": "2022-01-26T06:11:03.027Z"
   },
   {
    "duration": 154,
    "start_time": "2022-01-26T06:11:09.034Z"
   },
   {
    "duration": 139,
    "start_time": "2022-01-26T06:11:39.870Z"
   },
   {
    "duration": 134,
    "start_time": "2022-01-26T06:11:45.943Z"
   },
   {
    "duration": 161,
    "start_time": "2022-01-26T06:12:42.797Z"
   },
   {
    "duration": 3,
    "start_time": "2022-01-26T06:16:13.105Z"
   },
   {
    "duration": 6,
    "start_time": "2022-01-26T06:33:33.209Z"
   },
   {
    "duration": 7,
    "start_time": "2022-01-26T06:33:37.052Z"
   },
   {
    "duration": 7,
    "start_time": "2022-01-26T06:34:17.068Z"
   },
   {
    "duration": 8,
    "start_time": "2022-01-26T06:34:46.258Z"
   },
   {
    "duration": 25,
    "start_time": "2022-01-26T06:42:47.625Z"
   },
   {
    "duration": 10,
    "start_time": "2022-01-26T06:42:49.980Z"
   },
   {
    "duration": 181,
    "start_time": "2022-01-26T06:42:55.605Z"
   },
   {
    "duration": 34,
    "start_time": "2022-01-26T06:43:15.095Z"
   },
   {
    "duration": 127,
    "start_time": "2022-01-26T06:43:19.951Z"
   },
   {
    "duration": 215,
    "start_time": "2022-01-26T06:43:28.190Z"
   },
   {
    "duration": 19,
    "start_time": "2022-01-26T06:43:41.927Z"
   },
   {
    "duration": 24,
    "start_time": "2022-01-26T06:43:45.954Z"
   },
   {
    "duration": 231,
    "start_time": "2022-01-26T06:43:51.038Z"
   },
   {
    "duration": 223,
    "start_time": "2022-01-26T06:43:56.428Z"
   },
   {
    "duration": 202,
    "start_time": "2022-01-26T06:44:05.305Z"
   },
   {
    "duration": 199,
    "start_time": "2022-01-26T06:44:21.877Z"
   },
   {
    "duration": 19,
    "start_time": "2022-01-26T06:44:45.606Z"
   },
   {
    "duration": 30,
    "start_time": "2022-01-26T06:44:54.198Z"
   },
   {
    "duration": 35,
    "start_time": "2022-01-26T06:45:40.987Z"
   },
   {
    "duration": 21,
    "start_time": "2022-01-26T06:45:44.284Z"
   },
   {
    "duration": 32,
    "start_time": "2022-01-26T06:45:48.428Z"
   },
   {
    "duration": 27,
    "start_time": "2022-01-26T06:49:36.652Z"
   },
   {
    "duration": 34,
    "start_time": "2022-01-26T06:49:46.625Z"
   },
   {
    "duration": 7,
    "start_time": "2022-01-26T07:00:56.439Z"
   },
   {
    "duration": 5,
    "start_time": "2022-01-26T07:01:14.452Z"
   },
   {
    "duration": 8,
    "start_time": "2022-01-26T07:01:18.701Z"
   },
   {
    "duration": 12,
    "start_time": "2022-01-26T07:01:48.766Z"
   },
   {
    "duration": 18,
    "start_time": "2022-01-26T07:01:55.397Z"
   },
   {
    "duration": 31,
    "start_time": "2022-01-26T07:02:13.480Z"
   },
   {
    "duration": 40,
    "start_time": "2022-01-26T07:02:51.291Z"
   },
   {
    "duration": 190,
    "start_time": "2022-01-26T07:06:13.980Z"
   },
   {
    "duration": 203,
    "start_time": "2022-01-26T07:06:52.561Z"
   },
   {
    "duration": 190,
    "start_time": "2022-01-26T07:06:58.814Z"
   },
   {
    "duration": 42,
    "start_time": "2022-01-26T07:07:04.541Z"
   },
   {
    "duration": 184,
    "start_time": "2022-01-26T07:07:33.333Z"
   },
   {
    "duration": 265,
    "start_time": "2022-01-26T07:07:44.743Z"
   },
   {
    "duration": 198,
    "start_time": "2022-01-26T07:07:53.876Z"
   },
   {
    "duration": 199,
    "start_time": "2022-01-26T07:08:44.904Z"
   },
   {
    "duration": 43,
    "start_time": "2022-01-26T07:08:57.710Z"
   },
   {
    "duration": 181,
    "start_time": "2022-01-26T07:09:12.042Z"
   },
   {
    "duration": 41,
    "start_time": "2022-01-26T07:09:14.526Z"
   },
   {
    "duration": 45,
    "start_time": "2022-01-26T07:10:07.088Z"
   },
   {
    "duration": 45,
    "start_time": "2022-01-26T07:10:14.311Z"
   },
   {
    "duration": 1086,
    "start_time": "2022-01-26T07:10:52.859Z"
   },
   {
    "duration": 313,
    "start_time": "2022-01-26T07:10:53.947Z"
   },
   {
    "duration": 7,
    "start_time": "2022-01-26T07:10:54.263Z"
   },
   {
    "duration": 13,
    "start_time": "2022-01-26T07:10:54.272Z"
   },
   {
    "duration": 11,
    "start_time": "2022-01-26T07:10:54.287Z"
   },
   {
    "duration": 14,
    "start_time": "2022-01-26T07:10:54.300Z"
   },
   {
    "duration": 145,
    "start_time": "2022-01-26T07:10:54.316Z"
   },
   {
    "duration": 14,
    "start_time": "2022-01-26T07:10:54.463Z"
   },
   {
    "duration": 24,
    "start_time": "2022-01-26T07:10:54.478Z"
   },
   {
    "duration": 29,
    "start_time": "2022-01-26T07:10:54.504Z"
   },
   {
    "duration": 7,
    "start_time": "2022-01-26T07:10:54.534Z"
   },
   {
    "duration": 174,
    "start_time": "2022-01-26T07:10:54.542Z"
   },
   {
    "duration": 33,
    "start_time": "2022-01-26T07:10:54.717Z"
   },
   {
    "duration": 9,
    "start_time": "2022-01-26T07:10:54.752Z"
   },
   {
    "duration": 10,
    "start_time": "2022-01-26T07:10:54.763Z"
   },
   {
    "duration": 5,
    "start_time": "2022-01-26T07:10:54.798Z"
   },
   {
    "duration": 21,
    "start_time": "2022-01-26T07:10:54.805Z"
   },
   {
    "duration": 13,
    "start_time": "2022-01-26T07:10:54.828Z"
   },
   {
    "duration": 13,
    "start_time": "2022-01-26T07:10:54.842Z"
   },
   {
    "duration": 187,
    "start_time": "2022-01-26T07:10:54.856Z"
   },
   {
    "duration": 24,
    "start_time": "2022-01-26T07:10:55.045Z"
   },
   {
    "duration": 28,
    "start_time": "2022-01-26T07:10:55.070Z"
   },
   {
    "duration": 48,
    "start_time": "2022-01-26T07:10:55.101Z"
   },
   {
    "duration": 24,
    "start_time": "2022-01-26T07:10:55.151Z"
   },
   {
    "duration": 29,
    "start_time": "2022-01-26T07:10:55.197Z"
   },
   {
    "duration": 33,
    "start_time": "2022-01-26T07:10:55.227Z"
   },
   {
    "duration": 56,
    "start_time": "2022-01-26T07:10:55.262Z"
   },
   {
    "duration": 30,
    "start_time": "2022-01-26T07:11:01.463Z"
   },
   {
    "duration": 34,
    "start_time": "2022-01-26T07:11:41.417Z"
   },
   {
    "duration": 4,
    "start_time": "2022-01-26T07:20:46.298Z"
   },
   {
    "duration": 5,
    "start_time": "2022-01-26T07:21:00.110Z"
   },
   {
    "duration": 30,
    "start_time": "2022-01-26T07:21:03.245Z"
   },
   {
    "duration": 43,
    "start_time": "2022-01-26T07:26:28.981Z"
   },
   {
    "duration": 69,
    "start_time": "2022-01-26T07:26:37.162Z"
   },
   {
    "duration": 147,
    "start_time": "2022-01-26T07:36:42.523Z"
   },
   {
    "duration": 150,
    "start_time": "2022-01-26T07:37:19.743Z"
   },
   {
    "duration": 149,
    "start_time": "2022-01-26T07:39:44.441Z"
   },
   {
    "duration": 13,
    "start_time": "2022-01-26T07:42:31.151Z"
   },
   {
    "duration": 265,
    "start_time": "2022-01-26T08:10:41.384Z"
   },
   {
    "duration": 181,
    "start_time": "2022-01-26T08:11:18.362Z"
   },
   {
    "duration": 269,
    "start_time": "2022-01-26T08:11:26.903Z"
   },
   {
    "duration": 177,
    "start_time": "2022-01-26T08:11:31.164Z"
   },
   {
    "duration": 201,
    "start_time": "2022-01-26T08:11:34.129Z"
   },
   {
    "duration": 472,
    "start_time": "2022-01-26T08:11:59.973Z"
   },
   {
    "duration": 230,
    "start_time": "2022-01-26T08:12:03.092Z"
   },
   {
    "duration": 196,
    "start_time": "2022-01-26T08:12:10.603Z"
   },
   {
    "duration": 243,
    "start_time": "2022-01-26T08:13:29.827Z"
   },
   {
    "duration": 225,
    "start_time": "2022-01-26T08:13:36.413Z"
   },
   {
    "duration": 161,
    "start_time": "2022-01-26T20:40:48.693Z"
   },
   {
    "duration": 19,
    "start_time": "2022-01-26T20:45:26.347Z"
   },
   {
    "duration": 69,
    "start_time": "2022-01-26T20:45:39.076Z"
   },
   {
    "duration": 212,
    "start_time": "2022-01-26T20:49:51.115Z"
   },
   {
    "duration": 179,
    "start_time": "2022-01-26T20:50:03.336Z"
   },
   {
    "duration": 67,
    "start_time": "2022-01-26T20:50:12.522Z"
   },
   {
    "duration": 172,
    "start_time": "2022-01-26T20:50:19.153Z"
   },
   {
    "duration": 189,
    "start_time": "2022-01-26T20:50:38.452Z"
   },
   {
    "duration": 16,
    "start_time": "2022-01-26T20:50:40.825Z"
   },
   {
    "duration": 16,
    "start_time": "2022-01-26T21:02:16.043Z"
   },
   {
    "duration": 17,
    "start_time": "2022-01-26T21:44:31.355Z"
   },
   {
    "duration": 17,
    "start_time": "2022-01-26T21:44:33.124Z"
   },
   {
    "duration": 14,
    "start_time": "2022-01-26T21:50:35.328Z"
   },
   {
    "duration": 15,
    "start_time": "2022-01-26T22:57:08.708Z"
   },
   {
    "duration": 16,
    "start_time": "2022-01-26T22:57:17.887Z"
   },
   {
    "duration": 31,
    "start_time": "2022-01-26T22:58:40.972Z"
   },
   {
    "duration": 26,
    "start_time": "2022-01-26T22:58:55.714Z"
   },
   {
    "duration": 28,
    "start_time": "2022-01-26T23:02:13.927Z"
   },
   {
    "duration": 22,
    "start_time": "2022-01-26T23:02:52.317Z"
   },
   {
    "duration": 226,
    "start_time": "2022-01-27T20:47:05.283Z"
   },
   {
    "duration": 1154,
    "start_time": "2022-01-27T20:48:36.394Z"
   },
   {
    "duration": 971,
    "start_time": "2022-01-27T20:48:37.550Z"
   },
   {
    "duration": 7,
    "start_time": "2022-01-27T20:48:38.523Z"
   },
   {
    "duration": 15,
    "start_time": "2022-01-27T20:48:38.531Z"
   },
   {
    "duration": 8,
    "start_time": "2022-01-27T20:48:38.548Z"
   },
   {
    "duration": 15,
    "start_time": "2022-01-27T20:48:38.557Z"
   },
   {
    "duration": 236,
    "start_time": "2022-01-27T20:48:38.574Z"
   },
   {
    "duration": 14,
    "start_time": "2022-01-27T20:48:38.812Z"
   },
   {
    "duration": 11,
    "start_time": "2022-01-27T20:48:38.829Z"
   },
   {
    "duration": 22,
    "start_time": "2022-01-27T20:48:38.842Z"
   },
   {
    "duration": 33,
    "start_time": "2022-01-27T20:48:38.866Z"
   },
   {
    "duration": 177,
    "start_time": "2022-01-27T20:48:38.902Z"
   },
   {
    "duration": 40,
    "start_time": "2022-01-27T20:48:39.081Z"
   },
   {
    "duration": 22,
    "start_time": "2022-01-27T20:48:39.123Z"
   },
   {
    "duration": 17,
    "start_time": "2022-01-27T20:48:39.147Z"
   },
   {
    "duration": 40,
    "start_time": "2022-01-27T20:48:39.166Z"
   },
   {
    "duration": 7,
    "start_time": "2022-01-27T20:48:39.208Z"
   },
   {
    "duration": 22,
    "start_time": "2022-01-27T20:48:39.216Z"
   },
   {
    "duration": 15,
    "start_time": "2022-01-27T20:48:39.240Z"
   },
   {
    "duration": 42,
    "start_time": "2022-01-27T20:48:39.257Z"
   },
   {
    "duration": 174,
    "start_time": "2022-01-27T20:48:39.301Z"
   },
   {
    "duration": 36,
    "start_time": "2022-01-27T20:48:39.477Z"
   },
   {
    "duration": 30,
    "start_time": "2022-01-27T20:48:39.517Z"
   },
   {
    "duration": 9,
    "start_time": "2022-01-27T20:48:39.550Z"
   },
   {
    "duration": 67,
    "start_time": "2022-01-27T20:48:39.561Z"
   },
   {
    "duration": 19,
    "start_time": "2022-01-27T20:48:39.630Z"
   },
   {
    "duration": 26,
    "start_time": "2022-01-27T20:48:39.651Z"
   },
   {
    "duration": 29,
    "start_time": "2022-01-27T20:48:39.698Z"
   },
   {
    "duration": 34,
    "start_time": "2022-01-27T20:48:39.729Z"
   },
   {
    "duration": 60,
    "start_time": "2022-01-27T20:48:39.765Z"
   },
   {
    "duration": 29,
    "start_time": "2022-01-27T20:50:00.214Z"
   },
   {
    "duration": 263,
    "start_time": "2022-01-27T20:50:29.212Z"
   },
   {
    "duration": 65,
    "start_time": "2022-01-27T20:50:47.129Z"
   },
   {
    "duration": 8,
    "start_time": "2022-01-28T03:03:26.822Z"
   },
   {
    "duration": 152,
    "start_time": "2022-01-28T03:04:06.700Z"
   },
   {
    "duration": 191,
    "start_time": "2022-01-28T03:04:13.728Z"
   },
   {
    "duration": 6,
    "start_time": "2022-01-28T03:04:18.073Z"
   },
   {
    "duration": 245,
    "start_time": "2022-01-28T03:11:01.580Z"
   },
   {
    "duration": 65,
    "start_time": "2022-01-28T03:11:32.702Z"
   },
   {
    "duration": 178,
    "start_time": "2022-01-28T03:11:35.791Z"
   },
   {
    "duration": 5,
    "start_time": "2022-01-28T03:14:23.583Z"
   },
   {
    "duration": 6,
    "start_time": "2022-01-28T03:14:28.815Z"
   },
   {
    "duration": 9,
    "start_time": "2022-01-28T03:14:56.525Z"
   },
   {
    "duration": 10,
    "start_time": "2022-01-28T03:15:11.963Z"
   },
   {
    "duration": 177,
    "start_time": "2022-01-28T03:18:14.183Z"
   },
   {
    "duration": 190,
    "start_time": "2022-01-28T04:35:26.213Z"
   },
   {
    "duration": 183,
    "start_time": "2022-01-28T04:35:37.736Z"
   },
   {
    "duration": 181,
    "start_time": "2022-01-28T04:36:03.026Z"
   },
   {
    "duration": 446,
    "start_time": "2022-01-28T04:36:21.716Z"
   },
   {
    "duration": 175,
    "start_time": "2022-01-28T04:36:30.224Z"
   },
   {
    "duration": 174,
    "start_time": "2022-01-28T04:36:46.923Z"
   },
   {
    "duration": 175,
    "start_time": "2022-01-28T04:37:14.805Z"
   },
   {
    "duration": 185,
    "start_time": "2022-01-28T04:37:47.954Z"
   },
   {
    "duration": 184,
    "start_time": "2022-01-28T04:37:53.214Z"
   },
   {
    "duration": 174,
    "start_time": "2022-01-28T04:38:12.882Z"
   },
   {
    "duration": 177,
    "start_time": "2022-01-28T04:38:48.285Z"
   },
   {
    "duration": 1510,
    "start_time": "2022-01-28T04:38:53.857Z"
   },
   {
    "duration": 1648,
    "start_time": "2022-01-28T04:39:02.313Z"
   },
   {
    "duration": 195,
    "start_time": "2022-01-28T04:39:19.864Z"
   },
   {
    "duration": -1080,
    "start_time": "2022-01-28T04:40:18.142Z"
   },
   {
    "duration": 177,
    "start_time": "2022-01-28T04:41:06.733Z"
   },
   {
    "duration": 177,
    "start_time": "2022-01-28T04:41:20.402Z"
   },
   {
    "duration": 8,
    "start_time": "2022-01-28T04:42:40.012Z"
   },
   {
    "duration": 8,
    "start_time": "2022-01-28T04:43:17.269Z"
   },
   {
    "duration": 8,
    "start_time": "2022-01-28T04:43:27.604Z"
   },
   {
    "duration": 10,
    "start_time": "2022-01-28T04:43:36.360Z"
   },
   {
    "duration": 9,
    "start_time": "2022-01-28T04:44:04.669Z"
   },
   {
    "duration": 9,
    "start_time": "2022-01-28T04:44:55.147Z"
   },
   {
    "duration": 1509,
    "start_time": "2022-01-28T04:45:40.063Z"
   },
   {
    "duration": 182,
    "start_time": "2022-01-28T04:45:58.877Z"
   },
   {
    "duration": 58,
    "start_time": "2022-01-28T04:48:18.606Z"
   },
   {
    "duration": 53,
    "start_time": "2022-01-28T04:48:25.518Z"
   },
   {
    "duration": 7,
    "start_time": "2022-01-28T04:48:32.199Z"
   },
   {
    "duration": 60,
    "start_time": "2022-01-28T04:48:58.289Z"
   },
   {
    "duration": 222,
    "start_time": "2022-01-28T04:49:24.975Z"
   },
   {
    "duration": 229,
    "start_time": "2022-01-28T04:49:30.983Z"
   },
   {
    "duration": 9,
    "start_time": "2022-01-28T04:54:27.157Z"
   },
   {
    "duration": 179,
    "start_time": "2022-01-28T04:55:06.618Z"
   },
   {
    "duration": 754,
    "start_time": "2022-01-28T04:55:23.549Z"
   },
   {
    "duration": 212,
    "start_time": "2022-01-28T04:58:41.104Z"
   },
   {
    "duration": 215,
    "start_time": "2022-01-28T04:58:48.531Z"
   },
   {
    "duration": 217,
    "start_time": "2022-01-28T04:58:59.849Z"
   },
   {
    "duration": 213,
    "start_time": "2022-01-28T04:59:24.116Z"
   },
   {
    "duration": 8,
    "start_time": "2022-01-28T05:00:25.586Z"
   },
   {
    "duration": 173,
    "start_time": "2022-01-28T05:01:12.182Z"
   },
   {
    "duration": 9,
    "start_time": "2022-01-28T05:01:24.203Z"
   },
   {
    "duration": 12,
    "start_time": "2022-01-28T05:01:36.654Z"
   },
   {
    "duration": 11,
    "start_time": "2022-01-28T05:01:40.805Z"
   },
   {
    "duration": 226,
    "start_time": "2022-01-28T05:09:57.615Z"
   },
   {
    "duration": 12,
    "start_time": "2022-01-28T05:11:00.699Z"
   },
   {
    "duration": 8,
    "start_time": "2022-01-28T05:11:08.135Z"
   },
   {
    "duration": 4138,
    "start_time": "2022-01-28T05:11:24.608Z"
   },
   {
    "duration": 1128,
    "start_time": "2022-01-28T05:11:39.269Z"
   },
   {
    "duration": 300,
    "start_time": "2022-01-28T05:11:40.399Z"
   },
   {
    "duration": 7,
    "start_time": "2022-01-28T05:11:40.701Z"
   },
   {
    "duration": 20,
    "start_time": "2022-01-28T05:11:40.710Z"
   },
   {
    "duration": 6,
    "start_time": "2022-01-28T05:11:40.731Z"
   },
   {
    "duration": 11,
    "start_time": "2022-01-28T05:11:40.739Z"
   },
   {
    "duration": 270,
    "start_time": "2022-01-28T05:11:40.752Z"
   },
   {
    "duration": 10,
    "start_time": "2022-01-28T05:11:41.025Z"
   },
   {
    "duration": 9,
    "start_time": "2022-01-28T05:12:14.884Z"
   },
   {
    "duration": 16,
    "start_time": "2022-01-28T05:12:27.340Z"
   },
   {
    "duration": 8,
    "start_time": "2022-01-28T05:12:32.594Z"
   },
   {
    "duration": 152,
    "start_time": "2022-01-28T05:12:52.642Z"
   },
   {
    "duration": 33,
    "start_time": "2022-01-28T05:15:22.656Z"
   },
   {
    "duration": 24,
    "start_time": "2022-01-28T05:15:47.616Z"
   },
   {
    "duration": 155,
    "start_time": "2022-01-28T05:16:00.158Z"
   },
   {
    "duration": 145,
    "start_time": "2022-01-28T05:16:14.814Z"
   },
   {
    "duration": 1069,
    "start_time": "2022-01-28T05:16:28.964Z"
   },
   {
    "duration": 319,
    "start_time": "2022-01-28T05:16:30.035Z"
   },
   {
    "duration": 7,
    "start_time": "2022-01-28T05:16:30.356Z"
   },
   {
    "duration": 16,
    "start_time": "2022-01-28T05:16:30.365Z"
   },
   {
    "duration": 14,
    "start_time": "2022-01-28T05:16:30.382Z"
   },
   {
    "duration": 21,
    "start_time": "2022-01-28T05:16:30.398Z"
   },
   {
    "duration": 246,
    "start_time": "2022-01-28T05:16:30.421Z"
   },
   {
    "duration": 8,
    "start_time": "2022-01-28T05:16:30.670Z"
   },
   {
    "duration": 20,
    "start_time": "2022-01-28T05:16:30.680Z"
   },
   {
    "duration": 22,
    "start_time": "2022-01-28T05:16:30.702Z"
   },
   {
    "duration": 10,
    "start_time": "2022-01-28T05:16:30.726Z"
   },
   {
    "duration": 192,
    "start_time": "2022-01-28T05:16:30.738Z"
   },
   {
    "duration": 31,
    "start_time": "2022-01-28T05:16:38.791Z"
   },
   {
    "duration": 3,
    "start_time": "2022-01-28T05:25:30.697Z"
   },
   {
    "duration": 336,
    "start_time": "2022-01-28T05:25:30.707Z"
   },
   {
    "duration": 2,
    "start_time": "2022-01-28T05:25:31.045Z"
   },
   {
    "duration": 21,
    "start_time": "2022-01-28T05:25:31.049Z"
   },
   {
    "duration": 21,
    "start_time": "2022-01-28T05:25:31.072Z"
   },
   {
    "duration": 19,
    "start_time": "2022-01-28T05:25:31.094Z"
   },
   {
    "duration": 34,
    "start_time": "2022-01-28T05:25:31.114Z"
   },
   {
    "duration": 267,
    "start_time": "2022-01-28T05:25:31.150Z"
   },
   {
    "duration": 9,
    "start_time": "2022-01-28T05:25:31.420Z"
   },
   {
    "duration": 11,
    "start_time": "2022-01-28T05:25:31.431Z"
   },
   {
    "duration": 27,
    "start_time": "2022-01-28T05:25:31.444Z"
   },
   {
    "duration": 24,
    "start_time": "2022-01-28T05:25:31.473Z"
   },
   {
    "duration": 178,
    "start_time": "2022-01-28T05:25:31.500Z"
   },
   {
    "duration": 29,
    "start_time": "2022-01-28T05:25:31.698Z"
   },
   {
    "duration": 20,
    "start_time": "2022-01-28T05:25:31.729Z"
   },
   {
    "duration": 17,
    "start_time": "2022-01-28T05:25:31.751Z"
   },
   {
    "duration": 11,
    "start_time": "2022-01-28T05:25:31.769Z"
   },
   {
    "duration": 17,
    "start_time": "2022-01-28T05:25:31.782Z"
   },
   {
    "duration": 20,
    "start_time": "2022-01-28T05:25:31.801Z"
   },
   {
    "duration": 13,
    "start_time": "2022-01-28T05:25:31.823Z"
   },
   {
    "duration": 7,
    "start_time": "2022-01-28T05:25:31.838Z"
   },
   {
    "duration": 165,
    "start_time": "2022-01-28T05:25:31.847Z"
   },
   {
    "duration": 23,
    "start_time": "2022-01-28T05:25:32.014Z"
   },
   {
    "duration": 34,
    "start_time": "2022-01-28T05:25:32.041Z"
   },
   {
    "duration": 20,
    "start_time": "2022-01-28T05:25:32.077Z"
   },
   {
    "duration": 46,
    "start_time": "2022-01-28T05:25:32.099Z"
   },
   {
    "duration": 18,
    "start_time": "2022-01-28T05:25:32.146Z"
   },
   {
    "duration": 35,
    "start_time": "2022-01-28T05:25:32.165Z"
   },
   {
    "duration": 300,
    "start_time": "2022-01-28T05:25:48.115Z"
   },
   {
    "duration": 29,
    "start_time": "2022-01-28T05:25:51.144Z"
   },
   {
    "duration": 213,
    "start_time": "2022-01-28T05:25:52.473Z"
   },
   {
    "duration": 23,
    "start_time": "2022-01-28T05:28:11.039Z"
   },
   {
    "duration": 39,
    "start_time": "2022-01-28T05:28:59.362Z"
   },
   {
    "duration": 36,
    "start_time": "2022-01-28T05:29:32.844Z"
   },
   {
    "duration": 40,
    "start_time": "2022-01-28T05:31:01.047Z"
   },
   {
    "duration": 35,
    "start_time": "2022-01-28T05:31:21.157Z"
   },
   {
    "duration": 1155,
    "start_time": "2022-01-28T05:31:28.792Z"
   },
   {
    "duration": 325,
    "start_time": "2022-01-28T05:31:29.949Z"
   },
   {
    "duration": 2,
    "start_time": "2022-01-28T05:31:30.277Z"
   },
   {
    "duration": 12,
    "start_time": "2022-01-28T05:31:30.281Z"
   },
   {
    "duration": 21,
    "start_time": "2022-01-28T05:31:30.294Z"
   },
   {
    "duration": 9,
    "start_time": "2022-01-28T05:31:30.317Z"
   },
   {
    "duration": 15,
    "start_time": "2022-01-28T05:31:30.327Z"
   },
   {
    "duration": 255,
    "start_time": "2022-01-28T05:31:30.344Z"
   },
   {
    "duration": 8,
    "start_time": "2022-01-28T05:31:30.601Z"
   },
   {
    "duration": 15,
    "start_time": "2022-01-28T05:31:30.611Z"
   },
   {
    "duration": 27,
    "start_time": "2022-01-28T05:31:30.628Z"
   },
   {
    "duration": 8,
    "start_time": "2022-01-28T05:31:30.656Z"
   },
   {
    "duration": 183,
    "start_time": "2022-01-28T05:31:30.665Z"
   },
   {
    "duration": 34,
    "start_time": "2022-01-28T05:31:30.850Z"
   },
   {
    "duration": 24,
    "start_time": "2022-01-28T05:31:30.897Z"
   },
   {
    "duration": 19,
    "start_time": "2022-01-28T05:31:30.923Z"
   },
   {
    "duration": 13,
    "start_time": "2022-01-28T05:31:30.944Z"
   },
   {
    "duration": 41,
    "start_time": "2022-01-28T05:31:30.959Z"
   },
   {
    "duration": 34,
    "start_time": "2022-01-28T05:31:31.002Z"
   },
   {
    "duration": 17,
    "start_time": "2022-01-28T05:31:31.038Z"
   },
   {
    "duration": 21,
    "start_time": "2022-01-28T05:31:31.057Z"
   },
   {
    "duration": 173,
    "start_time": "2022-01-28T05:31:31.080Z"
   },
   {
    "duration": 23,
    "start_time": "2022-01-28T05:31:31.257Z"
   },
   {
    "duration": 36,
    "start_time": "2022-01-28T05:31:31.296Z"
   },
   {
    "duration": 9,
    "start_time": "2022-01-28T05:31:31.334Z"
   },
   {
    "duration": 70,
    "start_time": "2022-01-28T05:31:31.345Z"
   },
   {
    "duration": 19,
    "start_time": "2022-01-28T05:31:31.417Z"
   },
   {
    "duration": 28,
    "start_time": "2022-01-28T05:31:31.438Z"
   },
   {
    "duration": 50,
    "start_time": "2022-01-28T05:31:31.467Z"
   },
   {
    "duration": 36,
    "start_time": "2022-01-28T05:31:31.518Z"
   },
   {
    "duration": 60,
    "start_time": "2022-01-28T05:31:31.556Z"
   },
   {
    "duration": 27,
    "start_time": "2022-01-28T05:31:31.618Z"
   },
   {
    "duration": 94,
    "start_time": "2022-01-28T05:31:31.647Z"
   },
   {
    "duration": 9,
    "start_time": "2022-01-28T05:31:31.743Z"
   },
   {
    "duration": 186,
    "start_time": "2022-01-28T05:31:31.753Z"
   },
   {
    "duration": 235,
    "start_time": "2022-01-28T05:31:31.941Z"
   },
   {
    "duration": 9,
    "start_time": "2022-01-28T05:31:32.177Z"
   },
   {
    "duration": 240,
    "start_time": "2022-01-28T05:31:32.187Z"
   },
   {
    "duration": 11,
    "start_time": "2022-01-28T05:31:32.428Z"
   },
   {
    "duration": 375,
    "start_time": "2022-01-28T05:31:32.440Z"
   },
   {
    "duration": 11,
    "start_time": "2022-01-28T05:31:32.817Z"
   },
   {
    "duration": 202,
    "start_time": "2022-01-28T05:31:32.829Z"
   },
   {
    "duration": 3,
    "start_time": "2022-01-28T05:31:33.033Z"
   },
   {
    "duration": 13,
    "start_time": "2022-01-28T05:31:33.037Z"
   },
   {
    "duration": 4,
    "start_time": "2022-01-28T05:31:33.051Z"
   },
   {
    "duration": 9,
    "start_time": "2022-01-28T05:31:33.056Z"
   },
   {
    "duration": 4,
    "start_time": "2022-01-28T05:31:33.067Z"
   },
   {
    "duration": 69,
    "start_time": "2022-01-28T05:32:09.164Z"
   },
   {
    "duration": 307,
    "start_time": "2022-01-28T05:59:51.906Z"
   },
   {
    "duration": 144,
    "start_time": "2022-01-28T05:59:54.572Z"
   },
   {
    "duration": 40,
    "start_time": "2022-01-28T06:10:02.915Z"
   },
   {
    "duration": 24,
    "start_time": "2022-01-28T06:10:13.133Z"
   },
   {
    "duration": 42,
    "start_time": "2022-01-28T06:12:39.125Z"
   },
   {
    "duration": 24,
    "start_time": "2022-01-28T06:25:48.046Z"
   },
   {
    "duration": 22,
    "start_time": "2022-01-28T06:26:24.082Z"
   },
   {
    "duration": 25,
    "start_time": "2022-01-28T06:26:48.874Z"
   },
   {
    "duration": 1156,
    "start_time": "2022-01-28T06:27:28.878Z"
   },
   {
    "duration": 325,
    "start_time": "2022-01-28T06:27:30.036Z"
   },
   {
    "duration": 2,
    "start_time": "2022-01-28T06:27:30.363Z"
   },
   {
    "duration": 13,
    "start_time": "2022-01-28T06:27:30.367Z"
   },
   {
    "duration": 21,
    "start_time": "2022-01-28T06:27:30.381Z"
   },
   {
    "duration": 15,
    "start_time": "2022-01-28T06:27:30.404Z"
   },
   {
    "duration": 21,
    "start_time": "2022-01-28T06:27:30.421Z"
   },
   {
    "duration": 282,
    "start_time": "2022-01-28T06:27:30.444Z"
   },
   {
    "duration": -120,
    "start_time": "2022-01-28T06:27:30.848Z"
   },
   {
    "duration": -122,
    "start_time": "2022-01-28T06:27:30.851Z"
   },
   {
    "duration": -124,
    "start_time": "2022-01-28T06:27:30.854Z"
   },
   {
    "duration": -127,
    "start_time": "2022-01-28T06:27:30.858Z"
   },
   {
    "duration": -128,
    "start_time": "2022-01-28T06:27:30.860Z"
   },
   {
    "duration": -130,
    "start_time": "2022-01-28T06:27:30.863Z"
   },
   {
    "duration": -131,
    "start_time": "2022-01-28T06:27:30.865Z"
   },
   {
    "duration": -133,
    "start_time": "2022-01-28T06:27:30.868Z"
   },
   {
    "duration": -136,
    "start_time": "2022-01-28T06:27:30.871Z"
   },
   {
    "duration": -139,
    "start_time": "2022-01-28T06:27:30.875Z"
   },
   {
    "duration": -141,
    "start_time": "2022-01-28T06:27:30.878Z"
   },
   {
    "duration": -142,
    "start_time": "2022-01-28T06:27:30.880Z"
   },
   {
    "duration": -144,
    "start_time": "2022-01-28T06:27:30.883Z"
   },
   {
    "duration": -145,
    "start_time": "2022-01-28T06:27:30.885Z"
   },
   {
    "duration": -147,
    "start_time": "2022-01-28T06:27:30.888Z"
   },
   {
    "duration": 29,
    "start_time": "2022-01-28T06:27:34.236Z"
   },
   {
    "duration": 4,
    "start_time": "2022-01-28T06:28:04.172Z"
   },
   {
    "duration": 329,
    "start_time": "2022-01-28T06:28:04.177Z"
   },
   {
    "duration": 2,
    "start_time": "2022-01-28T06:28:04.508Z"
   },
   {
    "duration": 13,
    "start_time": "2022-01-28T06:28:04.512Z"
   },
   {
    "duration": 16,
    "start_time": "2022-01-28T06:28:04.526Z"
   },
   {
    "duration": 7,
    "start_time": "2022-01-28T06:28:04.544Z"
   },
   {
    "duration": 13,
    "start_time": "2022-01-28T06:28:04.552Z"
   },
   {
    "duration": 186,
    "start_time": "2022-01-28T06:28:04.566Z"
   },
   {
    "duration": -92,
    "start_time": "2022-01-28T06:28:04.847Z"
   },
   {
    "duration": -93,
    "start_time": "2022-01-28T06:28:04.849Z"
   },
   {
    "duration": -94,
    "start_time": "2022-01-28T06:28:04.852Z"
   },
   {
    "duration": -96,
    "start_time": "2022-01-28T06:28:04.855Z"
   },
   {
    "duration": -99,
    "start_time": "2022-01-28T06:28:04.859Z"
   },
   {
    "duration": -101,
    "start_time": "2022-01-28T06:28:04.862Z"
   },
   {
    "duration": -102,
    "start_time": "2022-01-28T06:28:04.864Z"
   },
   {
    "duration": -104,
    "start_time": "2022-01-28T06:28:04.867Z"
   },
   {
    "duration": -130,
    "start_time": "2022-01-28T06:28:04.894Z"
   },
   {
    "duration": -132,
    "start_time": "2022-01-28T06:28:04.897Z"
   },
   {
    "duration": -135,
    "start_time": "2022-01-28T06:28:04.901Z"
   },
   {
    "duration": -146,
    "start_time": "2022-01-28T06:28:04.913Z"
   },
   {
    "duration": -148,
    "start_time": "2022-01-28T06:28:04.916Z"
   },
   {
    "duration": -150,
    "start_time": "2022-01-28T06:28:04.919Z"
   },
   {
    "duration": -151,
    "start_time": "2022-01-28T06:28:04.921Z"
   },
   {
    "duration": 1101,
    "start_time": "2022-01-28T06:28:18.840Z"
   },
   {
    "duration": 322,
    "start_time": "2022-01-28T06:28:19.943Z"
   },
   {
    "duration": 2,
    "start_time": "2022-01-28T06:28:20.267Z"
   },
   {
    "duration": 11,
    "start_time": "2022-01-28T06:28:20.271Z"
   },
   {
    "duration": 16,
    "start_time": "2022-01-28T06:28:20.283Z"
   },
   {
    "duration": 9,
    "start_time": "2022-01-28T06:28:20.301Z"
   },
   {
    "duration": 13,
    "start_time": "2022-01-28T06:28:20.311Z"
   },
   {
    "duration": 267,
    "start_time": "2022-01-28T06:28:20.326Z"
   },
   {
    "duration": -159,
    "start_time": "2022-01-28T06:28:20.754Z"
   },
   {
    "duration": -183,
    "start_time": "2022-01-28T06:28:20.779Z"
   },
   {
    "duration": -185,
    "start_time": "2022-01-28T06:28:20.782Z"
   },
   {
    "duration": -186,
    "start_time": "2022-01-28T06:28:20.784Z"
   },
   {
    "duration": -188,
    "start_time": "2022-01-28T06:28:20.787Z"
   },
   {
    "duration": -204,
    "start_time": "2022-01-28T06:28:20.804Z"
   },
   {
    "duration": -215,
    "start_time": "2022-01-28T06:28:20.815Z"
   },
   {
    "duration": -222,
    "start_time": "2022-01-28T06:28:20.823Z"
   },
   {
    "duration": -232,
    "start_time": "2022-01-28T06:28:20.834Z"
   },
   {
    "duration": -235,
    "start_time": "2022-01-28T06:28:20.838Z"
   },
   {
    "duration": -241,
    "start_time": "2022-01-28T06:28:20.845Z"
   },
   {
    "duration": -254,
    "start_time": "2022-01-28T06:28:20.860Z"
   },
   {
    "duration": -266,
    "start_time": "2022-01-28T06:28:20.872Z"
   },
   {
    "duration": -271,
    "start_time": "2022-01-28T06:28:20.878Z"
   },
   {
    "duration": -281,
    "start_time": "2022-01-28T06:28:20.889Z"
   },
   {
    "duration": -285,
    "start_time": "2022-01-28T06:28:20.894Z"
   },
   {
    "duration": -298,
    "start_time": "2022-01-28T06:28:20.908Z"
   },
   {
    "duration": -309,
    "start_time": "2022-01-28T06:28:20.920Z"
   },
   {
    "duration": -313,
    "start_time": "2022-01-28T06:28:20.925Z"
   },
   {
    "duration": -324,
    "start_time": "2022-01-28T06:28:20.937Z"
   },
   {
    "duration": -330,
    "start_time": "2022-01-28T06:28:20.943Z"
   },
   {
    "duration": -332,
    "start_time": "2022-01-28T06:28:20.946Z"
   },
   {
    "duration": -334,
    "start_time": "2022-01-28T06:28:20.949Z"
   },
   {
    "duration": -335,
    "start_time": "2022-01-28T06:28:20.951Z"
   },
   {
    "duration": -337,
    "start_time": "2022-01-28T06:28:20.954Z"
   },
   {
    "duration": -340,
    "start_time": "2022-01-28T06:28:20.958Z"
   },
   {
    "duration": -342,
    "start_time": "2022-01-28T06:28:20.961Z"
   },
   {
    "duration": -344,
    "start_time": "2022-01-28T06:28:20.964Z"
   },
   {
    "duration": -356,
    "start_time": "2022-01-28T06:28:20.978Z"
   },
   {
    "duration": -361,
    "start_time": "2022-01-28T06:28:20.983Z"
   },
   {
    "duration": -362,
    "start_time": "2022-01-28T06:28:20.985Z"
   },
   {
    "duration": -364,
    "start_time": "2022-01-28T06:28:20.988Z"
   },
   {
    "duration": -367,
    "start_time": "2022-01-28T06:28:20.992Z"
   },
   {
    "duration": -370,
    "start_time": "2022-01-28T06:28:20.996Z"
   },
   {
    "duration": -372,
    "start_time": "2022-01-28T06:28:20.999Z"
   },
   {
    "duration": -384,
    "start_time": "2022-01-28T06:28:21.012Z"
   },
   {
    "duration": -387,
    "start_time": "2022-01-28T06:28:21.016Z"
   },
   {
    "duration": -388,
    "start_time": "2022-01-28T06:28:21.018Z"
   },
   {
    "duration": -390,
    "start_time": "2022-01-28T06:28:21.021Z"
   },
   {
    "duration": 135,
    "start_time": "2022-01-28T06:28:50.837Z"
   },
   {
    "duration": 10,
    "start_time": "2022-01-28T06:28:54.655Z"
   },
   {
    "duration": 11,
    "start_time": "2022-01-28T06:28:54.667Z"
   },
   {
    "duration": 18,
    "start_time": "2022-01-28T06:28:54.681Z"
   },
   {
    "duration": 7,
    "start_time": "2022-01-28T06:28:54.701Z"
   },
   {
    "duration": 187,
    "start_time": "2022-01-28T06:28:54.709Z"
   },
   {
    "duration": 32,
    "start_time": "2022-01-28T06:28:54.898Z"
   },
   {
    "duration": 23,
    "start_time": "2022-01-28T06:28:54.932Z"
   },
   {
    "duration": 41,
    "start_time": "2022-01-28T06:28:54.957Z"
   },
   {
    "duration": 13,
    "start_time": "2022-01-28T06:28:55.000Z"
   },
   {
    "duration": 7,
    "start_time": "2022-01-28T06:28:55.015Z"
   },
   {
    "duration": 24,
    "start_time": "2022-01-28T06:28:55.023Z"
   },
   {
    "duration": 14,
    "start_time": "2022-01-28T06:28:55.048Z"
   },
   {
    "duration": 40,
    "start_time": "2022-01-28T06:28:55.063Z"
   },
   {
    "duration": 170,
    "start_time": "2022-01-28T06:28:55.105Z"
   },
   {
    "duration": 36,
    "start_time": "2022-01-28T06:28:55.277Z"
   },
   {
    "duration": 27,
    "start_time": "2022-01-28T06:28:55.315Z"
   },
   {
    "duration": 9,
    "start_time": "2022-01-28T06:28:55.344Z"
   },
   {
    "duration": 67,
    "start_time": "2022-01-28T06:28:55.355Z"
   },
   {
    "duration": 18,
    "start_time": "2022-01-28T06:28:55.424Z"
   },
   {
    "duration": 27,
    "start_time": "2022-01-28T06:28:55.444Z"
   },
   {
    "duration": 49,
    "start_time": "2022-01-28T06:28:55.473Z"
   },
   {
    "duration": 37,
    "start_time": "2022-01-28T06:28:55.523Z"
   },
   {
    "duration": 54,
    "start_time": "2022-01-28T06:28:55.561Z"
   },
   {
    "duration": 27,
    "start_time": "2022-01-28T06:28:55.617Z"
   },
   {
    "duration": 86,
    "start_time": "2022-01-28T06:28:55.646Z"
   },
   {
    "duration": 8,
    "start_time": "2022-01-28T06:28:55.734Z"
   },
   {
    "duration": 193,
    "start_time": "2022-01-28T06:28:55.745Z"
   },
   {
    "duration": 228,
    "start_time": "2022-01-28T06:28:55.940Z"
   },
   {
    "duration": 9,
    "start_time": "2022-01-28T06:28:56.170Z"
   },
   {
    "duration": 185,
    "start_time": "2022-01-28T06:28:56.181Z"
   },
   {
    "duration": 11,
    "start_time": "2022-01-28T06:28:56.367Z"
   },
   {
    "duration": 230,
    "start_time": "2022-01-28T06:28:56.380Z"
   },
   {
    "duration": 9,
    "start_time": "2022-01-28T06:28:56.612Z"
   },
   {
    "duration": 283,
    "start_time": "2022-01-28T06:28:56.622Z"
   },
   {
    "duration": 2,
    "start_time": "2022-01-28T06:28:56.908Z"
   },
   {
    "duration": 17,
    "start_time": "2022-01-28T06:28:56.913Z"
   },
   {
    "duration": 6,
    "start_time": "2022-01-28T06:28:56.935Z"
   },
   {
    "duration": 8,
    "start_time": "2022-01-28T06:28:56.943Z"
   },
   {
    "duration": 5,
    "start_time": "2022-01-28T06:28:56.953Z"
   },
   {
    "duration": 15,
    "start_time": "2022-01-28T06:31:44.901Z"
   },
   {
    "duration": 18,
    "start_time": "2022-01-28T06:33:35.191Z"
   },
   {
    "duration": 18,
    "start_time": "2022-01-28T06:33:47.114Z"
   },
   {
    "duration": 24,
    "start_time": "2022-01-28T06:34:24.693Z"
   },
   {
    "duration": 22,
    "start_time": "2022-01-28T06:37:42.399Z"
   },
   {
    "duration": 160,
    "start_time": "2022-01-28T06:46:39.285Z"
   },
   {
    "duration": 67,
    "start_time": "2022-01-28T07:59:44.973Z"
   },
   {
    "duration": 171,
    "start_time": "2022-01-28T07:59:48.998Z"
   },
   {
    "duration": 146,
    "start_time": "2022-01-28T08:02:10.465Z"
   },
   {
    "duration": 38,
    "start_time": "2022-01-28T08:09:13.465Z"
   },
   {
    "duration": 36,
    "start_time": "2022-01-28T08:09:38.810Z"
   },
   {
    "duration": 27,
    "start_time": "2022-01-28T08:47:51.698Z"
   },
   {
    "duration": 21,
    "start_time": "2022-01-28T08:49:06.385Z"
   },
   {
    "duration": 200,
    "start_time": "2022-01-28T08:49:49.096Z"
   },
   {
    "duration": 25,
    "start_time": "2022-01-28T08:50:01.215Z"
   },
   {
    "duration": 20,
    "start_time": "2022-01-28T08:52:44.695Z"
   },
   {
    "duration": 21,
    "start_time": "2022-01-28T08:52:55.076Z"
   },
   {
    "duration": 1186,
    "start_time": "2022-01-28T08:53:04.285Z"
   },
   {
    "duration": 323,
    "start_time": "2022-01-28T08:53:05.474Z"
   },
   {
    "duration": 3,
    "start_time": "2022-01-28T08:53:05.799Z"
   },
   {
    "duration": 16,
    "start_time": "2022-01-28T08:53:05.804Z"
   },
   {
    "duration": 24,
    "start_time": "2022-01-28T08:53:05.823Z"
   },
   {
    "duration": 18,
    "start_time": "2022-01-28T08:53:05.850Z"
   },
   {
    "duration": 22,
    "start_time": "2022-01-28T08:53:05.870Z"
   },
   {
    "duration": 157,
    "start_time": "2022-01-28T08:53:05.895Z"
   },
   {
    "duration": 9,
    "start_time": "2022-01-28T08:53:06.055Z"
   },
   {
    "duration": 13,
    "start_time": "2022-01-28T08:53:06.066Z"
   },
   {
    "duration": 20,
    "start_time": "2022-01-28T08:53:06.097Z"
   },
   {
    "duration": 8,
    "start_time": "2022-01-28T08:53:06.121Z"
   },
   {
    "duration": 203,
    "start_time": "2022-01-28T08:53:06.131Z"
   },
   {
    "duration": 36,
    "start_time": "2022-01-28T08:53:06.336Z"
   },
   {
    "duration": 49,
    "start_time": "2022-01-28T08:53:06.375Z"
   },
   {
    "duration": 25,
    "start_time": "2022-01-28T08:53:06.426Z"
   },
   {
    "duration": 45,
    "start_time": "2022-01-28T08:53:06.453Z"
   },
   {
    "duration": 6,
    "start_time": "2022-01-28T08:53:06.500Z"
   },
   {
    "duration": 40,
    "start_time": "2022-01-28T08:53:06.508Z"
   },
   {
    "duration": 20,
    "start_time": "2022-01-28T08:53:06.550Z"
   },
   {
    "duration": 12,
    "start_time": "2022-01-28T08:53:06.572Z"
   },
   {
    "duration": 186,
    "start_time": "2022-01-28T08:53:06.586Z"
   },
   {
    "duration": 33,
    "start_time": "2022-01-28T08:53:06.776Z"
   },
   {
    "duration": 190,
    "start_time": "2022-01-28T08:53:06.812Z"
   },
   {
    "duration": 20,
    "start_time": "2022-01-28T08:53:07.004Z"
   },
   {
    "duration": 10,
    "start_time": "2022-01-28T08:53:07.026Z"
   },
   {
    "duration": 89,
    "start_time": "2022-01-28T08:53:07.038Z"
   },
   {
    "duration": 21,
    "start_time": "2022-01-28T08:53:07.129Z"
   },
   {
    "duration": 54,
    "start_time": "2022-01-28T08:53:07.152Z"
   },
   {
    "duration": 31,
    "start_time": "2022-01-28T08:53:07.208Z"
   },
   {
    "duration": 22,
    "start_time": "2022-01-28T08:53:07.241Z"
   },
   {
    "duration": 68,
    "start_time": "2022-01-28T08:53:07.265Z"
   },
   {
    "duration": 32,
    "start_time": "2022-01-28T08:53:07.335Z"
   },
   {
    "duration": 106,
    "start_time": "2022-01-28T08:53:07.397Z"
   },
   {
    "duration": 10,
    "start_time": "2022-01-28T08:53:07.506Z"
   },
   {
    "duration": 215,
    "start_time": "2022-01-28T08:53:07.518Z"
   },
   {
    "duration": 259,
    "start_time": "2022-01-28T08:53:07.735Z"
   },
   {
    "duration": 11,
    "start_time": "2022-01-28T08:53:07.996Z"
   },
   {
    "duration": 221,
    "start_time": "2022-01-28T08:53:08.010Z"
   },
   {
    "duration": 18,
    "start_time": "2022-01-28T08:53:08.233Z"
   },
   {
    "duration": 360,
    "start_time": "2022-01-28T08:53:08.254Z"
   },
   {
    "duration": 14,
    "start_time": "2022-01-28T08:53:08.617Z"
   },
   {
    "duration": 246,
    "start_time": "2022-01-28T08:53:08.634Z"
   },
   {
    "duration": 3,
    "start_time": "2022-01-28T08:53:08.882Z"
   },
   {
    "duration": 11,
    "start_time": "2022-01-28T08:53:08.897Z"
   },
   {
    "duration": 9,
    "start_time": "2022-01-28T08:53:08.911Z"
   },
   {
    "duration": 10,
    "start_time": "2022-01-28T08:53:08.922Z"
   },
   {
    "duration": 11,
    "start_time": "2022-01-28T08:53:08.935Z"
   },
   {
    "duration": 179,
    "start_time": "2022-01-28T08:59:20.393Z"
   },
   {
    "duration": 305,
    "start_time": "2022-01-28T19:36:09.907Z"
   },
   {
    "duration": 1148,
    "start_time": "2022-01-28T19:36:13.824Z"
   },
   {
    "duration": 356,
    "start_time": "2022-01-28T19:36:14.974Z"
   },
   {
    "duration": 3,
    "start_time": "2022-01-28T19:36:15.332Z"
   },
   {
    "duration": 10,
    "start_time": "2022-01-28T19:36:15.337Z"
   },
   {
    "duration": 15,
    "start_time": "2022-01-28T19:36:15.348Z"
   },
   {
    "duration": 11,
    "start_time": "2022-01-28T19:36:15.365Z"
   },
   {
    "duration": 12,
    "start_time": "2022-01-28T19:36:15.378Z"
   },
   {
    "duration": 156,
    "start_time": "2022-01-28T19:36:15.392Z"
   },
   {
    "duration": 12,
    "start_time": "2022-01-28T19:36:15.550Z"
   },
   {
    "duration": 11,
    "start_time": "2022-01-28T19:36:15.564Z"
   },
   {
    "duration": 15,
    "start_time": "2022-01-28T19:36:15.577Z"
   },
   {
    "duration": 8,
    "start_time": "2022-01-28T19:36:15.594Z"
   },
   {
    "duration": 190,
    "start_time": "2022-01-28T19:36:15.604Z"
   },
   {
    "duration": 31,
    "start_time": "2022-01-28T19:36:15.796Z"
   },
   {
    "duration": 37,
    "start_time": "2022-01-28T19:36:15.829Z"
   },
   {
    "duration": 171,
    "start_time": "2022-01-28T19:36:15.868Z"
   },
   {
    "duration": 19,
    "start_time": "2022-01-28T19:36:16.041Z"
   },
   {
    "duration": 6,
    "start_time": "2022-01-28T19:36:16.062Z"
   },
   {
    "duration": 21,
    "start_time": "2022-01-28T19:36:16.069Z"
   },
   {
    "duration": 12,
    "start_time": "2022-01-28T19:36:16.092Z"
   },
   {
    "duration": 9,
    "start_time": "2022-01-28T19:36:16.106Z"
   },
   {
    "duration": 187,
    "start_time": "2022-01-28T19:36:16.117Z"
   },
   {
    "duration": 23,
    "start_time": "2022-01-28T19:36:16.307Z"
   },
   {
    "duration": 152,
    "start_time": "2022-01-28T19:36:19.011Z"
   },
   {
    "duration": 19,
    "start_time": "2022-01-28T19:39:19.207Z"
   },
   {
    "duration": 234,
    "start_time": "2022-01-28T23:41:04.872Z"
   },
   {
    "duration": 1135,
    "start_time": "2022-01-28T23:41:19.563Z"
   },
   {
    "duration": 322,
    "start_time": "2022-01-28T23:41:20.700Z"
   },
   {
    "duration": 2,
    "start_time": "2022-01-28T23:41:21.024Z"
   },
   {
    "duration": 14,
    "start_time": "2022-01-28T23:41:21.029Z"
   },
   {
    "duration": 15,
    "start_time": "2022-01-28T23:41:21.045Z"
   },
   {
    "duration": 7,
    "start_time": "2022-01-28T23:41:21.062Z"
   },
   {
    "duration": 14,
    "start_time": "2022-01-28T23:41:21.071Z"
   },
   {
    "duration": 153,
    "start_time": "2022-01-28T23:41:21.088Z"
   },
   {
    "duration": 8,
    "start_time": "2022-01-28T23:41:21.243Z"
   },
   {
    "duration": 11,
    "start_time": "2022-01-28T23:41:21.259Z"
   },
   {
    "duration": 19,
    "start_time": "2022-01-28T23:41:21.272Z"
   },
   {
    "duration": 8,
    "start_time": "2022-01-28T23:41:21.294Z"
   },
   {
    "duration": 183,
    "start_time": "2022-01-28T23:41:21.303Z"
   },
   {
    "duration": 32,
    "start_time": "2022-01-28T23:41:21.488Z"
   },
   {
    "duration": 38,
    "start_time": "2022-01-28T23:41:21.521Z"
   },
   {
    "duration": 173,
    "start_time": "2022-01-28T23:41:21.561Z"
   },
   {
    "duration": 11,
    "start_time": "2022-01-28T23:41:21.736Z"
   },
   {
    "duration": 14,
    "start_time": "2022-01-28T23:41:21.749Z"
   },
   {
    "duration": 24,
    "start_time": "2022-01-28T23:41:21.765Z"
   },
   {
    "duration": 16,
    "start_time": "2022-01-28T23:41:21.791Z"
   },
   {
    "duration": 7,
    "start_time": "2022-01-28T23:41:21.809Z"
   },
   {
    "duration": 190,
    "start_time": "2022-01-28T23:41:21.818Z"
   },
   {
    "duration": 28,
    "start_time": "2022-01-28T23:41:22.013Z"
   },
   {
    "duration": 165,
    "start_time": "2022-01-28T23:41:22.044Z"
   },
   {
    "duration": 17,
    "start_time": "2022-01-28T23:41:22.211Z"
   },
   {
    "duration": 8,
    "start_time": "2022-01-28T23:41:22.230Z"
   },
   {
    "duration": 43,
    "start_time": "2022-01-28T23:41:22.260Z"
   },
   {
    "duration": 18,
    "start_time": "2022-01-28T23:41:22.304Z"
   },
   {
    "duration": 51,
    "start_time": "2022-01-28T23:41:22.323Z"
   },
   {
    "duration": 28,
    "start_time": "2022-01-28T23:41:22.375Z"
   },
   {
    "duration": 20,
    "start_time": "2022-01-28T23:41:22.404Z"
   },
   {
    "duration": 58,
    "start_time": "2022-01-28T23:41:22.426Z"
   },
   {
    "duration": 26,
    "start_time": "2022-01-28T23:41:22.486Z"
   },
   {
    "duration": 84,
    "start_time": "2022-01-28T23:41:22.514Z"
   },
   {
    "duration": 7,
    "start_time": "2022-01-28T23:41:22.600Z"
   },
   {
    "duration": 189,
    "start_time": "2022-01-28T23:41:22.609Z"
   },
   {
    "duration": 217,
    "start_time": "2022-01-28T23:41:22.800Z"
   },
   {
    "duration": 9,
    "start_time": "2022-01-28T23:41:23.018Z"
   },
   {
    "duration": 252,
    "start_time": "2022-01-28T23:41:23.028Z"
   },
   {
    "duration": 11,
    "start_time": "2022-01-28T23:41:23.282Z"
   },
   {
    "duration": 230,
    "start_time": "2022-01-28T23:41:23.294Z"
   },
   {
    "duration": 8,
    "start_time": "2022-01-28T23:41:23.526Z"
   },
   {
    "duration": 188,
    "start_time": "2022-01-28T23:41:23.536Z"
   },
   {
    "duration": 2,
    "start_time": "2022-01-28T23:41:23.726Z"
   },
   {
    "duration": 11,
    "start_time": "2022-01-28T23:41:23.729Z"
   },
   {
    "duration": 2,
    "start_time": "2022-01-28T23:41:23.742Z"
   },
   {
    "duration": 2,
    "start_time": "2022-01-28T23:41:23.759Z"
   },
   {
    "duration": 6,
    "start_time": "2022-01-28T23:41:23.763Z"
   },
   {
    "duration": 205,
    "start_time": "2022-01-28T23:43:08.316Z"
   },
   {
    "duration": 177,
    "start_time": "2022-01-28T23:44:55.046Z"
   },
   {
    "duration": 150,
    "start_time": "2022-01-28T23:45:12.585Z"
   },
   {
    "duration": 17,
    "start_time": "2022-01-28T23:45:36.856Z"
   },
   {
    "duration": 162,
    "start_time": "2022-01-28T23:45:51.736Z"
   },
   {
    "duration": 204,
    "start_time": "2022-01-28T23:46:54.649Z"
   },
   {
    "duration": 176,
    "start_time": "2022-01-28T23:47:06.783Z"
   },
   {
    "duration": 3270,
    "start_time": "2022-01-28T23:47:13.379Z"
   },
   {
    "duration": 2376,
    "start_time": "2022-01-28T23:47:21.826Z"
   },
   {
    "duration": 3316,
    "start_time": "2022-01-28T23:49:15.260Z"
   },
   {
    "duration": 6,
    "start_time": "2022-01-28T23:49:51.954Z"
   },
   {
    "duration": 7,
    "start_time": "2022-01-28T23:51:20.767Z"
   },
   {
    "duration": 153,
    "start_time": "2022-01-28T23:52:03.821Z"
   },
   {
    "duration": 178,
    "start_time": "2022-01-28T23:52:42.553Z"
   },
   {
    "duration": 8,
    "start_time": "2022-01-28T23:53:14.922Z"
   },
   {
    "duration": 9,
    "start_time": "2022-01-28T23:53:18.592Z"
   },
   {
    "duration": 9,
    "start_time": "2022-01-28T23:53:27.956Z"
   },
   {
    "duration": 259,
    "start_time": "2022-01-28T23:54:59.143Z"
   },
   {
    "duration": 185,
    "start_time": "2022-01-28T23:55:06.664Z"
   },
   {
    "duration": 61,
    "start_time": "2022-01-28T23:55:11.888Z"
   },
   {
    "duration": 165,
    "start_time": "2022-01-28T23:55:20.527Z"
   },
   {
    "duration": 166,
    "start_time": "2022-01-28T23:55:34.584Z"
   },
   {
    "duration": 335,
    "start_time": "2022-01-28T23:55:46.784Z"
   },
   {
    "duration": 325,
    "start_time": "2022-01-28T23:55:59.760Z"
   },
   {
    "duration": 348,
    "start_time": "2022-01-28T23:56:08.860Z"
   },
   {
    "duration": 322,
    "start_time": "2022-01-28T23:56:12.812Z"
   },
   {
    "duration": 159,
    "start_time": "2022-01-28T23:56:44.538Z"
   },
   {
    "duration": 186,
    "start_time": "2022-01-28T23:56:49.030Z"
   },
   {
    "duration": 206,
    "start_time": "2022-01-28T23:57:07.988Z"
   },
   {
    "duration": 209,
    "start_time": "2022-01-28T23:57:16.944Z"
   },
   {
    "duration": 255,
    "start_time": "2022-01-28T23:57:19.951Z"
   },
   {
    "duration": 189,
    "start_time": "2022-01-28T23:57:25.297Z"
   },
   {
    "duration": 366,
    "start_time": "2022-01-28T23:57:53.880Z"
   },
   {
    "duration": 202,
    "start_time": "2022-01-28T23:58:03.874Z"
   },
   {
    "duration": 212,
    "start_time": "2022-01-28T23:58:13.296Z"
   },
   {
    "duration": 34,
    "start_time": "2022-01-28T23:59:18.118Z"
   },
   {
    "duration": 31,
    "start_time": "2022-01-28T23:59:25.091Z"
   },
   {
    "duration": 174,
    "start_time": "2022-01-28T23:59:33.640Z"
   },
   {
    "duration": 9,
    "start_time": "2022-01-28T23:59:36.279Z"
   },
   {
    "duration": 177,
    "start_time": "2022-01-29T00:01:25.221Z"
   },
   {
    "duration": 68,
    "start_time": "2022-01-29T00:01:35.638Z"
   },
   {
    "duration": 61,
    "start_time": "2022-01-29T00:01:41.508Z"
   },
   {
    "duration": 180,
    "start_time": "2022-01-29T00:01:43.800Z"
   },
   {
    "duration": 4,
    "start_time": "2022-01-29T00:01:56.401Z"
   },
   {
    "duration": 4462,
    "start_time": "2022-01-29T00:02:05.649Z"
   },
   {
    "duration": 4,
    "start_time": "2022-01-29T00:02:25.568Z"
   },
   {
    "duration": 4,
    "start_time": "2022-01-29T00:02:34.763Z"
   },
   {
    "duration": 5,
    "start_time": "2022-01-29T00:02:40.837Z"
   },
   {
    "duration": 7,
    "start_time": "2022-01-29T00:03:15.415Z"
   },
   {
    "duration": 61,
    "start_time": "2022-01-29T00:03:31.486Z"
   },
   {
    "duration": 4,
    "start_time": "2022-01-29T00:03:34.300Z"
   },
   {
    "duration": 306,
    "start_time": "2022-01-29T17:16:16.605Z"
   },
   {
    "duration": 498,
    "start_time": "2022-01-29T17:16:22.688Z"
   },
   {
    "duration": 1182,
    "start_time": "2022-01-29T17:16:27.369Z"
   },
   {
    "duration": 299,
    "start_time": "2022-01-29T17:16:28.553Z"
   },
   {
    "duration": 3,
    "start_time": "2022-01-29T17:16:28.854Z"
   },
   {
    "duration": 12,
    "start_time": "2022-01-29T17:16:28.859Z"
   },
   {
    "duration": 15,
    "start_time": "2022-01-29T17:16:28.873Z"
   },
   {
    "duration": 13,
    "start_time": "2022-01-29T17:16:28.889Z"
   },
   {
    "duration": 13,
    "start_time": "2022-01-29T17:16:28.904Z"
   },
   {
    "duration": 146,
    "start_time": "2022-01-29T17:16:28.919Z"
   },
   {
    "duration": 8,
    "start_time": "2022-01-29T17:16:29.068Z"
   },
   {
    "duration": 13,
    "start_time": "2022-01-29T17:16:29.078Z"
   },
   {
    "duration": 18,
    "start_time": "2022-01-29T17:16:29.107Z"
   },
   {
    "duration": 8,
    "start_time": "2022-01-29T17:16:29.127Z"
   },
   {
    "duration": 181,
    "start_time": "2022-01-29T17:16:29.137Z"
   },
   {
    "duration": 32,
    "start_time": "2022-01-29T17:16:29.320Z"
   },
   {
    "duration": 21,
    "start_time": "2022-01-29T17:16:29.354Z"
   },
   {
    "duration": 183,
    "start_time": "2022-01-29T17:16:29.377Z"
   },
   {
    "duration": 12,
    "start_time": "2022-01-29T17:16:29.562Z"
   },
   {
    "duration": 8,
    "start_time": "2022-01-29T17:16:29.576Z"
   },
   {
    "duration": 39,
    "start_time": "2022-01-29T17:16:29.585Z"
   },
   {
    "duration": 22,
    "start_time": "2022-01-29T17:16:29.626Z"
   },
   {
    "duration": 8,
    "start_time": "2022-01-29T17:16:29.649Z"
   },
   {
    "duration": 172,
    "start_time": "2022-01-29T17:16:29.659Z"
   },
   {
    "duration": 25,
    "start_time": "2022-01-29T17:16:29.834Z"
   },
   {
    "duration": 172,
    "start_time": "2022-01-29T17:16:29.861Z"
   },
   {
    "duration": 19,
    "start_time": "2022-01-29T17:16:30.035Z"
   },
   {
    "duration": 10,
    "start_time": "2022-01-29T17:16:30.056Z"
   },
   {
    "duration": 74,
    "start_time": "2022-01-29T17:16:30.068Z"
   },
   {
    "duration": 19,
    "start_time": "2022-01-29T17:16:30.144Z"
   },
   {
    "duration": 44,
    "start_time": "2022-01-29T17:16:30.165Z"
   },
   {
    "duration": 41,
    "start_time": "2022-01-29T17:16:30.211Z"
   },
   {
    "duration": 22,
    "start_time": "2022-01-29T17:16:30.254Z"
   },
   {
    "duration": 59,
    "start_time": "2022-01-29T17:16:30.278Z"
   },
   {
    "duration": 32,
    "start_time": "2022-01-29T17:16:30.339Z"
   },
   {
    "duration": 90,
    "start_time": "2022-01-29T17:16:30.372Z"
   },
   {
    "duration": 10,
    "start_time": "2022-01-29T17:16:30.464Z"
   },
   {
    "duration": 207,
    "start_time": "2022-01-29T17:16:30.476Z"
   },
   {
    "duration": 224,
    "start_time": "2022-01-29T17:16:30.685Z"
   },
   {
    "duration": 9,
    "start_time": "2022-01-29T17:16:30.911Z"
   },
   {
    "duration": 249,
    "start_time": "2022-01-29T17:16:30.922Z"
   },
   {
    "duration": 12,
    "start_time": "2022-01-29T17:16:31.173Z"
   },
   {
    "duration": 250,
    "start_time": "2022-01-29T17:16:31.187Z"
   },
   {
    "duration": 9,
    "start_time": "2022-01-29T17:16:31.439Z"
   },
   {
    "duration": 213,
    "start_time": "2022-01-29T17:16:31.450Z"
   },
   {
    "duration": 225,
    "start_time": "2022-01-29T17:16:31.665Z"
   },
   {
    "duration": 319,
    "start_time": "2022-01-29T17:16:34.065Z"
   },
   {
    "duration": 255,
    "start_time": "2022-01-29T17:16:40.972Z"
   },
   {
    "duration": 23,
    "start_time": "2022-01-29T17:17:33.157Z"
   },
   {
    "duration": 18,
    "start_time": "2022-01-29T17:17:58.956Z"
   },
   {
    "duration": 15,
    "start_time": "2022-01-29T17:18:26.968Z"
   },
   {
    "duration": 13,
    "start_time": "2022-01-29T17:21:28.253Z"
   },
   {
    "duration": 16,
    "start_time": "2022-01-29T17:22:18.707Z"
   },
   {
    "duration": 16,
    "start_time": "2022-01-29T17:23:48.228Z"
   },
   {
    "duration": 20,
    "start_time": "2022-01-29T17:30:19.594Z"
   },
   {
    "duration": 1212,
    "start_time": "2022-02-01T21:34:58.001Z"
   },
   {
    "duration": 330,
    "start_time": "2022-02-01T21:34:59.215Z"
   },
   {
    "duration": 3,
    "start_time": "2022-02-01T21:34:59.547Z"
   },
   {
    "duration": 15,
    "start_time": "2022-02-01T21:34:59.552Z"
   },
   {
    "duration": 20,
    "start_time": "2022-02-01T21:34:59.569Z"
   },
   {
    "duration": 9,
    "start_time": "2022-02-01T21:34:59.591Z"
   },
   {
    "duration": 13,
    "start_time": "2022-02-01T21:34:59.601Z"
   },
   {
    "duration": 148,
    "start_time": "2022-02-01T21:34:59.617Z"
   },
   {
    "duration": 8,
    "start_time": "2022-02-01T21:34:59.768Z"
   },
   {
    "duration": 14,
    "start_time": "2022-02-01T21:34:59.778Z"
   },
   {
    "duration": 24,
    "start_time": "2022-02-01T21:34:59.794Z"
   },
   {
    "duration": 10,
    "start_time": "2022-02-01T21:34:59.821Z"
   },
   {
    "duration": 177,
    "start_time": "2022-02-01T21:34:59.832Z"
   },
   {
    "duration": 46,
    "start_time": "2022-02-01T21:35:00.011Z"
   },
   {
    "duration": 22,
    "start_time": "2022-02-01T21:35:00.059Z"
   },
   {
    "duration": 200,
    "start_time": "2022-02-01T21:35:00.083Z"
   },
   {
    "duration": 13,
    "start_time": "2022-02-01T21:35:00.285Z"
   },
   {
    "duration": 30,
    "start_time": "2022-02-01T21:35:00.300Z"
   },
   {
    "duration": 35,
    "start_time": "2022-02-01T21:35:00.333Z"
   },
   {
    "duration": 6394,
    "start_time": "2022-02-01T21:35:00.370Z"
   },
   {
    "duration": -236,
    "start_time": "2022-02-01T21:35:07.003Z"
   },
   {
    "duration": -239,
    "start_time": "2022-02-01T21:35:07.007Z"
   },
   {
    "duration": -247,
    "start_time": "2022-02-01T21:35:07.016Z"
   },
   {
    "duration": -250,
    "start_time": "2022-02-01T21:35:07.020Z"
   },
   {
    "duration": -261,
    "start_time": "2022-02-01T21:35:07.032Z"
   },
   {
    "duration": -265,
    "start_time": "2022-02-01T21:35:07.037Z"
   },
   {
    "duration": -276,
    "start_time": "2022-02-01T21:35:07.049Z"
   },
   {
    "duration": -279,
    "start_time": "2022-02-01T21:35:07.053Z"
   },
   {
    "duration": -330,
    "start_time": "2022-02-01T21:35:07.105Z"
   },
   {
    "duration": -346,
    "start_time": "2022-02-01T21:35:07.122Z"
   },
   {
    "duration": -348,
    "start_time": "2022-02-01T21:35:07.125Z"
   },
   {
    "duration": -350,
    "start_time": "2022-02-01T21:35:07.128Z"
   },
   {
    "duration": -351,
    "start_time": "2022-02-01T21:35:07.130Z"
   },
   {
    "duration": -354,
    "start_time": "2022-02-01T21:35:07.134Z"
   },
   {
    "duration": -355,
    "start_time": "2022-02-01T21:35:07.136Z"
   },
   {
    "duration": -357,
    "start_time": "2022-02-01T21:35:07.139Z"
   },
   {
    "duration": -360,
    "start_time": "2022-02-01T21:35:07.142Z"
   },
   {
    "duration": -362,
    "start_time": "2022-02-01T21:35:07.145Z"
   },
   {
    "duration": -364,
    "start_time": "2022-02-01T21:35:07.148Z"
   },
   {
    "duration": -365,
    "start_time": "2022-02-01T21:35:07.150Z"
   },
   {
    "duration": -366,
    "start_time": "2022-02-01T21:35:07.153Z"
   },
   {
    "duration": -368,
    "start_time": "2022-02-01T21:35:07.156Z"
   },
   {
    "duration": -477,
    "start_time": "2022-02-01T21:35:07.266Z"
   },
   {
    "duration": -479,
    "start_time": "2022-02-01T21:35:07.269Z"
   },
   {
    "duration": -483,
    "start_time": "2022-02-01T21:35:07.274Z"
   },
   {
    "duration": -485,
    "start_time": "2022-02-01T21:35:07.277Z"
   },
   {
    "duration": -489,
    "start_time": "2022-02-01T21:35:07.281Z"
   },
   {
    "duration": -491,
    "start_time": "2022-02-01T21:35:07.284Z"
   },
   {
    "duration": -494,
    "start_time": "2022-02-01T21:35:07.288Z"
   },
   {
    "duration": -496,
    "start_time": "2022-02-01T21:35:07.291Z"
   },
   {
    "duration": -497,
    "start_time": "2022-02-01T21:35:07.293Z"
   },
   {
    "duration": -500,
    "start_time": "2022-02-01T21:35:07.297Z"
   },
   {
    "duration": 13,
    "start_time": "2022-02-01T21:35:24.631Z"
   },
   {
    "duration": 14,
    "start_time": "2022-02-01T21:35:30.400Z"
   },
   {
    "duration": 37,
    "start_time": "2022-02-01T21:35:30.416Z"
   },
   {
    "duration": 180,
    "start_time": "2022-02-01T21:35:30.456Z"
   },
   {
    "duration": 25,
    "start_time": "2022-02-01T21:35:30.638Z"
   },
   {
    "duration": 174,
    "start_time": "2022-02-01T21:35:30.664Z"
   },
   {
    "duration": 19,
    "start_time": "2022-02-01T21:35:30.840Z"
   },
   {
    "duration": 9,
    "start_time": "2022-02-01T21:35:30.860Z"
   },
   {
    "duration": 75,
    "start_time": "2022-02-01T21:35:30.871Z"
   },
   {
    "duration": 20,
    "start_time": "2022-02-01T21:35:30.948Z"
   },
   {
    "duration": 51,
    "start_time": "2022-02-01T21:35:30.970Z"
   },
   {
    "duration": 42,
    "start_time": "2022-02-01T21:35:31.024Z"
   },
   {
    "duration": 21,
    "start_time": "2022-02-01T21:35:31.068Z"
   },
   {
    "duration": 59,
    "start_time": "2022-02-01T21:35:31.090Z"
   },
   {
    "duration": 30,
    "start_time": "2022-02-01T21:35:31.150Z"
   },
   {
    "duration": 96,
    "start_time": "2022-02-01T21:35:31.183Z"
   },
   {
    "duration": 9,
    "start_time": "2022-02-01T21:35:31.280Z"
   },
   {
    "duration": 197,
    "start_time": "2022-02-01T21:35:31.290Z"
   },
   {
    "duration": 224,
    "start_time": "2022-02-01T21:35:31.489Z"
   },
   {
    "duration": 23,
    "start_time": "2022-02-01T21:35:31.718Z"
   },
   {
    "duration": 259,
    "start_time": "2022-02-01T21:35:31.742Z"
   },
   {
    "duration": 20,
    "start_time": "2022-02-01T21:35:32.003Z"
   },
   {
    "duration": 250,
    "start_time": "2022-02-01T21:35:32.025Z"
   },
   {
    "duration": 16,
    "start_time": "2022-02-01T21:35:32.279Z"
   },
   {
    "duration": 206,
    "start_time": "2022-02-01T21:35:32.297Z"
   },
   {
    "duration": 217,
    "start_time": "2022-02-01T21:35:32.505Z"
   },
   {
    "duration": 20,
    "start_time": "2022-02-01T21:35:32.725Z"
   },
   {
    "duration": 196,
    "start_time": "2022-02-01T21:35:32.746Z"
   },
   {
    "duration": 13,
    "start_time": "2022-02-01T21:35:32.944Z"
   },
   {
    "duration": 14,
    "start_time": "2022-02-01T21:35:32.959Z"
   },
   {
    "duration": 222,
    "start_time": "2022-02-01T21:35:32.974Z"
   },
   {
    "duration": 3,
    "start_time": "2022-02-01T21:35:33.197Z"
   },
   {
    "duration": 18,
    "start_time": "2022-02-01T21:35:33.201Z"
   },
   {
    "duration": 827,
    "start_time": "2022-02-02T16:42:00.936Z"
   },
   {
    "duration": 1521,
    "start_time": "2022-02-02T16:42:07.846Z"
   },
   {
    "duration": 363,
    "start_time": "2022-02-02T16:42:09.370Z"
   },
   {
    "duration": 4,
    "start_time": "2022-02-02T16:42:09.736Z"
   },
   {
    "duration": 20,
    "start_time": "2022-02-02T16:42:09.742Z"
   },
   {
    "duration": 28,
    "start_time": "2022-02-02T16:42:09.764Z"
   },
   {
    "duration": 11,
    "start_time": "2022-02-02T16:42:09.796Z"
   },
   {
    "duration": 25,
    "start_time": "2022-02-02T16:42:09.810Z"
   },
   {
    "duration": 232,
    "start_time": "2022-02-02T16:42:09.839Z"
   },
   {
    "duration": 37,
    "start_time": "2022-02-02T16:42:11.136Z"
   },
   {
    "duration": 1501,
    "start_time": "2022-02-05T02:12:36.898Z"
   },
   {
    "duration": 351,
    "start_time": "2022-02-05T02:12:38.401Z"
   },
   {
    "duration": 9,
    "start_time": "2022-02-05T02:12:38.755Z"
   },
   {
    "duration": 19,
    "start_time": "2022-02-05T02:12:38.766Z"
   },
   {
    "duration": 9,
    "start_time": "2022-02-05T02:12:38.788Z"
   },
   {
    "duration": 33,
    "start_time": "2022-02-05T02:12:38.800Z"
   },
   {
    "duration": 219,
    "start_time": "2022-02-05T02:12:38.836Z"
   },
   {
    "duration": 38,
    "start_time": "2022-02-05T02:12:39.059Z"
   },
   {
    "duration": 40,
    "start_time": "2022-02-05T02:12:39.100Z"
   },
   {
    "duration": 21,
    "start_time": "2022-02-05T02:12:39.142Z"
   },
   {
    "duration": 11,
    "start_time": "2022-02-05T02:12:39.165Z"
   },
   {
    "duration": 274,
    "start_time": "2022-02-05T02:12:39.179Z"
   },
   {
    "duration": 44,
    "start_time": "2022-02-05T02:12:39.456Z"
   },
   {
    "duration": 48,
    "start_time": "2022-02-05T02:12:39.503Z"
   },
   {
    "duration": 260,
    "start_time": "2022-02-05T02:12:39.554Z"
   },
   {
    "duration": 23,
    "start_time": "2022-02-05T02:12:39.816Z"
   },
   {
    "duration": 8,
    "start_time": "2022-02-05T02:12:39.842Z"
   },
   {
    "duration": 27,
    "start_time": "2022-02-05T02:12:39.852Z"
   },
   {
    "duration": 52,
    "start_time": "2022-02-05T02:12:39.881Z"
   },
   {
    "duration": 18,
    "start_time": "2022-02-05T02:12:39.935Z"
   },
   {
    "duration": 11,
    "start_time": "2022-02-05T02:12:39.956Z"
   },
   {
    "duration": 247,
    "start_time": "2022-02-05T02:12:39.969Z"
   },
   {
    "duration": 34,
    "start_time": "2022-02-05T02:12:40.221Z"
   },
   {
    "duration": 236,
    "start_time": "2022-02-05T02:12:40.258Z"
   },
   {
    "duration": 43,
    "start_time": "2022-02-05T02:12:40.496Z"
   },
   {
    "duration": 12,
    "start_time": "2022-02-05T02:12:40.541Z"
   },
   {
    "duration": 56,
    "start_time": "2022-02-05T02:12:40.555Z"
   },
   {
    "duration": 35,
    "start_time": "2022-02-05T02:12:40.633Z"
   },
   {
    "duration": 70,
    "start_time": "2022-02-05T02:12:40.671Z"
   },
   {
    "duration": 38,
    "start_time": "2022-02-05T02:12:40.744Z"
   },
   {
    "duration": 53,
    "start_time": "2022-02-05T02:12:40.785Z"
   },
   {
    "duration": 54,
    "start_time": "2022-02-05T02:12:40.840Z"
   },
   {
    "duration": 69,
    "start_time": "2022-02-05T02:12:40.896Z"
   },
   {
    "duration": 114,
    "start_time": "2022-02-05T02:12:40.967Z"
   },
   {
    "duration": 14,
    "start_time": "2022-02-05T02:12:41.083Z"
   },
   {
    "duration": 301,
    "start_time": "2022-02-05T02:12:41.099Z"
   },
   {
    "duration": 333,
    "start_time": "2022-02-05T02:12:41.402Z"
   },
   {
    "duration": 20,
    "start_time": "2022-02-05T02:12:41.738Z"
   },
   {
    "duration": 343,
    "start_time": "2022-02-05T02:12:41.760Z"
   },
   {
    "duration": 31,
    "start_time": "2022-02-05T02:12:42.106Z"
   },
   {
    "duration": 359,
    "start_time": "2022-02-05T02:12:42.140Z"
   },
   {
    "duration": 33,
    "start_time": "2022-02-05T02:12:42.501Z"
   },
   {
    "duration": 270,
    "start_time": "2022-02-05T02:12:42.536Z"
   },
   {
    "duration": 323,
    "start_time": "2022-02-05T02:12:42.809Z"
   },
   {
    "duration": 22,
    "start_time": "2022-02-05T02:12:43.134Z"
   },
   {
    "duration": 277,
    "start_time": "2022-02-05T02:12:43.158Z"
   },
   {
    "duration": 17,
    "start_time": "2022-02-05T02:12:43.437Z"
   },
   {
    "duration": 4,
    "start_time": "2022-02-05T02:12:43.457Z"
   },
   {
    "duration": 347,
    "start_time": "2022-02-05T02:12:43.464Z"
   },
   {
    "duration": 3,
    "start_time": "2022-02-05T02:12:43.813Z"
   },
   {
    "duration": 7,
    "start_time": "2022-02-05T02:12:43.818Z"
   },
   {
    "duration": 6,
    "start_time": "2022-02-05T02:25:25.071Z"
   },
   {
    "duration": 12,
    "start_time": "2022-02-05T02:33:56.483Z"
   },
   {
    "duration": 386,
    "start_time": "2022-02-05T02:34:10.649Z"
   },
   {
    "duration": 30,
    "start_time": "2022-02-05T02:34:16.937Z"
   },
   {
    "duration": 31,
    "start_time": "2022-02-05T02:34:27.477Z"
   },
   {
    "duration": 13,
    "start_time": "2022-02-05T02:35:47.221Z"
   },
   {
    "duration": 13,
    "start_time": "2022-02-05T02:36:04.375Z"
   },
   {
    "duration": 7,
    "start_time": "2022-02-05T02:36:11.508Z"
   },
   {
    "duration": 308,
    "start_time": "2022-02-05T19:42:33.962Z"
   },
   {
    "duration": 1548,
    "start_time": "2022-02-05T19:42:38.775Z"
   },
   {
    "duration": 367,
    "start_time": "2022-02-05T19:42:40.326Z"
   },
   {
    "duration": 9,
    "start_time": "2022-02-05T19:42:40.697Z"
   },
   {
    "duration": 20,
    "start_time": "2022-02-05T19:42:40.709Z"
   },
   {
    "duration": 9,
    "start_time": "2022-02-05T19:42:40.731Z"
   },
   {
    "duration": 19,
    "start_time": "2022-02-05T19:42:40.742Z"
   },
   {
    "duration": 242,
    "start_time": "2022-02-05T19:42:40.763Z"
   },
   {
    "duration": 51,
    "start_time": "2022-02-05T19:42:41.010Z"
   },
   {
    "duration": 18,
    "start_time": "2022-02-05T19:42:41.064Z"
   },
   {
    "duration": 48,
    "start_time": "2022-02-05T19:42:41.084Z"
   },
   {
    "duration": 12,
    "start_time": "2022-02-05T19:42:41.135Z"
   },
   {
    "duration": 267,
    "start_time": "2022-02-05T19:42:41.150Z"
   },
   {
    "duration": 53,
    "start_time": "2022-02-05T19:42:41.419Z"
   },
   {
    "duration": 26,
    "start_time": "2022-02-05T19:42:41.475Z"
   },
   {
    "duration": 259,
    "start_time": "2022-02-05T19:42:41.503Z"
   },
   {
    "duration": 17,
    "start_time": "2022-02-05T19:42:41.765Z"
   },
   {
    "duration": 9,
    "start_time": "2022-02-05T19:42:41.785Z"
   },
   {
    "duration": 57,
    "start_time": "2022-02-05T19:42:41.796Z"
   },
   {
    "duration": 18,
    "start_time": "2022-02-05T19:42:41.855Z"
   },
   {
    "duration": 19,
    "start_time": "2022-02-05T19:42:41.875Z"
   },
   {
    "duration": 43,
    "start_time": "2022-02-05T19:42:41.896Z"
   },
   {
    "duration": 256,
    "start_time": "2022-02-05T19:42:41.942Z"
   },
   {
    "duration": 44,
    "start_time": "2022-02-05T19:42:42.203Z"
   },
   {
    "duration": 234,
    "start_time": "2022-02-05T19:42:42.250Z"
   },
   {
    "duration": 45,
    "start_time": "2022-02-05T19:42:42.487Z"
   },
   {
    "duration": 13,
    "start_time": "2022-02-05T19:42:42.534Z"
   },
   {
    "duration": 57,
    "start_time": "2022-02-05T19:42:42.549Z"
   },
   {
    "duration": 24,
    "start_time": "2022-02-05T19:42:42.632Z"
   },
   {
    "duration": 37,
    "start_time": "2022-02-05T19:42:42.658Z"
   },
   {
    "duration": 63,
    "start_time": "2022-02-05T19:42:42.697Z"
   },
   {
    "duration": 30,
    "start_time": "2022-02-05T19:42:42.762Z"
   },
   {
    "duration": 80,
    "start_time": "2022-02-05T19:42:42.794Z"
   },
   {
    "duration": 78,
    "start_time": "2022-02-05T19:42:42.876Z"
   },
   {
    "duration": 216,
    "start_time": "2022-02-05T19:42:42.956Z"
   },
   {
    "duration": 62,
    "start_time": "2022-02-05T19:42:43.174Z"
   },
   {
    "duration": 501,
    "start_time": "2022-02-05T19:42:43.238Z"
   },
   {
    "duration": 339,
    "start_time": "2022-02-05T19:42:43.742Z"
   },
   {
    "duration": 21,
    "start_time": "2022-02-05T19:42:44.083Z"
   },
   {
    "duration": 334,
    "start_time": "2022-02-05T19:42:44.106Z"
   },
   {
    "duration": 17,
    "start_time": "2022-02-05T19:42:44.442Z"
   },
   {
    "duration": 359,
    "start_time": "2022-02-05T19:42:44.461Z"
   },
   {
    "duration": 28,
    "start_time": "2022-02-05T19:42:44.822Z"
   },
   {
    "duration": 292,
    "start_time": "2022-02-05T19:42:44.852Z"
   },
   {
    "duration": 333,
    "start_time": "2022-02-05T19:42:45.147Z"
   },
   {
    "duration": 22,
    "start_time": "2022-02-05T19:42:45.482Z"
   },
   {
    "duration": 261,
    "start_time": "2022-02-05T19:42:45.506Z"
   },
   {
    "duration": 20,
    "start_time": "2022-02-05T19:42:45.769Z"
   },
   {
    "duration": 5,
    "start_time": "2022-02-05T19:42:45.792Z"
   },
   {
    "duration": 375,
    "start_time": "2022-02-05T19:42:45.800Z"
   },
   {
    "duration": 7,
    "start_time": "2022-02-05T19:42:46.177Z"
   },
   {
    "duration": 17,
    "start_time": "2022-02-05T19:42:46.186Z"
   },
   {
    "duration": 316,
    "start_time": "2022-02-05T19:44:09.511Z"
   },
   {
    "duration": 11,
    "start_time": "2022-02-05T19:44:23.232Z"
   },
   {
    "duration": 1544,
    "start_time": "2022-02-05T19:44:39.879Z"
   },
   {
    "duration": 366,
    "start_time": "2022-02-05T19:44:41.426Z"
   },
   {
    "duration": 10,
    "start_time": "2022-02-05T19:44:41.795Z"
   },
   {
    "duration": 19,
    "start_time": "2022-02-05T19:44:41.807Z"
   },
   {
    "duration": 8,
    "start_time": "2022-02-05T19:44:41.828Z"
   },
   {
    "duration": 19,
    "start_time": "2022-02-05T19:44:41.839Z"
   },
   {
    "duration": 257,
    "start_time": "2022-02-05T19:44:41.861Z"
   },
   {
    "duration": 46,
    "start_time": "2022-02-05T19:44:42.121Z"
   },
   {
    "duration": 17,
    "start_time": "2022-02-05T19:44:42.169Z"
   },
   {
    "duration": 47,
    "start_time": "2022-02-05T19:44:42.188Z"
   },
   {
    "duration": 13,
    "start_time": "2022-02-05T19:44:44.794Z"
   },
   {
    "duration": 259,
    "start_time": "2022-02-05T19:45:02.005Z"
   },
   {
    "duration": 394,
    "start_time": "2022-02-05T19:45:36.232Z"
   },
   {
    "duration": 10,
    "start_time": "2022-02-05T19:45:46.368Z"
   },
   {
    "duration": 10,
    "start_time": "2022-02-05T19:45:54.945Z"
   },
   {
    "duration": 274,
    "start_time": "2022-02-05T19:47:35.807Z"
   },
   {
    "duration": 42,
    "start_time": "2022-02-05T19:47:44.713Z"
   },
   {
    "duration": 14,
    "start_time": "2022-02-05T19:48:43.606Z"
   },
   {
    "duration": 12,
    "start_time": "2022-02-05T19:49:01.022Z"
   },
   {
    "duration": 10,
    "start_time": "2022-02-05T19:49:50.749Z"
   },
   {
    "duration": 10,
    "start_time": "2022-02-05T19:50:00.802Z"
   },
   {
    "duration": 9,
    "start_time": "2022-02-05T19:50:09.600Z"
   },
   {
    "duration": 15,
    "start_time": "2022-02-05T19:51:40.523Z"
   },
   {
    "duration": 42,
    "start_time": "2022-02-05T19:51:48.922Z"
   },
   {
    "duration": 27,
    "start_time": "2022-02-05T19:51:52.032Z"
   },
   {
    "duration": 19,
    "start_time": "2022-02-05T19:52:02.011Z"
   },
   {
    "duration": 13,
    "start_time": "2022-02-05T19:52:03.351Z"
   },
   {
    "duration": 8,
    "start_time": "2022-02-05T19:52:50.128Z"
   },
   {
    "duration": 11,
    "start_time": "2022-02-05T19:52:57.695Z"
   },
   {
    "duration": 233,
    "start_time": "2022-02-05T19:53:08.380Z"
   },
   {
    "duration": 4,
    "start_time": "2022-02-05T19:53:11.576Z"
   },
   {
    "duration": 361,
    "start_time": "2022-02-05T19:53:11.583Z"
   },
   {
    "duration": 8,
    "start_time": "2022-02-05T19:53:11.947Z"
   },
   {
    "duration": 16,
    "start_time": "2022-02-05T19:53:11.958Z"
   },
   {
    "duration": 13,
    "start_time": "2022-02-05T19:53:11.976Z"
   },
   {
    "duration": 40,
    "start_time": "2022-02-05T19:53:11.992Z"
   },
   {
    "duration": 301,
    "start_time": "2022-02-05T19:53:12.037Z"
   },
   {
    "duration": 40,
    "start_time": "2022-02-05T19:53:12.341Z"
   },
   {
    "duration": 14,
    "start_time": "2022-02-05T19:53:12.383Z"
   },
   {
    "duration": 52,
    "start_time": "2022-02-05T19:53:12.400Z"
   },
   {
    "duration": 12,
    "start_time": "2022-02-05T19:53:12.455Z"
   },
   {
    "duration": 260,
    "start_time": "2022-02-05T19:53:12.469Z"
   },
   {
    "duration": 41,
    "start_time": "2022-02-05T19:53:12.733Z"
   },
   {
    "duration": 27,
    "start_time": "2022-02-05T19:53:12.777Z"
   },
   {
    "duration": 252,
    "start_time": "2022-02-05T19:53:12.833Z"
   },
   {
    "duration": 15,
    "start_time": "2022-02-05T19:53:13.087Z"
   },
   {
    "duration": 30,
    "start_time": "2022-02-05T19:53:13.104Z"
   },
   {
    "duration": 24,
    "start_time": "2022-02-05T19:53:13.137Z"
   },
   {
    "duration": 17,
    "start_time": "2022-02-05T19:53:13.166Z"
   },
   {
    "duration": 50,
    "start_time": "2022-02-05T19:53:13.186Z"
   },
   {
    "duration": 10,
    "start_time": "2022-02-05T19:53:13.238Z"
   },
   {
    "duration": 251,
    "start_time": "2022-02-05T19:53:13.251Z"
   },
   {
    "duration": 43,
    "start_time": "2022-02-05T19:53:13.505Z"
   },
   {
    "duration": 304,
    "start_time": "2022-02-05T19:53:13.550Z"
   },
   {
    "duration": 22,
    "start_time": "2022-02-05T19:53:13.857Z"
   },
   {
    "duration": 13,
    "start_time": "2022-02-05T19:53:13.882Z"
   },
   {
    "duration": 86,
    "start_time": "2022-02-05T19:53:13.897Z"
   },
   {
    "duration": 23,
    "start_time": "2022-02-05T19:53:13.986Z"
   },
   {
    "duration": 53,
    "start_time": "2022-02-05T19:53:14.011Z"
   },
   {
    "duration": 39,
    "start_time": "2022-02-05T19:53:14.066Z"
   },
   {
    "duration": 30,
    "start_time": "2022-02-05T19:53:14.133Z"
   },
   {
    "duration": 78,
    "start_time": "2022-02-05T19:53:14.165Z"
   },
   {
    "duration": 45,
    "start_time": "2022-02-05T19:53:14.245Z"
   },
   {
    "duration": 125,
    "start_time": "2022-02-05T19:53:14.292Z"
   },
   {
    "duration": 22,
    "start_time": "2022-02-05T19:53:14.420Z"
   },
   {
    "duration": 299,
    "start_time": "2022-02-05T19:53:14.444Z"
   },
   {
    "duration": 351,
    "start_time": "2022-02-05T19:53:14.746Z"
   },
   {
    "duration": 34,
    "start_time": "2022-02-05T19:53:15.100Z"
   },
   {
    "duration": 286,
    "start_time": "2022-02-05T19:53:15.136Z"
   },
   {
    "duration": 21,
    "start_time": "2022-02-05T19:53:15.424Z"
   },
   {
    "duration": 365,
    "start_time": "2022-02-05T19:53:15.447Z"
   },
   {
    "duration": 32,
    "start_time": "2022-02-05T19:53:15.815Z"
   },
   {
    "duration": 275,
    "start_time": "2022-02-05T19:53:15.850Z"
   },
   {
    "duration": 330,
    "start_time": "2022-02-05T19:53:16.127Z"
   },
   {
    "duration": 21,
    "start_time": "2022-02-05T19:53:16.459Z"
   },
   {
    "duration": 270,
    "start_time": "2022-02-05T19:53:16.483Z"
   },
   {
    "duration": 19,
    "start_time": "2022-02-05T19:53:16.755Z"
   },
   {
    "duration": 5,
    "start_time": "2022-02-05T19:53:16.776Z"
   },
   {
    "duration": 365,
    "start_time": "2022-02-05T19:53:16.784Z"
   },
   {
    "duration": 8,
    "start_time": "2022-02-05T19:53:17.151Z"
   },
   {
    "duration": 14,
    "start_time": "2022-02-05T19:53:17.161Z"
   },
   {
    "duration": 14,
    "start_time": "2022-02-05T20:14:30.207Z"
   },
   {
    "duration": 13,
    "start_time": "2022-02-05T20:15:35.139Z"
   },
   {
    "duration": 14,
    "start_time": "2022-02-05T20:15:55.855Z"
   },
   {
    "duration": 11,
    "start_time": "2022-02-05T20:18:28.751Z"
   },
   {
    "duration": 12,
    "start_time": "2022-02-05T20:18:51.924Z"
   },
   {
    "duration": 13,
    "start_time": "2022-02-05T20:19:16.468Z"
   },
   {
    "duration": 11,
    "start_time": "2022-02-05T20:19:58.655Z"
   },
   {
    "duration": 91,
    "start_time": "2022-02-05T20:20:16.580Z"
   },
   {
    "duration": 12,
    "start_time": "2022-02-05T20:20:20.671Z"
   },
   {
    "duration": 11,
    "start_time": "2022-02-05T20:20:29.950Z"
   },
   {
    "duration": 361,
    "start_time": "2022-02-05T20:26:04.532Z"
   },
   {
    "duration": 361,
    "start_time": "2022-02-05T20:26:18.697Z"
   },
   {
    "duration": 409,
    "start_time": "2022-02-05T20:26:33.061Z"
   },
   {
    "duration": 288,
    "start_time": "2022-02-05T20:26:46.530Z"
   },
   {
    "duration": 376,
    "start_time": "2022-02-05T20:26:55.495Z"
   },
   {
    "duration": 18,
    "start_time": "2022-02-05T20:28:10.659Z"
   },
   {
    "duration": 20,
    "start_time": "2022-02-05T20:29:08.897Z"
   },
   {
    "duration": 268,
    "start_time": "2022-02-05T20:40:27.672Z"
   },
   {
    "duration": 21,
    "start_time": "2022-02-05T20:41:19.916Z"
   },
   {
    "duration": 27,
    "start_time": "2022-02-05T20:41:24.686Z"
   },
   {
    "duration": 276,
    "start_time": "2022-02-05T20:42:34.326Z"
   },
   {
    "duration": 274,
    "start_time": "2022-02-05T20:42:46.465Z"
   },
   {
    "duration": 28,
    "start_time": "2022-02-05T20:43:20.791Z"
   },
   {
    "duration": 28,
    "start_time": "2022-02-05T20:49:24.285Z"
   },
   {
    "duration": 327,
    "start_time": "2022-02-05T21:55:09.733Z"
   },
   {
    "duration": 342,
    "start_time": "2022-02-05T21:55:17.197Z"
   },
   {
    "duration": 337,
    "start_time": "2022-02-05T21:55:21.091Z"
   },
   {
    "duration": 320,
    "start_time": "2022-02-05T21:55:23.995Z"
   },
   {
    "duration": 109,
    "start_time": "2022-02-05T21:55:30.936Z"
   },
   {
    "duration": 91,
    "start_time": "2022-02-05T21:55:42.963Z"
   },
   {
    "duration": 77,
    "start_time": "2022-02-05T21:55:54.415Z"
   },
   {
    "duration": 547,
    "start_time": "2022-02-05T21:56:00.336Z"
   },
   {
    "duration": 543,
    "start_time": "2022-02-05T21:56:58.804Z"
   },
   {
    "duration": 300,
    "start_time": "2022-02-05T21:57:36.600Z"
   },
   {
    "duration": 331,
    "start_time": "2022-02-05T21:57:55.205Z"
   },
   {
    "duration": 196,
    "start_time": "2022-02-05T21:58:02.744Z"
   },
   {
    "duration": 446,
    "start_time": "2022-02-05T21:58:14.895Z"
   },
   {
    "duration": 228,
    "start_time": "2022-02-05T21:58:18.494Z"
   },
   {
    "duration": 250,
    "start_time": "2022-02-05T21:59:20.418Z"
   },
   {
    "duration": 91,
    "start_time": "2022-02-05T22:00:04.066Z"
   },
   {
    "duration": 483,
    "start_time": "2022-02-05T22:00:13.325Z"
   },
   {
    "duration": 489,
    "start_time": "2022-02-05T22:06:21.443Z"
   },
   {
    "duration": 500,
    "start_time": "2022-02-05T22:06:32.843Z"
   },
   {
    "duration": 232,
    "start_time": "2022-02-05T22:08:07.312Z"
   },
   {
    "duration": 235,
    "start_time": "2022-02-05T22:08:29.720Z"
   },
   {
    "duration": 2459,
    "start_time": "2022-02-05T22:08:35.958Z"
   },
   {
    "duration": 246,
    "start_time": "2022-02-05T22:08:43.968Z"
   },
   {
    "duration": 553,
    "start_time": "2022-02-05T22:08:53.674Z"
   },
   {
    "duration": 239,
    "start_time": "2022-02-05T22:09:05.924Z"
   },
   {
    "duration": 247,
    "start_time": "2022-02-05T22:10:46.946Z"
   },
   {
    "duration": 96,
    "start_time": "2022-02-05T22:22:00.450Z"
   },
   {
    "duration": 82,
    "start_time": "2022-02-05T22:22:03.845Z"
   },
   {
    "duration": 461,
    "start_time": "2022-02-05T22:22:14.631Z"
   },
   {
    "duration": 490,
    "start_time": "2022-02-05T22:23:17.307Z"
   },
   {
    "duration": 283,
    "start_time": "2022-02-05T22:23:41.189Z"
   },
   {
    "duration": 529,
    "start_time": "2022-02-05T22:24:25.286Z"
   },
   {
    "duration": 454,
    "start_time": "2022-02-05T22:24:41.935Z"
   },
   {
    "duration": 280,
    "start_time": "2022-02-05T22:25:36.939Z"
   },
   {
    "duration": 2592,
    "start_time": "2022-02-05T22:26:04.935Z"
   },
   {
    "duration": 495,
    "start_time": "2022-02-05T22:26:34.254Z"
   },
   {
    "duration": 234,
    "start_time": "2022-02-05T22:26:49.577Z"
   },
   {
    "duration": 292,
    "start_time": "2022-02-05T22:26:55.822Z"
   },
   {
    "duration": 91,
    "start_time": "2022-02-05T22:28:40.009Z"
   },
   {
    "duration": 100,
    "start_time": "2022-02-05T22:28:51.889Z"
   },
   {
    "duration": 79,
    "start_time": "2022-02-05T22:29:07.654Z"
   },
   {
    "duration": 239,
    "start_time": "2022-02-05T22:29:11.303Z"
   },
   {
    "duration": 235,
    "start_time": "2022-02-05T22:29:21.012Z"
   },
   {
    "duration": 198,
    "start_time": "2022-02-05T22:29:37.099Z"
   },
   {
    "duration": 208,
    "start_time": "2022-02-05T22:29:48.726Z"
   },
   {
    "duration": 190,
    "start_time": "2022-02-05T22:29:52.360Z"
   },
   {
    "duration": 315,
    "start_time": "2022-02-05T22:32:01.670Z"
   },
   {
    "duration": 208,
    "start_time": "2022-02-05T22:32:21.832Z"
   },
   {
    "duration": 197,
    "start_time": "2022-02-05T22:32:26.570Z"
   },
   {
    "duration": 215,
    "start_time": "2022-02-05T22:32:33.635Z"
   },
   {
    "duration": 188,
    "start_time": "2022-02-05T22:32:38.360Z"
   },
   {
    "duration": 186,
    "start_time": "2022-02-05T22:32:44.146Z"
   },
   {
    "duration": 200,
    "start_time": "2022-02-05T22:32:50.842Z"
   },
   {
    "duration": 209,
    "start_time": "2022-02-05T22:32:54.575Z"
   },
   {
    "duration": 215,
    "start_time": "2022-02-05T22:33:04.739Z"
   },
   {
    "duration": 375,
    "start_time": "2022-02-05T22:33:10.312Z"
   },
   {
    "duration": 207,
    "start_time": "2022-02-05T22:33:13.876Z"
   },
   {
    "duration": 206,
    "start_time": "2022-02-05T22:33:17.761Z"
   },
   {
    "duration": 8,
    "start_time": "2022-02-05T22:43:55.782Z"
   },
   {
    "duration": 7,
    "start_time": "2022-02-05T22:44:09.846Z"
   },
   {
    "duration": 1374,
    "start_time": "2022-02-06T06:55:28.274Z"
   },
   {
    "duration": 416,
    "start_time": "2022-02-06T06:55:33.324Z"
   },
   {
    "duration": 9,
    "start_time": "2022-02-06T06:55:33.743Z"
   },
   {
    "duration": 21,
    "start_time": "2022-02-06T06:55:33.756Z"
   },
   {
    "duration": 10,
    "start_time": "2022-02-06T06:55:33.780Z"
   },
   {
    "duration": 21,
    "start_time": "2022-02-06T06:55:33.792Z"
   },
   {
    "duration": 269,
    "start_time": "2022-02-06T06:55:33.816Z"
   },
   {
    "duration": 60,
    "start_time": "2022-02-06T06:55:34.088Z"
   },
   {
    "duration": 14,
    "start_time": "2022-02-06T06:55:34.152Z"
   },
   {
    "duration": 23,
    "start_time": "2022-02-06T06:55:34.170Z"
   },
   {
    "duration": 13,
    "start_time": "2022-02-06T06:55:34.196Z"
   },
   {
    "duration": 296,
    "start_time": "2022-02-06T06:55:34.212Z"
   },
   {
    "duration": 59,
    "start_time": "2022-02-06T06:55:34.510Z"
   },
   {
    "duration": 27,
    "start_time": "2022-02-06T06:55:34.571Z"
   },
   {
    "duration": 288,
    "start_time": "2022-02-06T06:55:34.601Z"
   },
   {
    "duration": 16,
    "start_time": "2022-02-06T06:55:34.891Z"
   },
   {
    "duration": 12,
    "start_time": "2022-02-06T06:55:34.910Z"
   },
   {
    "duration": 49,
    "start_time": "2022-02-06T06:55:34.924Z"
   },
   {
    "duration": 17,
    "start_time": "2022-02-06T06:55:34.976Z"
   },
   {
    "duration": 57,
    "start_time": "2022-02-06T06:55:34.996Z"
   },
   {
    "duration": 13,
    "start_time": "2022-02-06T06:55:35.056Z"
   },
   {
    "duration": 261,
    "start_time": "2022-02-06T06:55:35.072Z"
   },
   {
    "duration": 43,
    "start_time": "2022-02-06T06:55:35.336Z"
   },
   {
    "duration": 245,
    "start_time": "2022-02-06T06:55:35.386Z"
   },
   {
    "duration": 23,
    "start_time": "2022-02-06T06:55:35.647Z"
   },
   {
    "duration": 17,
    "start_time": "2022-02-06T06:55:35.673Z"
   },
   {
    "duration": 87,
    "start_time": "2022-02-06T06:55:35.693Z"
   },
   {
    "duration": 24,
    "start_time": "2022-02-06T06:55:35.782Z"
   },
   {
    "duration": 62,
    "start_time": "2022-02-06T06:55:35.808Z"
   },
   {
    "duration": 36,
    "start_time": "2022-02-06T06:55:35.873Z"
   },
   {
    "duration": 49,
    "start_time": "2022-02-06T06:55:35.912Z"
   },
   {
    "duration": 51,
    "start_time": "2022-02-06T06:55:35.964Z"
   },
   {
    "duration": 66,
    "start_time": "2022-02-06T06:55:36.017Z"
   },
   {
    "duration": 114,
    "start_time": "2022-02-06T06:55:36.085Z"
   },
   {
    "duration": 14,
    "start_time": "2022-02-06T06:55:36.201Z"
   },
   {
    "duration": 304,
    "start_time": "2022-02-06T06:55:36.217Z"
   },
   {
    "duration": 361,
    "start_time": "2022-02-06T06:55:36.524Z"
   },
   {
    "duration": 21,
    "start_time": "2022-02-06T06:55:36.887Z"
   },
   {
    "duration": 50,
    "start_time": "2022-02-06T06:55:36.910Z"
   },
   {
    "duration": 329,
    "start_time": "2022-02-06T06:55:36.962Z"
   },
   {
    "duration": 16,
    "start_time": "2022-02-06T06:55:37.293Z"
   },
   {
    "duration": 391,
    "start_time": "2022-02-06T06:55:37.311Z"
   },
   {
    "duration": 17,
    "start_time": "2022-02-06T06:55:37.704Z"
   },
   {
    "duration": 41,
    "start_time": "2022-02-06T06:55:37.724Z"
   },
   {
    "duration": 268,
    "start_time": "2022-02-06T06:55:37.768Z"
   },
   {
    "duration": 312,
    "start_time": "2022-02-06T06:55:38.039Z"
   },
   {
    "duration": 17,
    "start_time": "2022-02-06T06:55:38.354Z"
   },
   {
    "duration": 28,
    "start_time": "2022-02-06T06:55:38.375Z"
   },
   {
    "duration": 275,
    "start_time": "2022-02-06T06:55:38.406Z"
   },
   {
    "duration": 21,
    "start_time": "2022-02-06T06:55:38.684Z"
   },
   {
    "duration": 6,
    "start_time": "2022-02-06T06:55:38.708Z"
   },
   {
    "duration": 213,
    "start_time": "2022-02-06T06:55:38.748Z"
   },
   {
    "duration": 8,
    "start_time": "2022-02-06T06:55:38.964Z"
   },
   {
    "duration": 10,
    "start_time": "2022-02-06T06:55:38.976Z"
   },
   {
    "duration": 15,
    "start_time": "2022-02-06T06:55:38.988Z"
   },
   {
    "duration": 7139,
    "start_time": "2022-02-06T22:55:10.867Z"
   },
   {
    "duration": 1404,
    "start_time": "2022-02-06T22:55:51.498Z"
   },
   {
    "duration": 358,
    "start_time": "2022-02-06T22:55:52.904Z"
   },
   {
    "duration": 9,
    "start_time": "2022-02-06T22:55:53.265Z"
   },
   {
    "duration": 18,
    "start_time": "2022-02-06T22:55:53.277Z"
   },
   {
    "duration": 11,
    "start_time": "2022-02-06T22:55:53.298Z"
   },
   {
    "duration": 15,
    "start_time": "2022-02-06T22:55:53.311Z"
   },
   {
    "duration": 217,
    "start_time": "2022-02-06T22:55:53.348Z"
   },
   {
    "duration": 39,
    "start_time": "2022-02-06T22:55:53.569Z"
   },
   {
    "duration": 42,
    "start_time": "2022-02-06T22:55:53.611Z"
   },
   {
    "duration": 21,
    "start_time": "2022-02-06T22:55:53.656Z"
   },
   {
    "duration": 11,
    "start_time": "2022-02-06T22:55:53.680Z"
   },
   {
    "duration": 269,
    "start_time": "2022-02-06T22:55:53.694Z"
   },
   {
    "duration": 39,
    "start_time": "2022-02-06T22:55:53.965Z"
   },
   {
    "duration": 45,
    "start_time": "2022-02-06T22:55:54.006Z"
   },
   {
    "duration": 253,
    "start_time": "2022-02-06T22:55:54.053Z"
   },
   {
    "duration": 14,
    "start_time": "2022-02-06T22:55:54.309Z"
   },
   {
    "duration": 26,
    "start_time": "2022-02-06T22:55:54.326Z"
   },
   {
    "duration": 26,
    "start_time": "2022-02-06T22:55:54.355Z"
   },
   {
    "duration": 18,
    "start_time": "2022-02-06T22:55:54.383Z"
   },
   {
    "duration": 54,
    "start_time": "2022-02-06T22:55:54.403Z"
   },
   {
    "duration": 10,
    "start_time": "2022-02-06T22:55:54.460Z"
   },
   {
    "duration": 235,
    "start_time": "2022-02-06T22:55:54.473Z"
   },
   {
    "duration": 47,
    "start_time": "2022-02-06T22:55:54.714Z"
   },
   {
    "duration": 227,
    "start_time": "2022-02-06T22:55:54.765Z"
   },
   {
    "duration": 22,
    "start_time": "2022-02-06T22:55:54.995Z"
   },
   {
    "duration": 37,
    "start_time": "2022-02-06T22:55:55.020Z"
   },
   {
    "duration": 54,
    "start_time": "2022-02-06T22:55:55.060Z"
   },
   {
    "duration": 48,
    "start_time": "2022-02-06T22:55:55.116Z"
   },
   {
    "duration": 35,
    "start_time": "2022-02-06T22:55:55.166Z"
   },
   {
    "duration": 62,
    "start_time": "2022-02-06T22:55:55.204Z"
   },
   {
    "duration": 29,
    "start_time": "2022-02-06T22:55:55.268Z"
   },
   {
    "duration": 79,
    "start_time": "2022-02-06T22:55:55.299Z"
   },
   {
    "duration": 44,
    "start_time": "2022-02-06T22:55:55.381Z"
   },
   {
    "duration": 111,
    "start_time": "2022-02-06T22:55:55.449Z"
   },
   {
    "duration": 15,
    "start_time": "2022-02-06T22:55:55.563Z"
   },
   {
    "duration": 307,
    "start_time": "2022-02-06T22:55:55.581Z"
   },
   {
    "duration": 365,
    "start_time": "2022-02-06T22:55:55.891Z"
   },
   {
    "duration": 23,
    "start_time": "2022-02-06T22:55:56.259Z"
   },
   {
    "duration": 26,
    "start_time": "2022-02-06T22:55:56.285Z"
   },
   {
    "duration": 423,
    "start_time": "2022-02-06T22:55:56.349Z"
   },
   {
    "duration": 28,
    "start_time": "2022-02-06T22:55:56.779Z"
   },
   {
    "duration": 984,
    "start_time": "2022-02-06T22:55:56.865Z"
   },
   {
    "duration": 20,
    "start_time": "2022-02-06T22:55:57.852Z"
   },
   {
    "duration": 29,
    "start_time": "2022-02-06T22:55:57.875Z"
   },
   {
    "duration": 336,
    "start_time": "2022-02-06T22:55:57.906Z"
   },
   {
    "duration": 438,
    "start_time": "2022-02-06T22:55:58.248Z"
   },
   {
    "duration": 19,
    "start_time": "2022-02-06T22:55:58.689Z"
   },
   {
    "duration": 47,
    "start_time": "2022-02-06T22:55:58.710Z"
   },
   {
    "duration": 263,
    "start_time": "2022-02-06T22:55:58.760Z"
   },
   {
    "duration": 14,
    "start_time": "2022-02-06T22:55:59.025Z"
   },
   {
    "duration": 9,
    "start_time": "2022-02-06T22:55:59.049Z"
   },
   {
    "duration": 243,
    "start_time": "2022-02-06T22:55:59.062Z"
   },
   {
    "duration": 7,
    "start_time": "2022-02-06T22:55:59.308Z"
   },
   {
    "duration": 34,
    "start_time": "2022-02-06T22:55:59.317Z"
   },
   {
    "duration": 20,
    "start_time": "2022-02-06T22:55:59.354Z"
   },
   {
    "duration": 93,
    "start_time": "2022-02-06T23:01:55.874Z"
   },
   {
    "duration": 7,
    "start_time": "2022-02-06T23:01:59.812Z"
   },
   {
    "duration": 233,
    "start_time": "2022-02-06T23:03:39.749Z"
   },
   {
    "duration": 250,
    "start_time": "2022-02-06T23:03:48.548Z"
   },
   {
    "duration": 53,
    "start_time": "2022-02-06T23:07:35.670Z"
   },
   {
    "duration": 109,
    "start_time": "2022-02-06T23:09:45.490Z"
   },
   {
    "duration": 88,
    "start_time": "2022-02-06T23:24:34.920Z"
   },
   {
    "duration": 247,
    "start_time": "2022-02-06T23:28:50.874Z"
   },
   {
    "duration": 235,
    "start_time": "2022-02-06T23:29:19.892Z"
   },
   {
    "duration": 256,
    "start_time": "2022-02-06T23:29:59.123Z"
   },
   {
    "duration": 7097,
    "start_time": "2022-02-06T23:41:21.804Z"
   },
   {
    "duration": -179,
    "start_time": "2022-02-06T23:43:07.074Z"
   },
   {
    "duration": 6946,
    "start_time": "2022-02-06T23:43:30.673Z"
   },
   {
    "duration": 298,
    "start_time": "2022-02-06T23:43:41.802Z"
   },
   {
    "duration": 4,
    "start_time": "2022-02-06T23:43:59.193Z"
   },
   {
    "duration": 408,
    "start_time": "2022-02-06T23:43:59.219Z"
   },
   {
    "duration": 9,
    "start_time": "2022-02-06T23:43:59.630Z"
   },
   {
    "duration": 14,
    "start_time": "2022-02-06T23:43:59.642Z"
   },
   {
    "duration": 9,
    "start_time": "2022-02-06T23:43:59.659Z"
   },
   {
    "duration": 16,
    "start_time": "2022-02-06T23:43:59.671Z"
   },
   {
    "duration": 225,
    "start_time": "2022-02-06T23:43:59.689Z"
   },
   {
    "duration": 53,
    "start_time": "2022-02-06T23:43:59.917Z"
   },
   {
    "duration": 14,
    "start_time": "2022-02-06T23:43:59.972Z"
   },
   {
    "duration": 22,
    "start_time": "2022-02-06T23:43:59.989Z"
   },
   {
    "duration": 44,
    "start_time": "2022-02-06T23:44:00.014Z"
   },
   {
    "duration": 250,
    "start_time": "2022-02-06T23:44:00.061Z"
   },
   {
    "duration": 54,
    "start_time": "2022-02-06T23:44:00.313Z"
   },
   {
    "duration": 26,
    "start_time": "2022-02-06T23:44:00.370Z"
   },
   {
    "duration": 270,
    "start_time": "2022-02-06T23:44:00.398Z"
   },
   {
    "duration": 14,
    "start_time": "2022-02-06T23:44:00.671Z"
   },
   {
    "duration": 16,
    "start_time": "2022-02-06T23:44:00.688Z"
   },
   {
    "duration": 46,
    "start_time": "2022-02-06T23:44:00.706Z"
   },
   {
    "duration": 16,
    "start_time": "2022-02-06T23:44:00.755Z"
   },
   {
    "duration": 18,
    "start_time": "2022-02-06T23:44:00.773Z"
   },
   {
    "duration": 16,
    "start_time": "2022-02-06T23:44:00.794Z"
   },
   {
    "duration": 267,
    "start_time": "2022-02-06T23:44:00.812Z"
   },
   {
    "duration": 30,
    "start_time": "2022-02-06T23:44:01.083Z"
   },
   {
    "duration": 243,
    "start_time": "2022-02-06T23:44:01.116Z"
   },
   {
    "duration": 23,
    "start_time": "2022-02-06T23:44:01.361Z"
   },
   {
    "duration": 12,
    "start_time": "2022-02-06T23:44:01.387Z"
   },
   {
    "duration": 75,
    "start_time": "2022-02-06T23:44:01.401Z"
   },
   {
    "duration": 25,
    "start_time": "2022-02-06T23:44:01.481Z"
   },
   {
    "duration": 60,
    "start_time": "2022-02-06T23:44:01.509Z"
   },
   {
    "duration": 38,
    "start_time": "2022-02-06T23:44:01.572Z"
   },
   {
    "duration": 75,
    "start_time": "2022-02-06T23:44:01.612Z"
   },
   {
    "duration": 80,
    "start_time": "2022-02-06T23:44:01.690Z"
   },
   {
    "duration": 46,
    "start_time": "2022-02-06T23:44:01.773Z"
   },
   {
    "duration": 340,
    "start_time": "2022-02-06T23:44:01.822Z"
   },
   {
    "duration": 21,
    "start_time": "2022-02-06T23:44:02.165Z"
   },
   {
    "duration": 825,
    "start_time": "2022-02-06T23:44:02.189Z"
   },
   {
    "duration": 381,
    "start_time": "2022-02-06T23:44:03.017Z"
   },
   {
    "duration": 23,
    "start_time": "2022-02-06T23:44:03.401Z"
   },
   {
    "duration": 33,
    "start_time": "2022-02-06T23:44:03.449Z"
   },
   {
    "duration": 273,
    "start_time": "2022-02-06T23:44:03.485Z"
   },
   {
    "duration": 17,
    "start_time": "2022-02-06T23:44:03.760Z"
   },
   {
    "duration": 405,
    "start_time": "2022-02-06T23:44:03.779Z"
   },
   {
    "duration": 18,
    "start_time": "2022-02-06T23:44:04.186Z"
   },
   {
    "duration": 45,
    "start_time": "2022-02-06T23:44:04.207Z"
   },
   {
    "duration": 390,
    "start_time": "2022-02-06T23:44:07.563Z"
   },
   {
    "duration": 321,
    "start_time": "2022-02-06T23:44:14.421Z"
   },
   {
    "duration": 248,
    "start_time": "2022-02-06T23:44:36.779Z"
   },
   {
    "duration": 8271,
    "start_time": "2022-02-06T23:47:15.406Z"
   },
   {
    "duration": 7,
    "start_time": "2022-02-06T23:47:37.092Z"
   },
   {
    "duration": 119,
    "start_time": "2022-02-06T23:47:42.102Z"
   },
   {
    "duration": 275,
    "start_time": "2022-02-06T23:48:05.995Z"
   },
   {
    "duration": 274,
    "start_time": "2022-02-06T23:48:36.594Z"
   },
   {
    "duration": 275,
    "start_time": "2022-02-06T23:48:58.366Z"
   },
   {
    "duration": 249,
    "start_time": "2022-02-06T23:49:30.018Z"
   },
   {
    "duration": 250,
    "start_time": "2022-02-06T23:53:43.152Z"
   },
   {
    "duration": 300,
    "start_time": "2022-02-06T23:53:53.451Z"
   },
   {
    "duration": 278,
    "start_time": "2022-02-06T23:56:30.536Z"
   },
   {
    "duration": 309,
    "start_time": "2022-02-06T23:56:42.732Z"
   },
   {
    "duration": 286,
    "start_time": "2022-02-06T23:56:56.056Z"
   },
   {
    "duration": 114,
    "start_time": "2022-02-06T23:57:01.441Z"
   },
   {
    "duration": 243,
    "start_time": "2022-02-06T23:57:06.456Z"
   },
   {
    "duration": 249,
    "start_time": "2022-02-06T23:57:12.331Z"
   },
   {
    "duration": 250,
    "start_time": "2022-02-06T23:57:15.301Z"
   },
   {
    "duration": 376,
    "start_time": "2022-02-06T23:57:17.375Z"
   },
   {
    "duration": 1727,
    "start_time": "2022-02-06T23:57:23.523Z"
   },
   {
    "duration": 1038,
    "start_time": "2022-02-06T23:57:29.651Z"
   },
   {
    "duration": 1932,
    "start_time": "2022-02-06T23:57:34.326Z"
   },
   {
    "duration": 1439,
    "start_time": "2022-02-06T23:57:44.381Z"
   },
   {
    "duration": 1247,
    "start_time": "2022-02-06T23:57:47.028Z"
   },
   {
    "duration": 1009,
    "start_time": "2022-02-06T23:58:10.204Z"
   },
   {
    "duration": 35,
    "start_time": "2022-02-06T23:58:48.147Z"
   },
   {
    "duration": 13,
    "start_time": "2022-02-06T23:58:57.934Z"
   },
   {
    "duration": 27,
    "start_time": "2022-02-06T23:59:06.143Z"
   },
   {
    "duration": 1220,
    "start_time": "2022-02-06T23:59:29.360Z"
   },
   {
    "duration": 912,
    "start_time": "2022-02-06T23:59:40.494Z"
   },
   {
    "duration": 880,
    "start_time": "2022-02-06T23:59:43.789Z"
   },
   {
    "duration": 734,
    "start_time": "2022-02-06T23:59:49.873Z"
   },
   {
    "duration": 734,
    "start_time": "2022-02-06T23:59:54.028Z"
   },
   {
    "duration": 975,
    "start_time": "2022-02-06T23:59:59.728Z"
   },
   {
    "duration": 694,
    "start_time": "2022-02-07T00:00:12.504Z"
   },
   {
    "duration": 675,
    "start_time": "2022-02-07T00:00:16.322Z"
   },
   {
    "duration": 379,
    "start_time": "2022-02-07T00:00:27.128Z"
   },
   {
    "duration": 352,
    "start_time": "2022-02-07T00:00:30.316Z"
   },
   {
    "duration": 297,
    "start_time": "2022-02-07T00:00:46.620Z"
   },
   {
    "duration": 450,
    "start_time": "2022-02-07T00:00:57.085Z"
   },
   {
    "duration": 240,
    "start_time": "2022-02-07T00:01:05.977Z"
   },
   {
    "duration": 527,
    "start_time": "2022-02-07T00:02:48.281Z"
   },
   {
    "duration": 571,
    "start_time": "2022-02-07T00:03:02.277Z"
   },
   {
    "duration": 104,
    "start_time": "2022-02-07T00:04:39.094Z"
   },
   {
    "duration": 41,
    "start_time": "2022-02-07T00:04:40.593Z"
   },
   {
    "duration": 4,
    "start_time": "2022-02-07T00:05:01.604Z"
   },
   {
    "duration": 308,
    "start_time": "2022-02-07T00:05:19.957Z"
   },
   {
    "duration": 293,
    "start_time": "2022-02-07T00:05:32.390Z"
   },
   {
    "duration": 325,
    "start_time": "2022-02-07T00:06:12.570Z"
   },
   {
    "duration": 6939,
    "start_time": "2022-02-07T00:06:21.275Z"
   },
   {
    "duration": 322,
    "start_time": "2022-02-07T00:07:22.263Z"
   },
   {
    "duration": 97,
    "start_time": "2022-02-07T00:08:30.189Z"
   },
   {
    "duration": 306,
    "start_time": "2022-02-07T00:08:41.782Z"
   },
   {
    "duration": 285,
    "start_time": "2022-02-07T00:11:33.352Z"
   },
   {
    "duration": 310,
    "start_time": "2022-02-07T00:11:37.233Z"
   },
   {
    "duration": 7,
    "start_time": "2022-02-07T00:14:01.065Z"
   },
   {
    "duration": 6,
    "start_time": "2022-02-07T00:14:05.980Z"
   },
   {
    "duration": 270,
    "start_time": "2022-02-07T00:14:10.902Z"
   },
   {
    "duration": 3742,
    "start_time": "2022-02-07T00:14:16.946Z"
   },
   {
    "duration": 380,
    "start_time": "2022-02-07T00:14:37.939Z"
   },
   {
    "duration": 310,
    "start_time": "2022-02-07T00:14:56.677Z"
   },
   {
    "duration": 3801,
    "start_time": "2022-02-07T00:15:10.296Z"
   },
   {
    "duration": 218,
    "start_time": "2022-02-07T00:15:46.330Z"
   },
   {
    "duration": 246,
    "start_time": "2022-02-07T00:19:06.741Z"
   },
   {
    "duration": 245,
    "start_time": "2022-02-07T00:19:32.928Z"
   },
   {
    "duration": 224,
    "start_time": "2022-02-07T00:19:43.245Z"
   },
   {
    "duration": 116,
    "start_time": "2022-02-07T00:21:22.227Z"
   },
   {
    "duration": 97,
    "start_time": "2022-02-07T00:21:25.035Z"
   },
   {
    "duration": 101,
    "start_time": "2022-02-07T00:22:35.664Z"
   },
   {
    "duration": 528,
    "start_time": "2022-02-07T00:22:41.014Z"
   },
   {
    "duration": 222,
    "start_time": "2022-02-07T00:22:58.061Z"
   },
   {
    "duration": 225,
    "start_time": "2022-02-07T00:23:13.485Z"
   },
   {
    "duration": 29,
    "start_time": "2022-02-07T00:27:36.361Z"
   },
   {
    "duration": 95,
    "start_time": "2022-02-07T00:29:31.046Z"
   },
   {
    "duration": 13,
    "start_time": "2022-02-07T00:29:34.244Z"
   },
   {
    "duration": 240,
    "start_time": "2022-02-07T00:30:31.285Z"
   },
   {
    "duration": 240,
    "start_time": "2022-02-07T00:34:08.047Z"
   },
   {
    "duration": 20,
    "start_time": "2022-02-07T00:34:17.864Z"
   },
   {
    "duration": 18,
    "start_time": "2022-02-07T00:34:36.153Z"
   },
   {
    "duration": 18,
    "start_time": "2022-02-07T00:34:50.784Z"
   },
   {
    "duration": 305,
    "start_time": "2022-02-07T00:54:41.395Z"
   },
   {
    "duration": 15,
    "start_time": "2022-02-07T00:54:57.352Z"
   },
   {
    "duration": 7,
    "start_time": "2022-02-07T00:55:29.086Z"
   },
   {
    "duration": 9,
    "start_time": "2022-02-07T00:55:33.863Z"
   },
   {
    "duration": 7181,
    "start_time": "2022-02-07T01:36:29.769Z"
   },
   {
    "duration": 7966,
    "start_time": "2022-02-07T01:38:13.246Z"
   },
   {
    "duration": 7675,
    "start_time": "2022-02-07T01:40:06.263Z"
   },
   {
    "duration": 58,
    "start_time": "2022-02-07T01:42:27.930Z"
   },
   {
    "duration": 311,
    "start_time": "2022-02-07T01:43:12.026Z"
   },
   {
    "duration": 59,
    "start_time": "2022-02-07T01:43:18.736Z"
   },
   {
    "duration": 12,
    "start_time": "2022-02-07T01:43:23.562Z"
   },
   {
    "duration": 15,
    "start_time": "2022-02-07T02:01:09.380Z"
   },
   {
    "duration": 1453,
    "start_time": "2022-02-07T02:26:03.450Z"
   },
   {
    "duration": 590,
    "start_time": "2022-02-07T02:26:04.906Z"
   },
   {
    "duration": 11,
    "start_time": "2022-02-07T02:26:05.500Z"
   },
   {
    "duration": 18,
    "start_time": "2022-02-07T02:26:05.515Z"
   },
   {
    "duration": 11,
    "start_time": "2022-02-07T02:26:05.536Z"
   },
   {
    "duration": 15,
    "start_time": "2022-02-07T02:26:05.550Z"
   },
   {
    "duration": 235,
    "start_time": "2022-02-07T02:26:05.569Z"
   },
   {
    "duration": 55,
    "start_time": "2022-02-07T02:26:05.809Z"
   },
   {
    "duration": 16,
    "start_time": "2022-02-07T02:26:05.869Z"
   },
   {
    "duration": 60,
    "start_time": "2022-02-07T02:26:05.888Z"
   },
   {
    "duration": 16,
    "start_time": "2022-02-07T02:26:05.951Z"
   },
   {
    "duration": 386,
    "start_time": "2022-02-07T02:26:05.970Z"
   },
   {
    "duration": 91,
    "start_time": "2022-02-07T02:26:06.358Z"
   },
   {
    "duration": 24,
    "start_time": "2022-02-07T02:26:06.451Z"
   },
   {
    "duration": 444,
    "start_time": "2022-02-07T02:26:06.478Z"
   },
   {
    "duration": 15,
    "start_time": "2022-02-07T02:26:06.948Z"
   },
   {
    "duration": 10,
    "start_time": "2022-02-07T02:26:06.965Z"
   },
   {
    "duration": 25,
    "start_time": "2022-02-07T02:26:06.977Z"
   },
   {
    "duration": 59,
    "start_time": "2022-02-07T02:26:07.005Z"
   },
   {
    "duration": 26,
    "start_time": "2022-02-07T02:26:07.067Z"
   },
   {
    "duration": 14,
    "start_time": "2022-02-07T02:26:07.097Z"
   },
   {
    "duration": 360,
    "start_time": "2022-02-07T02:26:07.114Z"
   },
   {
    "duration": 35,
    "start_time": "2022-02-07T02:26:07.482Z"
   },
   {
    "duration": 255,
    "start_time": "2022-02-07T02:26:07.522Z"
   },
   {
    "duration": 25,
    "start_time": "2022-02-07T02:26:07.780Z"
   },
   {
    "duration": 40,
    "start_time": "2022-02-07T02:26:07.808Z"
   },
   {
    "duration": 53,
    "start_time": "2022-02-07T02:26:07.851Z"
   },
   {
    "duration": 54,
    "start_time": "2022-02-07T02:26:07.906Z"
   },
   {
    "duration": 34,
    "start_time": "2022-02-07T02:26:07.963Z"
   },
   {
    "duration": 56,
    "start_time": "2022-02-07T02:26:08.000Z"
   },
   {
    "duration": 52,
    "start_time": "2022-02-07T02:26:08.059Z"
   },
   {
    "duration": 73,
    "start_time": "2022-02-07T02:26:08.114Z"
   },
   {
    "duration": 67,
    "start_time": "2022-02-07T02:26:08.189Z"
   },
   {
    "duration": 7,
    "start_time": "2022-02-07T02:26:08.259Z"
   },
   {
    "duration": 115,
    "start_time": "2022-02-07T02:26:08.268Z"
   },
   {
    "duration": 13,
    "start_time": "2022-02-07T02:26:08.386Z"
   },
   {
    "duration": 287,
    "start_time": "2022-02-07T02:26:08.401Z"
   },
   {
    "duration": 357,
    "start_time": "2022-02-07T02:26:08.691Z"
   },
   {
    "duration": 23,
    "start_time": "2022-02-07T02:26:09.050Z"
   },
   {
    "duration": 27,
    "start_time": "2022-02-07T02:26:09.076Z"
   },
   {
    "duration": 350,
    "start_time": "2022-02-07T02:26:09.105Z"
   },
   {
    "duration": 17,
    "start_time": "2022-02-07T02:26:09.457Z"
   },
   {
    "duration": 410,
    "start_time": "2022-02-07T02:26:09.476Z"
   },
   {
    "duration": 19,
    "start_time": "2022-02-07T02:26:09.889Z"
   },
   {
    "duration": 54,
    "start_time": "2022-02-07T02:26:09.910Z"
   },
   {
    "duration": 272,
    "start_time": "2022-02-07T02:26:09.966Z"
   },
   {
    "duration": 324,
    "start_time": "2022-02-07T02:26:10.240Z"
   },
   {
    "duration": 20,
    "start_time": "2022-02-07T02:26:10.567Z"
   },
   {
    "duration": 60,
    "start_time": "2022-02-07T02:26:10.590Z"
   },
   {
    "duration": 247,
    "start_time": "2022-02-07T02:26:10.653Z"
   },
   {
    "duration": 18,
    "start_time": "2022-02-07T02:26:10.902Z"
   },
   {
    "duration": 40,
    "start_time": "2022-02-07T02:26:10.923Z"
   },
   {
    "duration": 7,
    "start_time": "2022-02-07T02:26:10.965Z"
   },
   {
    "duration": 22,
    "start_time": "2022-02-07T02:26:10.974Z"
   },
   {
    "duration": 268,
    "start_time": "2022-02-07T02:26:10.998Z"
   },
   {
    "duration": 8,
    "start_time": "2022-02-07T02:26:11.268Z"
   },
   {
    "duration": 17,
    "start_time": "2022-02-07T02:26:11.278Z"
   },
   {
    "duration": 220,
    "start_time": "2022-02-07T02:28:26.772Z"
   },
   {
    "duration": 12,
    "start_time": "2022-02-07T02:28:43.808Z"
   },
   {
    "duration": 218,
    "start_time": "2022-02-07T02:28:46.287Z"
   },
   {
    "duration": 1720,
    "start_time": "2022-02-07T02:29:39.247Z"
   },
   {
    "duration": 843,
    "start_time": "2022-02-07T02:29:40.969Z"
   },
   {
    "duration": 11,
    "start_time": "2022-02-07T02:29:41.815Z"
   },
   {
    "duration": 18,
    "start_time": "2022-02-07T02:29:41.830Z"
   },
   {
    "duration": 10,
    "start_time": "2022-02-07T02:29:41.851Z"
   },
   {
    "duration": 27,
    "start_time": "2022-02-07T02:29:41.864Z"
   },
   {
    "duration": 221,
    "start_time": "2022-02-07T02:29:41.893Z"
   },
   {
    "duration": 68,
    "start_time": "2022-02-07T02:29:42.120Z"
   },
   {
    "duration": 18,
    "start_time": "2022-02-07T02:29:42.192Z"
   },
   {
    "duration": 55,
    "start_time": "2022-02-07T02:29:42.213Z"
   },
   {
    "duration": 15,
    "start_time": "2022-02-07T02:29:42.271Z"
   },
   {
    "duration": 20,
    "start_time": "2022-02-07T02:29:42.289Z"
   },
   {
    "duration": 267,
    "start_time": "2022-02-07T02:29:42.312Z"
   },
   {
    "duration": 41,
    "start_time": "2022-02-07T02:29:42.582Z"
   },
   {
    "duration": 44,
    "start_time": "2022-02-07T02:29:42.625Z"
   },
   {
    "duration": 251,
    "start_time": "2022-02-07T02:29:42.672Z"
   },
   {
    "duration": 26,
    "start_time": "2022-02-07T02:29:42.926Z"
   },
   {
    "duration": 16,
    "start_time": "2022-02-07T02:29:42.955Z"
   },
   {
    "duration": 31,
    "start_time": "2022-02-07T02:29:42.973Z"
   },
   {
    "duration": 17,
    "start_time": "2022-02-07T02:29:43.007Z"
   },
   {
    "duration": 16,
    "start_time": "2022-02-07T02:29:43.049Z"
   },
   {
    "duration": 11,
    "start_time": "2022-02-07T02:29:43.068Z"
   },
   {
    "duration": 244,
    "start_time": "2022-02-07T02:29:43.085Z"
   },
   {
    "duration": 45,
    "start_time": "2022-02-07T02:29:43.332Z"
   },
   {
    "duration": 226,
    "start_time": "2022-02-07T02:29:43.380Z"
   },
   {
    "duration": 44,
    "start_time": "2022-02-07T02:29:43.609Z"
   },
   {
    "duration": 13,
    "start_time": "2022-02-07T02:29:43.656Z"
   },
   {
    "duration": 45,
    "start_time": "2022-02-07T02:29:43.672Z"
   },
   {
    "duration": 50,
    "start_time": "2022-02-07T02:29:43.719Z"
   },
   {
    "duration": 35,
    "start_time": "2022-02-07T02:29:43.772Z"
   },
   {
    "duration": 69,
    "start_time": "2022-02-07T02:29:43.810Z"
   },
   {
    "duration": 68,
    "start_time": "2022-02-07T02:29:43.882Z"
   },
   {
    "duration": 52,
    "start_time": "2022-02-07T02:29:43.952Z"
   },
   {
    "duration": 66,
    "start_time": "2022-02-07T02:29:44.007Z"
   },
   {
    "duration": 7,
    "start_time": "2022-02-07T02:29:44.076Z"
   },
   {
    "duration": 113,
    "start_time": "2022-02-07T02:29:44.086Z"
   },
   {
    "duration": 15,
    "start_time": "2022-02-07T02:29:44.202Z"
   },
   {
    "duration": 290,
    "start_time": "2022-02-07T02:29:44.219Z"
   },
   {
    "duration": 356,
    "start_time": "2022-02-07T02:29:44.512Z"
   },
   {
    "duration": 23,
    "start_time": "2022-02-07T02:29:44.871Z"
   },
   {
    "duration": 53,
    "start_time": "2022-02-07T02:29:44.897Z"
   },
   {
    "duration": 343,
    "start_time": "2022-02-07T02:29:44.953Z"
   },
   {
    "duration": 16,
    "start_time": "2022-02-07T02:29:45.298Z"
   },
   {
    "duration": 393,
    "start_time": "2022-02-07T02:29:45.317Z"
   },
   {
    "duration": 19,
    "start_time": "2022-02-07T02:29:45.713Z"
   },
   {
    "duration": 26,
    "start_time": "2022-02-07T02:29:45.749Z"
   },
   {
    "duration": 287,
    "start_time": "2022-02-07T02:29:45.777Z"
   },
   {
    "duration": 323,
    "start_time": "2022-02-07T02:29:46.068Z"
   },
   {
    "duration": 18,
    "start_time": "2022-02-07T02:29:46.395Z"
   },
   {
    "duration": 47,
    "start_time": "2022-02-07T02:29:46.416Z"
   },
   {
    "duration": 249,
    "start_time": "2022-02-07T02:29:46.465Z"
   },
   {
    "duration": 18,
    "start_time": "2022-02-07T02:29:46.717Z"
   },
   {
    "duration": 23,
    "start_time": "2022-02-07T02:29:46.749Z"
   },
   {
    "duration": 6,
    "start_time": "2022-02-07T02:29:46.774Z"
   },
   {
    "duration": 17,
    "start_time": "2022-02-07T02:29:46.783Z"
   },
   {
    "duration": 276,
    "start_time": "2022-02-07T02:29:46.802Z"
   },
   {
    "duration": 8,
    "start_time": "2022-02-07T02:29:47.080Z"
   },
   {
    "duration": 17,
    "start_time": "2022-02-07T02:29:47.090Z"
   },
   {
    "duration": 22,
    "start_time": "2022-02-07T02:30:07.584Z"
   },
   {
    "duration": 22,
    "start_time": "2022-02-07T02:30:26.809Z"
   },
   {
    "duration": 18,
    "start_time": "2022-02-07T02:31:01.647Z"
   },
   {
    "duration": 34,
    "start_time": "2022-02-07T02:31:05.186Z"
   },
   {
    "duration": 1455,
    "start_time": "2022-02-07T02:31:11.339Z"
   },
   {
    "duration": 360,
    "start_time": "2022-02-07T02:31:12.796Z"
   },
   {
    "duration": 9,
    "start_time": "2022-02-07T02:31:13.160Z"
   },
   {
    "duration": 21,
    "start_time": "2022-02-07T02:31:13.172Z"
   },
   {
    "duration": 12,
    "start_time": "2022-02-07T02:31:13.196Z"
   },
   {
    "duration": 13,
    "start_time": "2022-02-07T02:31:13.210Z"
   },
   {
    "duration": 214,
    "start_time": "2022-02-07T02:31:13.248Z"
   },
   {
    "duration": 38,
    "start_time": "2022-02-07T02:31:13.466Z"
   },
   {
    "duration": 14,
    "start_time": "2022-02-07T02:31:13.507Z"
   },
   {
    "duration": 20,
    "start_time": "2022-02-07T02:31:13.549Z"
   },
   {
    "duration": 13,
    "start_time": "2022-02-07T02:31:13.571Z"
   },
   {
    "duration": 19,
    "start_time": "2022-02-07T02:31:13.586Z"
   },
   {
    "duration": 261,
    "start_time": "2022-02-07T02:31:13.608Z"
   },
   {
    "duration": 41,
    "start_time": "2022-02-07T02:31:13.871Z"
   },
   {
    "duration": 47,
    "start_time": "2022-02-07T02:31:13.914Z"
   },
   {
    "duration": 257,
    "start_time": "2022-02-07T02:31:13.963Z"
   },
   {
    "duration": 27,
    "start_time": "2022-02-07T02:31:14.222Z"
   },
   {
    "duration": 10,
    "start_time": "2022-02-07T02:31:14.252Z"
   },
   {
    "duration": 26,
    "start_time": "2022-02-07T02:31:14.265Z"
   },
   {
    "duration": 56,
    "start_time": "2022-02-07T02:31:14.294Z"
   },
   {
    "duration": 19,
    "start_time": "2022-02-07T02:31:14.353Z"
   },
   {
    "duration": 13,
    "start_time": "2022-02-07T02:31:14.376Z"
   },
   {
    "duration": 266,
    "start_time": "2022-02-07T02:31:14.396Z"
   },
   {
    "duration": 32,
    "start_time": "2022-02-07T02:31:14.665Z"
   },
   {
    "duration": 241,
    "start_time": "2022-02-07T02:31:14.700Z"
   },
   {
    "duration": 22,
    "start_time": "2022-02-07T02:31:14.947Z"
   },
   {
    "duration": 12,
    "start_time": "2022-02-07T02:31:14.971Z"
   },
   {
    "duration": 74,
    "start_time": "2022-02-07T02:31:14.985Z"
   },
   {
    "duration": 25,
    "start_time": "2022-02-07T02:31:15.062Z"
   },
   {
    "duration": 60,
    "start_time": "2022-02-07T02:31:15.089Z"
   },
   {
    "duration": 36,
    "start_time": "2022-02-07T02:31:15.151Z"
   },
   {
    "duration": 71,
    "start_time": "2022-02-07T02:31:15.189Z"
   },
   {
    "duration": 55,
    "start_time": "2022-02-07T02:31:15.263Z"
   },
   {
    "duration": 65,
    "start_time": "2022-02-07T02:31:15.320Z"
   },
   {
    "duration": 7,
    "start_time": "2022-02-07T02:31:15.388Z"
   },
   {
    "duration": 123,
    "start_time": "2022-02-07T02:31:15.397Z"
   },
   {
    "duration": 14,
    "start_time": "2022-02-07T02:31:15.522Z"
   },
   {
    "duration": 403,
    "start_time": "2022-02-07T02:31:15.549Z"
   },
   {
    "duration": 608,
    "start_time": "2022-02-07T02:31:15.954Z"
   },
   {
    "duration": 21,
    "start_time": "2022-02-07T02:31:16.564Z"
   },
   {
    "duration": 29,
    "start_time": "2022-02-07T02:31:16.588Z"
   },
   {
    "duration": 349,
    "start_time": "2022-02-07T02:31:16.620Z"
   },
   {
    "duration": 15,
    "start_time": "2022-02-07T02:31:16.971Z"
   },
   {
    "duration": 415,
    "start_time": "2022-02-07T02:31:16.989Z"
   },
   {
    "duration": 18,
    "start_time": "2022-02-07T02:31:17.406Z"
   },
   {
    "duration": 42,
    "start_time": "2022-02-07T02:31:17.427Z"
   },
   {
    "duration": 266,
    "start_time": "2022-02-07T02:31:17.471Z"
   },
   {
    "duration": 320,
    "start_time": "2022-02-07T02:31:17.740Z"
   },
   {
    "duration": 19,
    "start_time": "2022-02-07T02:31:18.062Z"
   },
   {
    "duration": 27,
    "start_time": "2022-02-07T02:31:18.084Z"
   },
   {
    "duration": 277,
    "start_time": "2022-02-07T02:31:18.114Z"
   },
   {
    "duration": 20,
    "start_time": "2022-02-07T02:31:18.394Z"
   },
   {
    "duration": 54,
    "start_time": "2022-02-07T02:31:18.417Z"
   },
   {
    "duration": 8,
    "start_time": "2022-02-07T02:31:18.474Z"
   },
   {
    "duration": 18,
    "start_time": "2022-02-07T02:31:18.484Z"
   },
   {
    "duration": 271,
    "start_time": "2022-02-07T02:31:18.504Z"
   },
   {
    "duration": 6,
    "start_time": "2022-02-07T02:31:18.778Z"
   },
   {
    "duration": 17,
    "start_time": "2022-02-07T02:31:18.786Z"
   },
   {
    "duration": 90,
    "start_time": "2022-02-07T02:33:58.021Z"
   },
   {
    "duration": 247,
    "start_time": "2022-02-07T02:34:03.008Z"
   },
   {
    "duration": 20,
    "start_time": "2022-02-07T02:38:48.597Z"
   },
   {
    "duration": 7663,
    "start_time": "2022-02-07T02:39:05.380Z"
   },
   {
    "duration": 20,
    "start_time": "2022-02-07T02:39:38.069Z"
   },
   {
    "duration": 6,
    "start_time": "2022-02-07T02:39:40.812Z"
   },
   {
    "duration": 25,
    "start_time": "2022-02-07T02:41:07.214Z"
   },
   {
    "duration": 371,
    "start_time": "2022-02-07T02:43:01.505Z"
   },
   {
    "duration": 569,
    "start_time": "2022-02-07T02:43:18.115Z"
   },
   {
    "duration": 21,
    "start_time": "2022-02-07T02:43:35.119Z"
   },
   {
    "duration": 401,
    "start_time": "2022-02-07T02:44:08.291Z"
   },
   {
    "duration": 310,
    "start_time": "2022-02-07T02:44:20.113Z"
   },
   {
    "duration": 415,
    "start_time": "2022-02-07T02:44:24.261Z"
   },
   {
    "duration": 356,
    "start_time": "2022-02-07T02:44:49.008Z"
   },
   {
    "duration": 98,
    "start_time": "2022-02-07T02:45:41.329Z"
   },
   {
    "duration": 15,
    "start_time": "2022-02-07T02:45:52.715Z"
   },
   {
    "duration": 16,
    "start_time": "2022-02-07T02:46:05.546Z"
   },
   {
    "duration": 1070,
    "start_time": "2022-02-07T20:18:55.618Z"
   },
   {
    "duration": 814,
    "start_time": "2022-02-07T20:18:56.690Z"
   },
   {
    "duration": 7,
    "start_time": "2022-02-07T20:18:57.506Z"
   },
   {
    "duration": 28,
    "start_time": "2022-02-07T20:18:57.514Z"
   },
   {
    "duration": 5,
    "start_time": "2022-02-07T20:18:57.544Z"
   },
   {
    "duration": 13,
    "start_time": "2022-02-07T20:18:57.551Z"
   },
   {
    "duration": 142,
    "start_time": "2022-02-07T20:18:57.566Z"
   },
   {
    "duration": 25,
    "start_time": "2022-02-07T20:18:57.711Z"
   },
   {
    "duration": 23,
    "start_time": "2022-02-07T20:18:57.739Z"
   },
   {
    "duration": 19,
    "start_time": "2022-02-07T20:18:57.764Z"
   },
   {
    "duration": 9,
    "start_time": "2022-02-07T20:18:57.785Z"
   },
   {
    "duration": 12,
    "start_time": "2022-02-07T20:18:57.796Z"
   },
   {
    "duration": 167,
    "start_time": "2022-02-07T20:18:57.810Z"
   },
   {
    "duration": 30,
    "start_time": "2022-02-07T20:18:57.979Z"
   },
   {
    "duration": 18,
    "start_time": "2022-02-07T20:18:58.011Z"
   },
   {
    "duration": 193,
    "start_time": "2022-02-07T20:18:58.031Z"
   },
   {
    "duration": 10,
    "start_time": "2022-02-07T20:18:58.226Z"
   },
   {
    "duration": 23,
    "start_time": "2022-02-07T20:18:58.238Z"
   },
   {
    "duration": 19,
    "start_time": "2022-02-07T20:18:58.262Z"
   },
   {
    "duration": 12,
    "start_time": "2022-02-07T20:18:58.283Z"
   },
   {
    "duration": 13,
    "start_time": "2022-02-07T20:18:58.296Z"
   },
   {
    "duration": 7,
    "start_time": "2022-02-07T20:18:58.311Z"
   },
   {
    "duration": 181,
    "start_time": "2022-02-07T20:18:58.321Z"
   },
   {
    "duration": 22,
    "start_time": "2022-02-07T20:18:58.504Z"
   },
   {
    "duration": 153,
    "start_time": "2022-02-07T20:18:58.528Z"
   },
   {
    "duration": 17,
    "start_time": "2022-02-07T20:18:58.683Z"
   },
   {
    "duration": 8,
    "start_time": "2022-02-07T20:18:58.702Z"
   },
   {
    "duration": 55,
    "start_time": "2022-02-07T20:18:58.711Z"
   },
   {
    "duration": 16,
    "start_time": "2022-02-07T20:18:58.767Z"
   },
   {
    "duration": 23,
    "start_time": "2022-02-07T20:18:58.785Z"
   },
   {
    "duration": 24,
    "start_time": "2022-02-07T20:18:58.810Z"
   },
   {
    "duration": 52,
    "start_time": "2022-02-07T20:18:58.835Z"
   },
   {
    "duration": 10,
    "start_time": "2022-02-07T20:18:58.889Z"
   },
   {
    "duration": 3,
    "start_time": "2022-02-07T20:18:58.901Z"
   },
   {
    "duration": 9,
    "start_time": "2022-02-07T20:18:58.906Z"
   },
   {
    "duration": 80,
    "start_time": "2022-02-07T20:18:58.917Z"
   },
   {
    "duration": 9,
    "start_time": "2022-02-07T20:18:58.999Z"
   },
   {
    "duration": 186,
    "start_time": "2022-02-07T20:18:59.010Z"
   },
   {
    "duration": 258,
    "start_time": "2022-02-07T20:18:59.198Z"
   },
   {
    "duration": 20,
    "start_time": "2022-02-07T20:18:59.458Z"
   },
   {
    "duration": 21,
    "start_time": "2022-02-07T20:18:59.480Z"
   },
   {
    "duration": 250,
    "start_time": "2022-02-07T20:18:59.503Z"
   },
   {
    "duration": 11,
    "start_time": "2022-02-07T20:18:59.755Z"
   },
   {
    "duration": 278,
    "start_time": "2022-02-07T20:18:59.768Z"
   },
   {
    "duration": 20,
    "start_time": "2022-02-07T20:19:00.048Z"
   },
   {
    "duration": 19,
    "start_time": "2022-02-07T20:19:00.070Z"
   },
   {
    "duration": 192,
    "start_time": "2022-02-07T20:19:00.091Z"
   },
   {
    "duration": 231,
    "start_time": "2022-02-07T20:19:00.284Z"
   },
   {
    "duration": 13,
    "start_time": "2022-02-07T20:19:00.516Z"
   },
   {
    "duration": 32,
    "start_time": "2022-02-07T20:19:00.531Z"
   },
   {
    "duration": 182,
    "start_time": "2022-02-07T20:19:00.565Z"
   },
   {
    "duration": 19,
    "start_time": "2022-02-07T20:19:00.749Z"
   },
   {
    "duration": 17,
    "start_time": "2022-02-07T20:19:00.769Z"
   },
   {
    "duration": 14,
    "start_time": "2022-02-07T20:19:00.787Z"
   },
   {
    "duration": 46,
    "start_time": "2022-02-07T20:19:00.802Z"
   },
   {
    "duration": 159,
    "start_time": "2022-02-07T20:19:00.850Z"
   },
   {
    "duration": 6,
    "start_time": "2022-02-07T20:19:01.011Z"
   },
   {
    "duration": 32,
    "start_time": "2022-02-07T20:19:01.019Z"
   },
   {
    "duration": 42,
    "start_time": "2022-02-07T23:19:04.248Z"
   },
   {
    "duration": 37,
    "start_time": "2022-02-07T23:20:45.589Z"
   },
   {
    "duration": 86,
    "start_time": "2022-02-07T23:30:45.801Z"
   },
   {
    "duration": 25,
    "start_time": "2022-02-07T23:31:31.561Z"
   },
   {
    "duration": 25,
    "start_time": "2022-02-07T23:31:46.519Z"
   },
   {
    "duration": 36,
    "start_time": "2022-02-07T23:32:57.042Z"
   },
   {
    "duration": 57,
    "start_time": "2022-02-07T23:33:27.578Z"
   },
   {
    "duration": 57,
    "start_time": "2022-02-07T23:33:42.898Z"
   },
   {
    "duration": 63,
    "start_time": "2022-02-07T23:33:47.139Z"
   },
   {
    "duration": 68,
    "start_time": "2022-02-07T23:34:48.388Z"
   },
   {
    "duration": 58,
    "start_time": "2022-02-07T23:35:12.241Z"
   },
   {
    "duration": 64,
    "start_time": "2022-02-07T23:35:30.648Z"
   },
   {
    "duration": 60,
    "start_time": "2022-02-07T23:37:13.544Z"
   },
   {
    "duration": 353,
    "start_time": "2022-02-07T23:37:26.145Z"
   },
   {
    "duration": 90,
    "start_time": "2022-02-07T23:37:34.109Z"
   },
   {
    "duration": 60,
    "start_time": "2022-02-07T23:37:36.548Z"
   },
   {
    "duration": 66,
    "start_time": "2022-02-07T23:37:45.260Z"
   },
   {
    "duration": 69,
    "start_time": "2022-02-07T23:38:24.714Z"
   },
   {
    "duration": 65,
    "start_time": "2022-02-07T23:38:30.284Z"
   },
   {
    "duration": 65,
    "start_time": "2022-02-07T23:38:44.656Z"
   },
   {
    "duration": 66,
    "start_time": "2022-02-07T23:38:50.389Z"
   },
   {
    "duration": 63,
    "start_time": "2022-02-07T23:39:14.879Z"
   },
   {
    "duration": 72,
    "start_time": "2022-02-07T23:39:20.769Z"
   },
   {
    "duration": 66,
    "start_time": "2022-02-07T23:39:24.764Z"
   },
   {
    "duration": 72,
    "start_time": "2022-02-07T23:39:30.827Z"
   },
   {
    "duration": 65,
    "start_time": "2022-02-07T23:39:42.926Z"
   },
   {
    "duration": 64,
    "start_time": "2022-02-07T23:40:28.735Z"
   },
   {
    "duration": 62,
    "start_time": "2022-02-07T23:40:34.763Z"
   },
   {
    "duration": 68,
    "start_time": "2022-02-07T23:40:38.820Z"
   },
   {
    "duration": 69,
    "start_time": "2022-02-07T23:41:09.371Z"
   },
   {
    "duration": 104,
    "start_time": "2022-02-07T23:41:21.723Z"
   },
   {
    "duration": 318,
    "start_time": "2022-02-07T23:41:39.919Z"
   },
   {
    "duration": 61,
    "start_time": "2022-02-07T23:43:12.820Z"
   },
   {
    "duration": 598,
    "start_time": "2022-02-07T23:43:30.060Z"
   },
   {
    "duration": 278,
    "start_time": "2022-02-07T23:43:32.466Z"
   },
   {
    "duration": 12,
    "start_time": "2022-02-07T23:43:42.012Z"
   },
   {
    "duration": 29,
    "start_time": "2022-02-07T23:43:45.147Z"
   },
   {
    "duration": 1097,
    "start_time": "2022-02-07T23:44:05.164Z"
   },
   {
    "duration": 1099,
    "start_time": "2022-02-07T23:44:16.064Z"
   },
   {
    "duration": 1327,
    "start_time": "2022-02-07T23:44:43.554Z"
   },
   {
    "duration": 1066,
    "start_time": "2022-02-07T23:47:49.581Z"
   },
   {
    "duration": 287,
    "start_time": "2022-02-07T23:53:14.913Z"
   },
   {
    "duration": 272,
    "start_time": "2022-02-07T23:53:17.306Z"
   },
   {
    "duration": 10,
    "start_time": "2022-02-07T23:53:39.383Z"
   },
   {
    "duration": 24,
    "start_time": "2022-02-07T23:53:42.921Z"
   },
   {
    "duration": 696,
    "start_time": "2022-02-07T23:54:33.331Z"
   },
   {
    "duration": 335,
    "start_time": "2022-02-07T23:54:44.027Z"
   },
   {
    "duration": 18,
    "start_time": "2022-02-07T23:54:47.947Z"
   },
   {
    "duration": 37,
    "start_time": "2022-02-07T23:54:49.886Z"
   },
   {
    "duration": 36,
    "start_time": "2022-02-07T23:54:54.610Z"
   },
   {
    "duration": 331,
    "start_time": "2022-02-07T23:55:14.094Z"
   },
   {
    "duration": 26,
    "start_time": "2022-02-07T23:55:26.696Z"
   },
   {
    "duration": 49,
    "start_time": "2022-02-07T23:55:29.741Z"
   },
   {
    "duration": 49,
    "start_time": "2022-02-07T23:55:40.606Z"
   },
   {
    "duration": 52,
    "start_time": "2022-02-07T23:55:49.371Z"
   },
   {
    "duration": 56,
    "start_time": "2022-02-07T23:56:35.957Z"
   },
   {
    "duration": 36,
    "start_time": "2022-02-07T23:58:09.367Z"
   },
   {
    "duration": 37,
    "start_time": "2022-02-07T23:58:22.623Z"
   },
   {
    "duration": 35,
    "start_time": "2022-02-07T23:58:38.072Z"
   },
   {
    "duration": 46,
    "start_time": "2022-02-07T23:59:06.958Z"
   },
   {
    "duration": 112,
    "start_time": "2022-02-07T23:59:21.521Z"
   },
   {
    "duration": 43,
    "start_time": "2022-02-07T23:59:36.004Z"
   },
   {
    "duration": 42,
    "start_time": "2022-02-07T23:59:49.869Z"
   },
   {
    "duration": 54,
    "start_time": "2022-02-08T00:00:21.200Z"
   },
   {
    "duration": 18,
    "start_time": "2022-02-08T00:00:58.281Z"
   },
   {
    "duration": 69,
    "start_time": "2022-02-08T00:01:00.547Z"
   },
   {
    "duration": 74,
    "start_time": "2022-02-08T00:01:31.359Z"
   },
   {
    "duration": 68,
    "start_time": "2022-02-08T00:01:37.582Z"
   },
   {
    "duration": 71,
    "start_time": "2022-02-08T00:01:46.946Z"
   },
   {
    "duration": 1465,
    "start_time": "2022-02-08T00:01:58.524Z"
   },
   {
    "duration": 367,
    "start_time": "2022-02-08T00:01:59.993Z"
   },
   {
    "duration": 10,
    "start_time": "2022-02-08T00:02:00.363Z"
   },
   {
    "duration": 46,
    "start_time": "2022-02-08T00:02:00.376Z"
   },
   {
    "duration": 14,
    "start_time": "2022-02-08T00:02:00.425Z"
   },
   {
    "duration": 25,
    "start_time": "2022-02-08T00:02:00.441Z"
   },
   {
    "duration": 219,
    "start_time": "2022-02-08T00:02:00.468Z"
   },
   {
    "duration": 37,
    "start_time": "2022-02-08T00:02:00.691Z"
   },
   {
    "duration": 45,
    "start_time": "2022-02-08T00:02:00.731Z"
   },
   {
    "duration": 32,
    "start_time": "2022-02-08T00:02:00.778Z"
   },
   {
    "duration": 16,
    "start_time": "2022-02-08T00:02:00.812Z"
   },
   {
    "duration": 31,
    "start_time": "2022-02-08T00:02:00.831Z"
   },
   {
    "duration": 242,
    "start_time": "2022-02-08T00:02:00.865Z"
   },
   {
    "duration": 55,
    "start_time": "2022-02-08T00:02:01.110Z"
   },
   {
    "duration": 26,
    "start_time": "2022-02-08T00:02:01.168Z"
   },
   {
    "duration": 307,
    "start_time": "2022-02-08T00:02:01.196Z"
   },
   {
    "duration": 15,
    "start_time": "2022-02-08T00:02:01.506Z"
   },
   {
    "duration": 30,
    "start_time": "2022-02-08T00:02:01.523Z"
   },
   {
    "duration": 29,
    "start_time": "2022-02-08T00:02:01.557Z"
   },
   {
    "duration": 32,
    "start_time": "2022-02-08T00:02:01.589Z"
   },
   {
    "duration": 36,
    "start_time": "2022-02-08T00:02:01.624Z"
   },
   {
    "duration": 25,
    "start_time": "2022-02-08T00:02:01.663Z"
   },
   {
    "duration": 245,
    "start_time": "2022-02-08T00:02:01.694Z"
   },
   {
    "duration": 37,
    "start_time": "2022-02-08T00:02:01.943Z"
   },
   {
    "duration": 245,
    "start_time": "2022-02-08T00:02:01.982Z"
   },
   {
    "duration": 36,
    "start_time": "2022-02-08T00:02:02.230Z"
   },
   {
    "duration": 17,
    "start_time": "2022-02-08T00:02:02.269Z"
   },
   {
    "duration": 127,
    "start_time": "2022-02-08T00:02:02.288Z"
   },
   {
    "duration": 51,
    "start_time": "2022-02-08T00:02:02.418Z"
   },
   {
    "duration": 79,
    "start_time": "2022-02-08T00:02:02.471Z"
   },
   {
    "duration": 75,
    "start_time": "2022-02-08T00:02:02.552Z"
   },
   {
    "duration": 66,
    "start_time": "2022-02-08T00:02:02.629Z"
   },
   {
    "duration": 70,
    "start_time": "2022-02-08T00:02:02.698Z"
   },
   {
    "duration": 6,
    "start_time": "2022-02-08T00:02:02.772Z"
   },
   {
    "duration": 10,
    "start_time": "2022-02-08T00:02:02.781Z"
   },
   {
    "duration": 9206,
    "start_time": "2022-02-08T00:02:02.794Z"
   },
   {
    "duration": -240,
    "start_time": "2022-02-08T00:02:12.243Z"
   },
   {
    "duration": -244,
    "start_time": "2022-02-08T00:02:12.248Z"
   },
   {
    "duration": -245,
    "start_time": "2022-02-08T00:02:12.250Z"
   },
   {
    "duration": -246,
    "start_time": "2022-02-08T00:02:12.253Z"
   },
   {
    "duration": -249,
    "start_time": "2022-02-08T00:02:12.257Z"
   },
   {
    "duration": -250,
    "start_time": "2022-02-08T00:02:12.260Z"
   },
   {
    "duration": -252,
    "start_time": "2022-02-08T00:02:12.263Z"
   },
   {
    "duration": -303,
    "start_time": "2022-02-08T00:02:12.316Z"
   },
   {
    "duration": -389,
    "start_time": "2022-02-08T00:02:12.403Z"
   },
   {
    "duration": -431,
    "start_time": "2022-02-08T00:02:12.447Z"
   },
   {
    "duration": -433,
    "start_time": "2022-02-08T00:02:12.450Z"
   },
   {
    "duration": -435,
    "start_time": "2022-02-08T00:02:12.453Z"
   },
   {
    "duration": -438,
    "start_time": "2022-02-08T00:02:12.457Z"
   },
   {
    "duration": -446,
    "start_time": "2022-02-08T00:02:12.467Z"
   },
   {
    "duration": -449,
    "start_time": "2022-02-08T00:02:12.471Z"
   },
   {
    "duration": -451,
    "start_time": "2022-02-08T00:02:12.474Z"
   },
   {
    "duration": -461,
    "start_time": "2022-02-08T00:02:12.485Z"
   },
   {
    "duration": -462,
    "start_time": "2022-02-08T00:02:12.488Z"
   },
   {
    "duration": -472,
    "start_time": "2022-02-08T00:02:12.499Z"
   },
   {
    "duration": -474,
    "start_time": "2022-02-08T00:02:12.502Z"
   },
   {
    "duration": -475,
    "start_time": "2022-02-08T00:02:12.505Z"
   },
   {
    "duration": -485,
    "start_time": "2022-02-08T00:02:12.516Z"
   },
   {
    "duration": 6,
    "start_time": "2022-02-08T00:02:50.018Z"
   },
   {
    "duration": 42,
    "start_time": "2022-02-08T00:04:05.484Z"
   },
   {
    "duration": 7,
    "start_time": "2022-02-08T00:07:14.829Z"
   },
   {
    "duration": 6,
    "start_time": "2022-02-08T00:07:20.931Z"
   },
   {
    "duration": 8290,
    "start_time": "2022-02-08T00:07:27.417Z"
   },
   {
    "duration": 102,
    "start_time": "2022-02-08T00:09:57.351Z"
   },
   {
    "duration": 302,
    "start_time": "2022-02-08T00:10:04.451Z"
   },
   {
    "duration": 57,
    "start_time": "2022-02-08T00:10:25.800Z"
   },
   {
    "duration": 9606,
    "start_time": "2022-02-08T00:11:03.208Z"
   },
   {
    "duration": 7,
    "start_time": "2022-02-08T00:11:19.265Z"
   },
   {
    "duration": 7945,
    "start_time": "2022-02-08T00:11:36.198Z"
   },
   {
    "duration": 3812,
    "start_time": "2022-02-08T00:15:19.867Z"
   },
   {
    "duration": 55,
    "start_time": "2022-02-08T00:16:01.620Z"
   },
   {
    "duration": 6,
    "start_time": "2022-02-08T00:16:05.823Z"
   },
   {
    "duration": 4018,
    "start_time": "2022-02-08T00:16:09.085Z"
   },
   {
    "duration": 100,
    "start_time": "2022-02-08T00:23:43.646Z"
   },
   {
    "duration": 4109,
    "start_time": "2022-02-08T00:23:48.786Z"
   },
   {
    "duration": 101,
    "start_time": "2022-02-08T00:24:14.585Z"
   },
   {
    "duration": 4330,
    "start_time": "2022-02-08T00:24:16.834Z"
   },
   {
    "duration": 7,
    "start_time": "2022-02-08T00:24:35.170Z"
   },
   {
    "duration": 3929,
    "start_time": "2022-02-08T00:24:36.792Z"
   },
   {
    "duration": 7,
    "start_time": "2022-02-08T00:25:08.946Z"
   },
   {
    "duration": 3769,
    "start_time": "2022-02-08T00:25:10.582Z"
   },
   {
    "duration": 24,
    "start_time": "2022-02-08T00:25:54.426Z"
   },
   {
    "duration": 5,
    "start_time": "2022-02-08T00:27:25.534Z"
   },
   {
    "duration": 4,
    "start_time": "2022-02-08T00:27:37.738Z"
   },
   {
    "duration": 4078,
    "start_time": "2022-02-08T00:27:42.219Z"
   },
   {
    "duration": 4194,
    "start_time": "2022-02-08T00:31:36.645Z"
   },
   {
    "duration": 3906,
    "start_time": "2022-02-08T00:32:30.619Z"
   },
   {
    "duration": 4504,
    "start_time": "2022-02-08T00:32:57.031Z"
   },
   {
    "duration": 3836,
    "start_time": "2022-02-08T00:34:36.772Z"
   },
   {
    "duration": 3783,
    "start_time": "2022-02-08T00:35:25.066Z"
   },
   {
    "duration": 3633,
    "start_time": "2022-02-08T00:40:23.205Z"
   },
   {
    "duration": 3728,
    "start_time": "2022-02-08T00:42:04.271Z"
   },
   {
    "duration": 4073,
    "start_time": "2022-02-08T00:43:33.446Z"
   },
   {
    "duration": 3753,
    "start_time": "2022-02-08T00:43:47.366Z"
   },
   {
    "duration": 57,
    "start_time": "2022-02-08T00:45:13.317Z"
   },
   {
    "duration": 48,
    "start_time": "2022-02-08T00:47:26.222Z"
   },
   {
    "duration": 7976,
    "start_time": "2022-02-08T00:47:49.573Z"
   },
   {
    "duration": 10174,
    "start_time": "2022-02-08T00:48:13.032Z"
   },
   {
    "duration": 48,
    "start_time": "2022-02-08T00:49:12.485Z"
   },
   {
    "duration": 47,
    "start_time": "2022-02-08T00:51:51.804Z"
   },
   {
    "duration": 1483,
    "start_time": "2022-02-08T00:52:29.731Z"
   },
   {
    "duration": 563,
    "start_time": "2022-02-08T00:52:31.216Z"
   },
   {
    "duration": 9,
    "start_time": "2022-02-08T00:52:31.782Z"
   },
   {
    "duration": 57,
    "start_time": "2022-02-08T00:52:31.793Z"
   },
   {
    "duration": 8,
    "start_time": "2022-02-08T00:52:31.853Z"
   },
   {
    "duration": 16,
    "start_time": "2022-02-08T00:52:31.864Z"
   },
   {
    "duration": 338,
    "start_time": "2022-02-08T00:52:31.882Z"
   },
   {
    "duration": 46,
    "start_time": "2022-02-08T00:52:32.224Z"
   },
   {
    "duration": 16,
    "start_time": "2022-02-08T00:52:32.275Z"
   },
   {
    "duration": 53,
    "start_time": "2022-02-08T00:52:32.294Z"
   },
   {
    "duration": 16,
    "start_time": "2022-02-08T00:52:32.351Z"
   },
   {
    "duration": 17,
    "start_time": "2022-02-08T00:52:32.370Z"
   },
   {
    "duration": 280,
    "start_time": "2022-02-08T00:52:32.390Z"
   },
   {
    "duration": 43,
    "start_time": "2022-02-08T00:52:32.673Z"
   },
   {
    "duration": 52,
    "start_time": "2022-02-08T00:52:32.719Z"
   },
   {
    "duration": 292,
    "start_time": "2022-02-08T00:52:32.774Z"
   },
   {
    "duration": 17,
    "start_time": "2022-02-08T00:52:33.069Z"
   },
   {
    "duration": 12,
    "start_time": "2022-02-08T00:52:33.089Z"
   },
   {
    "duration": 62,
    "start_time": "2022-02-08T00:52:33.104Z"
   },
   {
    "duration": 19,
    "start_time": "2022-02-08T00:52:33.169Z"
   },
   {
    "duration": 20,
    "start_time": "2022-02-08T00:52:33.191Z"
   },
   {
    "duration": 44,
    "start_time": "2022-02-08T00:52:33.214Z"
   },
   {
    "duration": 249,
    "start_time": "2022-02-08T00:52:33.265Z"
   },
   {
    "duration": 50,
    "start_time": "2022-02-08T00:52:33.517Z"
   },
   {
    "duration": 234,
    "start_time": "2022-02-08T00:52:33.570Z"
   },
   {
    "duration": 49,
    "start_time": "2022-02-08T00:52:33.807Z"
   },
   {
    "duration": 16,
    "start_time": "2022-02-08T00:52:33.859Z"
   },
   {
    "duration": 117,
    "start_time": "2022-02-08T00:52:33.880Z"
   },
   {
    "duration": 51,
    "start_time": "2022-02-08T00:52:34.000Z"
   },
   {
    "duration": 67,
    "start_time": "2022-02-08T00:52:34.054Z"
   },
   {
    "duration": 95,
    "start_time": "2022-02-08T00:52:34.124Z"
   },
   {
    "duration": 76,
    "start_time": "2022-02-08T00:52:34.222Z"
   },
   {
    "duration": 78,
    "start_time": "2022-02-08T00:52:34.301Z"
   },
   {
    "duration": 67,
    "start_time": "2022-02-08T00:52:40.408Z"
   },
   {
    "duration": 1386,
    "start_time": "2022-02-08T00:52:58.317Z"
   },
   {
    "duration": 361,
    "start_time": "2022-02-08T00:52:59.706Z"
   },
   {
    "duration": 10,
    "start_time": "2022-02-08T00:53:00.069Z"
   },
   {
    "duration": 24,
    "start_time": "2022-02-08T00:53:00.083Z"
   },
   {
    "duration": 11,
    "start_time": "2022-02-08T00:53:00.110Z"
   },
   {
    "duration": 27,
    "start_time": "2022-02-08T00:53:00.123Z"
   },
   {
    "duration": 221,
    "start_time": "2022-02-08T00:53:00.152Z"
   },
   {
    "duration": 39,
    "start_time": "2022-02-08T00:53:00.377Z"
   },
   {
    "duration": 41,
    "start_time": "2022-02-08T00:53:00.420Z"
   },
   {
    "duration": 33,
    "start_time": "2022-02-08T00:53:00.464Z"
   },
   {
    "duration": 25,
    "start_time": "2022-02-08T00:53:00.500Z"
   },
   {
    "duration": 39,
    "start_time": "2022-02-08T00:53:00.528Z"
   },
   {
    "duration": 238,
    "start_time": "2022-02-08T00:53:00.570Z"
   },
   {
    "duration": 58,
    "start_time": "2022-02-08T00:53:00.811Z"
   },
   {
    "duration": 26,
    "start_time": "2022-02-08T00:53:00.872Z"
   },
   {
    "duration": 297,
    "start_time": "2022-02-08T00:53:00.901Z"
   },
   {
    "duration": 17,
    "start_time": "2022-02-08T00:53:01.201Z"
   },
   {
    "duration": 33,
    "start_time": "2022-02-08T00:53:01.221Z"
   },
   {
    "duration": 26,
    "start_time": "2022-02-08T00:53:01.257Z"
   },
   {
    "duration": 21,
    "start_time": "2022-02-08T00:53:01.286Z"
   },
   {
    "duration": 56,
    "start_time": "2022-02-08T00:53:01.310Z"
   },
   {
    "duration": 14,
    "start_time": "2022-02-08T00:53:01.369Z"
   },
   {
    "duration": 280,
    "start_time": "2022-02-08T00:53:01.389Z"
   },
   {
    "duration": 35,
    "start_time": "2022-02-08T00:53:01.673Z"
   },
   {
    "duration": 280,
    "start_time": "2022-02-08T00:53:01.712Z"
   },
   {
    "duration": 28,
    "start_time": "2022-02-08T00:53:01.994Z"
   },
   {
    "duration": 33,
    "start_time": "2022-02-08T00:53:02.025Z"
   },
   {
    "duration": 120,
    "start_time": "2022-02-08T00:53:02.061Z"
   },
   {
    "duration": 40,
    "start_time": "2022-02-08T00:53:02.184Z"
   },
   {
    "duration": 87,
    "start_time": "2022-02-08T00:53:02.226Z"
   },
   {
    "duration": 97,
    "start_time": "2022-02-08T00:53:02.316Z"
   },
   {
    "duration": 79,
    "start_time": "2022-02-08T00:53:02.415Z"
   },
   {
    "duration": 56,
    "start_time": "2022-02-08T00:53:08.614Z"
   },
   {
    "duration": 42,
    "start_time": "2022-02-08T00:53:38.838Z"
   },
   {
    "duration": 48,
    "start_time": "2022-02-08T00:54:27.037Z"
   },
   {
    "duration": 1702,
    "start_time": "2022-02-08T00:55:00.970Z"
   },
   {
    "duration": -91,
    "start_time": "2022-02-08T00:55:02.769Z"
   },
   {
    "duration": -92,
    "start_time": "2022-02-08T00:55:02.772Z"
   },
   {
    "duration": 1476,
    "start_time": "2022-02-08T00:55:03.010Z"
   },
   {
    "duration": 382,
    "start_time": "2022-02-08T00:55:04.489Z"
   },
   {
    "duration": 10,
    "start_time": "2022-02-08T00:55:04.874Z"
   },
   {
    "duration": 20,
    "start_time": "2022-02-08T00:55:04.888Z"
   },
   {
    "duration": 9,
    "start_time": "2022-02-08T00:55:04.911Z"
   },
   {
    "duration": 34,
    "start_time": "2022-02-08T00:55:04.923Z"
   },
   {
    "duration": 220,
    "start_time": "2022-02-08T00:55:04.960Z"
   },
   {
    "duration": 38,
    "start_time": "2022-02-08T00:55:05.184Z"
   },
   {
    "duration": 14,
    "start_time": "2022-02-08T00:55:05.248Z"
   },
   {
    "duration": 25,
    "start_time": "2022-02-08T00:55:05.265Z"
   },
   {
    "duration": 14,
    "start_time": "2022-02-08T00:55:05.292Z"
   },
   {
    "duration": 48,
    "start_time": "2022-02-08T00:55:05.308Z"
   },
   {
    "duration": 234,
    "start_time": "2022-02-08T00:55:05.360Z"
   },
   {
    "duration": 52,
    "start_time": "2022-02-08T00:55:05.596Z"
   },
   {
    "duration": 23,
    "start_time": "2022-02-08T00:55:05.651Z"
   },
   {
    "duration": 294,
    "start_time": "2022-02-08T00:55:05.677Z"
   },
   {
    "duration": 16,
    "start_time": "2022-02-08T00:55:05.974Z"
   },
   {
    "duration": 11,
    "start_time": "2022-02-08T00:55:05.993Z"
   },
   {
    "duration": 58,
    "start_time": "2022-02-08T00:55:06.007Z"
   },
   {
    "duration": 18,
    "start_time": "2022-02-08T00:55:06.068Z"
   },
   {
    "duration": 19,
    "start_time": "2022-02-08T00:55:06.089Z"
   },
   {
    "duration": 43,
    "start_time": "2022-02-08T00:55:06.111Z"
   },
   {
    "duration": 380,
    "start_time": "2022-02-08T00:55:06.160Z"
   },
   {
    "duration": 32,
    "start_time": "2022-02-08T00:55:06.544Z"
   },
   {
    "duration": 236,
    "start_time": "2022-02-08T00:55:06.578Z"
   },
   {
    "duration": 22,
    "start_time": "2022-02-08T00:55:06.816Z"
   },
   {
    "duration": 11,
    "start_time": "2022-02-08T00:55:06.850Z"
   },
   {
    "duration": 100,
    "start_time": "2022-02-08T00:55:06.864Z"
   },
   {
    "duration": 37,
    "start_time": "2022-02-08T00:55:06.966Z"
   },
   {
    "duration": 86,
    "start_time": "2022-02-08T00:55:07.005Z"
   },
   {
    "duration": 84,
    "start_time": "2022-02-08T00:55:07.094Z"
   },
   {
    "duration": 73,
    "start_time": "2022-02-08T00:55:07.181Z"
   },
   {
    "duration": 57,
    "start_time": "2022-02-08T00:55:07.256Z"
   },
   {
    "duration": 51,
    "start_time": "2022-02-08T00:55:07.316Z"
   },
   {
    "duration": 418,
    "start_time": "2022-02-08T00:55:07.369Z"
   },
   {
    "duration": 62,
    "start_time": "2022-02-08T00:55:07.790Z"
   },
   {
    "duration": 3901,
    "start_time": "2022-02-08T00:55:07.854Z"
   },
   {
    "duration": -399,
    "start_time": "2022-02-08T00:55:12.157Z"
   },
   {
    "duration": -403,
    "start_time": "2022-02-08T00:55:12.162Z"
   },
   {
    "duration": -405,
    "start_time": "2022-02-08T00:55:12.166Z"
   },
   {
    "duration": -406,
    "start_time": "2022-02-08T00:55:12.169Z"
   },
   {
    "duration": -408,
    "start_time": "2022-02-08T00:55:12.172Z"
   },
   {
    "duration": -409,
    "start_time": "2022-02-08T00:55:12.175Z"
   },
   {
    "duration": -411,
    "start_time": "2022-02-08T00:55:12.179Z"
   },
   {
    "duration": -412,
    "start_time": "2022-02-08T00:55:12.181Z"
   },
   {
    "duration": -414,
    "start_time": "2022-02-08T00:55:12.185Z"
   },
   {
    "duration": -415,
    "start_time": "2022-02-08T00:55:12.188Z"
   },
   {
    "duration": -416,
    "start_time": "2022-02-08T00:55:12.191Z"
   },
   {
    "duration": -417,
    "start_time": "2022-02-08T00:55:12.194Z"
   },
   {
    "duration": -418,
    "start_time": "2022-02-08T00:55:12.197Z"
   },
   {
    "duration": -419,
    "start_time": "2022-02-08T00:55:12.200Z"
   },
   {
    "duration": -559,
    "start_time": "2022-02-08T00:55:12.342Z"
   },
   {
    "duration": -565,
    "start_time": "2022-02-08T00:55:12.350Z"
   },
   {
    "duration": -566,
    "start_time": "2022-02-08T00:55:12.354Z"
   },
   {
    "duration": -565,
    "start_time": "2022-02-08T00:55:12.356Z"
   },
   {
    "duration": -579,
    "start_time": "2022-02-08T00:55:12.372Z"
   },
   {
    "duration": -580,
    "start_time": "2022-02-08T00:55:12.375Z"
   },
   {
    "duration": -530,
    "start_time": "2022-02-08T00:55:12.380Z"
   },
   {
    "duration": -531,
    "start_time": "2022-02-08T00:55:12.383Z"
   },
   {
    "duration": 254,
    "start_time": "2022-02-08T00:55:42.929Z"
   },
   {
    "duration": 238,
    "start_time": "2022-02-08T00:55:47.519Z"
   },
   {
    "duration": 276,
    "start_time": "2022-02-08T00:55:51.396Z"
   },
   {
    "duration": 254,
    "start_time": "2022-02-08T00:56:20.537Z"
   },
   {
    "duration": 328,
    "start_time": "2022-02-08T00:57:03.129Z"
   },
   {
    "duration": 7,
    "start_time": "2022-02-08T00:57:42.332Z"
   },
   {
    "duration": 3777,
    "start_time": "2022-02-08T00:58:01.968Z"
   },
   {
    "duration": 283,
    "start_time": "2022-02-08T00:58:24.425Z"
   },
   {
    "duration": 278,
    "start_time": "2022-02-08T00:59:53.272Z"
   },
   {
    "duration": 13,
    "start_time": "2022-02-08T01:00:16.945Z"
   },
   {
    "duration": 7420,
    "start_time": "2022-02-08T01:00:33.621Z"
   },
   {
    "duration": 311,
    "start_time": "2022-02-08T01:00:46.742Z"
   },
   {
    "duration": 302,
    "start_time": "2022-02-08T01:01:19.566Z"
   },
   {
    "duration": 7790,
    "start_time": "2022-02-08T01:03:04.135Z"
   },
   {
    "duration": 714,
    "start_time": "2022-02-08T01:03:30.692Z"
   },
   {
    "duration": 292,
    "start_time": "2022-02-08T01:04:33.352Z"
   },
   {
    "duration": 517,
    "start_time": "2022-02-08T01:04:47.444Z"
   },
   {
    "duration": 99,
    "start_time": "2022-02-08T01:05:29.308Z"
   },
   {
    "duration": 1890,
    "start_time": "2022-02-08T01:05:48.911Z"
   },
   {
    "duration": 39817,
    "start_time": "2022-02-08T01:06:54.033Z"
   },
   {
    "duration": 323,
    "start_time": "2022-02-08T01:07:42.939Z"
   },
   {
    "duration": 291,
    "start_time": "2022-02-08T01:07:50.824Z"
   },
   {
    "duration": 37827,
    "start_time": "2022-02-08T01:08:32.809Z"
   },
   {
    "duration": 40780,
    "start_time": "2022-02-08T01:10:27.713Z"
   },
   {
    "duration": 7270,
    "start_time": "2022-02-08T01:11:33.254Z"
   },
   {
    "duration": 297,
    "start_time": "2022-02-08T01:15:20.735Z"
   },
   {
    "duration": 7555,
    "start_time": "2022-02-08T01:15:50.595Z"
   },
   {
    "duration": 215,
    "start_time": "2022-02-08T01:16:04.305Z"
   },
   {
    "duration": 219,
    "start_time": "2022-02-08T01:16:11.053Z"
   },
   {
    "duration": 215,
    "start_time": "2022-02-08T01:16:16.299Z"
   },
   {
    "duration": 287,
    "start_time": "2022-02-08T01:16:27.128Z"
   },
   {
    "duration": 296,
    "start_time": "2022-02-08T01:16:57.502Z"
   },
   {
    "duration": 273,
    "start_time": "2022-02-08T01:17:03.451Z"
   },
   {
    "duration": 285,
    "start_time": "2022-02-08T01:17:19.509Z"
   },
   {
    "duration": 375,
    "start_time": "2022-02-08T01:17:31.377Z"
   },
   {
    "duration": 195,
    "start_time": "2022-02-08T01:17:38.510Z"
   },
   {
    "duration": 218,
    "start_time": "2022-02-08T01:18:04.591Z"
   },
   {
    "duration": 1191,
    "start_time": "2022-02-08T01:19:24.645Z"
   },
   {
    "duration": 691,
    "start_time": "2022-02-08T01:19:45.080Z"
   },
   {
    "duration": 1296,
    "start_time": "2022-02-08T01:19:52.202Z"
   },
   {
    "duration": 12,
    "start_time": "2022-02-08T01:21:01.985Z"
   },
   {
    "duration": 1340,
    "start_time": "2022-02-08T01:21:10.880Z"
   },
   {
    "duration": 1717,
    "start_time": "2022-02-08T01:21:41.869Z"
   },
   {
    "duration": 865,
    "start_time": "2022-02-08T01:23:35.500Z"
   },
   {
    "duration": 610,
    "start_time": "2022-02-08T01:24:12.342Z"
   },
   {
    "duration": 385,
    "start_time": "2022-02-08T01:24:19.721Z"
   },
   {
    "duration": 374,
    "start_time": "2022-02-08T01:24:34.325Z"
   },
   {
    "duration": 1257,
    "start_time": "2022-02-08T01:24:38.447Z"
   },
   {
    "duration": 1252,
    "start_time": "2022-02-08T01:25:28.451Z"
   },
   {
    "duration": 1275,
    "start_time": "2022-02-08T01:26:38.845Z"
   },
   {
    "duration": 1240,
    "start_time": "2022-02-08T01:26:53.360Z"
   },
   {
    "duration": 6924,
    "start_time": "2022-02-08T01:27:33.254Z"
   },
   {
    "duration": 303,
    "start_time": "2022-02-08T01:29:05.252Z"
   },
   {
    "duration": 1895,
    "start_time": "2022-02-08T01:29:14.881Z"
   },
   {
    "duration": 369,
    "start_time": "2022-02-08T01:29:23.598Z"
   },
   {
    "duration": 1261,
    "start_time": "2022-02-08T01:29:55.615Z"
   },
   {
    "duration": 1462,
    "start_time": "2022-02-08T01:32:02.016Z"
   },
   {
    "duration": 7,
    "start_time": "2022-02-08T01:33:37.298Z"
   },
   {
    "duration": 1078,
    "start_time": "2022-02-08T01:34:00.431Z"
   },
   {
    "duration": 1273,
    "start_time": "2022-02-08T01:34:48.868Z"
   },
   {
    "duration": 938,
    "start_time": "2022-02-08T01:34:55.314Z"
   },
   {
    "duration": 972,
    "start_time": "2022-02-08T01:35:03.475Z"
   },
   {
    "duration": 1354,
    "start_time": "2022-02-08T01:35:14.577Z"
   },
   {
    "duration": 1155,
    "start_time": "2022-02-08T01:35:23.028Z"
   },
   {
    "duration": 683,
    "start_time": "2022-02-08T01:35:35.475Z"
   },
   {
    "duration": 408,
    "start_time": "2022-02-08T01:35:50.465Z"
   },
   {
    "duration": 281,
    "start_time": "2022-02-08T01:36:55.200Z"
   },
   {
    "duration": 21,
    "start_time": "2022-02-08T01:36:59.305Z"
   },
   {
    "duration": 28,
    "start_time": "2022-02-08T01:37:21.796Z"
   },
   {
    "duration": 21,
    "start_time": "2022-02-08T01:37:53.794Z"
   },
   {
    "duration": 26,
    "start_time": "2022-02-08T01:38:10.412Z"
   },
   {
    "duration": 256,
    "start_time": "2022-02-08T01:38:33.333Z"
   },
   {
    "duration": 6880,
    "start_time": "2022-02-08T01:38:42.228Z"
   },
   {
    "duration": 535,
    "start_time": "2022-02-08T01:39:46.266Z"
   },
   {
    "duration": 274,
    "start_time": "2022-02-08T01:40:17.086Z"
   },
   {
    "duration": 1042,
    "start_time": "2022-02-08T01:41:46.484Z"
   },
   {
    "duration": 652,
    "start_time": "2022-02-08T01:42:01.836Z"
   },
   {
    "duration": 12,
    "start_time": "2022-02-08T01:42:53.290Z"
   },
   {
    "duration": 277,
    "start_time": "2022-02-08T01:43:55.087Z"
   },
   {
    "duration": 18,
    "start_time": "2022-02-08T01:44:26.112Z"
   },
   {
    "duration": 328,
    "start_time": "2022-02-08T01:45:14.663Z"
   },
   {
    "duration": 333,
    "start_time": "2022-02-08T01:45:59.084Z"
   },
   {
    "duration": 1136,
    "start_time": "2022-02-08T01:46:10.147Z"
   },
   {
    "duration": 331,
    "start_time": "2022-02-08T01:46:27.374Z"
   },
   {
    "duration": 21,
    "start_time": "2022-02-08T01:46:54.462Z"
   },
   {
    "duration": 26,
    "start_time": "2022-02-08T01:47:41.635Z"
   },
   {
    "duration": 8061,
    "start_time": "2022-02-08T01:48:02.077Z"
   },
   {
    "duration": 239,
    "start_time": "2022-02-08T01:48:12.930Z"
   },
   {
    "duration": 331,
    "start_time": "2022-02-08T01:49:04.645Z"
   },
   {
    "duration": 19,
    "start_time": "2022-02-08T01:49:11.834Z"
   },
   {
    "duration": 26,
    "start_time": "2022-02-08T01:49:21.261Z"
   },
   {
    "duration": 572,
    "start_time": "2022-02-08T01:49:31.231Z"
   },
   {
    "duration": 19,
    "start_time": "2022-02-08T01:50:58.724Z"
   },
   {
    "duration": 28,
    "start_time": "2022-02-08T01:51:01.574Z"
   },
   {
    "duration": 7,
    "start_time": "2022-02-08T01:51:04.562Z"
   },
   {
    "duration": 18,
    "start_time": "2022-02-08T01:51:16.236Z"
   },
   {
    "duration": 230,
    "start_time": "2022-02-08T01:51:30.321Z"
   },
   {
    "duration": 324,
    "start_time": "2022-02-08T01:51:36.791Z"
   },
   {
    "duration": 1237,
    "start_time": "2022-02-08T01:52:26.449Z"
   },
   {
    "duration": 1558,
    "start_time": "2022-02-08T01:52:44.935Z"
   },
   {
    "duration": 1204,
    "start_time": "2022-02-08T01:52:53.400Z"
   },
   {
    "duration": 1294,
    "start_time": "2022-02-08T01:53:36.089Z"
   },
   {
    "duration": 243,
    "start_time": "2022-02-08T01:54:35.406Z"
   },
   {
    "duration": 8,
    "start_time": "2022-02-08T01:55:11.316Z"
   },
   {
    "duration": 15,
    "start_time": "2022-02-08T01:55:14.576Z"
   },
   {
    "duration": 205,
    "start_time": "2022-02-08T02:05:19.593Z"
   },
   {
    "duration": 193,
    "start_time": "2022-02-08T02:05:32.270Z"
   },
   {
    "duration": 205,
    "start_time": "2022-02-08T02:07:01.840Z"
   },
   {
    "duration": 311,
    "start_time": "2022-02-08T02:08:55.232Z"
   },
   {
    "duration": 324,
    "start_time": "2022-02-08T02:09:07.990Z"
   },
   {
    "duration": 324,
    "start_time": "2022-02-08T02:09:23.890Z"
   },
   {
    "duration": 376,
    "start_time": "2022-02-08T02:11:04.891Z"
   },
   {
    "duration": 270,
    "start_time": "2022-02-08T02:11:51.053Z"
   },
   {
    "duration": 538,
    "start_time": "2022-02-08T02:11:56.502Z"
   },
   {
    "duration": 251,
    "start_time": "2022-02-08T02:12:07.591Z"
   },
   {
    "duration": 257,
    "start_time": "2022-02-08T02:13:00.243Z"
   },
   {
    "duration": 240,
    "start_time": "2022-02-08T02:13:10.758Z"
   },
   {
    "duration": 27,
    "start_time": "2022-02-08T02:15:58.841Z"
   },
   {
    "duration": 19,
    "start_time": "2022-02-08T02:16:20.308Z"
   },
   {
    "duration": 327,
    "start_time": "2022-02-08T02:16:42.102Z"
   },
   {
    "duration": 27,
    "start_time": "2022-02-08T02:16:50.221Z"
   },
   {
    "duration": 1597,
    "start_time": "2022-02-08T02:17:05.881Z"
   },
   {
    "duration": 1056,
    "start_time": "2022-02-08T21:32:28.377Z"
   },
   {
    "duration": 282,
    "start_time": "2022-02-08T21:32:29.434Z"
   },
   {
    "duration": 7,
    "start_time": "2022-02-08T21:32:29.717Z"
   },
   {
    "duration": 12,
    "start_time": "2022-02-08T21:32:29.725Z"
   },
   {
    "duration": 5,
    "start_time": "2022-02-08T21:32:29.739Z"
   },
   {
    "duration": 8,
    "start_time": "2022-02-08T21:32:29.746Z"
   },
   {
    "duration": 129,
    "start_time": "2022-02-08T21:32:29.756Z"
   },
   {
    "duration": 47,
    "start_time": "2022-02-08T21:32:29.888Z"
   },
   {
    "duration": 8,
    "start_time": "2022-02-08T21:32:29.938Z"
   },
   {
    "duration": 17,
    "start_time": "2022-02-08T21:32:29.948Z"
   },
   {
    "duration": 7,
    "start_time": "2022-02-08T21:32:29.967Z"
   },
   {
    "duration": 15,
    "start_time": "2022-02-08T21:32:29.976Z"
   },
   {
    "duration": 150,
    "start_time": "2022-02-08T21:32:29.993Z"
   },
   {
    "duration": 29,
    "start_time": "2022-02-08T21:32:30.145Z"
   },
   {
    "duration": 18,
    "start_time": "2022-02-08T21:32:30.176Z"
   },
   {
    "duration": 241,
    "start_time": "2022-02-08T21:32:30.196Z"
   },
   {
    "duration": 16,
    "start_time": "2022-02-08T21:32:30.439Z"
   },
   {
    "duration": 17,
    "start_time": "2022-02-08T21:32:30.456Z"
   },
   {
    "duration": 28,
    "start_time": "2022-02-08T21:32:30.475Z"
   },
   {
    "duration": 28,
    "start_time": "2022-02-08T21:32:30.505Z"
   },
   {
    "duration": 13,
    "start_time": "2022-02-08T21:32:30.535Z"
   },
   {
    "duration": 11,
    "start_time": "2022-02-08T21:32:30.549Z"
   },
   {
    "duration": 142,
    "start_time": "2022-02-08T21:32:30.563Z"
   },
   {
    "duration": 30,
    "start_time": "2022-02-08T21:32:30.707Z"
   },
   {
    "duration": 141,
    "start_time": "2022-02-08T21:32:30.739Z"
   },
   {
    "duration": 15,
    "start_time": "2022-02-08T21:32:30.882Z"
   },
   {
    "duration": 30,
    "start_time": "2022-02-08T21:32:30.899Z"
   },
   {
    "duration": 66,
    "start_time": "2022-02-08T21:32:30.931Z"
   },
   {
    "duration": 41,
    "start_time": "2022-02-08T21:32:30.999Z"
   },
   {
    "duration": 44,
    "start_time": "2022-02-08T21:32:31.041Z"
   },
   {
    "duration": 66,
    "start_time": "2022-02-08T21:32:31.086Z"
   },
   {
    "duration": 33,
    "start_time": "2022-02-08T21:32:31.154Z"
   },
   {
    "duration": 52,
    "start_time": "2022-02-08T21:32:31.189Z"
   },
   {
    "duration": 27,
    "start_time": "2022-02-08T21:32:31.243Z"
   },
   {
    "duration": 5,
    "start_time": "2022-02-08T21:32:31.272Z"
   },
   {
    "duration": 160,
    "start_time": "2022-02-08T21:32:31.279Z"
   },
   {
    "duration": 9,
    "start_time": "2022-02-08T21:32:31.440Z"
   },
   {
    "duration": 7,
    "start_time": "2022-02-08T21:32:31.451Z"
   },
   {
    "duration": 735,
    "start_time": "2022-02-08T21:32:31.459Z"
   },
   {
    "duration": 283,
    "start_time": "2022-02-08T21:32:32.196Z"
   },
   {
    "duration": 11,
    "start_time": "2022-02-08T21:32:32.481Z"
   },
   {
    "duration": 35,
    "start_time": "2022-02-08T21:32:32.493Z"
   },
   {
    "duration": 153,
    "start_time": "2022-02-08T21:32:32.529Z"
   },
   {
    "duration": 9,
    "start_time": "2022-02-08T21:32:32.683Z"
   },
   {
    "duration": 217,
    "start_time": "2022-02-08T21:32:32.694Z"
   },
   {
    "duration": 16,
    "start_time": "2022-02-08T21:32:32.912Z"
   },
   {
    "duration": 14,
    "start_time": "2022-02-08T21:32:32.929Z"
   },
   {
    "duration": 161,
    "start_time": "2022-02-08T21:32:32.945Z"
   },
   {
    "duration": 188,
    "start_time": "2022-02-08T21:32:33.107Z"
   },
   {
    "duration": 13,
    "start_time": "2022-02-08T21:32:33.297Z"
   },
   {
    "duration": 29,
    "start_time": "2022-02-08T21:32:33.311Z"
   },
   {
    "duration": 153,
    "start_time": "2022-02-08T21:32:33.341Z"
   },
   {
    "duration": 13,
    "start_time": "2022-02-08T21:32:33.495Z"
   },
   {
    "duration": 29,
    "start_time": "2022-02-08T21:32:33.509Z"
   },
   {
    "duration": 4,
    "start_time": "2022-02-08T21:32:33.540Z"
   },
   {
    "duration": 12,
    "start_time": "2022-02-08T21:32:33.545Z"
   },
   {
    "duration": 860,
    "start_time": "2022-02-08T21:32:33.558Z"
   },
   {
    "duration": 9,
    "start_time": "2022-02-08T21:32:34.420Z"
   },
   {
    "duration": 10,
    "start_time": "2022-02-08T21:32:34.431Z"
   },
   {
    "duration": 33,
    "start_time": "2022-02-08T21:32:57.090Z"
   },
   {
    "duration": 25,
    "start_time": "2022-02-08T21:33:04.217Z"
   },
   {
    "duration": 336,
    "start_time": "2022-02-08T23:26:20.002Z"
   },
   {
    "duration": 1373,
    "start_time": "2022-02-08T23:26:28.742Z"
   },
   {
    "duration": 338,
    "start_time": "2022-02-08T23:26:30.117Z"
   },
   {
    "duration": 10,
    "start_time": "2022-02-08T23:26:30.458Z"
   },
   {
    "duration": 30,
    "start_time": "2022-02-08T23:26:30.471Z"
   },
   {
    "duration": 34,
    "start_time": "2022-02-08T23:26:30.504Z"
   },
   {
    "duration": 26,
    "start_time": "2022-02-08T23:26:30.540Z"
   },
   {
    "duration": 216,
    "start_time": "2022-02-08T23:26:30.568Z"
   },
   {
    "duration": 36,
    "start_time": "2022-02-08T23:26:30.788Z"
   },
   {
    "duration": 14,
    "start_time": "2022-02-08T23:26:30.849Z"
   },
   {
    "duration": 24,
    "start_time": "2022-02-08T23:26:30.866Z"
   },
   {
    "duration": 14,
    "start_time": "2022-02-08T23:26:30.893Z"
   },
   {
    "duration": 18,
    "start_time": "2022-02-08T23:26:30.949Z"
   },
   {
    "duration": 241,
    "start_time": "2022-02-08T23:26:30.970Z"
   },
   {
    "duration": 55,
    "start_time": "2022-02-08T23:26:31.214Z"
   },
   {
    "duration": 26,
    "start_time": "2022-02-08T23:26:31.272Z"
   },
   {
    "duration": 300,
    "start_time": "2022-02-08T23:26:31.301Z"
   },
   {
    "duration": 14,
    "start_time": "2022-02-08T23:26:31.603Z"
   },
   {
    "duration": 31,
    "start_time": "2022-02-08T23:26:31.620Z"
   },
   {
    "duration": 24,
    "start_time": "2022-02-08T23:26:31.653Z"
   },
   {
    "duration": 17,
    "start_time": "2022-02-08T23:26:31.680Z"
   },
   {
    "duration": 16,
    "start_time": "2022-02-08T23:26:31.700Z"
   },
   {
    "duration": 11,
    "start_time": "2022-02-08T23:26:31.749Z"
   },
   {
    "duration": 234,
    "start_time": "2022-02-08T23:26:31.764Z"
   },
   {
    "duration": 33,
    "start_time": "2022-02-08T23:26:32.001Z"
   },
   {
    "duration": 236,
    "start_time": "2022-02-08T23:26:32.050Z"
   },
   {
    "duration": 30,
    "start_time": "2022-02-08T23:26:32.289Z"
   },
   {
    "duration": 37,
    "start_time": "2022-02-08T23:26:32.322Z"
   },
   {
    "duration": 155,
    "start_time": "2022-02-08T23:26:32.362Z"
   },
   {
    "duration": 49,
    "start_time": "2022-02-08T23:26:32.520Z"
   },
   {
    "duration": 79,
    "start_time": "2022-02-08T23:26:32.571Z"
   },
   {
    "duration": 80,
    "start_time": "2022-02-08T23:26:32.653Z"
   },
   {
    "duration": 63,
    "start_time": "2022-02-08T23:26:36.695Z"
   }
  ],
  "kernelspec": {
   "display_name": "Python 3",
   "language": "python",
   "name": "python3"
  },
  "language_info": {
   "codemirror_mode": {
    "name": "ipython",
    "version": 3
   },
   "file_extension": ".py",
   "mimetype": "text/x-python",
   "name": "python",
   "nbconvert_exporter": "python",
   "pygments_lexer": "ipython3",
   "version": "3.7.8"
  },
  "toc": {
   "base_numbering": 1,
   "nav_menu": {},
   "number_sections": false,
   "sideBar": true,
   "skip_h1_title": false,
   "title_cell": "Table of Contents",
   "title_sidebar": "Contents",
   "toc_cell": false,
   "toc_position": {},
   "toc_section_display": true,
   "toc_window_display": true
  }
 },
 "nbformat": 4,
 "nbformat_minor": 2
}
